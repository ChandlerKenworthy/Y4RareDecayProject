{
 "cells": [
  {
   "cell_type": "code",
   "execution_count": 8,
   "metadata": {},
   "outputs": [
    {
     "data": {
      "text/plain": [
       "-45.0"
      ]
     },
     "execution_count": 8,
     "metadata": {},
     "output_type": "execute_result"
    }
   ],
   "source": [
    "import numpy as np\n",
    "\n",
    "# going around anticlockwise\n",
    "x1, y1 = 1, 4 # angle between +ve x and (1, 4) Quadrant angle to north = 90 - Ans\n",
    "x2, y2 = -3, 2 # angle between +ve x and point to get Quadrant angle to north = Ans - 90\n",
    "x3, y3 = -2, -2 # same as above but rotating in opposite direction (anticlockwise = positive) so answers are -ve\n",
    "# hence to get it as as a 'heading angle' just do + 180\n",
    "x4, y4 = 2, -2 # do 90 - abs(answer)\n",
    "\n",
    "np.rad2deg(np.arctan2(y4, x4))\n",
    "\n"
   ]
  },
  {
   "cell_type": "code",
   "execution_count": 2,
   "metadata": {},
   "outputs": [],
   "source": [
    "from create_data import create_csv\n",
    "\n",
    "norm_sim = \"/disk/moose/lhcb/djdt/Lb2L1520mueTuples/MCNorm/2016MD/halfSampleFeb22/job246-CombDVntuple-MCNorm-15144059-S28r2Restrip-firstHalf-2016MD-pKmumu-PF__PreselectedV1.root\"\n",
    "norm_real = \"/disk/moose/lhcb/djdt/Lb2L1520mueTuples/realDataNorm/2016MD/halfSampleFeb22/job228-CombDVntuple-collision-firstHalf-2016MD-pKmumu-PF__PreselectedV1.root\"\n",
    "\n",
    "rare_sim = \"/disk/moose/lhcb/djdt/Lb2L1520mueTuples/MC/2016MD/fullSampleOct2021/job207-CombDVntuple-15314000-MC2016MD_Full-pKmue-MC.root\"\n",
    "rare_real = \"/disk/moose/lhcb/djdt/Lb2L1520mueTuples/realData/2016MD/halfSampleOct2021/blindedTriggeredL1520Selec-collision-firstHalf2016MD-pKmue_Fullv9.root\""
   ]
  },
  {
   "cell_type": "code",
   "execution_count": 3,
   "metadata": {},
   "outputs": [
    {
     "name": "stdout",
     "output_type": "stream",
     "text": [
      "                                             Features            FeatureName  \\\n",
      "0                                        JPs_FD_ORIVX           JPs_FD_ORIVX   \n",
      "1                                    LStar_ORIVX_CHI2       LStar_ORIVX_CHI2   \n",
      "2                                   Lb_ENDVERTEX_CHI2      Lb_ENDVERTEX_CHI2   \n",
      "3                           np.log( Lb_IPCHI2_OWNPV )     LN_Lb_IPCHI2_OWNPV   \n",
      "4                                               Lb_PT                  Lb_PT   \n",
      "5                              np.log( Lb_MINIPCHI2 )        LN_Lb_MINIPCHI2   \n",
      "6                                   np.log( Lb_IP01 )             LN_Lb_IP01   \n",
      "7                                   np.log( Lb_IP23 )             LN_Lb_IP23   \n",
      "8                               np.log( Lb_IP_OWNPV )         LN_Lb_IP_OWNPV   \n",
      "9                                p_TRACK_VeloCHI2NDOF   p_TRACK_VeloCHI2NDOF   \n",
      "10                                          Lb_TAUERR              Lb_TAUERR   \n",
      "11                               K_TRACK_VeloCHI2NDOF   K_TRACK_VeloCHI2NDOF   \n",
      "12                           np.log( Lb_DTF_PV_chi2 )      LN_Lb_DTF_PV_chi2   \n",
      "13                                     JPs_ORIVX_CHI2         JPs_ORIVX_CHI2   \n",
      "14                              L1_TRACK_VeloCHI2NDOF  L1_TRACK_VeloCHI2NDOF   \n",
      "15                                  L2_TRACK_CHI2NDOF      L2_TRACK_CHI2NDOF   \n",
      "16                                       JPs_IP_TOPPV           JPs_IP_TOPPV   \n",
      "17                                     LStar_IP_ORIVX         LStar_IP_ORIVX   \n",
      "18                                       JPs_IP_ORIVX           JPs_IP_ORIVX   \n",
      "19  np.log( Lb_L1_cc_asy_PT_0.5ConeISO + Lb_L2_cc_...         LN_SUM_CONEISO   \n",
      "20        np.log( L2_IPCHI2_OWNPV + L1_IPCHI2_OWNPV )          LN_SUM_IPCHI2   \n",
      "21        np.log(1-np.cos(np.arcsin( Lb_PT / Lb_P )))           LN_COS_THETA   \n",
      "22                  np.log(1-np.cos( Lb_DIRA_OWNPV ))          LN_COS_LBDIRA   \n",
      "23  (me**2+mu**2)+2*(np.sqrt(mu**2+np.power( L1_P ...                   QSQR   \n",
      "\n",
      "    IsCustom                                            Request  \n",
      "0      False                                       JPs_FD_ORIVX  \n",
      "1      False                                   LStar_ORIVX_CHI2  \n",
      "2      False                                  Lb_ENDVERTEX_CHI2  \n",
      "3       True                                    Lb_IPCHI2_OWNPV  \n",
      "4      False                                              Lb_PT  \n",
      "5       True                                       Lb_MINIPCHI2  \n",
      "6       True                                            Lb_IP01  \n",
      "7       True                                            Lb_IP23  \n",
      "8       True                                        Lb_IP_OWNPV  \n",
      "9      False                               p_TRACK_VeloCHI2NDOF  \n",
      "10     False                                          Lb_TAUERR  \n",
      "11     False                               K_TRACK_VeloCHI2NDOF  \n",
      "12      True                                     Lb_DTF_PV_chi2  \n",
      "13     False                                     JPs_ORIVX_CHI2  \n",
      "14     False                              L1_TRACK_VeloCHI2NDOF  \n",
      "15     False                                  L2_TRACK_CHI2NDOF  \n",
      "16     False                                       JPs_IP_TOPPV  \n",
      "17     False                                     LStar_IP_ORIVX  \n",
      "18     False                                       JPs_IP_ORIVX  \n",
      "19      True  [Lb_L1_cc_asy_PT_0.5ConeISO, Lb_L2_cc_asy_PT_0...  \n",
      "20      True                 [L2_IPCHI2_OWNPV, L1_IPCHI2_OWNPV]  \n",
      "21      True                                      [Lb_PT, Lb_P]  \n",
      "22      True                                      Lb_DIRA_OWNPV  \n",
      "23      True  [L1_P, L2_P, L1_PX, L2_PX, L1_PY, L2_PY, L1_PZ...  \n",
      "INFO: Reading in data from simulated tree\n",
      "INFO: Evaluating pre-selection for simulated data\n",
      "INFO: Currently there are 89269 events\n",
      "INFO: Preselection applied without error\n",
      "INFO: Currently there are 18194 events\n",
      "\n",
      "INFO: Simulated data manipulation complete\n"
     ]
    },
    {
     "name": "stderr",
     "output_type": "stream",
     "text": [
      "/disk/homedisk/home/user211/project/create_data.py:120: SettingWithCopyWarning: \n",
      "A value is trying to be set on a copy of a slice from a DataFrame.\n",
      "Try using .loc[row_indexer,col_indexer] = value instead\n",
      "\n",
      "See the caveats in the documentation: https://pandas.pydata.org/pandas-docs/stable/user_guide/indexing.html#returning-a-view-versus-a-copy\n",
      "  sdf['category'] = np.where(sdf['Lb_BKGCAT'].isin([10, 50]), 1, 0)\n",
      "/disk/homedisk/home/user211/project/create_data.py:121: SettingWithCopyWarning: \n",
      "A value is trying to be set on a copy of a slice from a DataFrame.\n",
      "Try using .loc[row_indexer,col_indexer] = value instead\n",
      "\n",
      "See the caveats in the documentation: https://pandas.pydata.org/pandas-docs/stable/user_guide/indexing.html#returning-a-view-versus-a-copy\n",
      "  sdf['IsSimulated'] = True\n"
     ]
    },
    {
     "name": "stdout",
     "output_type": "stream",
     "text": [
      "INFO: Evaluating pre-selection for real data\n",
      "INFO: Currently there are 133541 events\n",
      "INFO: Preselection applied without error\n",
      "INFO: Currently there are 31783 events\n",
      "\n",
      "INFO: Restricting mass sidebands\n",
      "INFO: Currently there are 31783 events\n",
      "INFO: There are 11939 events less than the lower mass threshold\n",
      "INFO: There are 1059 events above the higher mass threshold\n",
      "INFO: There are 0 events between threshold values\n",
      "INFO: Mass restriction complete\n",
      "INFO: Currently there are 18785 events\n"
     ]
    },
    {
     "name": "stderr",
     "output_type": "stream",
     "text": [
      "/disk/homedisk/home/user211/project/create_data.py:149: SettingWithCopyWarning: \n",
      "A value is trying to be set on a copy of a slice from a DataFrame.\n",
      "Try using .loc[row_indexer,col_indexer] = value instead\n",
      "\n",
      "See the caveats in the documentation: https://pandas.pydata.org/pandas-docs/stable/user_guide/indexing.html#returning-a-view-versus-a-copy\n",
      "  rdf['IsSimulated'] = False\n",
      "/disk/homedisk/home/user211/project/create_data.py:157: SettingWithCopyWarning: \n",
      "A value is trying to be set on a copy of a slice from a DataFrame.\n",
      "Try using .loc[row_indexer,col_indexer] = value instead\n",
      "\n",
      "See the caveats in the documentation: https://pandas.pydata.org/pandas-docs/stable/user_guide/indexing.html#returning-a-view-versus-a-copy\n",
      "  rdf['category'] = 0\n",
      "/cvmfs/lhcbdev.cern.ch/conda/envs/default/2021-09-07_04-06/linux-64/lib/python3.9/site-packages/pandas/core/arraylike.py:364: RuntimeWarning: invalid value encountered in log\n",
      "  result = getattr(ufunc, method)(*inputs, **kwargs)\n"
     ]
    },
    {
     "name": "stdout",
     "output_type": "stream",
     "text": [
      "INFO: Sample currently includes 18785 background and 18194 signal events\n",
      "INFO: Sample now includes 18194 background and 18194 signal events\n",
      "Output to CSV: data_files/9.2.5/all.csv\n",
      "Generating metadata file...\n",
      "INFO: Metadata file generated at outputs/csv_metadata/9.2.5.txt\n"
     ]
    }
   ],
   "source": [
    "kwargs = {\n",
    "    'ver': '9.2.5',\n",
    "    'sim_path': rare_sim,\n",
    "    'actual_path': rare_real,\n",
    "    'decay_tree_name': ':DTT1520me/DecayTree',\n",
    "    'preselect': True,\n",
    "    'preselect_path': 'preselection.txt',\n",
    "    'equalise_event_numbers': True,\n",
    "    'dropnan': False,\n",
    "    'restrict_mass': ([4500, 5200], [5800, 6500]),\n",
    "    'train_fraction': 0.6,\n",
    "    'val_fraction': 0.2,\n",
    "    'test_fraction': 0.2,\n",
    "    'isNormalisation': False,\n",
    "    'DileptonQ2': True,\n",
    "    'request': 'request.txt',\n",
    "    'random_seed': 0\n",
    "}\n",
    "\n",
    "create_csv(kwargs)"
   ]
  },
  {
   "cell_type": "code",
   "execution_count": 6,
   "metadata": {},
   "outputs": [
    {
     "data": {
      "text/plain": [
       "count    7278.000000\n",
       "mean       -0.025756\n",
       "std         0.990574\n",
       "min        -1.414600\n",
       "25%        -0.809337\n",
       "50%        -0.181214\n",
       "75%         0.476182\n",
       "max         4.141900\n",
       "Name: QSQR, dtype: float64"
      ]
     },
     "execution_count": 6,
     "metadata": {},
     "output_type": "execute_result"
    }
   ],
   "source": [
    "import pandas as pd\n",
    "df = pd.read_csv('data_files/9.2.5/test.csv', index_col=[0])\n",
    "df['QSQR'].describe() # should be impossible to get -ve values ....bad ccalculation "
   ]
  },
  {
   "cell_type": "code",
   "execution_count": 10,
   "metadata": {},
   "outputs": [
    {
     "data": {
      "text/plain": [
       "4"
      ]
     },
     "execution_count": 10,
     "metadata": {},
     "output_type": "execute_result"
    }
   ],
   "source": [
    "import numpy as np\n",
    "\n",
    "np.power(-2, 2)"
   ]
  }
 ],
 "metadata": {
  "interpreter": {
   "hash": "9ca4116ab2c7470d45496f3104a2f3648c94db730a0039ceabb3a0fb6fe42410"
  },
  "kernelspec": {
   "display_name": "Python 3",
   "language": "python",
   "name": "python3"
  },
  "language_info": {
   "codemirror_mode": {
    "name": "ipython",
    "version": 3
   },
   "file_extension": ".py",
   "mimetype": "text/x-python",
   "name": "python",
   "nbconvert_exporter": "python",
   "pygments_lexer": "ipython3",
   "version": "3.9.7"
  }
 },
 "nbformat": 4,
 "nbformat_minor": 2
}
