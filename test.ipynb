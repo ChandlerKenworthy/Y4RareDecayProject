{
 "cells": [
  {
   "cell_type": "code",
   "execution_count": 1,
   "metadata": {},
   "outputs": [],
   "source": [
    "from create_data import create_csv\n",
    "\n",
    "norm_sim = \"/disk/moose/lhcb/djdt/Lb2L1520mueTuples/MCNorm/2016MD/halfSampleFeb22/job246-CombDVntuple-MCNorm-15144059-S28r2Restrip-firstHalf-2016MD-pKmumu-PF__PreselectedV1.root\"\n",
    "norm_real = \"/disk/moose/lhcb/djdt/Lb2L1520mueTuples/realDataNorm/2016MD/halfSampleFeb22/job228-CombDVntuple-collision-firstHalf-2016MD-pKmumu-PF__PreselectedV1.root\"\n",
    "\n",
    "rare_sim = \"/disk/moose/lhcb/djdt/Lb2L1520mueTuples/MC/2016MD/fullSampleOct2021/job207-CombDVntuple-15314000-MC2016MD_Full-pKmue-MC.root\"\n",
    "rare_real = \"/disk/moose/lhcb/djdt/Lb2L1520mueTuples/realData/2016MD/halfSampleOct2021/blindedTriggeredL1520Selec-collision-firstHalf2016MD-pKmue_Fullv9.root\""
   ]
  },
  {
   "cell_type": "code",
   "execution_count": 3,
   "metadata": {},
   "outputs": [
    {
     "name": "stdout",
     "output_type": "stream",
     "text": [
      "INFO: Reading in data from simulated tree\n",
      "INFO: Evaluating pre-selection for simulated data\n",
      "INFO: Currently there are 89269 events\n",
      "INFO: Preselection applied without error\n",
      "INFO: Currently there are 18194 events\n",
      "\n",
      "INFO: Simulated data manipulation complete\n"
     ]
    },
    {
     "name": "stderr",
     "output_type": "stream",
     "text": [
      "/disk/homedisk/home/user211/project/create_data.py:108: SettingWithCopyWarning: \n",
      "A value is trying to be set on a copy of a slice from a DataFrame.\n",
      "Try using .loc[row_indexer,col_indexer] = value instead\n",
      "\n",
      "See the caveats in the documentation: https://pandas.pydata.org/pandas-docs/stable/user_guide/indexing.html#returning-a-view-versus-a-copy\n",
      "  sdf['category'] = np.where(sdf['Lb_BKGCAT'].isin([10, 50]), 1, 0)\n",
      "/disk/homedisk/home/user211/project/create_data.py:109: SettingWithCopyWarning: \n",
      "A value is trying to be set on a copy of a slice from a DataFrame.\n",
      "Try using .loc[row_indexer,col_indexer] = value instead\n",
      "\n",
      "See the caveats in the documentation: https://pandas.pydata.org/pandas-docs/stable/user_guide/indexing.html#returning-a-view-versus-a-copy\n",
      "  sdf['IsSimulated'] = True\n"
     ]
    },
    {
     "name": "stdout",
     "output_type": "stream",
     "text": [
      "INFO: Evaluating pre-selection for real data\n",
      "INFO: Currently there are 133541 events\n",
      "INFO: Preselection applied without error\n",
      "INFO: Currently there are 31783 events\n",
      "\n",
      "INFO: Restricting mass sidebands\n",
      "INFO: Currently there are 31783 events\n",
      "INFO: There are 11939 events less than the lower mass threshold\n",
      "INFO: There are 1059 events above the higher mass threshold\n",
      "INFO: There are 0 events between threshold values\n",
      "INFO: Mass restriction complete\n",
      "INFO: Currently there are 18785 events\n"
     ]
    },
    {
     "name": "stderr",
     "output_type": "stream",
     "text": [
      "/disk/homedisk/home/user211/project/create_data.py:137: SettingWithCopyWarning: \n",
      "A value is trying to be set on a copy of a slice from a DataFrame.\n",
      "Try using .loc[row_indexer,col_indexer] = value instead\n",
      "\n",
      "See the caveats in the documentation: https://pandas.pydata.org/pandas-docs/stable/user_guide/indexing.html#returning-a-view-versus-a-copy\n",
      "  rdf['IsSimulated'] = False\n",
      "/disk/homedisk/home/user211/project/create_data.py:145: SettingWithCopyWarning: \n",
      "A value is trying to be set on a copy of a slice from a DataFrame.\n",
      "Try using .loc[row_indexer,col_indexer] = value instead\n",
      "\n",
      "See the caveats in the documentation: https://pandas.pydata.org/pandas-docs/stable/user_guide/indexing.html#returning-a-view-versus-a-copy\n",
      "  rdf['category'] = 0\n",
      "/cvmfs/lhcbdev.cern.ch/conda/envs/default/2021-09-07_04-06/linux-64/lib/python3.9/site-packages/pandas/core/arraylike.py:364: RuntimeWarning: invalid value encountered in log\n",
      "  result = getattr(ufunc, method)(*inputs, **kwargs)\n"
     ]
    },
    {
     "name": "stdout",
     "output_type": "stream",
     "text": [
      "Output to CSV: data_files/9.0.4/all.csv\n",
      "Generating metadata file...\n",
      "INFO: Metadata file generated at outputs/csv_metadata/9.0.4.txt\n"
     ]
    }
   ],
   "source": [
    "kwargs = {\n",
    "    'ver': '9.0.4',\n",
    "    'sim_path': rare_sim,\n",
    "    'actual_path': rare_real,\n",
    "    'decay_tree_name': ':DTT1520me/DecayTree',\n",
    "    'preselect': True,\n",
    "    'preselect_path': 'preselection.txt',\n",
    "    'equalise_event_numbers': False,\n",
    "    'dropnan': False,\n",
    "    'restrict_mass': ([4500, 5200], [5800, 6500]),\n",
    "    'train_fraction': 0.6,\n",
    "    'val_fraction': 0.2,\n",
    "    'test_fraction': 0.2,\n",
    "    'isNormalisation': False,\n",
    "    'request': 'request.txt',\n",
    "    'random_seed': 0\n",
    "}\n",
    "\n",
    "create_csv(kwargs)"
   ]
  }
 ],
 "metadata": {
  "interpreter": {
   "hash": "9ca4116ab2c7470d45496f3104a2f3648c94db730a0039ceabb3a0fb6fe42410"
  },
  "kernelspec": {
   "display_name": "Python 3",
   "language": "python",
   "name": "python3"
  },
  "language_info": {
   "codemirror_mode": {
    "name": "ipython",
    "version": 3
   },
   "file_extension": ".py",
   "mimetype": "text/x-python",
   "name": "python",
   "nbconvert_exporter": "python",
   "pygments_lexer": "ipython3",
   "version": "3.9.7"
  }
 },
 "nbformat": 4,
 "nbformat_minor": 2
}
