{
 "cells": [
  {
   "cell_type": "code",
   "execution_count": 50,
   "metadata": {},
   "outputs": [
    {
     "data": {
      "text/html": [
       "<div>\n",
       "<style scoped>\n",
       "    .dataframe tbody tr th:only-of-type {\n",
       "        vertical-align: middle;\n",
       "    }\n",
       "\n",
       "    .dataframe tbody tr th {\n",
       "        vertical-align: top;\n",
       "    }\n",
       "\n",
       "    .dataframe thead th {\n",
       "        text-align: right;\n",
       "    }\n",
       "</style>\n",
       "<table border=\"1\" class=\"dataframe\">\n",
       "  <thead>\n",
       "    <tr style=\"text-align: right;\">\n",
       "      <th></th>\n",
       "      <th>L1_ETA</th>\n",
       "      <th>Category</th>\n",
       "    </tr>\n",
       "    <tr>\n",
       "      <th>eventNumber</th>\n",
       "      <th></th>\n",
       "      <th></th>\n",
       "    </tr>\n",
       "  </thead>\n",
       "  <tbody>\n",
       "    <tr>\n",
       "      <th>92210</th>\n",
       "      <td>2.668017</td>\n",
       "      <td>1</td>\n",
       "    </tr>\n",
       "    <tr>\n",
       "      <th>530673</th>\n",
       "      <td>3.980211</td>\n",
       "      <td>1</td>\n",
       "    </tr>\n",
       "    <tr>\n",
       "      <th>1406520</th>\n",
       "      <td>2.426757</td>\n",
       "      <td>1</td>\n",
       "    </tr>\n",
       "    <tr>\n",
       "      <th>1391545</th>\n",
       "      <td>2.869321</td>\n",
       "      <td>1</td>\n",
       "    </tr>\n",
       "    <tr>\n",
       "      <th>947116</th>\n",
       "      <td>2.636613</td>\n",
       "      <td>1</td>\n",
       "    </tr>\n",
       "  </tbody>\n",
       "</table>\n",
       "</div>"
      ],
      "text/plain": [
       "               L1_ETA  Category\n",
       "eventNumber                    \n",
       "92210        2.668017         1\n",
       "530673       3.980211         1\n",
       "1406520      2.426757         1\n",
       "1391545      2.869321         1\n",
       "947116       2.636613         1"
      ]
     },
     "execution_count": 50,
     "metadata": {},
     "output_type": "execute_result"
    }
   ],
   "source": [
    "import pandas as pd\n",
    "import uproot as up\n",
    "import numpy as np\n",
    "fname = \"L1_ETA\"\n",
    "\n",
    "fts = [\"eventNumber\", fname, \"Lb_BKGCAT\"]\n",
    "with up.open(rare_sim + \":DTT1520me/DecayTree\") as f:\n",
    "    df = f.arrays(fts, library=\"pd\")\n",
    "    df = df.sample(frac=1) # Randomly shuffle\n",
    "    df.set_index(\"eventNumber\", inplace=True)\n",
    "    df = df[~df.index.duplicated(keep='first')]\n",
    "    # Remove duplicate events\n",
    "df['Category'] = np.where(df['Lb_BKGCAT'].isin([10, 50]), 1, 0)\n",
    "df.drop('Lb_BKGCAT', axis=1, inplace=True)\n",
    "df.head()"
   ]
  },
  {
   "cell_type": "code",
   "execution_count": 51,
   "metadata": {},
   "outputs": [],
   "source": [
    "nfts = [\"eventNumber\", fname]\n",
    "with up.open(rare_real + \":DTT1520me/DecayTree\") as f:\n",
    "    rf = f.arrays(nfts, library=\"pd\")\n",
    "    rf = rf.sample(frac=1) # Randomly shuffle\n",
    "    rf.set_index(\"eventNumber\", inplace=True)\n",
    "    rf = rf[~rf.index.duplicated(keep='first')]\n",
    "    # Remove duplicate events\n",
    "rf['Category'] = 0"
   ]
  },
  {
   "cell_type": "code",
   "execution_count": 52,
   "metadata": {},
   "outputs": [],
   "source": [
    "df = df[df['Category'] == 0]\n",
    "rf = rf.sample(frac=df.shape[0]/rf.shape[0])"
   ]
  },
  {
   "cell_type": "code",
   "execution_count": 56,
   "metadata": {},
   "outputs": [
    {
     "data": {
      "text/plain": [
       "KstestResult(statistic=0.02328866114833794, pvalue=1.3261820730727397e-07)"
      ]
     },
     "execution_count": 56,
     "metadata": {},
     "output_type": "execute_result"
    }
   ],
   "source": [
    "ks_2samp(rf[fname], df[fname])"
   ]
  },
  {
   "cell_type": "code",
   "execution_count": 55,
   "metadata": {},
   "outputs": [
    {
     "data": {
      "image/png": "[encoded data removed]",
      "text/plain": [
       "<Figure size 720x720 with 1 Axes>"
      ]
     },
     "metadata": {
      "needs_background": "light"
     },
     "output_type": "display_data"
    }
   ],
   "source": [
    "import matplotlib.pyplot as plt\n",
    "import mplhep as hep\n",
    "plt.style.use([hep.style.ROOT, hep.style.firamath])\n",
    "from scipy.stats import ks_2samp\n",
    "\n",
    "h, bins = np.histogram(rf[fname], bins=75)\n",
    "h1, _ = np.histogram(df[fname], bins=bins)\n",
    "\n",
    "fig, ax = plt.subplots(1, 1)\n",
    "hep.histplot([h, h1], bins=bins, yerr=True, ax=ax, label=['Real', 'Simulated'], histtype='step')\n",
    "plt.ylabel('Candidates')\n",
    "plt.xlabel(r'$\\eta(\\mu)$')\n",
    "plt.legend()\n",
    "plt.savefig('images/ManualCuts/L1_ETA_Dist.png')\n",
    "plt.show()"
   ]
  },
  {
   "cell_type": "code",
   "execution_count": 1,
   "metadata": {},
   "outputs": [],
   "source": [
    "from create_data import create_csv\n",
    "\n",
    "norm_sim = \"/disk/moose/lhcb/djdt/Lb2L1520mueTuples/MCNorm/2016MD/halfSampleFeb22/job246-CombDVntuple-MCNorm-15144059-S28r2Restrip-firstHalf-2016MD-pKmumu-PF__PreselectedV1.root\"\n",
    "norm_real = \"/disk/moose/lhcb/djdt/Lb2L1520mueTuples/realDataNorm/2016MD/halfSampleFeb22/job228-CombDVntuple-collision-firstHalf-2016MD-pKmumu-PF__PreselectedV1.root\"\n",
    "\n",
    "rare_sim = \"/disk/moose/lhcb/djdt/Lb2L1520mueTuples/MC/2016MD/fullSampleOct2021/job207-CombDVntuple-15314000-MC2016MD_Full-pKmue-MC.root\"\n",
    "rare_real = \"/disk/moose/lhcb/djdt/Lb2L1520mueTuples/realData/2016MD/halfSampleOct2021/blindedTriggeredL1520Selec-collision-firstHalf2016MD-pKmue_Fullv9.root\""
   ]
  },
  {
   "cell_type": "code",
   "execution_count": 4,
   "metadata": {},
   "outputs": [
    {
     "name": "stderr",
     "output_type": "stream",
     "text": [
      "/disk/homedisk/home/user211/project/create_data.py:74: FutureWarning: The frame.append method is deprecated and will be removed from pandas in a future version. Use pandas.concat instead.\n",
      "  user_features = user_features.append(add_row, ignore_index=True)\n"
     ]
    },
    {
     "name": "stdout",
     "output_type": "stream",
     "text": [
      "INFO: Reading in data from simulated tree\n",
      "INFO: Simulated data manipulation complete\n"
     ]
    },
    {
     "name": "stderr",
     "output_type": "stream",
     "text": [
      "/home/user211/envs/scientific/lib64/python3.9/site-packages/pandas/core/arraylike.py:397: RuntimeWarning: invalid value encountered in log\n",
      "  result = getattr(ufunc, method)(*inputs, **kwargs)\n",
      "/home/user211/envs/scientific/lib64/python3.9/site-packages/pandas/core/arraylike.py:397: RuntimeWarning: invalid value encountered in log\n",
      "  result = getattr(ufunc, method)(*inputs, **kwargs)\n"
     ]
    },
    {
     "name": "stdout",
     "output_type": "stream",
     "text": [
      "Output to CSV: data_files/8.0.1/all.csv\n",
      "Generating metadata file...\n",
      "INFO: Metadata file generated at outputs/csv_metadata/8.0.1.txt\n"
     ]
    }
   ],
   "source": [
    "kwargs = {\n",
    "    'ver': '8.0.1',\n",
    "    'sim_path': norm_sim,\n",
    "    'actual_path': norm_real,\n",
    "    'decay_tree_name': ':DTT1520mm/DecayTree',\n",
    "    'preselect': False,\n",
    "    'preselect_path': 'preselection.txt',\n",
    "    'equalise_event_numbers': False,\n",
    "    'dropnan': False,\n",
    "    'restrict_mass': None,#([4500, 5200], [5800, 6500]),\n",
    "    'train_fraction': 0.6,\n",
    "    'val_fraction': 0.2,\n",
    "    'test_fraction': 0.2,\n",
    "    'isNormalisation': True,\n",
    "    'DileptonQ2': True,\n",
    "    'request': 'request.txt',\n",
    "    'random_seed': 0\n",
    "}\n",
    "\n",
    "create_csv(kwargs)"
   ]
  }
 ],
 "metadata": {
  "interpreter": {
   "hash": "9ca4116ab2c7470d45496f3104a2f3648c94db730a0039ceabb3a0fb6fe42410"
  },
  "kernelspec": {
   "display_name": "Python 3",
   "language": "python",
   "name": "python3"
  },
  "language_info": {
   "codemirror_mode": {
    "name": "ipython",
    "version": 3
   },
   "file_extension": ".py",
   "mimetype": "text/x-python",
   "name": "python",
   "nbconvert_exporter": "python",
   "pygments_lexer": "ipython3",
   "version": "3.9.6"
  }
 },
 "nbformat": 4,
 "nbformat_minor": 2
}
