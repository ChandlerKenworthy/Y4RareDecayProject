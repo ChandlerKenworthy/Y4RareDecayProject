{
 "cells": [
  {
   "cell_type": "code",
   "execution_count": 1,
   "metadata": {},
   "outputs": [],
   "source": [
    "from create_data import create_csv\n",
    "\n",
    "norm_sim = \"/disk/moose/lhcb/djdt/Lb2L1520mueTuples/MCNorm/2016MD/halfSampleFeb22/job246-CombDVntuple-MCNorm-15144059-S28r2Restrip-firstHalf-2016MD-pKmumu-PF__PreselectedV1.root\"\n",
    "norm_real = \"/disk/moose/lhcb/djdt/Lb2L1520mueTuples/realDataNorm/2016MD/halfSampleFeb22/job228-CombDVntuple-collision-firstHalf-2016MD-pKmumu-PF__PreselectedV1.root\"\n",
    "\n",
    "rare_sim = \"/disk/moose/lhcb/djdt/Lb2L1520mueTuples/MC/2016MD/fullSampleOct2021/job207-CombDVntuple-15314000-MC2016MD_Full-pKmue-MC.root\"\n",
    "rare_real = \"/disk/moose/lhcb/djdt/Lb2L1520mueTuples/realData/2016MD/halfSampleOct2021/blindedTriggeredL1520Selec-collision-firstHalf2016MD-pKmue_Fullv9.root\""
   ]
  },
  {
   "cell_type": "code",
   "execution_count": 3,
   "metadata": {},
   "outputs": [
    {
     "name": "stderr",
     "output_type": "stream",
     "text": [
      "/disk/homedisk/home/user211/project/create_data.py:74: FutureWarning: The frame.append method is deprecated and will be removed from pandas in a future version. Use pandas.concat instead.\n",
      "  user_features = user_features.append(add_row, ignore_index=True)\n"
     ]
    },
    {
     "name": "stdout",
     "output_type": "stream",
     "text": [
      "INFO: Reading in data from simulated tree\n",
      "INFO: Simulated data manipulation complete\n",
      "INFO: Restricting mass sidebands\n",
      "INFO: Currently there are 45375 events\n",
      "INFO: There are 27 events less than the lower mass threshold\n",
      "INFO: There are 840 events above the higher mass threshold\n",
      "INFO: There are 18538 events between threshold values\n",
      "INFO: Mass restriction complete\n",
      "INFO: Currently there are 25970 events\n",
      "INFO: Sample currently includes 25970 background and 38057 signal events\n",
      "INFO: Sample now includes 25970 background and 25970 signal events\n"
     ]
    },
    {
     "name": "stderr",
     "output_type": "stream",
     "text": [
      "/home/user211/envs/scientific/lib64/python3.9/site-packages/pandas/core/arraylike.py:397: RuntimeWarning: invalid value encountered in log\n",
      "  result = getattr(ufunc, method)(*inputs, **kwargs)\n",
      "/home/user211/envs/scientific/lib64/python3.9/site-packages/pandas/core/arraylike.py:397: RuntimeWarning: invalid value encountered in log\n",
      "  result = getattr(ufunc, method)(*inputs, **kwargs)\n"
     ]
    },
    {
     "name": "stdout",
     "output_type": "stream",
     "text": [
      "Output to CSV: data_files/8.0.5/all.csv\n",
      "Generating metadata file...\n",
      "INFO: Metadata file generated at outputs/csv_metadata/8.0.5.txt\n"
     ]
    }
   ],
   "source": [
    "kwargs = {\n",
    "    'ver': '8.0.5',\n",
    "    'sim_path': norm_sim,\n",
    "    'actual_path': norm_real,\n",
    "    'decay_tree_name': ':DTT1520mm/DecayTree',\n",
    "    'preselect': False,\n",
    "    'preselect_path': 'preselection.txt',\n",
    "    'equalise_event_numbers': True,\n",
    "    'dropnan': False,\n",
    "    'restrict_mass': ([4500, 5200], [5800, 6500]),\n",
    "    'train_fraction': 0.6,\n",
    "    'val_fraction': 0.2,\n",
    "    'test_fraction': 0.2,\n",
    "    'isNormalisation': True,\n",
    "    'DileptonQ2': True,\n",
    "    'request': 'request.txt',\n",
    "    'random_seed': 0\n",
    "}\n",
    "\n",
    "create_csv(kwargs)"
   ]
  }
 ],
 "metadata": {
  "interpreter": {
   "hash": "9ca4116ab2c7470d45496f3104a2f3648c94db730a0039ceabb3a0fb6fe42410"
  },
  "kernelspec": {
   "display_name": "Python 3",
   "language": "python",
   "name": "python3"
  },
  "language_info": {
   "codemirror_mode": {
    "name": "ipython",
    "version": 3
   },
   "file_extension": ".py",
   "mimetype": "text/x-python",
   "name": "python",
   "nbconvert_exporter": "python",
   "pygments_lexer": "ipython3",
   "version": "3.9.6"
  }
 },
 "nbformat": 4,
 "nbformat_minor": 2
}
