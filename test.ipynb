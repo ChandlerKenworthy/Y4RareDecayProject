{
 "cells": [
  {
   "cell_type": "code",
   "execution_count": 1,
   "metadata": {},
   "outputs": [],
   "source": [
    "import uproot as up\n",
    "import numpy as np\n",
    "import pandas as pd"
   ]
  },
  {
   "cell_type": "code",
   "execution_count": 2,
   "metadata": {},
   "outputs": [
    {
     "data": {
      "text/html": [
       "<div>\n",
       "<style scoped>\n",
       "    .dataframe tbody tr th:only-of-type {\n",
       "        vertical-align: middle;\n",
       "    }\n",
       "\n",
       "    .dataframe tbody tr th {\n",
       "        vertical-align: top;\n",
       "    }\n",
       "\n",
       "    .dataframe thead th {\n",
       "        text-align: right;\n",
       "    }\n",
       "</style>\n",
       "<table border=\"1\" class=\"dataframe\">\n",
       "  <thead>\n",
       "    <tr style=\"text-align: right;\">\n",
       "      <th></th>\n",
       "      <th>Lb_M</th>\n",
       "      <th>Lb_DTF_PV_chi2</th>\n",
       "    </tr>\n",
       "    <tr>\n",
       "      <th>eventNumber</th>\n",
       "      <th></th>\n",
       "      <th></th>\n",
       "    </tr>\n",
       "  </thead>\n",
       "  <tbody>\n",
       "    <tr>\n",
       "      <th>4826</th>\n",
       "      <td>5678.798817</td>\n",
       "      <td>24.256874</td>\n",
       "    </tr>\n",
       "    <tr>\n",
       "      <th>4839</th>\n",
       "      <td>5484.122537</td>\n",
       "      <td>11.134415</td>\n",
       "    </tr>\n",
       "    <tr>\n",
       "      <th>4844</th>\n",
       "      <td>5641.837821</td>\n",
       "      <td>12.184275</td>\n",
       "    </tr>\n",
       "    <tr>\n",
       "      <th>1686</th>\n",
       "      <td>5882.765676</td>\n",
       "      <td>13.878463</td>\n",
       "    </tr>\n",
       "    <tr>\n",
       "      <th>1603</th>\n",
       "      <td>5751.147538</td>\n",
       "      <td>17.164570</td>\n",
       "    </tr>\n",
       "  </tbody>\n",
       "</table>\n",
       "</div>"
      ],
      "text/plain": [
       "                    Lb_M  Lb_DTF_PV_chi2\n",
       "eventNumber                             \n",
       "4826         5678.798817       24.256874\n",
       "4839         5484.122537       11.134415\n",
       "4844         5641.837821       12.184275\n",
       "1686         5882.765676       13.878463\n",
       "1603         5751.147538       17.164570"
      ]
     },
     "execution_count": 2,
     "metadata": {},
     "output_type": "execute_result"
    }
   ],
   "source": [
    "fName = \"/disk/moose/lhcb/djdt/Lb2L1520mueTuples/MC/2016MD/fullSampleOct2021/job207-CombDVntuple-15314000-MC2016MD_Full-pKmue-MC.root\"\n",
    "tree = \":DTT1520me/DecayTree\"\n",
    "\n",
    "features = ['Lb_M', 'Lb_DTF_PV_chi2']\n",
    "fts = ['eventNumber'] + features\n",
    "\n",
    "with up.open(fName + tree) as f:\n",
    "    \n",
    "    if 'Lb_DTF_PV_chi2' in fts:\n",
    "        fts.remove('Lb_DTF_PV_chi2')\n",
    "        n = f.arrays(['eventNumber', 'Lb_DTF_PV_chi2'], library='np')\n",
    "        new = np.array([n['Lb_DTF_PV_chi2'][i][0] for i in range(len(n['Lb_DTF_PV_chi2']))])\n",
    "        z = pd.DataFrame({'eventNumber': n['eventNumber'], 'Lb_DTF_PV_chi2': new})\n",
    "        z.set_index('eventNumber', inplace=True)\n",
    "        z = z[~z.index.duplicated(keep='first')]\n",
    "    \n",
    "    df = f.arrays(fts, library=\"pd\")\n",
    "    df.set_index(\"eventNumber\", inplace=True)\n",
    "    df.columns = fts[1:]\n",
    "    df = df.sample(frac=1, random_state=1)\n",
    "    df = df[~df.index.duplicated(keep='first')]\n",
    "    \n",
    "    df['Lb_DTF_PV_chi2'] = z['Lb_DTF_PV_chi2']\n",
    "    \n",
    "df.head()"
   ]
  }
 ],
 "metadata": {
  "interpreter": {
   "hash": "9ca4116ab2c7470d45496f3104a2f3648c94db730a0039ceabb3a0fb6fe42410"
  },
  "kernelspec": {
   "display_name": "Python 3.9.7 ('linux-64')",
   "language": "python",
   "name": "python3"
  },
  "language_info": {
   "codemirror_mode": {
    "name": "ipython",
    "version": 3
   },
   "file_extension": ".py",
   "mimetype": "text/x-python",
   "name": "python",
   "nbconvert_exporter": "python",
   "pygments_lexer": "ipython3",
   "version": "3.9.7"
  },
  "orig_nbformat": 4
 },
 "nbformat": 4,
 "nbformat_minor": 2
}
