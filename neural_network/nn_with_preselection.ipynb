{
 "cells": [
  {
   "cell_type": "markdown",
   "metadata": {},
   "source": [
    "# Neural Network with Pre-Selection\n"
   ]
  },
  {
   "cell_type": "code",
   "execution_count": 2,
   "metadata": {},
   "outputs": [],
   "source": [
    "import numpy as np\n",
    "import tensorflow as tf\n",
    "import pandas as pd\n",
    "from tensorflow import keras\n",
    "import matplotlib.pyplot as plt\n",
    "import sys\n",
    "sys.path.append('../')\n",
    "from utilities import Data, Consts\n",
    "import data_pipeline as dp\n",
    "import pickle"
   ]
  },
  {
   "cell_type": "markdown",
   "metadata": {},
   "source": [
    "## Pre-Selection\n",
    "We start by implementing the simulated pre-selection cuts. They are different for the simulated and real data. The cut strings have been made by Dan. The function below just finds all the features that are needed and fetches them. It then turns the string into a format that can just be fed into the dataframe."
   ]
  },
  {
   "cell_type": "code",
   "execution_count": 3,
   "metadata": {},
   "outputs": [],
   "source": [
    "s = \"(((( Lb_M01_Subst0_p2K <1019.461-12)|( Lb_M01_Subst0_p2K >1019.461+12))&((((((243716.98437715+ p_P **2)**0.5+ K_PE + L2_PE )**2-( p_PX + K_PX + L2_PX )**2-( p_PY + K_PY + L2_PY )**2-( p_PZ + K_PZ + L2_PZ )**2)**0.5)>2000)&(((((243716.98437715+ p_P **2)**0.5+ K_PE + L1_PE )**2-( p_PX + K_PX + L1_PX )**2-( p_PY + K_PY + L1_PY )**2-( p_PZ + K_PZ + L1_PZ )**2)**0.5)>2000))&((((((((880354.49999197+ p_P **2)**0.5+(243716.98437715+ K_P **2)**0.5+(0.26112103+ L2_P **2)**0.5)**2-( p_PX + K_PX + L2_PX )**2-( p_PY + K_PY + L2_PY )**2-( p_PZ + K_PZ + L2_PZ )**2)**0.5)>2320)&((( L2_ID <0)&( p_ID >0))|(( L2_ID >0)&( p_ID <0))))|((( L1_ID <0)&( p_ID >0))|(( L1_ID >0)&( p_ID <0))))&(((((((880354.49999197+ p_P **2)**0.5+(243716.98437715+ K_P **2)**0.5+(11163.69140675+ L1_P **2)**0.5)**2-( p_PX + K_PX + L1_PX )**2-( p_PY + K_PY + L1_PY )**2-( p_PZ + K_PZ + L1_PZ )**2)**0.5)>2320)&((( L1_ID <0)&( p_ID >0))|(( L1_ID >0)&( p_ID <0))))|((( L2_ID <0)&( p_ID >0))|(( L2_ID >0)&( p_ID <0)))))&(( Lb_M23 >3178.05)|( Lb_M23 <3000))&((((((( K_PE +(19479.95517577+ L2_P **2)**0.5)**2-( K_PX + L2_PX )**2-( K_PY + L2_PY )**2-( K_PZ + L2_PZ )**2)**0.5)>1865+20)|(((( K_PE +(19479.95517577+ L2_P **2)**0.5)**2-( K_PX + L2_PX )**2-( K_PY + L2_PY )**2-( K_PZ + L2_PZ )**2)**0.5)<1865-20))&((( L2_ID <0)&( p_ID >0))|(( L2_ID >0)&( p_ID <0))))|((( L1_ID <0)&( p_ID >0))|(( L1_ID >0)&( p_ID <0))))&((((((((11163.69140675+ K_P **2)**0.5+ L1_PE )**2-( K_PX + L1_PX )**2-( K_PY + L1_PY )**2-( K_PZ + L1_PZ )**2)**0.5)>3097+35)|(((((11163.69140675+ K_P **2)**0.5+ L1_PE )**2-( K_PX + L1_PX )**2-( K_PY + L1_PY )**2-( K_PZ + L1_PZ )**2)**0.5)<3097-35))&((( L1_ID <0)&( p_ID >0))|(( L1_ID >0)&( p_ID <0))))|((( L2_ID <0)&( p_ID >0))|(( L2_ID >0)&( p_ID <0))))&((((((((243716.98437715+ p_P **2)**0.5+(19479.95517577+ L2_P **2)**0.5)**2-( p_PX + L2_PX )**2-( p_PY + L2_PY )**2-( p_PZ + L2_PZ )**2)**0.5)>1865+20)|(((((243716.98437715+ p_P **2)**0.5+(19479.95517577+ L2_P **2)**0.5)**2-( p_PX + L2_PX )**2-( p_PY + L2_PY )**2-( p_PZ + L2_PZ )**2)**0.5)<1865-20))&((( L2_ID >0)&( p_ID >0))|(( L2_ID <0)&( p_ID <0))))|((( L1_ID >0)&( p_ID >0))|(( L1_ID <0)&( p_ID <0))))&((( p_PX * L1_PX + p_PY * L1_PY + p_PZ * L1_PZ )/( p_P * L1_P )<np.cos(1e-3))&(( p_PX * L2_PX + p_PY * L2_PY + p_PZ * L2_PZ )/( p_P * L2_P )<np.cos(1e-3))&(( K_PX * L1_PX + K_PY * L1_PY + K_PZ * L1_PZ )/( K_P * L1_P )<np.cos(1e-3))&(( K_PX * L2_PX + K_PY * L2_PY + K_PZ * L2_PZ )/( K_P * L2_P )<np.cos(1e-3)))&(( p_PX * K_PX + p_PY * K_PY + p_PZ * K_PZ )/( p_P * K_P )<np.cos(1e-3)))&( L1_L0MuonDecision_TOS )&(( Lb_Hlt1TrackMVADecision_TOS )|( Lb_Hlt1TrackMuonDecision_TOS ))&( Lb_Hlt2Topo2BodyDecision_TOS | Lb_Hlt2Topo3BodyDecision_TOS | Lb_Hlt2Topo4BodyDecision_TOS | Lb_Hlt2TopoMu2BodyDecision_TOS | Lb_Hlt2TopoMu3BodyDecision_TOS | Lb_Hlt2TopoMu4BodyDecision_TOS )&(( LStar_M >1448)&( LStar_M <1591))&(( Lb_BKGCAT ==10)|( Lb_BKGCAT ==50)))\"\n",
    "r = \"((( Lb_M01_Subst0_p2K <1019.461-12)|( Lb_M01_Subst0_p2K >1019.461+12))&((((((243716.98437715+ p_P **2)**0.5+ K_PE + L2_PE )**2-( p_PX + K_PX + L2_PX )**2-( p_PY + K_PY + L2_PY )**2-( p_PZ + K_PZ + L2_PZ )**2)**0.5)>2000)&(((((243716.98437715+ p_P **2)**0.5+ K_PE + L1_PE )**2-( p_PX + K_PX + L1_PX )**2-( p_PY + K_PY + L1_PY )**2-( p_PZ + K_PZ + L1_PZ )**2)**0.5)>2000))&((((((((880354.49999197+ p_P **2)**0.5+(243716.98437715+ K_P **2)**0.5+(0.26112103+ L2_P **2)**0.5)**2-( p_PX + K_PX + L2_PX )**2-( p_PY + K_PY + L2_PY )**2-( p_PZ + K_PZ + L2_PZ )**2)**0.5)>2320)&((( L2_ID <0)&( p_ID >0))|(( L2_ID >0)&( p_ID <0))))|((( L1_ID <0)&( p_ID >0))|(( L1_ID >0)&( p_ID <0))))&(((((((880354.49999197+ p_P **2)**0.5+(243716.98437715+ K_P **2)**0.5+(11163.69140675+ L1_P **2)**0.5)**2-( p_PX + K_PX + L1_PX )**2-( p_PY + K_PY + L1_PY )**2-( p_PZ + K_PZ + L1_PZ )**2)**0.5)>2320)&((( L1_ID <0)&( p_ID >0))|(( L1_ID >0)&( p_ID <0))))|((( L2_ID <0)&( p_ID >0))|(( L2_ID >0)&( p_ID <0)))))&(( Lb_M23 >3178.05)|( Lb_M23 <3000))&((((((( K_PE +(19479.95517577+ L2_P **2)**0.5)**2-( K_PX + L2_PX )**2-( K_PY + L2_PY )**2-( K_PZ + L2_PZ )**2)**0.5)>1865+20)|(((( K_PE +(19479.95517577+ L2_P **2)**0.5)**2-( K_PX + L2_PX )**2-( K_PY + L2_PY )**2-( K_PZ + L2_PZ )**2)**0.5)<1865-20))&((( L2_ID <0)&( p_ID >0))|(( L2_ID >0)&( p_ID <0))))|((( L1_ID <0)&( p_ID >0))|(( L1_ID >0)&( p_ID <0))))&((((((((11163.69140675+ K_P **2)**0.5+ L1_PE )**2-( K_PX + L1_PX )**2-( K_PY + L1_PY )**2-( K_PZ + L1_PZ )**2)**0.5)>3097+35)|(((((11163.69140675+ K_P **2)**0.5+ L1_PE )**2-( K_PX + L1_PX )**2-( K_PY + L1_PY )**2-( K_PZ + L1_PZ )**2)**0.5)<3097-35))&((( L1_ID <0)&( p_ID >0))|(( L1_ID >0)&( p_ID <0))))|((( L2_ID <0)&( p_ID >0))|(( L2_ID >0)&( p_ID <0))))&((((((((243716.98437715+ p_P **2)**0.5+(19479.95517577+ L2_P **2)**0.5)**2-( p_PX + L2_PX )**2-( p_PY + L2_PY )**2-( p_PZ + L2_PZ )**2)**0.5)>1865+20)|(((((243716.98437715+ p_P **2)**0.5+(19479.95517577+ L2_P **2)**0.5)**2-( p_PX + L2_PX )**2-( p_PY + L2_PY )**2-( p_PZ + L2_PZ )**2)**0.5)<1865-20))&((( L2_ID >0)&( p_ID >0))|(( L2_ID <0)&( p_ID <0))))|((( L1_ID >0)&( p_ID >0))|(( L1_ID <0)&( p_ID <0))))&((( p_PX * L1_PX + p_PY * L1_PY + p_PZ * L1_PZ )/( p_P * L1_P )<np.cos(1e-3))&(( p_PX * L2_PX + p_PY * L2_PY + p_PZ * L2_PZ )/( p_P * L2_P )<np.cos(1e-3))&(( K_PX * L1_PX + K_PY * L1_PY + K_PZ * L1_PZ )/( K_P * L1_P )<np.cos(1e-3))&(( K_PX * L2_PX + K_PY * L2_PY + K_PZ * L2_PZ )/( K_P * L2_P )<np.cos(1e-3)))&(( p_PX * K_PX + p_PY * K_PY + p_PZ * K_PZ )/( p_P * K_P )<np.cos(1e-3)))\"\n",
    "# The pre-selection strings"
   ]
  },
  {
   "cell_type": "code",
   "execution_count": 4,
   "metadata": {},
   "outputs": [],
   "source": [
    "simulated_fts, sdfstring = dp.get_required_features(s, df_prefix='sf')\n",
    "real_fts, rdfstring = dp.get_required_features(r, df_prefix='rf')\n",
    "# Find the features needed from pre-selection string\n",
    "\n",
    "real, sim = Data(*Consts().get_real_tuple()), Data(*Consts().get_simulated_tuple())\n",
    "rf, sf = real.fetch_features(real_fts), sim.fetch_features(simulated_fts)\n",
    "# Gather all those features, remember we get eventNumber returned as an index\n",
    "\n",
    "pre_selection_rf = rf[eval(rdfstring)]\n",
    "pre_selection_sf = sf[eval(sdfstring)]\n",
    "# Apply the pre-selection criteria"
   ]
  },
  {
   "cell_type": "markdown",
   "metadata": {},
   "source": [
    "The pre-selections really did cut our data down alot! We removed 76.2% of the real data and 79.9% of the simulated data. Oh no, we are going to need more data now."
   ]
  },
  {
   "cell_type": "code",
   "execution_count": 5,
   "metadata": {},
   "outputs": [],
   "source": [
    "# Get the eventNumber of the remaining events, these are the only ones we will use to train any future neural network.\n",
    "real_eventNumbers = pre_selection_rf.index.to_list()\n",
    "sim_eventNumbers = pre_selection_sf.index.to_list()\n",
    "\n",
    "keep_events = {\n",
    "    'real': real_eventNumbers,\n",
    "    'sim': sim_eventNumbers\n",
    "}"
   ]
  },
  {
   "cell_type": "markdown",
   "metadata": {},
   "source": [
    "## Reading in Data"
   ]
  },
  {
   "cell_type": "code",
   "execution_count": 6,
   "metadata": {},
   "outputs": [
    {
     "data": {
      "text/plain": [
       "127"
      ]
     },
     "execution_count": 6,
     "metadata": {},
     "output_type": "execute_result"
    }
   ],
   "source": [
    "chi2 = pd.read_csv('common_features.txt', sep=' ')['Feature']\n",
    "chi2 = [feat for feat in chi2 if 'chi2' in feat.lower()]\n",
    "# Get all the CHI2 features that are common to the sets\n",
    "errs = pd.read_csv('error_features.txt', sep=' ')['Feature'].to_list()\n",
    "chi2 = [f for f in chi2 if f not in errs]\n",
    "# Remove all CHI2 features that cause errors in the reading process\n",
    "len(chi2)"
   ]
  },
  {
   "cell_type": "code",
   "execution_count": 7,
   "metadata": {},
   "outputs": [
    {
     "data": {
      "text/plain": [
       "151"
      ]
     },
     "execution_count": 7,
     "metadata": {},
     "output_type": "execute_result"
    }
   ],
   "source": [
    "particle_features = ['Theta', 'MINIP', 'PX', 'PY', 'PZ', 'PT']\n",
    "particles = ['L1', 'L2', 'p', 'K']\n",
    "feats = [particle + \"_\" + ft for ft in particle_features for particle in particles]\n",
    "feats += chi2\n",
    "# Define the set of features we want to have, PVCHI2 seems to cause weird errors\n",
    "len(feats)"
   ]
  },
  {
   "cell_type": "code",
   "execution_count": 8,
   "metadata": {},
   "outputs": [
    {
     "name": "stdout",
     "output_type": "stream",
     "text": [
      "[====================] 100% Complete\n",
      "Applying pre-selection event number cuts\n",
      "No. simulated events: 21727\n",
      "No. real events: 132974\n",
      "Pre-selection criteria applied\n",
      "No. simulated events: 4402\n",
      "No. real events: 31593\n",
      "Features requested successfully\n"
     ]
    }
   ],
   "source": [
    "df = dp.get_combined_data(feats, keep_only_events=keep_events, random_shuffle=True, random_state=0, remove_na=False)\n",
    "# I will always use n a random state of zero for reproducibility of the notebook"
   ]
  },
  {
   "cell_type": "code",
   "execution_count": 9,
   "metadata": {},
   "outputs": [
    {
     "data": {
      "text/plain": [
       "['Lb_IPChi2_01',\n",
       " 'Lb_IPChi2_02',\n",
       " 'Lb_IPChi2_03',\n",
       " 'Lb_IPChi2_12',\n",
       " 'Lb_IPChi2_13',\n",
       " 'Lb_IPChi2_012',\n",
       " 'Lb_IPChi2_013',\n",
       " 'Lb_IPChi2_023',\n",
       " 'Lb_IPChi2_123',\n",
       " 'Lb_IPChi2_0123']"
      ]
     },
     "execution_count": 9,
     "metadata": {},
     "output_type": "execute_result"
    }
   ],
   "source": [
    "has_missing = df[df.isna().any(axis=1)]\n",
    "has_missing.columns[has_missing.isna().any()].to_list()\n",
    "# These features have missing values for some events! We could do some feature enginneering...or just drop the features.. we have\n",
    "# so many it doesn't even matter"
   ]
  },
  {
   "cell_type": "code",
   "execution_count": 10,
   "metadata": {},
   "outputs": [],
   "source": [
    "empty_events = pd.isnull(has_missing).any(1).to_numpy().nonzero()[0]\n",
    "# Then again there are not many events with missing values so we could just remove them..."
   ]
  },
  {
   "cell_type": "code",
   "execution_count": 11,
   "metadata": {},
   "outputs": [
    {
     "name": "stdout",
     "output_type": "stream",
     "text": [
      "[0, 0, 0, 0, 0, 0, 0, 0, 0, 0, 0, 0, 0, 0, 0, 0, 0, 0, 0, 0, 0, 0, 0, 0, 0, 0, 0, 0, 0, 0, 0, 0, 0, 0, 0, 0, 0, 0, 0, 0, 0, 0, 0, 0, 0, 0, 0, 0, 0, 0, 0, 0, 0, 0, 0, 0, 0, 0, 0, 0, 0, 0, 0, 0, 0, 0, 0, 0, 0, 0, 0]\n"
     ]
    }
   ],
   "source": [
    "# See what type of events the missing values are from\n",
    "print(df.iloc[pd.isnull(df).any(1).to_numpy().nonzero()[0]]['category'].to_list())"
   ]
  },
  {
   "cell_type": "code",
   "execution_count": 12,
   "metadata": {},
   "outputs": [
    {
     "name": "stdout",
     "output_type": "stream",
     "text": [
      "(35995, 152)\n"
     ]
    },
    {
     "data": {
      "text/plain": [
       "(35924, 152)"
      ]
     },
     "execution_count": 12,
     "metadata": {},
     "output_type": "execute_result"
    }
   ],
   "source": [
    "# These missing features are all contained within background events so we can just bin them off tbh since N(background)/N(signal) >> 1. \n",
    "print(df.shape)\n",
    "df.dropna(axis=0, inplace=True)\n",
    "df.shape"
   ]
  },
  {
   "cell_type": "markdown",
   "metadata": {},
   "source": [
    "## Feature Engineering\n",
    "Now we will make some new features out of those that we have already requested. This could significantly improve network performance. Essentially it does the job of the network for it. For example we expect some angles and differences between angles to be useful.\n",
    "\n",
    "Note that we do not need to review these distributions since these have already been done in a previous notebook. Essentially they all look somewhat similar, maybe this is bad for performance but at least it shows that the simulated data is reproducing the real data well. "
   ]
  },
  {
   "cell_type": "code",
   "execution_count": 13,
   "metadata": {},
   "outputs": [],
   "source": [
    "for particle in particles:\n",
    "    df[particle + \"_P\"] = np.sqrt(df[particle + \"_PT\"]**2 + df[particle + \"_PZ\"]**2)\n",
    "    df[particle + '_alpha'] = np.arcsin(df[particle + '_PT']/df[particle + '_P'])\n",
    "    df[particle + '_normPT'] = df[particle + \"_PT\"]/df[particle + \"_P\"]\n",
    "    \n",
    "combinations = np.array([\n",
    "    ['L1', 'L2'],\n",
    "    ['L1', 'p'],\n",
    "    ['L1', 'K'],\n",
    "    ['L2', 'p'],\n",
    "    ['L2', 'K'],\n",
    "    ['p', 'K']\n",
    "])\n",
    "\n",
    "for combo in combinations:\n",
    "    namePT = f\"{combo[0]}_minus_PT_{combo[1]}\"\n",
    "    nameALPHA = f\"{combo[0]}_minus_alpha_{combo[1]}\"\n",
    "    df[namePT] = df[combo[0] + \"_normPT\"] - df[combo[1] + \"_normPT\"]\n",
    "    df[nameALPHA] = df[combo[0] + \"_alpha\"] - df[combo[1] + \"_alpha\"]"
   ]
  },
  {
   "cell_type": "markdown",
   "metadata": {},
   "source": [
    "## Model Design and Training"
   ]
  },
  {
   "cell_type": "code",
   "execution_count": 14,
   "metadata": {},
   "outputs": [
    {
     "data": {
      "text/plain": [
       "((21554, 175), (21554,), (7185, 175), (7185, 175))"
      ]
     },
     "execution_count": 14,
     "metadata": {},
     "output_type": "execute_result"
    }
   ],
   "source": [
    "(X_train, y_train), (X_val, y_val), (X_test, y_test) = dp.prepare_data(df, train_frac=0.6, val_frac=0.2, test_frac=0.2, random_state=1)\n",
    "# Get the training, validation and test data, also inspect it for proof-of-concept\n",
    "\n",
    "X_train.shape, y_train.shape, X_val.shape, X_test.shape"
   ]
  },
  {
   "cell_type": "code",
   "execution_count": 22,
   "metadata": {},
   "outputs": [
    {
     "data": {
      "text/plain": [
       "(0    18896\n",
       " 1     2658\n",
       " Name: category, dtype: int64,\n",
       " 0    6311\n",
       " 1     874\n",
       " Name: category, dtype: int64,\n",
       " 0    6315\n",
       " 1     870\n",
       " Name: category, dtype: int64)"
      ]
     },
     "execution_count": 22,
     "metadata": {},
     "output_type": "execute_result"
    }
   ],
   "source": [
    "y_train.value_counts(), y_val.value_counts(), y_test.value_counts()"
   ]
  },
  {
   "cell_type": "code",
   "execution_count": 15,
   "metadata": {},
   "outputs": [
    {
     "name": "stderr",
     "output_type": "stream",
     "text": [
      "2022-02-10 14:16:53.228127: I tensorflow/core/platform/cpu_feature_guard.cc:142] This TensorFlow binary is optimized with oneAPI Deep Neural Network Library (oneDNN) to use the following CPU instructions in performance-critical operations:  SSE4.1 SSE4.2 AVX AVX2 AVX512F FMA\n",
      "To enable them in other operations, rebuild TensorFlow with the appropriate compiler flags.\n",
      "2022-02-10 14:16:53.239310: I tensorflow/core/common_runtime/process_util.cc:146] Creating new thread pool with default inter op setting: 2. Tune using inter_op_parallelism_threads for best performance.\n"
     ]
    }
   ],
   "source": [
    "from tensorflow.keras import layers\n",
    "from tensorflow.keras.regularizers import l1_l2\n",
    "from tensorflow.keras import callbacks\n",
    "\n",
    "early_stopping = keras.callbacks.EarlyStopping(patience=20, min_delta=0.001, restore_best_weights=True)\n",
    "# Stop the training early when we really plateau\n",
    "\n",
    "lr_schedule = callbacks.ReduceLROnPlateau(patience=5, factor=0.2, min_lr=0.001)\n",
    "# Adjust learning rate when we start to plateau during training\n",
    "\n",
    "m = keras.Sequential()\n",
    "m.add(layers.Dense(64, activation='relu', input_shape=(X_train.shape[1],), kernel_regularizer=l1_l2(0.001, 0.001)))\n",
    "m.add(layers.Dropout(0.4))\n",
    "m.add(layers.BatchNormalization())\n",
    "m.add(layers.Dense(128, activation='relu', kernel_regularizer=l1_l2(0.001, 0.001)))\n",
    "m.add(layers.Dropout(0.4))\n",
    "m.add(layers.Dense(128, activation='relu', kernel_regularizer=l1_l2(0.001, 0.001)))\n",
    "m.add(layers.BatchNormalization())\n",
    "m.add(layers.Dense(256, activation='relu', kernel_regularizer=l1_l2(0.001, 0.001)))\n",
    "m.add(layers.Dense(1, activation='sigmoid'))\n",
    "m.compile(optimizer='rmsprop', loss='binary_crossentropy', metrics=['binary_accuracy', 'AUC', 'TruePositives', 'TrueNegatives', 'FalsePositives', 'FalseNegatives'])\n",
    "#m_history = m.fit(X_train, y_train, epochs=100, batch_size=1024, validation_data=(X_val, y_val), callbacks=[early_stopping, lr_schedule])\n",
    "#with open('train_history/v2.3.4_histDict', 'wb') as file_pi:\n",
    "#    pickle.dump(m_history.history, file_pi)\n",
    "    # Write out the raw dictionary history\n",
    "#m.save('models/v2.3.4')"
   ]
  },
  {
   "cell_type": "code",
   "execution_count": 19,
   "metadata": {},
   "outputs": [
    {
     "name": "stdout",
     "output_type": "stream",
     "text": [
      "Model: \"sequential\"\n",
      "_________________________________________________________________\n",
      "Layer (type)                 Output Shape              Param #   \n",
      "=================================================================\n",
      "dense (Dense)                (None, 64)                11264     \n",
      "_________________________________________________________________\n",
      "dropout (Dropout)            (None, 64)                0         \n",
      "_________________________________________________________________\n",
      "batch_normalization (BatchNo (None, 64)                256       \n",
      "_________________________________________________________________\n",
      "dense_1 (Dense)              (None, 128)               8320      \n",
      "_________________________________________________________________\n",
      "dropout_1 (Dropout)          (None, 128)               0         \n",
      "_________________________________________________________________\n",
      "dense_2 (Dense)              (None, 128)               16512     \n",
      "_________________________________________________________________\n",
      "batch_normalization_1 (Batch (None, 128)               512       \n",
      "_________________________________________________________________\n",
      "dense_3 (Dense)              (None, 256)               33024     \n",
      "_________________________________________________________________\n",
      "dense_4 (Dense)              (None, 1)                 257       \n",
      "=================================================================\n",
      "Total params: 70,145\n",
      "Trainable params: 69,761\n",
      "Non-trainable params: 384\n",
      "_________________________________________________________________\n"
     ]
    }
   ],
   "source": [
    "m.summary()"
   ]
  },
  {
   "cell_type": "code",
   "execution_count": 16,
   "metadata": {},
   "outputs": [],
   "source": [
    "history = pickle.load(open('train_history/v2.3.4_histDict', \"rb\"))\n",
    "nepochs = len(history['loss'])"
   ]
  },
  {
   "cell_type": "code",
   "execution_count": 17,
   "metadata": {},
   "outputs": [
    {
     "data": {
      "image/png": "[encoded data removed]",
      "text/plain": [
       "<Figure size 1584x432 with 3 Axes>"
      ]
     },
     "metadata": {
      "needs_background": "light"
     },
     "output_type": "display_data"
    }
   ],
   "source": [
    "dp.plot_history_curves(history, nepochs)"
   ]
  },
  {
   "cell_type": "markdown",
   "metadata": {},
   "source": [
    "## ROC Curve Analysis\n",
    "Now that we have got a pretty good semi-initial model we can plot the ROC curve. This will help us spot overfitting and really accelerate our models development. It will allow us to see what type of error our model has preference to, does it incorrectly reject signal or incorrectly accept background more often?"
   ]
  },
  {
   "cell_type": "code",
   "execution_count": 18,
   "metadata": {},
   "outputs": [
    {
     "ename": "NameError",
     "evalue": "name 'm_history' is not defined",
     "output_type": "error",
     "traceback": [
      "\u001b[0;31m---------------------------------------------------------------------------\u001b[0m",
      "\u001b[0;31mNameError\u001b[0m                                 Traceback (most recent call last)",
      "\u001b[0;32m/tmp/ipykernel_1011184/3119200325.py\u001b[0m in \u001b[0;36m<module>\u001b[0;34m\u001b[0m\n\u001b[0;32m----> 1\u001b[0;31m \u001b[0mroc_history\u001b[0m \u001b[0;34m=\u001b[0m \u001b[0mm_history\u001b[0m\u001b[0;34m.\u001b[0m\u001b[0mhistory\u001b[0m\u001b[0;34m\u001b[0m\u001b[0;34m\u001b[0m\u001b[0m\n\u001b[0m\u001b[1;32m      2\u001b[0m \u001b[0;34m\u001b[0m\u001b[0m\n\u001b[1;32m      3\u001b[0m \u001b[0mtrain_signal_efficiency\u001b[0m \u001b[0;34m=\u001b[0m \u001b[0mroc_history\u001b[0m\u001b[0;34m[\u001b[0m\u001b[0;34m'true_positives'\u001b[0m\u001b[0;34m]\u001b[0m \u001b[0;34m/\u001b[0m  \u001b[0my_train\u001b[0m\u001b[0;34m.\u001b[0m\u001b[0mvalue_counts\u001b[0m\u001b[0;34m(\u001b[0m\u001b[0;34m)\u001b[0m\u001b[0;34m[\u001b[0m\u001b[0;36m1\u001b[0m\u001b[0;34m]\u001b[0m\u001b[0;34m\u001b[0m\u001b[0;34m\u001b[0m\u001b[0m\n\u001b[1;32m      4\u001b[0m \u001b[0mval_signal_efficiency\u001b[0m \u001b[0;34m=\u001b[0m \u001b[0mroc_history\u001b[0m\u001b[0;34m[\u001b[0m\u001b[0;34m'val_true_positives'\u001b[0m\u001b[0;34m]\u001b[0m \u001b[0;34m/\u001b[0m  \u001b[0my_val\u001b[0m\u001b[0;34m.\u001b[0m\u001b[0mvalue_counts\u001b[0m\u001b[0;34m(\u001b[0m\u001b[0;34m)\u001b[0m\u001b[0;34m[\u001b[0m\u001b[0;36m1\u001b[0m\u001b[0;34m]\u001b[0m\u001b[0;34m\u001b[0m\u001b[0;34m\u001b[0m\u001b[0m\n\u001b[1;32m      5\u001b[0m \u001b[0;31m# What percentage of total signal events were identified as signal events\u001b[0m\u001b[0;34m\u001b[0m\u001b[0;34m\u001b[0m\u001b[0m\n",
      "\u001b[0;31mNameError\u001b[0m: name 'm_history' is not defined"
     ]
    }
   ],
   "source": [
    "roc_history = m_history.history\n",
    "\n",
    "train_signal_efficiency = roc_history['true_positives'] /  y_train.value_counts()[1]\n",
    "val_signal_efficiency = roc_history['val_true_positives'] /  y_val.value_counts()[1]\n",
    "# What percentage of total signal events were identified as signal events\n",
    "\n",
    "train_background_rej = 1 - (roc_history['false_positives'] / y_train.value_counts()[0])\n",
    "val_background_rej = 1 - (roc_history['val_false_positives'] / y_val.value_counts()[0])\n",
    "# The number of true positives to total positivesa"
   ]
  },
  {
   "cell_type": "code",
   "execution_count": null,
   "metadata": {},
   "outputs": [
    {
     "data": {
      "text/html": [
       "<div>\n",
       "<style scoped>\n",
       "    .dataframe tbody tr th:only-of-type {\n",
       "        vertical-align: middle;\n",
       "    }\n",
       "\n",
       "    .dataframe tbody tr th {\n",
       "        vertical-align: top;\n",
       "    }\n",
       "\n",
       "    .dataframe thead th {\n",
       "        text-align: right;\n",
       "    }\n",
       "</style>\n",
       "<table border=\"1\" class=\"dataframe\">\n",
       "  <thead>\n",
       "    <tr style=\"text-align: right;\">\n",
       "      <th></th>\n",
       "      <th>TrainSigEff</th>\n",
       "      <th>TrainBackRej</th>\n",
       "      <th>ValSigEff</th>\n",
       "      <th>ValBackRej</th>\n",
       "      <th>TrainDistOpt</th>\n",
       "      <th>ValDistOpt</th>\n",
       "      <th>MeanDistOpt</th>\n",
       "    </tr>\n",
       "    <tr>\n",
       "      <th>Epoch</th>\n",
       "      <th></th>\n",
       "      <th></th>\n",
       "      <th></th>\n",
       "      <th></th>\n",
       "      <th></th>\n",
       "      <th></th>\n",
       "      <th></th>\n",
       "    </tr>\n",
       "  </thead>\n",
       "  <tbody>\n",
       "    <tr>\n",
       "      <th>1</th>\n",
       "      <td>0.351392</td>\n",
       "      <td>0.956869</td>\n",
       "      <td>0.623570</td>\n",
       "      <td>0.977500</td>\n",
       "      <td>0.650040</td>\n",
       "      <td>0.377102</td>\n",
       "      <td>0.513571</td>\n",
       "    </tr>\n",
       "    <tr>\n",
       "      <th>2</th>\n",
       "      <td>0.591798</td>\n",
       "      <td>0.970152</td>\n",
       "      <td>0.713959</td>\n",
       "      <td>0.978767</td>\n",
       "      <td>0.409291</td>\n",
       "      <td>0.286828</td>\n",
       "      <td>0.348060</td>\n",
       "    </tr>\n",
       "    <tr>\n",
       "      <th>3</th>\n",
       "      <td>0.672686</td>\n",
       "      <td>0.971740</td>\n",
       "      <td>0.661327</td>\n",
       "      <td>0.988274</td>\n",
       "      <td>0.328531</td>\n",
       "      <td>0.338876</td>\n",
       "      <td>0.333704</td>\n",
       "    </tr>\n",
       "    <tr>\n",
       "      <th>4</th>\n",
       "      <td>0.746050</td>\n",
       "      <td>0.971634</td>\n",
       "      <td>0.130435</td>\n",
       "      <td>0.999208</td>\n",
       "      <td>0.255530</td>\n",
       "      <td>0.869566</td>\n",
       "      <td>0.562548</td>\n",
       "    </tr>\n",
       "    <tr>\n",
       "      <th>5</th>\n",
       "      <td>0.747555</td>\n",
       "      <td>0.973804</td>\n",
       "      <td>0.138444</td>\n",
       "      <td>0.999208</td>\n",
       "      <td>0.253801</td>\n",
       "      <td>0.861556</td>\n",
       "      <td>0.557679</td>\n",
       "    </tr>\n",
       "  </tbody>\n",
       "</table>\n",
       "</div>"
      ],
      "text/plain": [
       "       TrainSigEff  TrainBackRej  ValSigEff  ValBackRej  TrainDistOpt  \\\n",
       "Epoch                                                                   \n",
       "1         0.351392      0.956869   0.623570    0.977500      0.650040   \n",
       "2         0.591798      0.970152   0.713959    0.978767      0.409291   \n",
       "3         0.672686      0.971740   0.661327    0.988274      0.328531   \n",
       "4         0.746050      0.971634   0.130435    0.999208      0.255530   \n",
       "5         0.747555      0.973804   0.138444    0.999208      0.253801   \n",
       "\n",
       "       ValDistOpt  MeanDistOpt  \n",
       "Epoch                           \n",
       "1        0.377102     0.513571  \n",
       "2        0.286828     0.348060  \n",
       "3        0.338876     0.333704  \n",
       "4        0.869566     0.562548  \n",
       "5        0.861556     0.557679  "
      ]
     },
     "execution_count": 24,
     "metadata": {},
     "output_type": "execute_result"
    }
   ],
   "source": [
    "data = pd.DataFrame({'TrainSigEff': train_signal_efficiency, 'TrainBackRej': train_background_rej, 'ValSigEff': val_signal_efficiency, 'ValBackRej': val_background_rej})\n",
    "data.rename_axis('Epoch', inplace=True)\n",
    "data.index += 1\n",
    "data['TrainDistOpt'] = np.sqrt((1-data['TrainSigEff'])**2 + (1-data['TrainBackRej'])**2)\n",
    "data['ValDistOpt'] = np.sqrt((1-data['ValSigEff'])**2 + (1-data['ValBackRej'])**2)\n",
    "data['MeanDistOpt'] = (data['TrainDistOpt'] + data['ValDistOpt'])/2\n",
    "data.head()"
   ]
  },
  {
   "cell_type": "code",
   "execution_count": null,
   "metadata": {},
   "outputs": [
    {
     "data": {
      "image/png": "[encoded data removed]",
      "text/plain": [
       "<Figure size 864x648 with 2 Axes>"
      ]
     },
     "metadata": {
      "needs_background": "light"
     },
     "output_type": "display_data"
    }
   ],
   "source": [
    "import matplotlib.cm as cm\n",
    "import matplotlib as mpl\n",
    "\n",
    "fig, ax = plt.subplots(2, 1, figsize=(12, 9), gridspec_kw={'height_ratios': [3, 1]})\n",
    "ax[0].scatter(train_signal_efficiency, train_background_rej,  label='Training')\n",
    "ax[0].scatter(val_signal_efficiency, val_background_rej, label='Validation')\n",
    "ax[0].set_ylabel('Background Rejection (1 - False Positive Rate)')\n",
    "ax[0].set_xlabel('Signal Efficiency (True Positive Rate)')\n",
    "ax[0].legend()\n",
    "\n",
    "ax[1].scatter(data.index, data['MeanDistOpt'])\n",
    "ax[1].set_ylabel('Mean Distance from Optional (MDFO)')\n",
    "ax[1].set_xlabel('Training Epoch')\n",
    "plt.show()"
   ]
  }
 ],
 "metadata": {
  "interpreter": {
   "hash": "9ca4116ab2c7470d45496f3104a2f3648c94db730a0039ceabb3a0fb6fe42410"
  },
  "kernelspec": {
   "display_name": "Python 3 (ipykernel)",
   "language": "python",
   "name": "python3"
  },
  "language_info": {
   "codemirror_mode": {
    "name": "ipython",
    "version": 3
   },
   "file_extension": ".py",
   "mimetype": "text/x-python",
   "name": "python",
   "nbconvert_exporter": "python",
   "pygments_lexer": "ipython3",
   "version": "3.9.7"
  }
 },
 "nbformat": 4,
 "nbformat_minor": 2
}
