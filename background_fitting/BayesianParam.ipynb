{
 "cells": [
  {
   "cell_type": "markdown",
   "metadata": {},
   "source": [
    "# Bayesian Parameter Estimation\n",
    "This notebook will use the methodology of Bayesian parameter estimation to help estimate paramters for some models of the background data. This uses the formalism taught in the Inference From Scientific Data module taught by Dr Christopher J. Moore.\n",
    "\n",
    "Essentially for each of our models $M_i(\\theta)=M(m_i;\\theta)$ we define Bayes' problem as $P(M|D)=\\frac{1}{Z}P(D|M)P(M)$. Where $\\theta$ are a set of unknown parameters."
   ]
  },
  {
   "cell_type": "code",
   "execution_count": 1,
   "metadata": {},
   "outputs": [],
   "source": [
    "import numpy as np\n",
    "from scipy.stats import poisson \n",
    "import matplotlib.pyplot as plt\n",
    "import pandas as pd"
   ]
  },
  {
   "cell_type": "markdown",
   "metadata": {},
   "source": [
    "## Define Models\n",
    "Usually we would define our models in here. However, since we are using mutliple different methods to do our parameter estimation the models are actually defined in the BgFuncs module where full documentation is available, so instead we just import that."
   ]
  },
  {
   "cell_type": "code",
   "execution_count": 39,
   "metadata": {},
   "outputs": [],
   "source": [
    "import sys\n",
    "sys.path.append('../')\n",
    "import BgFuncs as bf"
   ]
  },
  {
   "cell_type": "markdown",
   "metadata": {},
   "source": [
    "## Load Data\n",
    "We have already read in the masses before and binned the data then removed blinded region data and cut on a particular mass region. This all takes significant time, instead of doing it again just read in the cleaned data using Pandas."
   ]
  },
  {
   "cell_type": "code",
   "execution_count": 23,
   "metadata": {},
   "outputs": [
    {
     "data": {
      "image/png": "[encoded data removed]",
      "text/plain": [
       "<Figure size 504x360 with 1 Axes>"
      ]
     },
     "metadata": {
      "needs_background": "light"
     },
     "output_type": "display_data"
    }
   ],
   "source": [
    "d = pd.read_csv('/home/user211/project/data/200bins_rmblind_masses.txt')\n",
    "x, y, yerr = d['Mass'].to_numpy(), d['Frequency'].to_numpy(), d['Error'].to_numpy()\n",
    "\n",
    "fig, ax = plt.subplots(1, 1, figsize=(7, 5))\n",
    "ax.errorbar(x, y, yerr=yerr, fmt=\"o\", ms=2, capsize=2, elinewidth=1)\n",
    "ax.set_xlabel('Invariant Mass (MeV)')\n",
    "ax.set_ylabel('Frequency')\n",
    "plt.show()"
   ]
  },
  {
   "cell_type": "markdown",
   "metadata": {},
   "source": [
    "As you can see from the data in the above plot, there are two rogue data points which are due to how the bins were cut off when straddling the blinded region. We will remove these points manually now. We can only do this becasue we know the source of the problem and it is not actually physical."
   ]
  },
  {
   "cell_type": "code",
   "execution_count": 38,
   "metadata": {},
   "outputs": [
    {
     "data": {
      "image/png": "[encoded data removed]",
      "text/plain": [
       "<Figure size 504x360 with 1 Axes>"
      ]
     },
     "metadata": {
      "needs_background": "light"
     },
     "output_type": "display_data"
    }
   ],
   "source": [
    "x, y, yerr = np.concatenate((x[0:45], x[47:])), np.concatenate((y[0:45], y[47:])), np.concatenate((yerr[0:45], yerr[47:]))\n",
    "fig, ax = plt.subplots(1, 1, figsize=(7, 5))\n",
    "ax.errorbar(x, y, yerr=yerr, fmt=\"o\", ms=2, capsize=2, elinewidth=1)\n",
    "ax.set_xlabel('Invariant Mass (MeV)')\n",
    "ax.set_ylabel('Frequency')\n",
    "plt.show()"
   ]
  },
  {
   "cell_type": "markdown",
   "metadata": {},
   "source": [
    "## Bayesian Analysis Begins\n",
    "To start we will use the basic exponential function of the form $M(m; A,k,b,c)=Ae^{-(km-b)}+c$. And we use a poission distribution for our likelihood."
   ]
  },
  {
   "cell_type": "code",
   "execution_count": 40,
   "metadata": {},
   "outputs": [],
   "source": [
    "def log_likelihood(A, k, b, c, f=x, d=y):\n",
    "    \"\"\"\n",
    "    P(data | A, k, b, c)\n",
    "    \"\"\"\n",
    "    m = bf.exponential(f, A, k, b, c)\n",
    "    return np.sum([poisson(m[i]).logppmf(d[i]) for i in range(len(f))])\n",
    "\n",
    "def log_likelihood_fast(A, k, b, c, f=x, d=y):\n",
    "    \"\"\"\n",
    "    An ultrafast implementation of log_likelihood\n",
    "    \"\"\"\n",
    "    m = bf.exponential(f, A, k, b, c)\n",
    "    return np.sum(poisson(m).logpmf(d))"
   ]
  },
  {
   "cell_type": "code",
   "execution_count": 41,
   "metadata": {},
   "outputs": [],
   "source": [
    "def log_prior(A, k, b, c, Amax=100, Amin=1, kmax=100, kmin=1, bmax=100, bmin=1, cmax=100, cmin=1):\n",
    "    \"\"\"\n",
    "    P(A, k, b, c)\n",
    "    \"\"\" \n",
    "    # this is a Jeffreys prior might be better to use a uniform one for now\n",
    "    A_prior = \n",
    "    return A_log_prior + b_log_prior + k_log_prior + c_log_prior"
   ]
  },
  {
   "cell_type": "code",
   "execution_count": 42,
   "metadata": {},
   "outputs": [],
   "source": [
    "def log_posterior(A, k, b, c, f=x, d=y):\n",
    "    \"\"\"\n",
    "    P(A,k,b,c | data) not normalised\n",
    "    \"\"\"\n",
    "    return (log_likelihood_fast(A, k, b, c, f, d) + log_prior(A, k, b, c))"
   ]
  },
  {
   "cell_type": "markdown",
   "metadata": {},
   "source": [
    "## Find Modal Parameters\n",
    "Now we find the model parameters using the posterior and priors defined above."
   ]
  },
  {
   "cell_type": "code",
   "execution_count": 43,
   "metadata": {},
   "outputs": [
    {
     "name": "stderr",
     "output_type": "stream",
     "text": [
      "/tmp/ipykernel_3167884/2416717356.py:5: RuntimeWarning: invalid value encountered in log\n",
      "  A_log_prior = -np.log(A) - np.log(np.log(Amax/Amin))\n",
      "/tmp/ipykernel_3167884/2416717356.py:6: RuntimeWarning: invalid value encountered in log\n",
      "  k_log_prior = -np.log(k) - np.log(np.log(kmax/kmin))\n",
      "/tmp/ipykernel_3167884/2416717356.py:8: RuntimeWarning: invalid value encountered in log\n",
      "  c_log_prior = -np.log(c) - np.log(np.log(cmax/cmin))\n",
      "/disk/homedisk/home/user211/project/background_fitting/../BgFuncs.py:7: RuntimeWarning: overflow encountered in exp\n",
      "  return (A*np.exp(-((k*x)+B)))+C\n",
      "/tmp/ipykernel_3167884/2416717356.py:5: RuntimeWarning: invalid value encountered in log\n",
      "  A_log_prior = -np.log(A) - np.log(np.log(Amax/Amin))\n",
      "/tmp/ipykernel_3167884/2416717356.py:6: RuntimeWarning: invalid value encountered in log\n",
      "  k_log_prior = -np.log(k) - np.log(np.log(kmax/kmin))\n",
      "/tmp/ipykernel_3167884/2416717356.py:8: RuntimeWarning: invalid value encountered in log\n",
      "  c_log_prior = -np.log(c) - np.log(np.log(cmax/cmin))\n",
      "/disk/homedisk/home/user211/project/background_fitting/../BgFuncs.py:7: RuntimeWarning: overflow encountered in exp\n",
      "  return (A*np.exp(-((k*x)+B)))+C\n",
      "/disk/homedisk/home/user211/project/background_fitting/../BgFuncs.py:7: RuntimeWarning: overflow encountered in exp\n",
      "  return (A*np.exp(-((k*x)+B)))+C\n",
      "/tmp/ipykernel_3167884/2416717356.py:5: RuntimeWarning: invalid value encountered in log\n",
      "  A_log_prior = -np.log(A) - np.log(np.log(Amax/Amin))\n",
      "/tmp/ipykernel_3167884/2416717356.py:6: RuntimeWarning: invalid value encountered in log\n",
      "  k_log_prior = -np.log(k) - np.log(np.log(kmax/kmin))\n",
      "/tmp/ipykernel_3167884/2416717356.py:8: RuntimeWarning: invalid value encountered in log\n",
      "  c_log_prior = -np.log(c) - np.log(np.log(cmax/cmin))\n"
     ]
    },
    {
     "data": {
      "text/plain": [
       "      fun: nan\n",
       " hess_inv: array([[ 1.00000000e+00,  2.94688684e-10, -5.91390284e-10,\n",
       "         2.94688684e-10],\n",
       "       [ 2.94688684e-10,  1.00000000e+00, -5.91390284e-10,\n",
       "         2.94688684e-10],\n",
       "       [-5.91390284e-10, -5.91390284e-10,  3.44508496e-05,\n",
       "        -5.91390284e-10],\n",
       "       [ 2.94688684e-10,  2.94688684e-10, -5.91390284e-10,\n",
       "         1.00000000e+00]])\n",
       "      jac: array([nan, nan, nan, nan])\n",
       "  message: 'Desired error not necessarily achieved due to precision loss.'\n",
       "     nfev: 565\n",
       "      nit: 2\n",
       "     njev: 113\n",
       "   status: 2\n",
       "  success: False\n",
       "        x: array([-1023.01754194, -1023.01754194,  1022.83539173, -1023.01754194])"
      ]
     },
     "execution_count": 43,
     "metadata": {},
     "output_type": "execute_result"
    }
   ],
   "source": [
    "from scipy.optimize import minimize\n",
    "\n",
    "x0 = (1, 1, 1, 1)\n",
    "sol = minimize(lambda x: -log_posterior(x[0], x[1], x[2], x[3]), x0)\n",
    "sol"
   ]
  },
  {
   "cell_type": "code",
   "execution_count": 44,
   "metadata": {},
   "outputs": [
    {
     "name": "stderr",
     "output_type": "stream",
     "text": [
      "/disk/homedisk/home/user211/project/background_fitting/../BgFuncs.py:7: RuntimeWarning: overflow encountered in exp\n",
      "  return (A*np.exp(-((k*x)+B)))+C\n",
      "/tmp/ipykernel_3167884/2416717356.py:5: RuntimeWarning: invalid value encountered in log\n",
      "  A_log_prior = -np.log(A) - np.log(np.log(Amax/Amin))\n",
      "/tmp/ipykernel_3167884/2416717356.py:6: RuntimeWarning: invalid value encountered in log\n",
      "  k_log_prior = -np.log(k) - np.log(np.log(kmax/kmin))\n",
      "/tmp/ipykernel_3167884/2416717356.py:8: RuntimeWarning: invalid value encountered in log\n",
      "  c_log_prior = -np.log(c) - np.log(np.log(cmax/cmin))\n"
     ]
    }
   ],
   "source": [
    "A_hat = sol.x[0]\n",
    "k_hat = sol.x[1]\n",
    "b_hat = sol.x[2]\n",
    "c_hat = sol.x[3]\n",
    "\n",
    "max_post = log_posterior(A_hat, k_hat, b_hat, c_hat)"
   ]
  },
  {
   "cell_type": "code",
   "execution_count": 46,
   "metadata": {},
   "outputs": [
    {
     "name": "stderr",
     "output_type": "stream",
     "text": [
      "/disk/homedisk/home/user211/project/background_fitting/../BgFuncs.py:7: RuntimeWarning: overflow encountered in exp\n",
      "  return (A*np.exp(-((k*x)+B)))+C\n"
     ]
    },
    {
     "data": {
      "image/png": "[encoded data removed]",
      "text/plain": [
       "<Figure size 504x360 with 1 Axes>"
      ]
     },
     "metadata": {
      "needs_background": "light"
     },
     "output_type": "display_data"
    }
   ],
   "source": [
    "fig, ax = plt.subplots(1, 1, figsize=(7, 5))\n",
    "f_grid = np.linspace(4500, 6500, 1000)\n",
    "ax.errorbar(x, y, yerr=yerr, fmt=\"o\", ms=2, capsize=2, elinewidth=1)\n",
    "ax.plot(f_grid, bf.exponential(f_grid, A_hat, k_hat, b_hat, c_hat), 'k-', label='Model')\n",
    "ax.set_xlabel('Invariant Mass (MeV)')\n",
    "ax.set_ylabel('Frequency')\n",
    "plt.show()"
   ]
  }
 ],
 "metadata": {
  "interpreter": {
   "hash": "9ca4116ab2c7470d45496f3104a2f3648c94db730a0039ceabb3a0fb6fe42410"
  },
  "kernelspec": {
   "display_name": "Python 3.9.7 64-bit ('linux-64': conda)",
   "language": "python",
   "name": "python3"
  },
  "language_info": {
   "codemirror_mode": {
    "name": "ipython",
    "version": 3
   },
   "file_extension": ".py",
   "mimetype": "text/x-python",
   "name": "python",
   "nbconvert_exporter": "python",
   "pygments_lexer": "ipython3",
   "version": "3.9.7"
  },
  "orig_nbformat": 4
 },
 "nbformat": 4,
 "nbformat_minor": 2
}
