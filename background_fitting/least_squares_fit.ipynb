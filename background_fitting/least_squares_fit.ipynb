{
 "cells": [
  {
   "cell_type": "markdown",
   "metadata": {},
   "source": [
    "# Least-Squares Background Fitting\n",
    "We attempt to fit a range of polynomial functions to the background using a linear least-squares fitting routine as implemented by SciPy. This is a binned fitting routine. Optimised parameters are retained in this notebook and in the more general data directory."
   ]
  },
  {
   "cell_type": "code",
   "execution_count": 1,
   "metadata": {},
   "outputs": [],
   "source": [
    "import numpy as np\n",
    "from scipy.optimize import curve_fit\n",
    "import pandas as pd\n",
    "import matplotlib.pyplot as plt\n",
    "import mplhep as hep\n",
    "plt.style.use([hep.style.ROOT, hep.style.firamath])"
   ]
  },
  {
   "cell_type": "markdown",
   "metadata": {},
   "source": [
    "## Fetch Mass Distribution\n",
    "We need to construct an actual background mass distribution to fit from. We will use the background data as given in the real tuple and restrict the sidebands to the values the neural network is currently using. We will also want to try the optimisation using a variety of bin widths."
   ]
  },
  {
   "cell_type": "code",
   "execution_count": 2,
   "metadata": {},
   "outputs": [
    {
     "data": {
      "text/html": [
       "<div>\n",
       "<style scoped>\n",
       "    .dataframe tbody tr th:only-of-type {\n",
       "        vertical-align: middle;\n",
       "    }\n",
       "\n",
       "    .dataframe tbody tr th {\n",
       "        vertical-align: top;\n",
       "    }\n",
       "\n",
       "    .dataframe thead th {\n",
       "        text-align: right;\n",
       "    }\n",
       "</style>\n",
       "<table border=\"1\" class=\"dataframe\">\n",
       "  <thead>\n",
       "    <tr style=\"text-align: right;\">\n",
       "      <th></th>\n",
       "      <th>JPs_FD_ORIVX</th>\n",
       "      <th>LStar_ORIVX_CHI2</th>\n",
       "      <th>Lb_ENDVERTEX_CHI2</th>\n",
       "      <th>LN_Lb_IPCHI2_OWNPV</th>\n",
       "      <th>Lb_PT</th>\n",
       "      <th>LN_Lb_MINIPCHI2</th>\n",
       "      <th>LN_Lb_IP01</th>\n",
       "      <th>LN_Lb_IP23</th>\n",
       "      <th>LN_Lb_IP_OWNPV</th>\n",
       "      <th>p_TRACK_VeloCHI2NDOF</th>\n",
       "      <th>...</th>\n",
       "      <th>LStar_IP_ORIVX</th>\n",
       "      <th>JPs_IP_ORIVX</th>\n",
       "      <th>LN_SUM_CONEISO</th>\n",
       "      <th>LN_SUM_IPCHI2</th>\n",
       "      <th>LN_COS_THETA</th>\n",
       "      <th>LN_COS_LBDIRA</th>\n",
       "      <th>QSQR</th>\n",
       "      <th>Lb_M</th>\n",
       "      <th>IsSimulated</th>\n",
       "      <th>category</th>\n",
       "    </tr>\n",
       "  </thead>\n",
       "  <tbody>\n",
       "    <tr>\n",
       "      <th>1</th>\n",
       "      <td>0.078832</td>\n",
       "      <td>9.939746</td>\n",
       "      <td>9.939746</td>\n",
       "      <td>3.093692</td>\n",
       "      <td>11852.543369</td>\n",
       "      <td>3.093692</td>\n",
       "      <td>-1.977373</td>\n",
       "      <td>-2.108562</td>\n",
       "      <td>-2.918518</td>\n",
       "      <td>1.494893</td>\n",
       "      <td>...</td>\n",
       "      <td>0.021025</td>\n",
       "      <td>0.001743</td>\n",
       "      <td>0.158339</td>\n",
       "      <td>6.158047</td>\n",
       "      <td>-6.518171</td>\n",
       "      <td>-0.777223</td>\n",
       "      <td>2684.119433</td>\n",
       "      <td>5074.968177</td>\n",
       "      <td>False</td>\n",
       "      <td>0</td>\n",
       "    </tr>\n",
       "    <tr>\n",
       "      <th>2</th>\n",
       "      <td>0.153558</td>\n",
       "      <td>2.887534</td>\n",
       "      <td>2.887534</td>\n",
       "      <td>1.569424</td>\n",
       "      <td>5797.921199</td>\n",
       "      <td>1.569424</td>\n",
       "      <td>-0.792562</td>\n",
       "      <td>-2.315548</td>\n",
       "      <td>-3.408039</td>\n",
       "      <td>0.627371</td>\n",
       "      <td>...</td>\n",
       "      <td>0.014914</td>\n",
       "      <td>0.009292</td>\n",
       "      <td>1.140929</td>\n",
       "      <td>5.925347</td>\n",
       "      <td>-5.203562</td>\n",
       "      <td>-0.777224</td>\n",
       "      <td>2075.027691</td>\n",
       "      <td>4655.848150</td>\n",
       "      <td>False</td>\n",
       "      <td>0</td>\n",
       "    </tr>\n",
       "    <tr>\n",
       "      <th>6</th>\n",
       "      <td>0.310676</td>\n",
       "      <td>23.175125</td>\n",
       "      <td>23.175125</td>\n",
       "      <td>1.442219</td>\n",
       "      <td>2564.795150</td>\n",
       "      <td>1.442219</td>\n",
       "      <td>-1.680654</td>\n",
       "      <td>-2.647079</td>\n",
       "      <td>-3.298285</td>\n",
       "      <td>1.447700</td>\n",
       "      <td>...</td>\n",
       "      <td>0.127085</td>\n",
       "      <td>0.012300</td>\n",
       "      <td>NaN</td>\n",
       "      <td>4.585305</td>\n",
       "      <td>-7.257094</td>\n",
       "      <td>-0.777327</td>\n",
       "      <td>2160.526084</td>\n",
       "      <td>5160.188562</td>\n",
       "      <td>False</td>\n",
       "      <td>0</td>\n",
       "    </tr>\n",
       "    <tr>\n",
       "      <th>7</th>\n",
       "      <td>0.142403</td>\n",
       "      <td>31.255217</td>\n",
       "      <td>31.255217</td>\n",
       "      <td>1.572500</td>\n",
       "      <td>6188.506172</td>\n",
       "      <td>1.572500</td>\n",
       "      <td>-1.250151</td>\n",
       "      <td>-2.150304</td>\n",
       "      <td>-3.289045</td>\n",
       "      <td>1.681392</td>\n",
       "      <td>...</td>\n",
       "      <td>0.180167</td>\n",
       "      <td>0.004849</td>\n",
       "      <td>-0.056369</td>\n",
       "      <td>4.986771</td>\n",
       "      <td>-5.281211</td>\n",
       "      <td>-0.777590</td>\n",
       "      <td>1910.912407</td>\n",
       "      <td>6250.361270</td>\n",
       "      <td>False</td>\n",
       "      <td>0</td>\n",
       "    </tr>\n",
       "    <tr>\n",
       "      <th>11</th>\n",
       "      <td>0.014314</td>\n",
       "      <td>44.694538</td>\n",
       "      <td>44.694538</td>\n",
       "      <td>1.765284</td>\n",
       "      <td>7578.942431</td>\n",
       "      <td>1.765284</td>\n",
       "      <td>-2.618373</td>\n",
       "      <td>-2.979348</td>\n",
       "      <td>-3.534236</td>\n",
       "      <td>0.529667</td>\n",
       "      <td>...</td>\n",
       "      <td>0.183102</td>\n",
       "      <td>0.003327</td>\n",
       "      <td>NaN</td>\n",
       "      <td>6.490877</td>\n",
       "      <td>-5.030466</td>\n",
       "      <td>-0.777213</td>\n",
       "      <td>2771.452577</td>\n",
       "      <td>4900.667506</td>\n",
       "      <td>False</td>\n",
       "      <td>0</td>\n",
       "    </tr>\n",
       "  </tbody>\n",
       "</table>\n",
       "<p>5 rows × 27 columns</p>\n",
       "</div>"
      ],
      "text/plain": [
       "    JPs_FD_ORIVX  LStar_ORIVX_CHI2  Lb_ENDVERTEX_CHI2  LN_Lb_IPCHI2_OWNPV  \\\n",
       "1       0.078832          9.939746           9.939746            3.093692   \n",
       "2       0.153558          2.887534           2.887534            1.569424   \n",
       "6       0.310676         23.175125          23.175125            1.442219   \n",
       "7       0.142403         31.255217          31.255217            1.572500   \n",
       "11      0.014314         44.694538          44.694538            1.765284   \n",
       "\n",
       "           Lb_PT  LN_Lb_MINIPCHI2  LN_Lb_IP01  LN_Lb_IP23  LN_Lb_IP_OWNPV  \\\n",
       "1   11852.543369         3.093692   -1.977373   -2.108562       -2.918518   \n",
       "2    5797.921199         1.569424   -0.792562   -2.315548       -3.408039   \n",
       "6    2564.795150         1.442219   -1.680654   -2.647079       -3.298285   \n",
       "7    6188.506172         1.572500   -1.250151   -2.150304       -3.289045   \n",
       "11   7578.942431         1.765284   -2.618373   -2.979348       -3.534236   \n",
       "\n",
       "    p_TRACK_VeloCHI2NDOF  ...  LStar_IP_ORIVX  JPs_IP_ORIVX  LN_SUM_CONEISO  \\\n",
       "1               1.494893  ...        0.021025      0.001743        0.158339   \n",
       "2               0.627371  ...        0.014914      0.009292        1.140929   \n",
       "6               1.447700  ...        0.127085      0.012300             NaN   \n",
       "7               1.681392  ...        0.180167      0.004849       -0.056369   \n",
       "11              0.529667  ...        0.183102      0.003327             NaN   \n",
       "\n",
       "    LN_SUM_IPCHI2  LN_COS_THETA  LN_COS_LBDIRA         QSQR         Lb_M  \\\n",
       "1        6.158047     -6.518171      -0.777223  2684.119433  5074.968177   \n",
       "2        5.925347     -5.203562      -0.777224  2075.027691  4655.848150   \n",
       "6        4.585305     -7.257094      -0.777327  2160.526084  5160.188562   \n",
       "7        4.986771     -5.281211      -0.777590  1910.912407  6250.361270   \n",
       "11       6.490877     -5.030466      -0.777213  2771.452577  4900.667506   \n",
       "\n",
       "    IsSimulated  category  \n",
       "1         False         0  \n",
       "2         False         0  \n",
       "6         False         0  \n",
       "7         False         0  \n",
       "11        False         0  \n",
       "\n",
       "[5 rows x 27 columns]"
      ]
     },
     "execution_count": 2,
     "metadata": {},
     "output_type": "execute_result"
    }
   ],
   "source": [
    "df = pd.read_csv('../data_files/9.1.4/all.csv', index_col=[0])\n",
    "# 9.1.4 : Pre + (mass restrict +- 600 MeV)\n",
    "df = df[df['category'] == 0]\n",
    "df = df[df['IsSimulated'] == False]\n",
    "df.head()"
   ]
  },
  {
   "cell_type": "code",
   "execution_count": 3,
   "metadata": {},
   "outputs": [],
   "source": [
    "df2 = pd.read_csv('../data_files/9.1.1/all.csv', index_col=[0])\n",
    "# 9.1.1 : mass restrict +- 600 MeV\n",
    "df2 = df2[df2['category'] == 0]\n",
    "df2 = df2[df2['IsSimulated'] == False]"
   ]
  },
  {
   "cell_type": "code",
   "execution_count": 4,
   "metadata": {},
   "outputs": [
    {
     "data": {
      "text/plain": [
       "((16172, 27), (49231, 27))"
      ]
     },
     "execution_count": 4,
     "metadata": {},
     "output_type": "execute_result"
    }
   ],
   "source": [
    "df.shape, df2.shape"
   ]
  },
  {
   "cell_type": "markdown",
   "metadata": {},
   "source": [
    "## Bin the Distribution\n",
    "Now that we have a dataframe with all the background events we care about it is now prudent to fit our background functions to this. Before doing this these data should be put into bins. The value of bins is variable and will affect the final fit. For this reason we choose the finest bin structure possible."
   ]
  },
  {
   "cell_type": "code",
   "execution_count": 5,
   "metadata": {},
   "outputs": [],
   "source": [
    "m1 = df['Lb_M'].to_numpy()\n",
    "m2 = df2['Lb_M'].to_numpy()\n",
    "# Only keep background events"
   ]
  },
  {
   "cell_type": "markdown",
   "metadata": {},
   "source": [
    "## Visual Analysis\n",
    "The best way to get a feel for these data is to do an initial visual analysis. We can do this by plotting the mass distribution and seeing what sort of shape it seems to take. We might normally expect a combinatorial background to be exponentially decaying excluding any resonances."
   ]
  },
  {
   "cell_type": "code",
   "execution_count": 6,
   "metadata": {},
   "outputs": [
    {
     "data": {
      "image/png": "[encoded data removed]",
      "text/plain": [
       "<Figure size 720x720 with 1 Axes>"
      ]
     },
     "metadata": {
      "needs_background": "light"
     },
     "output_type": "display_data"
    }
   ],
   "source": [
    "bins = np.concatenate([np.linspace(4600, 5200, 41), np.linspace(5800, 6400, 41)])\n",
    "\n",
    "h1, _ = np.histogram(m1, bins=bins)\n",
    "h2, _ = np.histogram(m2, bins=bins)\n",
    "\n",
    "fig, ax = plt.subplots(1, 1)\n",
    "ax.set_title(f\"Background Mass Distribution\")\n",
    "hep.histplot([h2, h1], bins, ax=ax, yerr=True, label=['No Preselection', 'Preselection'])\n",
    "#ax.hist(df['Lb_M'], bins=blocks, label='Bayesian Blocks', histtype='step')\n",
    "plt.ylabel('Candidates', horizontalalignment='right', y=1.0)\n",
    "plt.xlabel(r'Invariant Mass [MeV]', horizontalalignment='right', x=1.0)\n",
    "ax.legend()\n",
    "plt.tight_layout()\n",
    "plt.savefig('../images/BackgroundFits/Mass_Distribution.png', dpi=800)\n",
    "plt.show()"
   ]
  },
  {
   "cell_type": "markdown",
   "metadata": {},
   "source": [
    "## Fitting Polynomials"
   ]
  },
  {
   "cell_type": "code",
   "execution_count": 7,
   "metadata": {},
   "outputs": [],
   "source": [
    "bin_width = bins[1]-bins[0]\n",
    "func_x = np.linspace(4600-5500, 6400-5500, 500)\n",
    "\n",
    "# Find the scatter position of all the bin/frequency pairs\n",
    "bin_centres = np.array([np.mean(bins[i:i+2]) for i in range(len(bins)-1)])-5500\n",
    "bin_centres = np.delete(bin_centres, 40) # Remove the rogue middle bin\n",
    "h1n = np.array([i for i in h1 if i > 0])"
   ]
  },
  {
   "cell_type": "code",
   "execution_count": 8,
   "metadata": {},
   "outputs": [],
   "source": [
    "def linear(x, a, b):\n",
    "    return a*x + b\n",
    "\n",
    "def exp_decay(x, a, b, c):\n",
    "    return np.exp(-(a*(x-b))) + c\n",
    "\n",
    "def logarithm(x, a, b, c):\n",
    "    return -b*np.log(x-a) + c\n",
    "\n",
    "def quadratic(x, a, b, c):\n",
    "    return a*x**2 + b*x + c\n",
    "\n",
    "def cubic(x, a, b, c, d):\n",
    "    return a*x**3 + b*x**2 + c*x + d"
   ]
  },
  {
   "cell_type": "code",
   "execution_count": 9,
   "metadata": {},
   "outputs": [],
   "source": [
    "popt1, pcov1 = curve_fit(linear, bin_centres, h1n, [-0.15, 200], np.sqrt(h1n), absolute_sigma=True)\n",
    "popt2, pcov2 = curve_fit(cubic, bin_centres, h1n, [1, 1, 1, 1], np.sqrt(h1n), absolute_sigma=True)"
   ]
  },
  {
   "cell_type": "code",
   "execution_count": 10,
   "metadata": {},
   "outputs": [],
   "source": [
    "err = np.sqrt(np.diag(pcov2))\n",
    "\n",
    "#lcubic = cubic(func_x, popt2[0]-err[0], popt2[1]-err[1], popt2[2]-err[2], popt2[3]-err[3])\n",
    "#hcubic = cubic(func_x, popt2[0]+err[0], popt2[1]+err[1], popt2[2]+err[2], popt2[3]+err[3])"
   ]
  },
  {
   "cell_type": "code",
   "execution_count": 11,
   "metadata": {},
   "outputs": [
    {
     "data": {
      "text/plain": [
       "array([ 9.25454622e-08, -1.95491716e-05, -2.08072140e-01,  2.08896705e+02])"
      ]
     },
     "execution_count": 11,
     "metadata": {},
     "output_type": "execute_result"
    }
   ],
   "source": [
    "popt2"
   ]
  },
  {
   "cell_type": "code",
   "execution_count": 12,
   "metadata": {},
   "outputs": [
    {
     "data": {
      "image/png": "[encoded data removed]",
      "text/plain": [
       "<Figure size 720x720 with 1 Axes>"
      ]
     },
     "metadata": {
      "needs_background": "light"
     },
     "output_type": "display_data"
    }
   ],
   "source": [
    "fig, ax = plt.subplots(1, 1)\n",
    "ax.set_title(f\"Background Mass Distribution\")\n",
    "hep.histplot(h1, bins=(bins-5500), ax=ax, yerr=True, label='Preselected')\n",
    "#ax.scatter(bin_centres, h1n, label='Scatter')\n",
    "#ax.plot(func_x, linear(func_x, *popt1), label='Linear')\n",
    "ax.plot(func_x, cubic(func_x, *popt2), label=r'Cubic $\\chi^2_{\\nu}=0.923$')\n",
    "#ax.fill_between(func_x, lcubic, hcubic, alpha=0.4, color='orange', linewidth=0, label=r'$1\\sigma$')\n",
    "plt.ylabel('Candidates', horizontalalignment='right', y=1.0)\n",
    "plt.xlabel(r'Invariant Mass MeV$/c^2$', horizontalalignment='right', x=1.0)\n",
    "ax.legend()\n",
    "ax.set_ylim(0, 380)\n",
    "plt.tight_layout()\n",
    "#plt.savefig('../images/BackgroundFits/Preselected_Cubic_Fit.png', dpi=800)\n",
    "plt.show()"
   ]
  },
  {
   "cell_type": "code",
   "execution_count": 13,
   "metadata": {},
   "outputs": [
    {
     "name": "stdout",
     "output_type": "stream",
     "text": [
      "Value: 9.254546221042552e-08 +- 1.239558513524568e-08\n",
      "Value: -1.954917162621531e-05 +- 7.540192312802521e-06\n",
      "Value: -0.20807214015665842 +- 0.006750097880315321\n",
      "Value: 208.8967046045883 +- 3.36945754981659\n"
     ]
    }
   ],
   "source": [
    "for j, i in enumerate(popt2):\n",
    "    print(f\"Value: {i} +- {err[j]}\")"
   ]
  },
  {
   "cell_type": "code",
   "execution_count": 14,
   "metadata": {},
   "outputs": [
    {
     "data": {
      "text/plain": [
       "KstestResult(statistic=0.1375, pvalue=0.4382622708472999)"
      ]
     },
     "execution_count": 14,
     "metadata": {},
     "output_type": "execute_result"
    }
   ],
   "source": [
    "from scipy.stats import ks_2samp\n",
    "\n",
    "ks_2samp(cubic(bin_centres, *popt2), h1n)"
   ]
  },
  {
   "cell_type": "code",
   "execution_count": 15,
   "metadata": {},
   "outputs": [
    {
     "data": {
      "text/plain": [
       "0.9232692381768706"
      ]
     },
     "execution_count": 15,
     "metadata": {},
     "output_type": "execute_result"
    }
   ],
   "source": [
    "chisq = np.sum((h1n-cubic(bin_centres, *popt2))**2/h1n)\n",
    "chisq/(len(h1n)-4)"
   ]
  },
  {
   "cell_type": "markdown",
   "metadata": {},
   "source": [
    "## ROOT Fitting"
   ]
  },
  {
   "cell_type": "code",
   "execution_count": 16,
   "metadata": {},
   "outputs": [
    {
     "ename": "KeyboardInterrupt",
     "evalue": "",
     "output_type": "error",
     "traceback": [
      "\u001b[0;31m---------------------------------------------------------------------------\u001b[0m",
      "\u001b[0;31mKeyboardInterrupt\u001b[0m                         Traceback (most recent call last)",
      "\u001b[0;32m/tmp/ipykernel_2245814/1335646005.py\u001b[0m in \u001b[0;36m<module>\u001b[0;34m\u001b[0m\n\u001b[0;32m----> 1\u001b[0;31m \u001b[0;32mfrom\u001b[0m \u001b[0mROOT\u001b[0m \u001b[0;32mimport\u001b[0m \u001b[0mTH1F\u001b[0m\u001b[0;34m,\u001b[0m \u001b[0mTF1\u001b[0m\u001b[0;34m\u001b[0m\u001b[0;34m\u001b[0m\u001b[0m\n\u001b[0m",
      "\u001b[0;32m/cvmfs/lhcbdev.cern.ch/conda/envs/default/2021-09-07_04-06/linux-64/lib/python3.9/site-packages/ROOT/__init__.py\u001b[0m in \u001b[0;36m<module>\u001b[0;34m\u001b[0m\n\u001b[1;32m     20\u001b[0m \u001b[0menviron\u001b[0m\u001b[0;34m[\u001b[0m\u001b[0;34m'CPPYY_NO_ROOT_FILTER'\u001b[0m\u001b[0;34m]\u001b[0m \u001b[0;34m=\u001b[0m \u001b[0;34m'1'\u001b[0m\u001b[0;34m\u001b[0m\u001b[0;34m\u001b[0m\u001b[0m\n\u001b[1;32m     21\u001b[0m \u001b[0;34m\u001b[0m\u001b[0m\n\u001b[0;32m---> 22\u001b[0;31m \u001b[0;32mimport\u001b[0m \u001b[0mcppyy\u001b[0m\u001b[0;34m\u001b[0m\u001b[0;34m\u001b[0m\u001b[0m\n\u001b[0m\u001b[1;32m     23\u001b[0m \u001b[0;32mif\u001b[0m \u001b[0;32mnot\u001b[0m \u001b[0;34m'ROOTSYS'\u001b[0m \u001b[0;32min\u001b[0m \u001b[0menviron\u001b[0m\u001b[0;34m:\u001b[0m\u001b[0;34m\u001b[0m\u001b[0;34m\u001b[0m\u001b[0m\n\u001b[1;32m     24\u001b[0m     \u001b[0;31m# Revert setting made by cppyy\u001b[0m\u001b[0;34m\u001b[0m\u001b[0;34m\u001b[0m\u001b[0m\n",
      "\u001b[0;32m/cvmfs/lhcbdev.cern.ch/conda/envs/default/2021-09-07_04-06/linux-64/lib/python3.9/site-packages/cppyy/__init__.py\u001b[0m in \u001b[0;36m<module>\u001b[0;34m\u001b[0m\n\u001b[1;32m    129\u001b[0m     \u001b[0;32mfrom\u001b[0m \u001b[0;34m.\u001b[0m\u001b[0m_pypy_cppyy\u001b[0m \u001b[0;32mimport\u001b[0m \u001b[0;34m*\u001b[0m\u001b[0;34m\u001b[0m\u001b[0;34m\u001b[0m\u001b[0m\n\u001b[1;32m    130\u001b[0m \u001b[0;32melse\u001b[0m\u001b[0;34m:\u001b[0m\u001b[0;34m\u001b[0m\u001b[0;34m\u001b[0m\u001b[0m\n\u001b[0;32m--> 131\u001b[0;31m     \u001b[0;32mfrom\u001b[0m \u001b[0;34m.\u001b[0m\u001b[0m_cpython_cppyy\u001b[0m \u001b[0;32mimport\u001b[0m \u001b[0;34m*\u001b[0m\u001b[0;34m\u001b[0m\u001b[0;34m\u001b[0m\u001b[0m\n\u001b[0m\u001b[1;32m    132\u001b[0m \u001b[0;32mif\u001b[0m \u001b[0mclean_cbl\u001b[0m\u001b[0;34m:\u001b[0m\u001b[0;34m\u001b[0m\u001b[0;34m\u001b[0m\u001b[0m\n\u001b[1;32m    133\u001b[0m     \u001b[0;32mdel\u001b[0m \u001b[0mos\u001b[0m\u001b[0;34m.\u001b[0m\u001b[0menviron\u001b[0m\u001b[0;34m[\u001b[0m\u001b[0;34m'CPPYY_BACKEND_LIBRARY'\u001b[0m\u001b[0;34m]\u001b[0m \u001b[0;31m# we set it, so clean it\u001b[0m\u001b[0;34m\u001b[0m\u001b[0;34m\u001b[0m\u001b[0m\n",
      "\u001b[0;32m/cvmfs/lhcbdev.cern.ch/conda/envs/default/2021-09-07_04-06/linux-64/lib/python3.9/site-packages/cppyy/_cpython_cppyy.py\u001b[0m in \u001b[0;36m<module>\u001b[0;34m\u001b[0m\n\u001b[1;32m    123\u001b[0m     \u001b[0;32mexcept\u001b[0m \u001b[0mIOError\u001b[0m\u001b[0;34m:\u001b[0m\u001b[0;34m\u001b[0m\u001b[0;34m\u001b[0m\u001b[0m\n\u001b[1;32m    124\u001b[0m         \u001b[0;32mpass\u001b[0m\u001b[0;34m\u001b[0m\u001b[0;34m\u001b[0m\u001b[0m\n\u001b[0;32m--> 125\u001b[0;31m \u001b[0madd_default_paths\u001b[0m\u001b[0;34m(\u001b[0m\u001b[0;34m)\u001b[0m\u001b[0;34m\u001b[0m\u001b[0;34m\u001b[0m\u001b[0m\n\u001b[0m\u001b[1;32m    126\u001b[0m \u001b[0;32mdel\u001b[0m \u001b[0madd_default_paths\u001b[0m\u001b[0;34m\u001b[0m\u001b[0;34m\u001b[0m\u001b[0m\n\u001b[1;32m    127\u001b[0m \u001b[0;34m\u001b[0m\u001b[0m\n",
      "\u001b[0;32m/cvmfs/lhcbdev.cern.ch/conda/envs/default/2021-09-07_04-06/linux-64/lib/python3.9/site-packages/cppyy/_cpython_cppyy.py\u001b[0m in \u001b[0;36madd_default_paths\u001b[0;34m()\u001b[0m\n\u001b[1;32m    101\u001b[0m \u001b[0;32mimport\u001b[0m \u001b[0mos\u001b[0m\u001b[0;34m\u001b[0m\u001b[0;34m\u001b[0m\u001b[0m\n\u001b[1;32m    102\u001b[0m \u001b[0;32mdef\u001b[0m \u001b[0madd_default_paths\u001b[0m\u001b[0;34m(\u001b[0m\u001b[0;34m)\u001b[0m\u001b[0;34m:\u001b[0m\u001b[0;34m\u001b[0m\u001b[0;34m\u001b[0m\u001b[0m\n\u001b[0;32m--> 103\u001b[0;31m     \u001b[0mgSystem\u001b[0m \u001b[0;34m=\u001b[0m \u001b[0mgbl\u001b[0m\u001b[0;34m.\u001b[0m\u001b[0mgSystem\u001b[0m\u001b[0;34m\u001b[0m\u001b[0;34m\u001b[0m\u001b[0m\n\u001b[0m\u001b[1;32m    104\u001b[0m     \u001b[0;32mif\u001b[0m \u001b[0mos\u001b[0m\u001b[0;34m.\u001b[0m\u001b[0mgetenv\u001b[0m\u001b[0;34m(\u001b[0m\u001b[0;34m'CONDA_PREFIX'\u001b[0m\u001b[0;34m)\u001b[0m\u001b[0;34m:\u001b[0m\u001b[0;34m\u001b[0m\u001b[0;34m\u001b[0m\u001b[0m\n\u001b[1;32m    105\u001b[0m       \u001b[0;31m# MacOS, Linux\u001b[0m\u001b[0;34m\u001b[0m\u001b[0;34m\u001b[0m\u001b[0m\n",
      "\u001b[0;31mKeyboardInterrupt\u001b[0m: "
     ]
    }
   ],
   "source": [
    "from ROOT import TH1F, TF1"
   ]
  },
  {
   "cell_type": "code",
   "execution_count": null,
   "metadata": {},
   "outputs": [],
   "source": [
    "h = TH1F('h', 'Mass Distribution', len(h1n), -900, 900)\n",
    "for i, j in enumerate(h1n):\n",
    "    h.SetBinContent(i+1, j)"
   ]
  },
  {
   "cell_type": "code",
   "execution_count": null,
   "metadata": {},
   "outputs": [
    {
     "name": "stdout",
     "output_type": "stream",
     "text": [
      "\n",
      "****************************************\n",
      "Minimizer is Linear / Migrad\n",
      "Chi2                      =      318.893\n",
      "NDf                       =           76\n",
      "p0                        =      198.291   +/-   2.34904     \n",
      "p1                        =    -0.280905   +/-   0.00705296  \n",
      "p2                        = -4.72577e-07   +/-   6.45625e-06 \n",
      "p3                        =  2.02919e-07   +/-   1.31882e-08 \n"
     ]
    },
    {
     "name": "stderr",
     "output_type": "stream",
     "text": [
      "Info in <TCanvas::MakeDefCanvas>:  created default TCanvas with name c1\n"
     ]
    }
   ],
   "source": [
    "g1 = TF1('g1', 'pol3', -900, 900)\n",
    "h.Fit(g1, 'R')\n",
    "par1 = g1.GetParameters()"
   ]
  },
  {
   "cell_type": "code",
   "execution_count": null,
   "metadata": {},
   "outputs": [],
   "source": [
    "def f(x, p0, p1, p2, p3):\n",
    "    return p0 + p1*x + p2*x**2 + p3*x**3\n",
    "\n",
    "def f2(x, p0, p1, p2):\n",
    "    return p0 + p1*x + p2*x**2"
   ]
  },
  {
   "cell_type": "code",
   "execution_count": null,
   "metadata": {},
   "outputs": [],
   "source": [
    "params = [par1[0], par1[1], par1[2], par1[3]]"
   ]
  },
  {
   "cell_type": "code",
   "execution_count": null,
   "metadata": {},
   "outputs": [
    {
     "data": {
      "text/plain": [
       "270.5316723825202"
      ]
     },
     "execution_count": 19,
     "metadata": {},
     "output_type": "execute_result"
    }
   ],
   "source": [
    "np.sum((h1n-f(bin_centres, *params))**2/h1n)"
   ]
  },
  {
   "cell_type": "code",
   "execution_count": null,
   "metadata": {},
   "outputs": [
    {
     "ename": "NameError",
     "evalue": "name 'plt' is not defined",
     "output_type": "error",
     "traceback": [
      "\u001b[0;31m---------------------------------------------------------------------------\u001b[0m",
      "\u001b[0;31mNameError\u001b[0m                                 Traceback (most recent call last)",
      "\u001b[0;32m/tmp/ipykernel_838348/907207658.py\u001b[0m in \u001b[0;36m<module>\u001b[0;34m\u001b[0m\n\u001b[0;32m----> 1\u001b[0;31m \u001b[0mfig\u001b[0m\u001b[0;34m,\u001b[0m \u001b[0max\u001b[0m \u001b[0;34m=\u001b[0m \u001b[0mplt\u001b[0m\u001b[0;34m.\u001b[0m\u001b[0msubplots\u001b[0m\u001b[0;34m(\u001b[0m\u001b[0;36m1\u001b[0m\u001b[0;34m,\u001b[0m \u001b[0;36m1\u001b[0m\u001b[0;34m)\u001b[0m\u001b[0;34m\u001b[0m\u001b[0;34m\u001b[0m\u001b[0m\n\u001b[0m\u001b[1;32m      2\u001b[0m \u001b[0max\u001b[0m\u001b[0;34m.\u001b[0m\u001b[0mset_title\u001b[0m\u001b[0;34m(\u001b[0m\u001b[0;34mf\"Background Mass Distribution\"\u001b[0m\u001b[0;34m)\u001b[0m\u001b[0;34m\u001b[0m\u001b[0;34m\u001b[0m\u001b[0m\n\u001b[1;32m      3\u001b[0m \u001b[0mhep\u001b[0m\u001b[0;34m.\u001b[0m\u001b[0mhistplot\u001b[0m\u001b[0;34m(\u001b[0m\u001b[0mh1\u001b[0m\u001b[0;34m,\u001b[0m \u001b[0mbins\u001b[0m\u001b[0;34m=\u001b[0m\u001b[0;34m(\u001b[0m\u001b[0mbins\u001b[0m\u001b[0;34m-\u001b[0m\u001b[0;36m5500\u001b[0m\u001b[0;34m)\u001b[0m\u001b[0;34m,\u001b[0m \u001b[0max\u001b[0m\u001b[0;34m=\u001b[0m\u001b[0max\u001b[0m\u001b[0;34m,\u001b[0m \u001b[0myerr\u001b[0m\u001b[0;34m=\u001b[0m\u001b[0;32mTrue\u001b[0m\u001b[0;34m,\u001b[0m \u001b[0mlabel\u001b[0m\u001b[0;34m=\u001b[0m\u001b[0;34m'Preselected'\u001b[0m\u001b[0;34m)\u001b[0m\u001b[0;34m\u001b[0m\u001b[0;34m\u001b[0m\u001b[0m\n\u001b[1;32m      4\u001b[0m \u001b[0max\u001b[0m\u001b[0;34m.\u001b[0m\u001b[0mplot\u001b[0m\u001b[0;34m(\u001b[0m\u001b[0mfunc_x\u001b[0m\u001b[0;34m,\u001b[0m \u001b[0mf\u001b[0m\u001b[0;34m(\u001b[0m\u001b[0mfunc_x\u001b[0m\u001b[0;34m,\u001b[0m \u001b[0;34m*\u001b[0m\u001b[0mparams\u001b[0m\u001b[0;34m)\u001b[0m\u001b[0;34m)\u001b[0m\u001b[0;34m\u001b[0m\u001b[0;34m\u001b[0m\u001b[0m\n\u001b[1;32m      5\u001b[0m \u001b[0;31m#ax.scatter(bin_centres, h1n, label='Scatter')\u001b[0m\u001b[0;34m\u001b[0m\u001b[0;34m\u001b[0m\u001b[0m\n",
      "\u001b[0;31mNameError\u001b[0m: name 'plt' is not defined"
     ]
    }
   ],
   "source": [
    "fig, ax = plt.subplots(1, 1)\n",
    "ax.set_title(f\"Background Mass Distribution\")\n",
    "hep.histplot(h1, bins=(bins-5500), ax=ax, yerr=True, label='Preselected')\n",
    "ax.plot(func_x, f(func_x, *params))\n",
    "#ax.scatter(bin_centres, h1n, label='Scatter')\n",
    "#ax.plot(func_x, linear(func_x, *popt1), label='Linear')\n",
    "#ax.plot(func_x, cubic(func_x, *popt2), label=r'Cubic $\\chi^2_{\\nu}=0.936$')\n",
    "#ax.fill_between(func_x, l3cubic, h3cubic, alpha=0.2, color='red', linewidth=0, label=r'$3\\sigma$')\n",
    "#ax.fill_between(func_x, lcubic, hcubic, alpha=0.4, color='orange', linewidth=0, label=r'$1\\sigma$')\n",
    "plt.ylabel('Candidates', horizontalalignment='right', y=1.0)\n",
    "plt.xlabel(r'Invariant Mass MeV$/c^2$', horizontalalignment='right', x=1.0)\n",
    "ax.legend()\n",
    "ax.set_ylim(0, 380)\n",
    "plt.tight_layout()\n",
    "plt.show()"
   ]
  }
 ],
 "metadata": {
  "interpreter": {
   "hash": "9ca4116ab2c7470d45496f3104a2f3648c94db730a0039ceabb3a0fb6fe42410"
  },
  "kernelspec": {
   "display_name": "Python 3.9.7 ('linux-64')",
   "language": "python",
   "name": "python3"
  },
  "language_info": {
   "codemirror_mode": {
    "name": "ipython",
    "version": 3
   },
   "file_extension": ".py",
   "mimetype": "text/x-python",
   "name": "python",
   "nbconvert_exporter": "python",
   "pygments_lexer": "ipython3",
   "version": "3.9.7"
  },
  "orig_nbformat": 4
 },
 "nbformat": 4,
 "nbformat_minor": 2
}
