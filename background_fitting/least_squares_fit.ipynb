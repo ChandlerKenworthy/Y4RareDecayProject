{
 "cells": [
  {
   "cell_type": "markdown",
   "metadata": {},
   "source": [
    "# Least-Squares Background Fitting\n",
    "We attempt to fit a range of polynomial functions to the background using a linear least-squares fitting routine as implemented by SciPy. This is a binned fitting routine. Optimised parameters are retained in this notebook and in the more general data directory."
   ]
  },
  {
   "cell_type": "code",
   "execution_count": 2,
   "metadata": {},
   "outputs": [],
   "source": [
    "import numpy as np\n",
    "from scipy.optimize import curve_fit\n",
    "import pandas as pd\n",
    "import matplotlib.pyplot as plt\n",
    "import mplhep as hep\n",
    "plt.style.use([hep.style.ROOT, hep.style.firamath])"
   ]
  },
  {
   "cell_type": "markdown",
   "metadata": {},
   "source": [
    "## Fetch Mass Distribution\n",
    "We need to construct an actual background mass distribution to fit from. We will use the background data as given in the real tuple and restrict the sidebands to the values the neural network is currently using. We will also want to try the optimisation using a variety of bin widths."
   ]
  },
  {
   "cell_type": "code",
   "execution_count": 3,
   "metadata": {},
   "outputs": [
    {
     "data": {
      "text/html": [
       "<div>\n",
       "<style scoped>\n",
       "    .dataframe tbody tr th:only-of-type {\n",
       "        vertical-align: middle;\n",
       "    }\n",
       "\n",
       "    .dataframe tbody tr th {\n",
       "        vertical-align: top;\n",
       "    }\n",
       "\n",
       "    .dataframe thead th {\n",
       "        text-align: right;\n",
       "    }\n",
       "</style>\n",
       "<table border=\"1\" class=\"dataframe\">\n",
       "  <thead>\n",
       "    <tr style=\"text-align: right;\">\n",
       "      <th></th>\n",
       "      <th>JPs_FD_ORIVX</th>\n",
       "      <th>LStar_ORIVX_CHI2</th>\n",
       "      <th>Lb_ENDVERTEX_CHI2</th>\n",
       "      <th>LN_Lb_IPCHI2_OWNPV</th>\n",
       "      <th>Lb_PT</th>\n",
       "      <th>LN_Lb_MINIPCHI2</th>\n",
       "      <th>LN_Lb_IP01</th>\n",
       "      <th>LN_Lb_IP23</th>\n",
       "      <th>LN_Lb_IP_OWNPV</th>\n",
       "      <th>p_TRACK_VeloCHI2NDOF</th>\n",
       "      <th>...</th>\n",
       "      <th>JPs_IP_TOPPV</th>\n",
       "      <th>LStar_IP_ORIVX</th>\n",
       "      <th>JPs_IP_ORIVX</th>\n",
       "      <th>LN_SUM_CONEISO</th>\n",
       "      <th>LN_SUM_IPCHI2</th>\n",
       "      <th>LN_COS_THETA</th>\n",
       "      <th>LN_COS_LBDIRA</th>\n",
       "      <th>Lb_M</th>\n",
       "      <th>IsSimulated</th>\n",
       "      <th>category</th>\n",
       "    </tr>\n",
       "  </thead>\n",
       "  <tbody>\n",
       "    <tr>\n",
       "      <th>0</th>\n",
       "      <td>0.484038</td>\n",
       "      <td>1.629828</td>\n",
       "      <td>1.629828</td>\n",
       "      <td>2.705390</td>\n",
       "      <td>5784.779630</td>\n",
       "      <td>2.705390</td>\n",
       "      <td>0.051043</td>\n",
       "      <td>-1.618633</td>\n",
       "      <td>-2.785129</td>\n",
       "      <td>0.258359</td>\n",
       "      <td>...</td>\n",
       "      <td>0.198220</td>\n",
       "      <td>0.010331</td>\n",
       "      <td>0.007463</td>\n",
       "      <td>-1.086965</td>\n",
       "      <td>6.527298</td>\n",
       "      <td>-6.054074</td>\n",
       "      <td>-0.777226</td>\n",
       "      <td>6345.360195</td>\n",
       "      <td>False</td>\n",
       "      <td>0</td>\n",
       "    </tr>\n",
       "    <tr>\n",
       "      <th>1</th>\n",
       "      <td>0.091063</td>\n",
       "      <td>28.351055</td>\n",
       "      <td>28.351055</td>\n",
       "      <td>0.462827</td>\n",
       "      <td>14080.746462</td>\n",
       "      <td>0.462827</td>\n",
       "      <td>-0.102404</td>\n",
       "      <td>-2.211085</td>\n",
       "      <td>-4.035469</td>\n",
       "      <td>0.683810</td>\n",
       "      <td>...</td>\n",
       "      <td>0.109607</td>\n",
       "      <td>0.066393</td>\n",
       "      <td>0.000706</td>\n",
       "      <td>-1.065188</td>\n",
       "      <td>5.274609</td>\n",
       "      <td>-4.810993</td>\n",
       "      <td>-0.777189</td>\n",
       "      <td>6039.345660</td>\n",
       "      <td>False</td>\n",
       "      <td>0</td>\n",
       "    </tr>\n",
       "    <tr>\n",
       "      <th>2</th>\n",
       "      <td>0.841387</td>\n",
       "      <td>22.296505</td>\n",
       "      <td>22.296505</td>\n",
       "      <td>0.410669</td>\n",
       "      <td>14432.943611</td>\n",
       "      <td>0.410669</td>\n",
       "      <td>-2.379339</td>\n",
       "      <td>-1.066316</td>\n",
       "      <td>-4.181809</td>\n",
       "      <td>0.438744</td>\n",
       "      <td>...</td>\n",
       "      <td>0.344258</td>\n",
       "      <td>0.017507</td>\n",
       "      <td>0.057614</td>\n",
       "      <td>-0.122136</td>\n",
       "      <td>7.035033</td>\n",
       "      <td>-5.366926</td>\n",
       "      <td>-0.777187</td>\n",
       "      <td>4731.626993</td>\n",
       "      <td>False</td>\n",
       "      <td>0</td>\n",
       "    </tr>\n",
       "    <tr>\n",
       "      <th>3</th>\n",
       "      <td>1.465618</td>\n",
       "      <td>5.756594</td>\n",
       "      <td>5.756594</td>\n",
       "      <td>3.198752</td>\n",
       "      <td>6061.485136</td>\n",
       "      <td>3.198752</td>\n",
       "      <td>-1.448551</td>\n",
       "      <td>-1.833423</td>\n",
       "      <td>-2.110772</td>\n",
       "      <td>0.712991</td>\n",
       "      <td>...</td>\n",
       "      <td>0.159840</td>\n",
       "      <td>0.043450</td>\n",
       "      <td>0.049073</td>\n",
       "      <td>-0.342112</td>\n",
       "      <td>5.353749</td>\n",
       "      <td>-7.864340</td>\n",
       "      <td>-0.777303</td>\n",
       "      <td>6106.264652</td>\n",
       "      <td>False</td>\n",
       "      <td>0</td>\n",
       "    </tr>\n",
       "    <tr>\n",
       "      <th>4</th>\n",
       "      <td>0.411388</td>\n",
       "      <td>31.774448</td>\n",
       "      <td>31.774448</td>\n",
       "      <td>2.975749</td>\n",
       "      <td>2233.814727</td>\n",
       "      <td>2.975749</td>\n",
       "      <td>-0.421157</td>\n",
       "      <td>-1.116130</td>\n",
       "      <td>-2.523012</td>\n",
       "      <td>1.378098</td>\n",
       "      <td>...</td>\n",
       "      <td>0.327540</td>\n",
       "      <td>0.124324</td>\n",
       "      <td>0.016389</td>\n",
       "      <td>-1.721648</td>\n",
       "      <td>7.041729</td>\n",
       "      <td>-7.433966</td>\n",
       "      <td>-0.777260</td>\n",
       "      <td>4867.267611</td>\n",
       "      <td>False</td>\n",
       "      <td>0</td>\n",
       "    </tr>\n",
       "  </tbody>\n",
       "</table>\n",
       "<p>5 rows × 26 columns</p>\n",
       "</div>"
      ],
      "text/plain": [
       "   JPs_FD_ORIVX  LStar_ORIVX_CHI2  Lb_ENDVERTEX_CHI2  LN_Lb_IPCHI2_OWNPV  \\\n",
       "0      0.484038          1.629828           1.629828            2.705390   \n",
       "1      0.091063         28.351055          28.351055            0.462827   \n",
       "2      0.841387         22.296505          22.296505            0.410669   \n",
       "3      1.465618          5.756594           5.756594            3.198752   \n",
       "4      0.411388         31.774448          31.774448            2.975749   \n",
       "\n",
       "          Lb_PT  LN_Lb_MINIPCHI2  LN_Lb_IP01  LN_Lb_IP23  LN_Lb_IP_OWNPV  \\\n",
       "0   5784.779630         2.705390    0.051043   -1.618633       -2.785129   \n",
       "1  14080.746462         0.462827   -0.102404   -2.211085       -4.035469   \n",
       "2  14432.943611         0.410669   -2.379339   -1.066316       -4.181809   \n",
       "3   6061.485136         3.198752   -1.448551   -1.833423       -2.110772   \n",
       "4   2233.814727         2.975749   -0.421157   -1.116130       -2.523012   \n",
       "\n",
       "   p_TRACK_VeloCHI2NDOF  ...  JPs_IP_TOPPV  LStar_IP_ORIVX  JPs_IP_ORIVX  \\\n",
       "0              0.258359  ...      0.198220        0.010331      0.007463   \n",
       "1              0.683810  ...      0.109607        0.066393      0.000706   \n",
       "2              0.438744  ...      0.344258        0.017507      0.057614   \n",
       "3              0.712991  ...      0.159840        0.043450      0.049073   \n",
       "4              1.378098  ...      0.327540        0.124324      0.016389   \n",
       "\n",
       "   LN_SUM_CONEISO  LN_SUM_IPCHI2  LN_COS_THETA  LN_COS_LBDIRA         Lb_M  \\\n",
       "0       -1.086965       6.527298     -6.054074      -0.777226  6345.360195   \n",
       "1       -1.065188       5.274609     -4.810993      -0.777189  6039.345660   \n",
       "2       -0.122136       7.035033     -5.366926      -0.777187  4731.626993   \n",
       "3       -0.342112       5.353749     -7.864340      -0.777303  6106.264652   \n",
       "4       -1.721648       7.041729     -7.433966      -0.777260  4867.267611   \n",
       "\n",
       "   IsSimulated  category  \n",
       "0        False         0  \n",
       "1        False         0  \n",
       "2        False         0  \n",
       "3        False         0  \n",
       "4        False         0  \n",
       "\n",
       "[5 rows x 26 columns]"
      ]
     },
     "execution_count": 3,
     "metadata": {},
     "output_type": "execute_result"
    }
   ],
   "source": [
    "df = pd.read_csv('../data_files/9.1.4/all.csv', index_col=[0])\n",
    "# 9.1.4 : Pre + (mass restrict +- 600 MeV)\n",
    "df = df[df['category'] == 0]\n",
    "df = df[df['IsSimulated'] == False]\n",
    "df.head()"
   ]
  },
  {
   "cell_type": "code",
   "execution_count": 4,
   "metadata": {},
   "outputs": [],
   "source": [
    "df2 = pd.read_csv('../data_files/9.1.1/all.csv', index_col=[0])\n",
    "# 9.1.1 : mass restrict +- 600 MeV\n",
    "df2 = df2[df2['category'] == 0]\n",
    "df2 = df2[df2['IsSimulated'] == False]"
   ]
  },
  {
   "cell_type": "markdown",
   "metadata": {},
   "source": [
    "## Bin the Distribution\n",
    "Now that we have a dataframe with all the background events we care about it is now prudent to fit our background functions to this. Before doing this these data should be put into bins. The value of bins is variable and will affect the final fit. For this reason we choose the finest bin structure possible."
   ]
  },
  {
   "cell_type": "code",
   "execution_count": 5,
   "metadata": {},
   "outputs": [],
   "source": [
    "m1 = df['Lb_M'].to_numpy()\n",
    "m2 = df2['Lb_M'].to_numpy()\n",
    "# Only keep background events"
   ]
  },
  {
   "cell_type": "markdown",
   "metadata": {},
   "source": [
    "## Visual Analysis\n",
    "The best way to get a feel for these data is to do an initial visual analysis. We can do this by plotting the mass distribution and seeing what sort of shape it seems to take. We might normally expect a combinatorial background to be exponentially decaying excluding any resonances."
   ]
  },
  {
   "cell_type": "code",
   "execution_count": 6,
   "metadata": {},
   "outputs": [
    {
     "data": {
      "image/png": "[encoded data removed]",
      "text/plain": [
       "<Figure size 720x720 with 1 Axes>"
      ]
     },
     "metadata": {
      "needs_background": "light"
     },
     "output_type": "display_data"
    }
   ],
   "source": [
    "bins = np.concatenate([np.linspace(4600, 5200, 41), np.linspace(5800, 6400, 41)])\n",
    "\n",
    "h1, _ = np.histogram(m1, bins=bins)\n",
    "h2, _ = np.histogram(m2, bins=bins)\n",
    "\n",
    "fig, ax = plt.subplots(1, 1)\n",
    "ax.set_title(f\"Background Mass Distribution\")\n",
    "hep.histplot([h2, h1], bins, ax=ax, yerr=True, label=['No Preselection', 'Preselection'])\n",
    "#ax.hist(df['Lb_M'], bins=blocks, label='Bayesian Blocks', histtype='step')\n",
    "plt.ylabel('Candidates', horizontalalignment='right', y=1.0)\n",
    "plt.xlabel(r'Invariant Mass MeV$/c^2$', horizontalalignment='right', x=1.0)\n",
    "ax.legend()\n",
    "plt.tight_layout()\n",
    "plt.savefig('../images/BackgroundFits/Mass_Distribution.png', dpi=800)\n",
    "plt.show()"
   ]
  },
  {
   "cell_type": "markdown",
   "metadata": {},
   "source": [
    "## Fitting Polynomials"
   ]
  },
  {
   "cell_type": "code",
   "execution_count": 7,
   "metadata": {},
   "outputs": [],
   "source": [
    "bin_width = bins[1]-bins[0]\n",
    "func_x = np.linspace(4600-5500, 6400-5500, 500)\n",
    "\n",
    "# Find the scatter position of all the bin/frequency pairs\n",
    "bin_centres = np.array([np.mean(bins[i:i+2]) for i in range(len(bins)-1)])-5500\n",
    "bin_centres = np.delete(bin_centres, 40) # Remove the rogue middle bin\n",
    "h1n = np.array([i for i in h1 if i > 0])"
   ]
  },
  {
   "cell_type": "code",
   "execution_count": 39,
   "metadata": {},
   "outputs": [],
   "source": [
    "def linear(x, a, b):\n",
    "    return a*x + b\n",
    "\n",
    "def exp_decay(x, a, b, c):\n",
    "    return np.exp(-(a*(x-b))) + c\n",
    "\n",
    "def logarithm(x, a, b, c):\n",
    "    return -b*np.log(x-a) + c\n",
    "\n",
    "def quadratic(x, a, b, c):\n",
    "    return a*x**2 + b*x + c\n",
    "\n",
    "def cubic(x, a, b, c, d):\n",
    "    return a*x**3 + b*x**2 + c*x + d"
   ]
  },
  {
   "cell_type": "code",
   "execution_count": 40,
   "metadata": {},
   "outputs": [],
   "source": [
    "popt1, pcov1 = curve_fit(linear, bin_centres, h1n, [-0.15, 200], np.sqrt(h1n), absolute_sigma=True)\n",
    "popt2, pcov2 = curve_fit(cubic, bin_centres, h1n, [1, 1, 1, 1], np.sqrt(h1n), absolute_sigma=True)"
   ]
  },
  {
   "cell_type": "code",
   "execution_count": 41,
   "metadata": {},
   "outputs": [],
   "source": [
    "err = np.sqrt(np.diag(pcov2))\n",
    "\n",
    "#lcubic = cubic(func_x, popt2[0]-err[0], popt2[1]-err[1], popt2[2]-err[2], popt2[3]-err[3])\n",
    "#hcubic = cubic(func_x, popt2[0]+err[0], popt2[1]+err[1], popt2[2]+err[2], popt2[3]+err[3])"
   ]
  },
  {
   "cell_type": "code",
   "execution_count": 42,
   "metadata": {},
   "outputs": [
    {
     "data": {
      "text/plain": [
       "array([ 9.25454622e-08, -1.95491716e-05, -2.08072140e-01,  2.08896705e+02])"
      ]
     },
     "execution_count": 42,
     "metadata": {},
     "output_type": "execute_result"
    }
   ],
   "source": [
    "popt2"
   ]
  },
  {
   "cell_type": "code",
   "execution_count": 43,
   "metadata": {},
   "outputs": [
    {
     "data": {
      "image/png": "[encoded data removed]",
      "text/plain": [
       "<Figure size 720x720 with 1 Axes>"
      ]
     },
     "metadata": {
      "needs_background": "light"
     },
     "output_type": "display_data"
    }
   ],
   "source": [
    "fig, ax = plt.subplots(1, 1)\n",
    "ax.set_title(f\"Background Mass Distribution\")\n",
    "hep.histplot(h1, bins=(bins-5500), ax=ax, yerr=True, label='Preselected')\n",
    "#ax.scatter(bin_centres, h1n, label='Scatter')\n",
    "#ax.plot(func_x, linear(func_x, *popt1), label='Linear')\n",
    "ax.plot(func_x, cubic(func_x, *popt2), label=r'Cubic $\\chi^2_{\\nu}=0.923$')\n",
    "#ax.fill_between(func_x, lcubic, hcubic, alpha=0.4, color='orange', linewidth=0, label=r'$1\\sigma$')\n",
    "plt.ylabel('Candidates', horizontalalignment='right', y=1.0)\n",
    "plt.xlabel(r'Invariant Mass MeV$/c^2$', horizontalalignment='right', x=1.0)\n",
    "ax.legend()\n",
    "ax.set_ylim(0, 380)\n",
    "plt.tight_layout()\n",
    "#plt.savefig('../images/BackgroundFits/Preselected_Cubic_Fit.png', dpi=800)\n",
    "plt.show()"
   ]
  },
  {
   "cell_type": "code",
   "execution_count": 44,
   "metadata": {},
   "outputs": [
    {
     "name": "stdout",
     "output_type": "stream",
     "text": [
      "Value: 9.254546221042552e-08 +- 1.239558513524568e-08\n",
      "Value: -1.954917162621531e-05 +- 7.540192312802521e-06\n",
      "Value: -0.20807214015665842 +- 0.006750097880315321\n",
      "Value: 208.8967046045883 +- 3.36945754981659\n"
     ]
    }
   ],
   "source": [
    "for j, i in enumerate(popt2):\n",
    "    print(f\"Value: {i} +- {err[j]}\")"
   ]
  },
  {
   "cell_type": "code",
   "execution_count": null,
   "metadata": {},
   "outputs": [],
   "source": []
  },
  {
   "cell_type": "code",
   "execution_count": 37,
   "metadata": {},
   "outputs": [
    {
     "data": {
      "text/plain": [
       "KstestResult(statistic=0.1375, pvalue=0.4382622708472999)"
      ]
     },
     "execution_count": 37,
     "metadata": {},
     "output_type": "execute_result"
    }
   ],
   "source": [
    "from scipy.stats import ks_2samp\n",
    "\n",
    "ks_2samp(cubic(bin_centres, *popt2), h1n)"
   ]
  },
  {
   "cell_type": "code",
   "execution_count": 38,
   "metadata": {},
   "outputs": [
    {
     "data": {
      "text/plain": [
       "0.9232692383270654"
      ]
     },
     "execution_count": 38,
     "metadata": {},
     "output_type": "execute_result"
    }
   ],
   "source": [
    "chisq = np.sum((h1n-cubic(bin_centres, *popt2))**2/h1n)\n",
    "chisq/(len(h1n)-4)"
   ]
  },
  {
   "cell_type": "markdown",
   "metadata": {},
   "source": [
    "## ROOT Fitting"
   ]
  },
  {
   "cell_type": "code",
   "execution_count": 14,
   "metadata": {},
   "outputs": [
    {
     "name": "stdout",
     "output_type": "stream",
     "text": [
      "Welcome to JupyROOT 6.24/06\n"
     ]
    }
   ],
   "source": [
    "from ROOT import TH1F, TF1"
   ]
  },
  {
   "cell_type": "code",
   "execution_count": 15,
   "metadata": {},
   "outputs": [],
   "source": [
    "h = TH1F('h', 'Mass Distribution', len(h1n), -900, 900)\n",
    "for i, j in enumerate(h1n):\n",
    "    h.SetBinContent(i+1, j)"
   ]
  },
  {
   "cell_type": "code",
   "execution_count": 16,
   "metadata": {},
   "outputs": [
    {
     "name": "stdout",
     "output_type": "stream",
     "text": [
      "\n",
      "****************************************\n",
      "Minimizer is Linear / Migrad\n",
      "Chi2                      =      318.893\n",
      "NDf                       =           76\n",
      "p0                        =      198.291   +/-   2.34904     \n",
      "p1                        =    -0.280905   +/-   0.00705296  \n",
      "p2                        = -4.72577e-07   +/-   6.45625e-06 \n",
      "p3                        =  2.02919e-07   +/-   1.31882e-08 \n"
     ]
    },
    {
     "name": "stderr",
     "output_type": "stream",
     "text": [
      "Info in <TCanvas::MakeDefCanvas>:  created default TCanvas with name c1\n"
     ]
    }
   ],
   "source": [
    "g1 = TF1('g1', 'pol3', -900, 900)\n",
    "h.Fit(g1, 'R')\n",
    "par1 = g1.GetParameters()"
   ]
  },
  {
   "cell_type": "code",
   "execution_count": 18,
   "metadata": {},
   "outputs": [],
   "source": [
    "def f(x, p0, p1, p2, p3):\n",
    "    return p0 + p1*x + p2*x**2 + p3*x**3\n",
    "\n",
    "def f2(x, p0, p1, p2):\n",
    "    return p0 + p1*x + p2*x**2"
   ]
  },
  {
   "cell_type": "code",
   "execution_count": 17,
   "metadata": {},
   "outputs": [],
   "source": [
    "params = [par1[0], par1[1], par1[2], par1[3]]"
   ]
  },
  {
   "cell_type": "code",
   "execution_count": 19,
   "metadata": {},
   "outputs": [
    {
     "data": {
      "text/plain": [
       "270.5316723825202"
      ]
     },
     "execution_count": 19,
     "metadata": {},
     "output_type": "execute_result"
    }
   ],
   "source": [
    "np.sum((h1n-f(bin_centres, *params))**2/h1n)"
   ]
  },
  {
   "cell_type": "code",
   "execution_count": 1,
   "metadata": {},
   "outputs": [
    {
     "ename": "NameError",
     "evalue": "name 'plt' is not defined",
     "output_type": "error",
     "traceback": [
      "\u001b[0;31m---------------------------------------------------------------------------\u001b[0m",
      "\u001b[0;31mNameError\u001b[0m                                 Traceback (most recent call last)",
      "\u001b[0;32m/tmp/ipykernel_838348/907207658.py\u001b[0m in \u001b[0;36m<module>\u001b[0;34m\u001b[0m\n\u001b[0;32m----> 1\u001b[0;31m \u001b[0mfig\u001b[0m\u001b[0;34m,\u001b[0m \u001b[0max\u001b[0m \u001b[0;34m=\u001b[0m \u001b[0mplt\u001b[0m\u001b[0;34m.\u001b[0m\u001b[0msubplots\u001b[0m\u001b[0;34m(\u001b[0m\u001b[0;36m1\u001b[0m\u001b[0;34m,\u001b[0m \u001b[0;36m1\u001b[0m\u001b[0;34m)\u001b[0m\u001b[0;34m\u001b[0m\u001b[0;34m\u001b[0m\u001b[0m\n\u001b[0m\u001b[1;32m      2\u001b[0m \u001b[0max\u001b[0m\u001b[0;34m.\u001b[0m\u001b[0mset_title\u001b[0m\u001b[0;34m(\u001b[0m\u001b[0;34mf\"Background Mass Distribution\"\u001b[0m\u001b[0;34m)\u001b[0m\u001b[0;34m\u001b[0m\u001b[0;34m\u001b[0m\u001b[0m\n\u001b[1;32m      3\u001b[0m \u001b[0mhep\u001b[0m\u001b[0;34m.\u001b[0m\u001b[0mhistplot\u001b[0m\u001b[0;34m(\u001b[0m\u001b[0mh1\u001b[0m\u001b[0;34m,\u001b[0m \u001b[0mbins\u001b[0m\u001b[0;34m=\u001b[0m\u001b[0;34m(\u001b[0m\u001b[0mbins\u001b[0m\u001b[0;34m-\u001b[0m\u001b[0;36m5500\u001b[0m\u001b[0;34m)\u001b[0m\u001b[0;34m,\u001b[0m \u001b[0max\u001b[0m\u001b[0;34m=\u001b[0m\u001b[0max\u001b[0m\u001b[0;34m,\u001b[0m \u001b[0myerr\u001b[0m\u001b[0;34m=\u001b[0m\u001b[0;32mTrue\u001b[0m\u001b[0;34m,\u001b[0m \u001b[0mlabel\u001b[0m\u001b[0;34m=\u001b[0m\u001b[0;34m'Preselected'\u001b[0m\u001b[0;34m)\u001b[0m\u001b[0;34m\u001b[0m\u001b[0;34m\u001b[0m\u001b[0m\n\u001b[1;32m      4\u001b[0m \u001b[0max\u001b[0m\u001b[0;34m.\u001b[0m\u001b[0mplot\u001b[0m\u001b[0;34m(\u001b[0m\u001b[0mfunc_x\u001b[0m\u001b[0;34m,\u001b[0m \u001b[0mf\u001b[0m\u001b[0;34m(\u001b[0m\u001b[0mfunc_x\u001b[0m\u001b[0;34m,\u001b[0m \u001b[0;34m*\u001b[0m\u001b[0mparams\u001b[0m\u001b[0;34m)\u001b[0m\u001b[0;34m)\u001b[0m\u001b[0;34m\u001b[0m\u001b[0;34m\u001b[0m\u001b[0m\n\u001b[1;32m      5\u001b[0m \u001b[0;31m#ax.scatter(bin_centres, h1n, label='Scatter')\u001b[0m\u001b[0;34m\u001b[0m\u001b[0;34m\u001b[0m\u001b[0m\n",
      "\u001b[0;31mNameError\u001b[0m: name 'plt' is not defined"
     ]
    }
   ],
   "source": [
    "fig, ax = plt.subplots(1, 1)\n",
    "ax.set_title(f\"Background Mass Distribution\")\n",
    "hep.histplot(h1, bins=(bins-5500), ax=ax, yerr=True, label='Preselected')\n",
    "ax.plot(func_x, f(func_x, *params))\n",
    "#ax.scatter(bin_centres, h1n, label='Scatter')\n",
    "#ax.plot(func_x, linear(func_x, *popt1), label='Linear')\n",
    "#ax.plot(func_x, cubic(func_x, *popt2), label=r'Cubic $\\chi^2_{\\nu}=0.936$')\n",
    "#ax.fill_between(func_x, l3cubic, h3cubic, alpha=0.2, color='red', linewidth=0, label=r'$3\\sigma$')\n",
    "#ax.fill_between(func_x, lcubic, hcubic, alpha=0.4, color='orange', linewidth=0, label=r'$1\\sigma$')\n",
    "plt.ylabel('Candidates', horizontalalignment='right', y=1.0)\n",
    "plt.xlabel(r'Invariant Mass MeV$/c^2$', horizontalalignment='right', x=1.0)\n",
    "ax.legend()\n",
    "ax.set_ylim(0, 380)\n",
    "plt.tight_layout()\n",
    "plt.show()"
   ]
  }
 ],
 "metadata": {
  "interpreter": {
   "hash": "9ca4116ab2c7470d45496f3104a2f3648c94db730a0039ceabb3a0fb6fe42410"
  },
  "kernelspec": {
   "display_name": "Python 3.9.7 ('linux-64')",
   "language": "python",
   "name": "python3"
  },
  "language_info": {
   "codemirror_mode": {
    "name": "ipython",
    "version": 3
   },
   "file_extension": ".py",
   "mimetype": "text/x-python",
   "name": "python",
   "nbconvert_exporter": "python",
   "pygments_lexer": "ipython3",
   "version": "3.9.7"
  },
  "orig_nbformat": 4
 },
 "nbformat": 4,
 "nbformat_minor": 2
}
