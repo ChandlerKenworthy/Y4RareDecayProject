{
 "cells": [
  {
   "cell_type": "markdown",
   "metadata": {},
   "source": [
    "# Least-Squares Background Fitting\n",
    "We attempt to fit a range of polynomial functions to the background using a linear least-squares fitting routine as implemented by SciPy. This is a binned fitting routine. Optimised parameters are retained in this notebook and in the more general data directory."
   ]
  },
  {
   "cell_type": "code",
   "execution_count": 65,
   "metadata": {},
   "outputs": [],
   "source": [
    "import numpy as np\n",
    "from scipy.optimize import curve_fit\n",
    "import pandas\n",
    "import matplotlib.pyplot as plt\n",
    "from matplotlib.ticker import AutoMinorLocator\n",
    "import sys\n",
    "sys.path.append('../')\n",
    "from dataflow import Flow"
   ]
  },
  {
   "cell_type": "code",
   "execution_count": 66,
   "metadata": {},
   "outputs": [],
   "source": [
    "NBINS = 100"
   ]
  },
  {
   "cell_type": "markdown",
   "metadata": {},
   "source": [
    "## Fetch Mass Distribution\n",
    "We need to construct an actual background mass distribution to fit from. We will use the background data as given in the real tuple and restrict the sidebands to the values the neural network is currently using. We will also want to try the optimisation using a variety of bin widths."
   ]
  },
  {
   "cell_type": "code",
   "execution_count": 67,
   "metadata": {},
   "outputs": [
    {
     "name": "stdout",
     "output_type": "stream",
     "text": [
      "WARN: The dataframes are empty or pre-selection has not been applied\n",
      "WARN: Attempting empty preselection and recombination\n",
      "INFO: Removing events with missing values...\n",
      "INFO: 0 background and 0 signal events were removed\n"
     ]
    }
   ],
   "source": [
    "sname = \"/disk/moose/lhcb/djdt/Lb2L1520mueTuples/MC/2016MD/fullSampleOct2021/job207-CombDVntuple-15314000-MC2016MD_Full-pKmue-MC.root\"\n",
    "fname = \"/disk/moose/lhcb/djdt/Lb2L1520mueTuples/realData/2016MD/halfSampleOct2021/blindedTriggeredL1520Selec-collision-firstHalf2016MD-pKmue_Fullv9.root\"\n",
    "\n",
    "my_flow = Flow(['Lb_M'], sname, fname, common_features_fname='../code/common_features')\n",
    "df = my_flow.get_combined_data()"
   ]
  },
  {
   "cell_type": "code",
   "execution_count": 68,
   "metadata": {},
   "outputs": [],
   "source": [
    "background_data = df[df['category'] == 0].copy()\n",
    "# Select all the background events, this includes some simulated Monte-Carlo data\n",
    "\n",
    "background_data.drop(['category'], axis=1, inplace=True)\n",
    "# Remove the now defunct column of category\n",
    "\n",
    "background_data = background_data[background_data['Lb_M'].between(4500, 5200) | background_data['Lb_M'].between(5800, 6500)]\n",
    "# Restrict the mass sidebands to that used by the neural network and quoted by Dan"
   ]
  },
  {
   "cell_type": "markdown",
   "metadata": {},
   "source": [
    "## Bin the Distribution\n",
    "Now that we have a dataframe with all the background events we care about it is now prudent to fit our background functions to this. Before doing this these data should be put into bins. The value of bins is variable and will affect the final fit. For this reason we choose the finest bin structure possible."
   ]
  },
  {
   "cell_type": "code",
   "execution_count": 69,
   "metadata": {},
   "outputs": [],
   "source": [
    "background_data = background_data.to_numpy().flatten()\n",
    "# Take the dataframe and make into a flat 1D array"
   ]
  },
  {
   "cell_type": "code",
   "execution_count": 88,
   "metadata": {},
   "outputs": [],
   "source": [
    "\n",
    "bins = np.linspace(np.min(background_data), np.max(background_data), NBINS+1)\n",
    "bin_width = bins[1] - bins[0]\n",
    "bin_centres = np.array([np.mean(bins[i:i+2]) for i in range(len(bins)-1)])\n",
    "\n",
    "freqs, _ = np.histogram(background_data, bins)\n",
    "# Use a normalised histogram to avoid enormous values as polynomial coefficients\n",
    "\n",
    "data = np.array([bin_centres, freqs, np.sqrt(freqs)]).T\n",
    "# Combine the bin centres, frequencies and error on these frequencies into a larger array\n",
    "\n",
    "data = data[np.where(data[:,1] != 0), :].squeeze()\n",
    "data = np.delete(data, [34, 35], axis=0)\n",
    "# Remove all the empty bins and the 'edge' bins"
   ]
  },
  {
   "cell_type": "markdown",
   "metadata": {},
   "source": [
    "## Visual Analysis\n",
    "The best way to get a feel for these data is to do an initial visual analysis. We can do this by plotting the mass distribution and seeing what sort of shape it seems to take. We might normally expect a combinatorial background to be exponentially decaying excluding any resonances."
   ]
  },
  {
   "cell_type": "code",
   "execution_count": 89,
   "metadata": {},
   "outputs": [
    {
     "data": {
      "image/png": "[encoded data removed]",
      "text/plain": [
       "<Figure size 648x576 with 1 Axes>"
      ]
     },
     "metadata": {
      "needs_background": "light"
     },
     "output_type": "display_data"
    }
   ],
   "source": [
    "fig, ax = plt.subplots(1, 1, figsize=(9, 8))\n",
    "ax.xaxis.set_minor_locator(AutoMinorLocator())\n",
    "ax.yaxis.set_minor_locator(AutoMinorLocator())\n",
    "fonts = {'fontname':'Arial'}\n",
    "\n",
    "ax.bar(data[:,0], data[:,1], width=bin_width, yerr=data[:,2], label='Background', edgecolor='k')\n",
    "\n",
    "plt.ylabel('Normalised Frequency', horizontalalignment='right', y=1.0, fontsize=14, **fonts)\n",
    "plt.xlabel(r'Invariant Mass MeV$/c^2$', horizontalalignment='right', x=1.0, fontsize=14, **fonts)\n",
    "plt.legend(loc='upper right', ncol=1, fancybox=False, shadow=True, frameon=False)\n",
    "plt.show()"
   ]
  },
  {
   "cell_type": "markdown",
   "metadata": {},
   "source": [
    "## Fitting Polynomials"
   ]
  }
 ],
 "metadata": {
  "interpreter": {
   "hash": "9ca4116ab2c7470d45496f3104a2f3648c94db730a0039ceabb3a0fb6fe42410"
  },
  "kernelspec": {
   "display_name": "Python 3.9.7 ('linux-64')",
   "language": "python",
   "name": "python3"
  },
  "language_info": {
   "codemirror_mode": {
    "name": "ipython",
    "version": 3
   },
   "file_extension": ".py",
   "mimetype": "text/x-python",
   "name": "python",
   "nbconvert_exporter": "python",
   "pygments_lexer": "ipython3",
   "version": "3.9.7"
  },
  "orig_nbformat": 4
 },
 "nbformat": 4,
 "nbformat_minor": 2
}
