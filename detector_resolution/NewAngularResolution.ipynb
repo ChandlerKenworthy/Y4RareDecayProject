{
 "cells": [
  {
   "cell_type": "markdown",
   "metadata": {},
   "source": [
    "# Angular Resolution\n",
    "In this notebook we find the resolution as a function of polar angle from the beam's axis for the LHCb using the simulated data tuple."
   ]
  },
  {
   "cell_type": "code",
   "execution_count": 1,
   "metadata": {},
   "outputs": [],
   "source": [
    "import pandas as pd\n",
    "import numpy as np\n",
    "import uproot as up\n",
    "import matplotlib.pyplot as plt\n",
    "import mplhep as hep\n",
    "plt.style.use([hep.style.ROOT, hep.style.firamath])\n",
    "np.random.seed(0)\n",
    "# Set random seed for reproducibility"
   ]
  },
  {
   "cell_type": "code",
   "execution_count": 2,
   "metadata": {},
   "outputs": [
    {
     "data": {
      "text/html": [
       "<div>\n",
       "<style scoped>\n",
       "    .dataframe tbody tr th:only-of-type {\n",
       "        vertical-align: middle;\n",
       "    }\n",
       "\n",
       "    .dataframe tbody tr th {\n",
       "        vertical-align: top;\n",
       "    }\n",
       "\n",
       "    .dataframe thead th {\n",
       "        text-align: right;\n",
       "    }\n",
       "</style>\n",
       "<table border=\"1\" class=\"dataframe\">\n",
       "  <thead>\n",
       "    <tr style=\"text-align: right;\">\n",
       "      <th></th>\n",
       "      <th>Lb_BKGCAT</th>\n",
       "      <th>L1_TRUEP_Z</th>\n",
       "      <th>L1_PZ</th>\n",
       "      <th>L1_TRUEPT</th>\n",
       "      <th>L1_PT</th>\n",
       "    </tr>\n",
       "    <tr>\n",
       "      <th>eventNumber</th>\n",
       "      <th></th>\n",
       "      <th></th>\n",
       "      <th></th>\n",
       "      <th></th>\n",
       "      <th></th>\n",
       "    </tr>\n",
       "  </thead>\n",
       "  <tbody>\n",
       "    <tr>\n",
       "      <th>877549</th>\n",
       "      <td>60</td>\n",
       "      <td>47461.28</td>\n",
       "      <td>47544.18</td>\n",
       "      <td>3713.565152</td>\n",
       "      <td>3717.480348</td>\n",
       "    </tr>\n",
       "    <tr>\n",
       "      <th>933189</th>\n",
       "      <td>10</td>\n",
       "      <td>4919.48</td>\n",
       "      <td>4919.71</td>\n",
       "      <td>604.577778</td>\n",
       "      <td>604.768231</td>\n",
       "    </tr>\n",
       "    <tr>\n",
       "      <th>256342</th>\n",
       "      <td>10</td>\n",
       "      <td>40516.24</td>\n",
       "      <td>40396.52</td>\n",
       "      <td>1135.402885</td>\n",
       "      <td>1124.845719</td>\n",
       "    </tr>\n",
       "    <tr>\n",
       "      <th>1271785</th>\n",
       "      <td>10</td>\n",
       "      <td>14522.33</td>\n",
       "      <td>14572.18</td>\n",
       "      <td>2643.348052</td>\n",
       "      <td>2649.853279</td>\n",
       "    </tr>\n",
       "    <tr>\n",
       "      <th>127625</th>\n",
       "      <td>60</td>\n",
       "      <td>43011.44</td>\n",
       "      <td>42988.77</td>\n",
       "      <td>1586.164024</td>\n",
       "      <td>1585.569023</td>\n",
       "    </tr>\n",
       "  </tbody>\n",
       "</table>\n",
       "</div>"
      ],
      "text/plain": [
       "             Lb_BKGCAT  L1_TRUEP_Z     L1_PZ    L1_TRUEPT        L1_PT\n",
       "eventNumber                                                           \n",
       "877549              60    47461.28  47544.18  3713.565152  3717.480348\n",
       "933189              10     4919.48   4919.71   604.577778   604.768231\n",
       "256342              10    40516.24  40396.52  1135.402885  1124.845719\n",
       "1271785             10    14522.33  14572.18  2643.348052  2649.853279\n",
       "127625              60    43011.44  42988.77  1586.164024  1585.569023"
      ]
     },
     "execution_count": 2,
     "metadata": {},
     "output_type": "execute_result"
    }
   ],
   "source": [
    "sname = \"/disk/moose/lhcb/djdt/Lb2L1520mueTuples/MC/2016MD/fullSampleOct2021/job207-CombDVntuple-15314000-MC2016MD_Full-pKmue-MC.root\"\n",
    "lepton = 'L1'\n",
    "\n",
    "fts = ['Lb_BKGCAT', f'{lepton}_TRUEP_Z', f'{lepton}_PZ', f'{lepton}_TRUEPT', f'{lepton}_PT']\n",
    "\n",
    "with up.open(sname + \":DTT1520me/DecayTree\") as f:\n",
    "    df = f.arrays([\"eventNumber\"] + fts, library='pd')\n",
    "    df.set_index(\"eventNumber\", inplace=True)\n",
    "    df = df.sample(frac=1, random_state=0)\n",
    "    df = df[~df.index.duplicated(keep='first')]\n",
    "\n",
    "df.head()"
   ]
  },
  {
   "cell_type": "markdown",
   "metadata": {},
   "source": [
    "## Make Angular Features"
   ]
  },
  {
   "cell_type": "code",
   "execution_count": 3,
   "metadata": {},
   "outputs": [
    {
     "data": {
      "text/html": [
       "<div>\n",
       "<style scoped>\n",
       "    .dataframe tbody tr th:only-of-type {\n",
       "        vertical-align: middle;\n",
       "    }\n",
       "\n",
       "    .dataframe tbody tr th {\n",
       "        vertical-align: top;\n",
       "    }\n",
       "\n",
       "    .dataframe thead th {\n",
       "        text-align: right;\n",
       "    }\n",
       "</style>\n",
       "<table border=\"1\" class=\"dataframe\">\n",
       "  <thead>\n",
       "    <tr style=\"text-align: right;\">\n",
       "      <th></th>\n",
       "      <th>Lb_BKGCAT</th>\n",
       "      <th>L1_TRUEP_Z</th>\n",
       "      <th>L1_PZ</th>\n",
       "      <th>L1_TRUEPT</th>\n",
       "      <th>L1_PT</th>\n",
       "    </tr>\n",
       "    <tr>\n",
       "      <th>eventNumber</th>\n",
       "      <th></th>\n",
       "      <th></th>\n",
       "      <th></th>\n",
       "      <th></th>\n",
       "      <th></th>\n",
       "    </tr>\n",
       "  </thead>\n",
       "  <tbody>\n",
       "    <tr>\n",
       "      <th>933189</th>\n",
       "      <td>10</td>\n",
       "      <td>4919.48</td>\n",
       "      <td>4919.71</td>\n",
       "      <td>604.577778</td>\n",
       "      <td>604.768231</td>\n",
       "    </tr>\n",
       "    <tr>\n",
       "      <th>256342</th>\n",
       "      <td>10</td>\n",
       "      <td>40516.24</td>\n",
       "      <td>40396.52</td>\n",
       "      <td>1135.402885</td>\n",
       "      <td>1124.845719</td>\n",
       "    </tr>\n",
       "    <tr>\n",
       "      <th>1271785</th>\n",
       "      <td>10</td>\n",
       "      <td>14522.33</td>\n",
       "      <td>14572.18</td>\n",
       "      <td>2643.348052</td>\n",
       "      <td>2649.853279</td>\n",
       "    </tr>\n",
       "    <tr>\n",
       "      <th>937680</th>\n",
       "      <td>10</td>\n",
       "      <td>89979.74</td>\n",
       "      <td>89598.83</td>\n",
       "      <td>1855.074744</td>\n",
       "      <td>1857.516140</td>\n",
       "    </tr>\n",
       "    <tr>\n",
       "      <th>1059409</th>\n",
       "      <td>10</td>\n",
       "      <td>26607.10</td>\n",
       "      <td>26812.16</td>\n",
       "      <td>3453.442690</td>\n",
       "      <td>3481.804835</td>\n",
       "    </tr>\n",
       "  </tbody>\n",
       "</table>\n",
       "</div>"
      ],
      "text/plain": [
       "             Lb_BKGCAT  L1_TRUEP_Z     L1_PZ    L1_TRUEPT        L1_PT\n",
       "eventNumber                                                           \n",
       "933189              10     4919.48   4919.71   604.577778   604.768231\n",
       "256342              10    40516.24  40396.52  1135.402885  1124.845719\n",
       "1271785             10    14522.33  14572.18  2643.348052  2649.853279\n",
       "937680              10    89979.74  89598.83  1855.074744  1857.516140\n",
       "1059409             10    26607.10  26812.16  3453.442690  3481.804835"
      ]
     },
     "execution_count": 3,
     "metadata": {},
     "output_type": "execute_result"
    }
   ],
   "source": [
    "# First remove non-signal candidate events\n",
    "df = df[df['Lb_BKGCAT'].isin([10, 50])]\n",
    "df.head()"
   ]
  },
  {
   "cell_type": "code",
   "execution_count": 4,
   "metadata": {},
   "outputs": [
    {
     "data": {
      "text/html": [
       "<div>\n",
       "<style scoped>\n",
       "    .dataframe tbody tr th:only-of-type {\n",
       "        vertical-align: middle;\n",
       "    }\n",
       "\n",
       "    .dataframe tbody tr th {\n",
       "        vertical-align: top;\n",
       "    }\n",
       "\n",
       "    .dataframe thead th {\n",
       "        text-align: right;\n",
       "    }\n",
       "</style>\n",
       "<table border=\"1\" class=\"dataframe\">\n",
       "  <thead>\n",
       "    <tr style=\"text-align: right;\">\n",
       "      <th></th>\n",
       "      <th>Lb_BKGCAT</th>\n",
       "      <th>L1_TRUEP_Z</th>\n",
       "      <th>L1_PZ</th>\n",
       "      <th>L1_TRUEPT</th>\n",
       "      <th>L1_PT</th>\n",
       "      <th>L1_P</th>\n",
       "      <th>L1_TRUEP</th>\n",
       "      <th>L1_Theta</th>\n",
       "      <th>L1_TRUE_Theta</th>\n",
       "      <th>L1_D_Theta</th>\n",
       "    </tr>\n",
       "    <tr>\n",
       "      <th>eventNumber</th>\n",
       "      <th></th>\n",
       "      <th></th>\n",
       "      <th></th>\n",
       "      <th></th>\n",
       "      <th></th>\n",
       "      <th></th>\n",
       "      <th></th>\n",
       "      <th></th>\n",
       "      <th></th>\n",
       "      <th></th>\n",
       "    </tr>\n",
       "  </thead>\n",
       "  <tbody>\n",
       "    <tr>\n",
       "      <th>933189</th>\n",
       "      <td>10</td>\n",
       "      <td>4919.48</td>\n",
       "      <td>4919.71</td>\n",
       "      <td>604.577778</td>\n",
       "      <td>604.768231</td>\n",
       "      <td>4956.741984</td>\n",
       "      <td>4956.490468</td>\n",
       "      <td>0.122314</td>\n",
       "      <td>0.122282</td>\n",
       "      <td>0.000032</td>\n",
       "    </tr>\n",
       "    <tr>\n",
       "      <th>256342</th>\n",
       "      <td>10</td>\n",
       "      <td>40516.24</td>\n",
       "      <td>40396.52</td>\n",
       "      <td>1135.402885</td>\n",
       "      <td>1124.845719</td>\n",
       "      <td>40412.177694</td>\n",
       "      <td>40532.145804</td>\n",
       "      <td>0.027838</td>\n",
       "      <td>0.028016</td>\n",
       "      <td>-0.000178</td>\n",
       "    </tr>\n",
       "    <tr>\n",
       "      <th>1271785</th>\n",
       "      <td>10</td>\n",
       "      <td>14522.33</td>\n",
       "      <td>14572.18</td>\n",
       "      <td>2643.348052</td>\n",
       "      <td>2649.853279</td>\n",
       "      <td>14811.149596</td>\n",
       "      <td>14760.940267</td>\n",
       "      <td>0.179878</td>\n",
       "      <td>0.180048</td>\n",
       "      <td>-0.000171</td>\n",
       "    </tr>\n",
       "    <tr>\n",
       "      <th>937680</th>\n",
       "      <td>10</td>\n",
       "      <td>89979.74</td>\n",
       "      <td>89598.83</td>\n",
       "      <td>1855.074744</td>\n",
       "      <td>1857.516140</td>\n",
       "      <td>89618.082459</td>\n",
       "      <td>89998.860619</td>\n",
       "      <td>0.020729</td>\n",
       "      <td>0.020614</td>\n",
       "      <td>0.000115</td>\n",
       "    </tr>\n",
       "    <tr>\n",
       "      <th>1059409</th>\n",
       "      <td>10</td>\n",
       "      <td>26607.10</td>\n",
       "      <td>26812.16</td>\n",
       "      <td>3453.442690</td>\n",
       "      <td>3481.804835</td>\n",
       "      <td>27037.287008</td>\n",
       "      <td>26830.282086</td>\n",
       "      <td>0.129137</td>\n",
       "      <td>0.129072</td>\n",
       "      <td>0.000064</td>\n",
       "    </tr>\n",
       "  </tbody>\n",
       "</table>\n",
       "</div>"
      ],
      "text/plain": [
       "             Lb_BKGCAT  L1_TRUEP_Z     L1_PZ    L1_TRUEPT        L1_PT  \\\n",
       "eventNumber                                                              \n",
       "933189              10     4919.48   4919.71   604.577778   604.768231   \n",
       "256342              10    40516.24  40396.52  1135.402885  1124.845719   \n",
       "1271785             10    14522.33  14572.18  2643.348052  2649.853279   \n",
       "937680              10    89979.74  89598.83  1855.074744  1857.516140   \n",
       "1059409             10    26607.10  26812.16  3453.442690  3481.804835   \n",
       "\n",
       "                     L1_P      L1_TRUEP  L1_Theta  L1_TRUE_Theta  L1_D_Theta  \n",
       "eventNumber                                                                   \n",
       "933189        4956.741984   4956.490468  0.122314       0.122282    0.000032  \n",
       "256342       40412.177694  40532.145804  0.027838       0.028016   -0.000178  \n",
       "1271785      14811.149596  14760.940267  0.179878       0.180048   -0.000171  \n",
       "937680       89618.082459  89998.860619  0.020729       0.020614    0.000115  \n",
       "1059409      27037.287008  26830.282086  0.129137       0.129072    0.000064  "
      ]
     },
     "execution_count": 4,
     "metadata": {},
     "output_type": "execute_result"
    }
   ],
   "source": [
    "df[lepton + \"_P\"] = np.sqrt(df[lepton + \"_PZ\"]**2 + df[lepton + \"_PT\"]**2)\n",
    "df[lepton + \"_TRUEP\"] = np.sqrt(df[lepton + \"_TRUEP_Z\"]**2 + df[lepton + \"_TRUEPT\"]**2)\n",
    "df[lepton + \"_Theta\"] = np.arcsin(df[lepton + '_PT']/df[lepton + '_P'])\n",
    "df[lepton + \"_TRUE_Theta\"] = np.arcsin(df[lepton + '_TRUEPT']/df[lepton + '_TRUEP'])\n",
    "df[lepton + \"_D_Theta\"] = np.arcsin(df[lepton + \"_Theta\"] - df[lepton + \"_TRUE_Theta\"])\n",
    "\n",
    "df.head()"
   ]
  },
  {
   "cell_type": "markdown",
   "metadata": {},
   "source": [
    "## Group Data into Bins\n",
    "We want to find the angular resolution as a function of angle. Hence we should group these data first into bins by L1_TRUE_Theta i.e. the angle with respect to the beam axis and then find the angular resolution at each angle!"
   ]
  },
  {
   "cell_type": "code",
   "execution_count": 5,
   "metadata": {},
   "outputs": [
    {
     "data": {
      "text/html": [
       "<div>\n",
       "<style scoped>\n",
       "    .dataframe tbody tr th:only-of-type {\n",
       "        vertical-align: middle;\n",
       "    }\n",
       "\n",
       "    .dataframe tbody tr th {\n",
       "        vertical-align: top;\n",
       "    }\n",
       "\n",
       "    .dataframe thead th {\n",
       "        text-align: right;\n",
       "    }\n",
       "</style>\n",
       "<table border=\"1\" class=\"dataframe\">\n",
       "  <thead>\n",
       "    <tr style=\"text-align: right;\">\n",
       "      <th></th>\n",
       "      <th>Lb_BKGCAT</th>\n",
       "      <th>L1_TRUEP_Z</th>\n",
       "      <th>L1_PZ</th>\n",
       "      <th>L1_TRUEPT</th>\n",
       "      <th>L1_PT</th>\n",
       "      <th>L1_P</th>\n",
       "      <th>L1_TRUEP</th>\n",
       "      <th>L1_Theta</th>\n",
       "      <th>L1_TRUE_Theta</th>\n",
       "      <th>L1_D_Theta</th>\n",
       "      <th>TRUE_Theta_Bin</th>\n",
       "    </tr>\n",
       "    <tr>\n",
       "      <th>eventNumber</th>\n",
       "      <th></th>\n",
       "      <th></th>\n",
       "      <th></th>\n",
       "      <th></th>\n",
       "      <th></th>\n",
       "      <th></th>\n",
       "      <th></th>\n",
       "      <th></th>\n",
       "      <th></th>\n",
       "      <th></th>\n",
       "      <th></th>\n",
       "    </tr>\n",
       "  </thead>\n",
       "  <tbody>\n",
       "    <tr>\n",
       "      <th>933189</th>\n",
       "      <td>10</td>\n",
       "      <td>4919.48</td>\n",
       "      <td>4919.71</td>\n",
       "      <td>604.577778</td>\n",
       "      <td>604.768231</td>\n",
       "      <td>4956.741984</td>\n",
       "      <td>4956.490468</td>\n",
       "      <td>0.122314</td>\n",
       "      <td>0.122282</td>\n",
       "      <td>0.000032</td>\n",
       "      <td>67</td>\n",
       "    </tr>\n",
       "    <tr>\n",
       "      <th>256342</th>\n",
       "      <td>10</td>\n",
       "      <td>40516.24</td>\n",
       "      <td>40396.52</td>\n",
       "      <td>1135.402885</td>\n",
       "      <td>1124.845719</td>\n",
       "      <td>40412.177694</td>\n",
       "      <td>40532.145804</td>\n",
       "      <td>0.027838</td>\n",
       "      <td>0.028016</td>\n",
       "      <td>-0.000178</td>\n",
       "      <td>5</td>\n",
       "    </tr>\n",
       "    <tr>\n",
       "      <th>1271785</th>\n",
       "      <td>10</td>\n",
       "      <td>14522.33</td>\n",
       "      <td>14572.18</td>\n",
       "      <td>2643.348052</td>\n",
       "      <td>2649.853279</td>\n",
       "      <td>14811.149596</td>\n",
       "      <td>14760.940267</td>\n",
       "      <td>0.179878</td>\n",
       "      <td>0.180048</td>\n",
       "      <td>-0.000171</td>\n",
       "      <td>87</td>\n",
       "    </tr>\n",
       "    <tr>\n",
       "      <th>937680</th>\n",
       "      <td>10</td>\n",
       "      <td>89979.74</td>\n",
       "      <td>89598.83</td>\n",
       "      <td>1855.074744</td>\n",
       "      <td>1857.516140</td>\n",
       "      <td>89618.082459</td>\n",
       "      <td>89998.860619</td>\n",
       "      <td>0.020729</td>\n",
       "      <td>0.020614</td>\n",
       "      <td>0.000115</td>\n",
       "      <td>2</td>\n",
       "    </tr>\n",
       "    <tr>\n",
       "      <th>1059409</th>\n",
       "      <td>10</td>\n",
       "      <td>26607.10</td>\n",
       "      <td>26812.16</td>\n",
       "      <td>3453.442690</td>\n",
       "      <td>3481.804835</td>\n",
       "      <td>27037.287008</td>\n",
       "      <td>26830.282086</td>\n",
       "      <td>0.129137</td>\n",
       "      <td>0.129072</td>\n",
       "      <td>0.000064</td>\n",
       "      <td>70</td>\n",
       "    </tr>\n",
       "  </tbody>\n",
       "</table>\n",
       "</div>"
      ],
      "text/plain": [
       "             Lb_BKGCAT  L1_TRUEP_Z     L1_PZ    L1_TRUEPT        L1_PT  \\\n",
       "eventNumber                                                              \n",
       "933189              10     4919.48   4919.71   604.577778   604.768231   \n",
       "256342              10    40516.24  40396.52  1135.402885  1124.845719   \n",
       "1271785             10    14522.33  14572.18  2643.348052  2649.853279   \n",
       "937680              10    89979.74  89598.83  1855.074744  1857.516140   \n",
       "1059409             10    26607.10  26812.16  3453.442690  3481.804835   \n",
       "\n",
       "                     L1_P      L1_TRUEP  L1_Theta  L1_TRUE_Theta  L1_D_Theta  \\\n",
       "eventNumber                                                                    \n",
       "933189        4956.741984   4956.490468  0.122314       0.122282    0.000032   \n",
       "256342       40412.177694  40532.145804  0.027838       0.028016   -0.000178   \n",
       "1271785      14811.149596  14760.940267  0.179878       0.180048   -0.000171   \n",
       "937680       89618.082459  89998.860619  0.020729       0.020614    0.000115   \n",
       "1059409      27037.287008  26830.282086  0.129137       0.129072    0.000064   \n",
       "\n",
       "            TRUE_Theta_Bin  \n",
       "eventNumber                 \n",
       "933189                  67  \n",
       "256342                   5  \n",
       "1271785                 87  \n",
       "937680                   2  \n",
       "1059409                 70  "
      ]
     },
     "execution_count": 5,
     "metadata": {},
     "output_type": "execute_result"
    }
   ],
   "source": [
    "bins = 100\n",
    "bin_edges = np.linspace(np.min(df[f'{lepton}_TRUE_Theta']), np.max(df[f'{lepton}_TRUE_Theta']), bins+1)\n",
    "bin_width = bin_edges[1] - bin_edges[0]\n",
    "bin_centres = np.array([np.mean(bin_edges[i:i+2]) for i in range(len(bin_edges) - 1)])\n",
    "\n",
    "quartiles = np.linspace(0., 1., bins+1)\n",
    "\n",
    "df['TRUE_Theta_Bin'] = pd.qcut(df[f'{lepton}_TRUE_Theta'], q=quartiles, labels=np.arange(1, bins+1))\n",
    "df.dropna(axis=0, inplace=True)\n",
    "df.head()"
   ]
  },
  {
   "cell_type": "markdown",
   "metadata": {},
   "source": [
    "## Calculating Resolution in each Bin"
   ]
  },
  {
   "cell_type": "code",
   "execution_count": 6,
   "metadata": {},
   "outputs": [],
   "source": [
    "g = df.groupby('TRUE_Theta_Bin')\n",
    "# Group the data by angular bin"
   ]
  },
  {
   "cell_type": "markdown",
   "metadata": {},
   "source": [
    "## Visualise Results\n",
    "Now to check what the resolution in each bin looks like we plot our results. The best way to do this is to use mplhep so our plots look like ROOT plots. We will plot the results for a random selection of groups (angular bins)."
   ]
  },
  {
   "cell_type": "code",
   "execution_count": 7,
   "metadata": {},
   "outputs": [],
   "source": [
    "internal_bins = 40\n",
    "# Set the number of bins to use within in master bin"
   ]
  },
  {
   "cell_type": "code",
   "execution_count": 8,
   "metadata": {},
   "outputs": [
    {
     "data": {
      "image/png": "[encoded data removed]",
      "text/plain": [
       "<Figure size 720x720 with 1 Axes>"
      ]
     },
     "metadata": {
      "needs_background": "light"
     },
     "output_type": "display_data"
    }
   ],
   "source": [
    "# Pick a random group\n",
    "#data = g.get_group(np.random.choice(df['TRUE_Theta_Bin'].to_numpy(), 1)[0])\n",
    "data = g.get_group(64)\n",
    "h, bins = np.histogram(data[f'{lepton}_D_Theta'], bins=internal_bins)\n",
    "\n",
    "# Make the plot\n",
    "fig, ax = plt.subplots(1, 1)\n",
    "#ax.set_title(f\"Distribution of Bin {data['TRUE_Theta_Bin'].unique()[0]}\")\n",
    "hep.histplot(h, bins, yerr=np.sqrt(h), ax=ax)\n",
    "plt.xlabel(r'$\\Delta\\theta=\\theta_{sim}-\\theta_{true}$')\n",
    "plt.ylabel('Candidates')\n",
    "#plt.savefig('../images/Resolution/MuonAngularResolutionBin64.png')\n",
    "plt.tight_layout()\n",
    "plt.show()"
   ]
  },
  {
   "cell_type": "markdown",
   "metadata": {},
   "source": [
    "## Fitting Gaussians\n",
    "Now to find the errors within each bin we want to fit a Gaussian to the distribution within each group and extract the fit parameters as the standard deviation within these is the resolutions error and the mean is the actual resolution at some given group."
   ]
  },
  {
   "cell_type": "code",
   "execution_count": 9,
   "metadata": {},
   "outputs": [],
   "source": [
    "from scipy.optimize import curve_fit\n",
    "\n",
    "# Define the Gaussian we will fit to each bin, include an amplitude term as the bins are not normalised\n",
    "def gauss(x, A, mu, sigma):\n",
    "    return (A/(sigma*np.sqrt(2*np.pi))) * np.exp(-0.5 * ((x-mu)/sigma)**2)"
   ]
  },
  {
   "cell_type": "code",
   "execution_count": 10,
   "metadata": {},
   "outputs": [
    {
     "name": "stdout",
     "output_type": "stream",
     "text": [
      "Failed on group 45\n",
      "Failed on group 71\n"
     ]
    }
   ],
   "source": [
    "params = []\n",
    "for i, group in enumerate(g):\n",
    "    h, bins = np.histogram(group[1][f'{lepton}_D_Theta'], bins=internal_bins)\n",
    "    bin_centres = [np.mean(bins[i:i+2]) for i in range(len(bins)-1)]\n",
    "    try:\n",
    "        popt, pcov = curve_fit(gauss, bin_centres, h)\n",
    "        params.append((popt, pcov))\n",
    "    except RuntimeError:\n",
    "        print(f'Failed on group {i}')\n",
    "        params.append(([0, 0, 0], [0, 0, 0]))\n",
    "    "
   ]
  },
  {
   "cell_type": "code",
   "execution_count": 13,
   "metadata": {},
   "outputs": [],
   "source": [
    "# This plot is of delta theta/theta versus theta\n",
    "x = np.array([np.mean(grp[1][f'{lepton}_TRUE_Theta']) for grp in g])\n",
    "y = np.abs(np.array([p[0][2] for p in params]))\n",
    "yerr = np.array([p[0][1] for p in params])\n",
    "\n",
    "y_over_theta = y / x\n",
    "yerr_over_theta = yerr / x"
   ]
  },
  {
   "cell_type": "code",
   "execution_count": 12,
   "metadata": {},
   "outputs": [
    {
     "data": {
      "image/png": "[encoded data removed]",
      "text/plain": [
       "<Figure size 720x720 with 1 Axes>"
      ]
     },
     "metadata": {
      "needs_background": "light"
     },
     "output_type": "display_data"
    }
   ],
   "source": [
    "all = np.array([x, y*1e3, yerr*1e3]).T\n",
    "all = all[np.where(all[:,1] != 0)]\n",
    "\n",
    "fig, ax = plt.subplots(1, 1)\n",
    "#ax.set_title(f\"Angular Resolution of {lepton}\")\n",
    "ax.errorbar(all[:,0], all[:,1], yerr=all[:,2], fmt='.', label='Resolution')\n",
    "plt.ylabel(r'$\\Delta\\theta$ [mrad]')\n",
    "plt.xlabel(r'$\\theta(\\mu)$ [rad]')\n",
    "plt.tight_layout()\n",
    "plt.savefig(f'../images/Resolution/{lepton}_Angular_Resolution.png', dpi=800)\n",
    "plt.show()"
   ]
  },
  {
   "cell_type": "code",
   "execution_count": 15,
   "metadata": {},
   "outputs": [
    {
     "data": {
      "image/png": "[encoded data removed]",
      "text/plain": [
       "<Figure size 720x720 with 1 Axes>"
      ]
     },
     "metadata": {
      "needs_background": "light"
     },
     "output_type": "display_data"
    }
   ],
   "source": [
    "all2 = np.array([x, y_over_theta, yerr_over_theta]).T\n",
    "all2 = all2[np.where(all2[:,1] != 0)]\n",
    "\n",
    "fig, ax = plt.subplots(1, 1)\n",
    "ax.errorbar(all2[:,0], all2[:,1], yerr=all2[:,2], fmt='.', label='Resolution')\n",
    "plt.ylabel(r'$\\Delta\\theta/\\theta$')\n",
    "plt.xlabel(r'$\\theta(\\mu)$ [rad]')\n",
    "plt.tight_layout()\n",
    "plt.savefig(f'../images/Resolution/{lepton}_Angular_Resolution_Divided.png', dpi=800)\n",
    "plt.show()"
   ]
  }
 ],
 "metadata": {
  "interpreter": {
   "hash": "9ca4116ab2c7470d45496f3104a2f3648c94db730a0039ceabb3a0fb6fe42410"
  },
  "kernelspec": {
   "display_name": "Python 3.9.7 64-bit ('linux-64': conda)",
   "language": "python",
   "name": "python3"
  },
  "language_info": {
   "codemirror_mode": {
    "name": "ipython",
    "version": 3
   },
   "file_extension": ".py",
   "mimetype": "text/x-python",
   "name": "python",
   "nbconvert_exporter": "python",
   "pygments_lexer": "ipython3",
   "version": "3.9.7"
  },
  "orig_nbformat": 4
 },
 "nbformat": 4,
 "nbformat_minor": 2
}
