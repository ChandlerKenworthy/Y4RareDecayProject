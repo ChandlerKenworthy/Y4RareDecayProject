{
 "cells": [
  {
   "cell_type": "markdown",
   "metadata": {},
   "source": [
    "# $\\Lambda_B$ Decay Mode\n",
    "In this notebook we aim to use the analysis techniques we have made and tuned in a complete fashion. In this way we can estimate our sensitibity in the rare mode. We hope this value is similar to that which could actually be achieved but this is not known since we do not have an unblinded rare mode.\n",
    "\n",
    "However, we will do a similar test in the normalisation mode. If that works well we can reasonably conclude that our system of analyses works well."
   ]
  },
  {
   "cell_type": "code",
   "execution_count": 1,
   "metadata": {},
   "outputs": [],
   "source": [
    "# Set enviornment variables\n",
    "import os\n",
    "os.environ[\"ZFIT_DISABLE_TF_WARNINGS\"] = \"1\"\n",
    "# Suppress some warnings from TensorFlow related to zfit"
   ]
  },
  {
   "cell_type": "code",
   "execution_count": 2,
   "metadata": {},
   "outputs": [
    {
     "name": "stderr",
     "output_type": "stream",
     "text": [
      "2022-03-30 15:03:17.417621: W tensorflow/stream_executor/platform/default/dso_loader.cc:64] Could not load dynamic library 'libcudart.so.11.0'; dlerror: libcudart.so.11.0: cannot open shared object file: No such file or directory\n",
      "2022-03-30 15:03:17.417725: I tensorflow/stream_executor/cuda/cudart_stub.cc:29] Ignore above cudart dlerror if you do not have a GPU set up on your machine.\n"
     ]
    }
   ],
   "source": [
    "import tensorflow as tf\n",
    "import zfit\n",
    "from zfit import z\n",
    "import pandas as pd\n",
    "import numpy as np\n",
    "import matplotlib.pyplot as plt\n",
    "import mplhep as hep\n",
    "plt.style.use([hep.style.ROOT, hep.style.firamath])"
   ]
  },
  {
   "cell_type": "markdown",
   "metadata": {},
   "source": [
    "# Load Data\n",
    "Ordinarily we would use the standard create_data framework to generate our data for us. In this rare mode case it has already been done for us, yay!"
   ]
  },
  {
   "cell_type": "code",
   "execution_count": 30,
   "metadata": {},
   "outputs": [],
   "source": [
    "test = pd.read_csv('../../../mnt/d/University/Y4/Project/localproject/9.0.4/test.csv', index_col=[0])\n",
    "test.head()\n",
    "\n",
    "X_test = test.drop(['category', 'Lb_M', 'IsSimulated'], axis=1)\n",
    "y_test = test[['category', 'Lb_M', 'IsSimulated']]"
   ]
  },
  {
   "cell_type": "markdown",
   "metadata": {},
   "source": [
    "# Inspect Data\n",
    "To gauge how good our techniques are it is first good to know how many signal and how many background events there are in these data."
   ]
  },
  {
   "cell_type": "code",
   "execution_count": 31,
   "metadata": {},
   "outputs": [
    {
     "name": "stdout",
     "output_type": "stream",
     "text": [
      "There are 3731 background events\n",
      "There are 3665 signal events\n"
     ]
    }
   ],
   "source": [
    "print(f\"There are {test.category.value_counts()[0]} background events\")\n",
    "print(f\"There are {test.category.value_counts()[1]} signal events\")"
   ]
  },
  {
   "cell_type": "markdown",
   "metadata": {},
   "source": [
    "Not many events but we have to recognise that we have applied quite an aggressive preselection as well as a mass region restriction further to that our test sample is only a 20% fraction of these data that we have never before seen."
   ]
  },
  {
   "cell_type": "code",
   "execution_count": 39,
   "metadata": {},
   "outputs": [
    {
     "data": {
      "image/png": "[encoded data removed]",
      "text/plain": [
       "<Figure size 720x720 with 1 Axes>"
      ]
     },
     "metadata": {
      "needs_background": "light"
     },
     "output_type": "display_data"
    }
   ],
   "source": [
    "fig, ax = plt.subplots(1, 1)\n",
    "h, bins = np.histogram(test['Lb_M'][test['category']==1], bins=100)\n",
    "h1, _ = np.histogram(test['Lb_M'][test['category']==0], bins=bins)\n",
    "hep.histplot([h, h1], bins=bins, yerr=[np.sqrt(h), np.sqrt(h1)], ax=ax, label=['Signal', 'Background'], histtype='fill', stack=True)\n",
    "ax.set_xlim(4500, 6500)\n",
    "#hep.lhcb.label(loc=0)\n",
    "plt.legend()\n",
    "plt.show()"
   ]
  },
  {
   "cell_type": "markdown",
   "metadata": {},
   "source": [
    "# Load Model\n",
    "Now we choose to load our best performing model, the neural network."
   ]
  },
  {
   "cell_type": "code",
   "execution_count": 28,
   "metadata": {},
   "outputs": [
    {
     "name": "stderr",
     "output_type": "stream",
     "text": [
      "2022-03-30 16:15:16.775373: W tensorflow/stream_executor/platform/default/dso_loader.cc:64] Could not load dynamic library 'libcuda.so.1'; dlerror: libcuda.so.1: cannot open shared object file: No such file or directory\n",
      "2022-03-30 16:15:16.779667: W tensorflow/stream_executor/cuda/cuda_driver.cc:269] failed call to cuInit: UNKNOWN ERROR (303)\n",
      "2022-03-30 16:15:16.781851: I tensorflow/stream_executor/cuda/cuda_diagnostics.cc:156] kernel driver does not appear to be running on this host (LAPTOP-0L9OF1GC): /proc/driver/nvidia/version does not exist\n",
      "2022-03-30 16:15:16.798741: I tensorflow/core/platform/cpu_feature_guard.cc:142] This TensorFlow binary is optimized with oneAPI Deep Neural Network Library (oneDNN) to use the following CPU instructions in performance-critical operations:  AVX2 FMA\n",
      "To enable them in other operations, rebuild TensorFlow with the appropriate compiler flags.\n"
     ]
    }
   ],
   "source": [
    "model = tf.keras.models.load_model('../neural_network/models/v9.0.5')"
   ]
  },
  {
   "cell_type": "code",
   "execution_count": 34,
   "metadata": {},
   "outputs": [
    {
     "name": "stdout",
     "output_type": "stream",
     "text": [
      "[1.6713518e-01 9.9114811e-01 4.8980117e-04 9.7456038e-01 3.4451932e-02\n",
      " 2.3385882e-04 4.8476458e-04 5.2800775e-04 5.9075499e-01 9.4914752e-01]\n"
     ]
    }
   ],
   "source": [
    "# Make predictions with our model\n",
    "predictions = model.predict(X_test).flatten()\n",
    "print(predictions[0:10])"
   ]
  },
  {
   "cell_type": "code",
   "execution_count": 35,
   "metadata": {},
   "outputs": [
    {
     "name": "stdout",
     "output_type": "stream",
     "text": [
      "[0 1 0 1 0 0 0 0 0 1]\n"
     ]
    }
   ],
   "source": [
    "# Make these predictions into classes following our Punzi FOM analysis\n",
    "predicted_classes = np.where(predictions > 0.8, 1, 0)\n",
    "print(predicted_classes[0:10])"
   ]
  },
  {
   "cell_type": "code",
   "execution_count": 36,
   "metadata": {},
   "outputs": [],
   "source": [
    "# Append these predictions to the origina dataframe\n",
    "test['predicted_class'] = predicted_classes"
   ]
  },
  {
   "cell_type": "markdown",
   "metadata": {},
   "source": [
    "# Evaluate Cut\n",
    "Now we have made the cut we need to actually evaluate it"
   ]
  },
  {
   "cell_type": "code",
   "execution_count": 40,
   "metadata": {},
   "outputs": [
    {
     "data": {
      "image/png": "[encoded data removed]",
      "text/plain": [
       "<Figure size 720x720 with 1 Axes>"
      ]
     },
     "metadata": {
      "needs_background": "light"
     },
     "output_type": "display_data"
    }
   ],
   "source": [
    "fig, ax = plt.subplots(1, 1)\n",
    "h, _ = np.histogram(test['Lb_M'][np.logical_and(test['category']==1,test['predicted_class']==1)], bins=bins)\n",
    "h1, _ = np.histogram(test['Lb_M'][np.logical_and(test['category']==0,test['predicted_class']==1)], bins=bins)\n",
    "hep.histplot([h, h1], bins=bins, yerr=[np.sqrt(h), np.sqrt(h1)], ax=ax, label=['Signal', 'Background'], histtype='fill', stack=True)\n",
    "ax.set_xlim(4500, 6500)\n",
    "#hep.lhcb.label(loc=0)\n",
    "plt.legend()\n",
    "plt.show()"
   ]
  },
  {
   "cell_type": "code",
   "execution_count": 44,
   "metadata": {},
   "outputs": [
    {
     "name": "stdout",
     "output_type": "stream",
     "text": [
      "Cut Purity: 97.720%\n",
      "Signal Selection Rate: 87.694%\n"
     ]
    }
   ],
   "source": [
    "# What was the signal purity, i.e. of all that you selected how much was signal?\n",
    "purity = np.count_nonzero(np.logical_and(test['predicted_class']==1,test['category']==1))/np.count_nonzero(test['predicted_class'])\n",
    "print(f\"Cut Purity: {(purity*100):.3f}%\")\n",
    "\n",
    "# What was the rate of signal selection i.e. of all the signal in the sample how much did we get?\n",
    "selection_rate = np.count_nonzero(np.logical_and(test['predicted_class']==1,test['category']==1))/np.count_nonzero(test['category'])\n",
    "print(f\"Signal Selection Rate: {(selection_rate*100):.3f}%\")"
   ]
  },
  {
   "cell_type": "markdown",
   "metadata": {},
   "source": [
    "# Refit DCB Using Residual Mass Distribution\n",
    "We do this as this is what we would actually do if we could not just look at the real event type. We can then integrate this function between our signal region (blinded) and use this to estimate our number of signal events. We can then compare that with uncertanties to the actual value of signal events in our sample."
   ]
  },
  {
   "cell_type": "code",
   "execution_count": 45,
   "metadata": {},
   "outputs": [],
   "source": [
    "masses = test['Lb_M'][test['predicted_class']==1].to_numpy()\n",
    "obs = zfit.Space('x', limits=(np.min(masses), np.max(masses)))\n",
    "\n",
    "mu = zfit.Parameter(\"mu\", 5611.0, 5580.0, 5680.0)\n",
    "sigma = zfit.Parameter(\"sigma\", 21.79, 15, 35)\n",
    "alphal = zfit.Parameter(\"alphal\", 0.4458, -1, 1)\n",
    "nl = zfit.Parameter(\"nl\", 2.637, -3, 3)\n",
    "alphar = zfit.Parameter(\"alphar\", 1.1333, -2, 2)\n",
    "nr = zfit.Parameter(\"nr\", 2.057, -3, 3)"
   ]
  },
  {
   "cell_type": "code",
   "execution_count": 46,
   "metadata": {},
   "outputs": [],
   "source": [
    "dcb = zfit.pdf.DoubleCB(obs=obs, mu=mu, sigma=sigma, alphal=alphal, nl=nl,\n",
    "alphar=alphar, nr=nr)\n",
    "data = zfit.Data.from_numpy(obs=obs, array=masses)"
   ]
  },
  {
   "cell_type": "code",
   "execution_count": null,
   "metadata": {},
   "outputs": [],
   "source": [
    "nll = zfit.loss.UnbinnedNLL(model=dcb, data=data)\n",
    "minimizer = zfit.minimize.Minuit()\n",
    "result = minimizer.minimize(nll)\n",
    "# Only allow some parameters to float e.g. an amplitude"
   ]
  }
 ],
 "metadata": {
  "interpreter": {
   "hash": "41e220d95b7ec8b8d5afec9fc37dd8786ce41c9f6ed7d4ccf5e0049ff2f60044"
  },
  "kernelspec": {
   "display_name": "Python 3.8.10 ('scientific')",
   "language": "python",
   "name": "python3"
  },
  "language_info": {
   "codemirror_mode": {
    "name": "ipython",
    "version": 3
   },
   "file_extension": ".py",
   "mimetype": "text/x-python",
   "name": "python",
   "nbconvert_exporter": "python",
   "pygments_lexer": "ipython3",
   "version": "3.8.10"
  },
  "orig_nbformat": 4
 },
 "nbformat": 4,
 "nbformat_minor": 2
}
