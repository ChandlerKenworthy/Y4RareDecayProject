{
 "cells": [
  {
   "cell_type": "markdown",
   "metadata": {},
   "source": [
    "# $\\Lambda_B$ Decay Mode\n",
    "In this notebook we aim to use the analysis techniques we have made and tuned in a complete fashion. In this way we can estimate our sensitibity in the rare mode. We hope this value is similar to that which could actually be achieved but this is not known since we do not have an unblinded rare mode.\n",
    "\n",
    "However, we will do a similar test in the normalisation mode. If that works well we can reasonably conclude that our system of analyses works well."
   ]
  },
  {
   "cell_type": "code",
   "execution_count": 1,
   "metadata": {},
   "outputs": [],
   "source": [
    "# Set enviornment variables\n",
    "import os\n",
    "os.environ[\"ZFIT_DISABLE_TF_WARNINGS\"] = \"1\"\n",
    "# Suppress some warnings from TensorFlow related to zfit"
   ]
  },
  {
   "cell_type": "code",
   "execution_count": 2,
   "metadata": {},
   "outputs": [
    {
     "name": "stderr",
     "output_type": "stream",
     "text": [
      "2022-03-31 14:28:56.496143: W tensorflow/stream_executor/platform/default/dso_loader.cc:64] Could not load dynamic library 'libcudart.so.11.0'; dlerror: libcudart.so.11.0: cannot open shared object file: No such file or directory\n",
      "2022-03-31 14:28:56.496180: I tensorflow/stream_executor/cuda/cudart_stub.cc:29] Ignore above cudart dlerror if you do not have a GPU set up on your machine.\n"
     ]
    }
   ],
   "source": [
    "import tensorflow as tf\n",
    "import zfit\n",
    "from zfit import z\n",
    "import pandas as pd\n",
    "import numpy as np\n",
    "import matplotlib.pyplot as plt\n",
    "import mplhep as hep\n",
    "plt.style.use([hep.style.ROOT, hep.style.firamath])"
   ]
  },
  {
   "cell_type": "markdown",
   "metadata": {},
   "source": [
    "# Load Data\n",
    "Ordinarily we would use the standard create_data framework to generate our data for us. In this rare mode case it has already been done for us, yay!"
   ]
  },
  {
   "cell_type": "code",
   "execution_count": 3,
   "metadata": {},
   "outputs": [
    {
     "data": {
      "text/html": [
       "<div>\n",
       "<style scoped>\n",
       "    .dataframe tbody tr th:only-of-type {\n",
       "        vertical-align: middle;\n",
       "    }\n",
       "\n",
       "    .dataframe tbody tr th {\n",
       "        vertical-align: top;\n",
       "    }\n",
       "\n",
       "    .dataframe thead th {\n",
       "        text-align: right;\n",
       "    }\n",
       "</style>\n",
       "<table border=\"1\" class=\"dataframe\">\n",
       "  <thead>\n",
       "    <tr style=\"text-align: right;\">\n",
       "      <th></th>\n",
       "      <th>JPs_FD_ORIVX</th>\n",
       "      <th>LStar_ORIVX_CHI2</th>\n",
       "      <th>Lb_ENDVERTEX_CHI2</th>\n",
       "      <th>LN_Lb_IPCHI2_OWNPV</th>\n",
       "      <th>Lb_PT</th>\n",
       "      <th>LN_Lb_MINIPCHI2</th>\n",
       "      <th>LN_Lb_IP01</th>\n",
       "      <th>LN_Lb_IP23</th>\n",
       "      <th>LN_Lb_IP_OWNPV</th>\n",
       "      <th>p_TRACK_VeloCHI2NDOF</th>\n",
       "      <th>...</th>\n",
       "      <th>JPs_IP_TOPPV</th>\n",
       "      <th>LStar_IP_ORIVX</th>\n",
       "      <th>JPs_IP_ORIVX</th>\n",
       "      <th>LN_SUM_CONEISO</th>\n",
       "      <th>LN_SUM_IPCHI2</th>\n",
       "      <th>LN_COS_THETA</th>\n",
       "      <th>LN_COS_LBDIRA</th>\n",
       "      <th>Lb_M</th>\n",
       "      <th>IsSimulated</th>\n",
       "      <th>category</th>\n",
       "    </tr>\n",
       "  </thead>\n",
       "  <tbody>\n",
       "    <tr>\n",
       "      <th>11893</th>\n",
       "      <td>-0.036017</td>\n",
       "      <td>-0.670855</td>\n",
       "      <td>-0.670855</td>\n",
       "      <td>-1.045046</td>\n",
       "      <td>-1.156758</td>\n",
       "      <td>-1.045046</td>\n",
       "      <td>-0.567977</td>\n",
       "      <td>-0.698670</td>\n",
       "      <td>-0.895587</td>\n",
       "      <td>-0.354942</td>\n",
       "      <td>...</td>\n",
       "      <td>-0.600174</td>\n",
       "      <td>-0.153343</td>\n",
       "      <td>-0.203291</td>\n",
       "      <td>-0.720856</td>\n",
       "      <td>-1.453840</td>\n",
       "      <td>-0.339975</td>\n",
       "      <td>-0.261512</td>\n",
       "      <td>4748.478072</td>\n",
       "      <td>False</td>\n",
       "      <td>0</td>\n",
       "    </tr>\n",
       "    <tr>\n",
       "      <th>23125</th>\n",
       "      <td>-0.039124</td>\n",
       "      <td>-0.984681</td>\n",
       "      <td>-0.984681</td>\n",
       "      <td>-1.664390</td>\n",
       "      <td>0.529478</td>\n",
       "      <td>-1.664390</td>\n",
       "      <td>1.559475</td>\n",
       "      <td>1.671400</td>\n",
       "      <td>-1.705403</td>\n",
       "      <td>0.445039</td>\n",
       "      <td>...</td>\n",
       "      <td>1.965093</td>\n",
       "      <td>-0.199839</td>\n",
       "      <td>-0.256353</td>\n",
       "      <td>0.102694</td>\n",
       "      <td>1.138569</td>\n",
       "      <td>-0.418031</td>\n",
       "      <td>0.522607</td>\n",
       "      <td>5579.733865</td>\n",
       "      <td>True</td>\n",
       "      <td>1</td>\n",
       "    </tr>\n",
       "    <tr>\n",
       "      <th>8405</th>\n",
       "      <td>-0.040081</td>\n",
       "      <td>-0.802956</td>\n",
       "      <td>-0.802956</td>\n",
       "      <td>0.980641</td>\n",
       "      <td>-1.309454</td>\n",
       "      <td>0.980641</td>\n",
       "      <td>0.237914</td>\n",
       "      <td>-0.488809</td>\n",
       "      <td>1.144078</td>\n",
       "      <td>-1.163024</td>\n",
       "      <td>...</td>\n",
       "      <td>-0.534112</td>\n",
       "      <td>0.193383</td>\n",
       "      <td>-0.256515</td>\n",
       "      <td>-0.496455</td>\n",
       "      <td>-0.719871</td>\n",
       "      <td>-2.920263</td>\n",
       "      <td>-0.465136</td>\n",
       "      <td>4702.065504</td>\n",
       "      <td>False</td>\n",
       "      <td>0</td>\n",
       "    </tr>\n",
       "    <tr>\n",
       "      <th>11765</th>\n",
       "      <td>-0.040122</td>\n",
       "      <td>-0.825895</td>\n",
       "      <td>-0.825895</td>\n",
       "      <td>-0.994518</td>\n",
       "      <td>0.464034</td>\n",
       "      <td>-0.994518</td>\n",
       "      <td>0.243058</td>\n",
       "      <td>-0.678556</td>\n",
       "      <td>-1.185946</td>\n",
       "      <td>0.417178</td>\n",
       "      <td>...</td>\n",
       "      <td>-0.594549</td>\n",
       "      <td>-0.180973</td>\n",
       "      <td>-0.251228</td>\n",
       "      <td>1.073226</td>\n",
       "      <td>-1.500145</td>\n",
       "      <td>0.154602</td>\n",
       "      <td>0.504919</td>\n",
       "      <td>5614.227106</td>\n",
       "      <td>True</td>\n",
       "      <td>1</td>\n",
       "    </tr>\n",
       "    <tr>\n",
       "      <th>23326</th>\n",
       "      <td>-0.036608</td>\n",
       "      <td>0.145000</td>\n",
       "      <td>0.145000</td>\n",
       "      <td>0.079730</td>\n",
       "      <td>-0.242803</td>\n",
       "      <td>0.079730</td>\n",
       "      <td>-1.691390</td>\n",
       "      <td>-1.262434</td>\n",
       "      <td>-0.075864</td>\n",
       "      <td>-0.674160</td>\n",
       "      <td>...</td>\n",
       "      <td>-0.723857</td>\n",
       "      <td>-0.006472</td>\n",
       "      <td>-0.156687</td>\n",
       "      <td>-0.571091</td>\n",
       "      <td>-0.092846</td>\n",
       "      <td>0.147660</td>\n",
       "      <td>0.402862</td>\n",
       "      <td>5013.680684</td>\n",
       "      <td>False</td>\n",
       "      <td>0</td>\n",
       "    </tr>\n",
       "  </tbody>\n",
       "</table>\n",
       "<p>5 rows × 26 columns</p>\n",
       "</div>"
      ],
      "text/plain": [
       "       JPs_FD_ORIVX  LStar_ORIVX_CHI2  Lb_ENDVERTEX_CHI2  LN_Lb_IPCHI2_OWNPV  \\\n",
       "11893     -0.036017         -0.670855          -0.670855           -1.045046   \n",
       "23125     -0.039124         -0.984681          -0.984681           -1.664390   \n",
       "8405      -0.040081         -0.802956          -0.802956            0.980641   \n",
       "11765     -0.040122         -0.825895          -0.825895           -0.994518   \n",
       "23326     -0.036608          0.145000           0.145000            0.079730   \n",
       "\n",
       "          Lb_PT  LN_Lb_MINIPCHI2  LN_Lb_IP01  LN_Lb_IP23  LN_Lb_IP_OWNPV  \\\n",
       "11893 -1.156758        -1.045046   -0.567977   -0.698670       -0.895587   \n",
       "23125  0.529478        -1.664390    1.559475    1.671400       -1.705403   \n",
       "8405  -1.309454         0.980641    0.237914   -0.488809        1.144078   \n",
       "11765  0.464034        -0.994518    0.243058   -0.678556       -1.185946   \n",
       "23326 -0.242803         0.079730   -1.691390   -1.262434       -0.075864   \n",
       "\n",
       "       p_TRACK_VeloCHI2NDOF  ...  JPs_IP_TOPPV  LStar_IP_ORIVX  JPs_IP_ORIVX  \\\n",
       "11893             -0.354942  ...     -0.600174       -0.153343     -0.203291   \n",
       "23125              0.445039  ...      1.965093       -0.199839     -0.256353   \n",
       "8405              -1.163024  ...     -0.534112        0.193383     -0.256515   \n",
       "11765              0.417178  ...     -0.594549       -0.180973     -0.251228   \n",
       "23326             -0.674160  ...     -0.723857       -0.006472     -0.156687   \n",
       "\n",
       "       LN_SUM_CONEISO  LN_SUM_IPCHI2  LN_COS_THETA  LN_COS_LBDIRA  \\\n",
       "11893       -0.720856      -1.453840     -0.339975      -0.261512   \n",
       "23125        0.102694       1.138569     -0.418031       0.522607   \n",
       "8405        -0.496455      -0.719871     -2.920263      -0.465136   \n",
       "11765        1.073226      -1.500145      0.154602       0.504919   \n",
       "23326       -0.571091      -0.092846      0.147660       0.402862   \n",
       "\n",
       "              Lb_M  IsSimulated  category  \n",
       "11893  4748.478072        False         0  \n",
       "23125  5579.733865         True         1  \n",
       "8405   4702.065504        False         0  \n",
       "11765  5614.227106         True         1  \n",
       "23326  5013.680684        False         0  \n",
       "\n",
       "[5 rows x 26 columns]"
      ]
     },
     "execution_count": 3,
     "metadata": {},
     "output_type": "execute_result"
    }
   ],
   "source": [
    "test = pd.read_csv('../data_files/9.0.4/test.csv', index_col=[0])\n",
    "\n",
    "X_test = test.drop(['category', 'Lb_M', 'IsSimulated'], axis=1)\n",
    "y_test = test[['category', 'Lb_M', 'IsSimulated']]\n",
    "test.head()"
   ]
  },
  {
   "cell_type": "markdown",
   "metadata": {},
   "source": [
    "# Inspect Data\n",
    "To gauge how good our techniques are it is first good to know how many signal and how many background events there are in these data."
   ]
  },
  {
   "cell_type": "code",
   "execution_count": 4,
   "metadata": {},
   "outputs": [
    {
     "name": "stdout",
     "output_type": "stream",
     "text": [
      "There are 3731 background events\n",
      "There are 3665 signal events\n"
     ]
    }
   ],
   "source": [
    "print(f\"There are {test.category.value_counts()[0]} background events\")\n",
    "print(f\"There are {test.category.value_counts()[1]} signal events\")"
   ]
  },
  {
   "cell_type": "markdown",
   "metadata": {},
   "source": [
    "Not many events but we have to recognise that we have applied quite an aggressive preselection as well as a mass region restriction further to that our test sample is only a 20% fraction of these data that we have never before seen."
   ]
  },
  {
   "cell_type": "code",
   "execution_count": 5,
   "metadata": {},
   "outputs": [
    {
     "data": {
      "image/png": "[encoded data removed]",
      "text/plain": [
       "<Figure size 720x720 with 1 Axes>"
      ]
     },
     "metadata": {
      "needs_background": "light"
     },
     "output_type": "display_data"
    }
   ],
   "source": [
    "fig, ax = plt.subplots(1, 1)\n",
    "h, bins = np.histogram(test['Lb_M'][test['category']==1], bins=100)\n",
    "h1, _ = np.histogram(test['Lb_M'][test['category']==0], bins=bins)\n",
    "hep.histplot([h, h1], bins=bins, yerr=[np.sqrt(h), np.sqrt(h1)], ax=ax, label=['Signal', 'Background'], histtype='fill', stack=True)\n",
    "ax.set_xlim(4500, 6500)\n",
    "plt.legend()\n",
    "plt.xlabel(r'Mass $MeV/c^2$')\n",
    "plt.ylabel('Candidates')\n",
    "plt.show()"
   ]
  },
  {
   "cell_type": "markdown",
   "metadata": {},
   "source": [
    "# Load Model\n",
    "Now we choose to load our best performing model, the neural network."
   ]
  },
  {
   "cell_type": "code",
   "execution_count": 6,
   "metadata": {},
   "outputs": [
    {
     "name": "stderr",
     "output_type": "stream",
     "text": [
      "2022-03-31 14:29:17.570196: W tensorflow/stream_executor/platform/default/dso_loader.cc:64] Could not load dynamic library 'libcuda.so.1'; dlerror: libcuda.so.1: cannot open shared object file: No such file or directory\n",
      "2022-03-31 14:29:17.570229: W tensorflow/stream_executor/cuda/cuda_driver.cc:269] failed call to cuInit: UNKNOWN ERROR (303)\n",
      "2022-03-31 14:29:17.570251: I tensorflow/stream_executor/cuda/cuda_diagnostics.cc:156] kernel driver does not appear to be running on this host (eprexb.ph.bham.ac.uk): /proc/driver/nvidia/version does not exist\n",
      "2022-03-31 14:29:17.570578: I tensorflow/core/platform/cpu_feature_guard.cc:142] This TensorFlow binary is optimized with oneAPI Deep Neural Network Library (oneDNN) to use the following CPU instructions in performance-critical operations:  AVX2 FMA\n",
      "To enable them in other operations, rebuild TensorFlow with the appropriate compiler flags.\n"
     ]
    }
   ],
   "source": [
    "model = tf.keras.models.load_model('../neural_network/models/v9.0.5')"
   ]
  },
  {
   "cell_type": "code",
   "execution_count": 7,
   "metadata": {},
   "outputs": [
    {
     "name": "stderr",
     "output_type": "stream",
     "text": [
      "2022-03-31 14:29:23.232830: I tensorflow/compiler/mlir/mlir_graph_optimization_pass.cc:185] None of the MLIR Optimization Passes are enabled (registered 2)\n"
     ]
    },
    {
     "name": "stdout",
     "output_type": "stream",
     "text": [
      "[1.6713518e-01 9.9114811e-01 4.8980117e-04 9.7456038e-01 3.4451932e-02\n",
      " 2.3385882e-04 4.8476458e-04 5.2800775e-04 5.9075499e-01 9.4914752e-01]\n"
     ]
    }
   ],
   "source": [
    "# Make predictions with our model\n",
    "predictions = model.predict(X_test).flatten()\n",
    "print(predictions[0:10])"
   ]
  },
  {
   "cell_type": "code",
   "execution_count": 8,
   "metadata": {},
   "outputs": [
    {
     "name": "stdout",
     "output_type": "stream",
     "text": [
      "[0 1 0 1 0 0 0 0 0 1]\n"
     ]
    }
   ],
   "source": [
    "# Make these predictions into classes following our Punzi FOM analysis\n",
    "predicted_classes = np.where(predictions > 0.8, 1, 0)\n",
    "print(predicted_classes[0:10])"
   ]
  },
  {
   "cell_type": "code",
   "execution_count": 9,
   "metadata": {},
   "outputs": [],
   "source": [
    "# Append these predictions to the origina dataframe\n",
    "test['predicted_class'] = predicted_classes"
   ]
  },
  {
   "cell_type": "markdown",
   "metadata": {},
   "source": [
    "# Evaluate Cut\n",
    "Now we have made the cut we need to actually evaluate it"
   ]
  },
  {
   "cell_type": "code",
   "execution_count": 10,
   "metadata": {},
   "outputs": [
    {
     "data": {
      "image/png": "[encoded data removed]",
      "text/plain": [
       "<Figure size 720x720 with 1 Axes>"
      ]
     },
     "metadata": {
      "needs_background": "light"
     },
     "output_type": "display_data"
    }
   ],
   "source": [
    "fig, ax = plt.subplots(1, 1)\n",
    "h, _ = np.histogram(test['Lb_M'][np.logical_and(test['category']==1,test['predicted_class']==1)], bins=bins)\n",
    "h1, _ = np.histogram(test['Lb_M'][np.logical_and(test['category']==0,test['predicted_class']==1)], bins=bins)\n",
    "hep.histplot([h, h1], bins=bins, yerr=[np.sqrt(h), np.sqrt(h1)], ax=ax, label=['Signal', 'Background'], histtype='fill', stack=True)\n",
    "ax.set_xlim(4500, 6500)\n",
    "plt.legend()\n",
    "plt.xlabel(r'Mass $MeV/c^2$')\n",
    "plt.ylabel('Candidates')\n",
    "plt.show()"
   ]
  },
  {
   "cell_type": "code",
   "execution_count": 11,
   "metadata": {},
   "outputs": [
    {
     "name": "stdout",
     "output_type": "stream",
     "text": [
      "Cut Purity: 97.720%\n",
      "Signal Selection Rate: 87.694%\n"
     ]
    }
   ],
   "source": [
    "# What was the signal purity, i.e. of all that you selected how much was signal?\n",
    "purity = np.count_nonzero(np.logical_and(test['predicted_class']==1,test['category']==1))/np.count_nonzero(test['predicted_class'])\n",
    "print(f\"Cut Purity: {(purity*100):.3f}%\")\n",
    "\n",
    "# What was the rate of signal selection i.e. of all the signal in the sample how much did we get?\n",
    "selection_rate = np.count_nonzero(np.logical_and(test['predicted_class']==1,test['category']==1))/np.count_nonzero(test['category'])\n",
    "print(f\"Signal Selection Rate: {(selection_rate*100):.3f}%\")"
   ]
  },
  {
   "cell_type": "markdown",
   "metadata": {},
   "source": [
    "# Refit DCB Using Residual Mass Distribution\n",
    "We do this as this is what we would actually do if we could not just look at the real event type. We can then integrate this function between our signal region (blinded) and use this to estimate our number of signal events. We can then compare that with uncertanties to the actual value of signal events in our sample."
   ]
  },
  {
   "cell_type": "code",
   "execution_count": 12,
   "metadata": {},
   "outputs": [],
   "source": [
    "masses = test['Lb_M'][test['predicted_class']==1].to_numpy()\n",
    "obs = zfit.Space('x', limits=(np.min(masses), np.max(masses)))\n",
    "\n",
    "mu = zfit.Parameter(\"mu\", 5611.0, 5580.0, 5680.0)\n",
    "sigma = zfit.Parameter(\"sigma\", 21.79, 15, 35)\n",
    "alphal = zfit.Parameter(\"alphal\", 0.4458, -1, 1)\n",
    "nl = zfit.Parameter(\"nl\", 2.637, -3, 3)\n",
    "alphar = zfit.Parameter(\"alphar\", 1.1333, -2, 2)\n",
    "nr = zfit.Parameter(\"nr\", 2.057, -3, 3)"
   ]
  },
  {
   "cell_type": "code",
   "execution_count": 13,
   "metadata": {},
   "outputs": [],
   "source": [
    "dcb = zfit.pdf.DoubleCB(obs=obs, mu=mu, sigma=sigma, alphal=alphal, nl=nl,\n",
    "alphar=alphar, nr=nr)\n",
    "data = zfit.Data.from_numpy(obs=obs, array=masses)"
   ]
  },
  {
   "cell_type": "code",
   "execution_count": 14,
   "metadata": {},
   "outputs": [],
   "source": [
    "nll = zfit.loss.UnbinnedNLL(model=dcb, data=data)\n",
    "minimizer = zfit.minimize.Minuit()\n",
    "result = minimizer.minimize(nll, params=[alphal, nl, alphar, nr])\n",
    "# Only allow some parameters to float e.g. an amplitude"
   ]
  },
  {
   "cell_type": "code",
   "execution_count": 15,
   "metadata": {},
   "outputs": [
    {
     "name": "stdout",
     "output_type": "stream",
     "text": [
      "Function minimum: 988.6673417352479\n",
      "Converged: True\n",
      "Valid: True\n"
     ]
    }
   ],
   "source": [
    "print(f\"Function minimum: {result.fmin}\")\n",
    "print(f\"Converged: {result.converged}\")\n",
    "print(f\"Valid: {result.valid}\")"
   ]
  },
  {
   "cell_type": "code",
   "execution_count": 16,
   "metadata": {},
   "outputs": [
    {
     "name": "stderr",
     "output_type": "stream",
     "text": [
      "/home/user211/envs/scientific/lib64/python3.9/site-packages/zfit/minimizers/fitresult.py:1115: FutureWarning: 'minuit_minos' will be changed as the default errors method to a custom implementationwith the same functionality. If you want to make sure that 'minuit_minos' will be used in the future, add it explicitly as in `errors(method='minuit_minos')`\n",
      "  warnings.warn(\"'minuit_minos' will be changed as the default errors method to a custom implementation\"\n"
     ]
    },
    {
     "data": {
      "text/plain": [
       "(OrderedDict([(<zfit.Parameter 'alphal' floating=True value=0.5502>,\n",
       "               {'lower': -0.02439848965875101,\n",
       "                'upper': 0.025457205677264325,\n",
       "                'is_valid': True,\n",
       "                'upper_valid': True,\n",
       "                'lower_valid': True,\n",
       "                'at_lower_limit': False,\n",
       "                'at_upper_limit': False,\n",
       "                'nfcn': 78,\n",
       "                'original': ┌──────────┬───────────────────────┐\n",
       "│          │        alphal         │\n",
       "├──────────┼───────────┬───────────┤\n",
       "│  Error   │  -0.024   │   0.025   │\n",
       "│  Valid   │   True    │   True    │\n",
       "│ At Limit │   False   │   False   │\n",
       "│ Max FCN  │   False   │   False   │\n",
       "│ New Min  │   False   │   False   │\n",
       "└──────────┴───────────┴───────────┘,\n",
       "                'cl': 0.68268949}),\n",
       "              (<zfit.Parameter 'nl' floating=True value=2.263>,\n",
       "               {'lower': -0.09710012956982172,\n",
       "                'upper': 0.10212233726194739,\n",
       "                'is_valid': True,\n",
       "                'upper_valid': True,\n",
       "                'lower_valid': True,\n",
       "                'at_lower_limit': False,\n",
       "                'at_upper_limit': False,\n",
       "                'nfcn': 78,\n",
       "                'original': ┌──────────┬───────────────────────┐\n",
       "│          │          nl           │\n",
       "├──────────┼───────────┬───────────┤\n",
       "│  Error   │   -0.1    │    0.1    │\n",
       "│  Valid   │   True    │   True    │\n",
       "│ At Limit │   False   │   False   │\n",
       "│ Max FCN  │   False   │   False   │\n",
       "│ New Min  │   False   │   False   │\n",
       "└──────────┴───────────┴───────────┘,\n",
       "                'cl': 0.68268949}),\n",
       "              (<zfit.Parameter 'alphar' floating=True value=1.2>,\n",
       "               {'lower': -0.05634621017613794,\n",
       "                'upper': 0.05867740943614211,\n",
       "                'is_valid': True,\n",
       "                'upper_valid': True,\n",
       "                'lower_valid': True,\n",
       "                'at_lower_limit': False,\n",
       "                'at_upper_limit': False,\n",
       "                'nfcn': 78,\n",
       "                'original': ┌──────────┬───────────────────────┐\n",
       "│          │        alphar         │\n",
       "├──────────┼───────────┬───────────┤\n",
       "│  Error   │   -0.06   │   0.06    │\n",
       "│  Valid   │   True    │   True    │\n",
       "│ At Limit │   False   │   False   │\n",
       "│ Max FCN  │   False   │   False   │\n",
       "│ New Min  │   False   │   False   │\n",
       "└──────────┴───────────┴───────────┘,\n",
       "                'cl': 0.68268949}),\n",
       "              (<zfit.Parameter 'nr' floating=True value=1.962>,\n",
       "               {'lower': -0.1269994494115854,\n",
       "                'upper': 0.13507746576160742,\n",
       "                'is_valid': True,\n",
       "                'upper_valid': True,\n",
       "                'lower_valid': True,\n",
       "                'at_lower_limit': False,\n",
       "                'at_upper_limit': False,\n",
       "                'nfcn': 78,\n",
       "                'original': ┌──────────┬───────────────────────┐\n",
       "│          │          nr           │\n",
       "├──────────┼───────────┬───────────┤\n",
       "│  Error   │   -0.13   │   0.14    │\n",
       "│  Valid   │   True    │   True    │\n",
       "│ At Limit │   False   │   False   │\n",
       "│ Max FCN  │   False   │   False   │\n",
       "│ New Min  │   False   │   False   │\n",
       "└──────────┴───────────┴───────────┘,\n",
       "                'cl': 0.68268949})]),\n",
       " None)"
      ]
     },
     "execution_count": 16,
     "metadata": {},
     "output_type": "execute_result"
    }
   ],
   "source": [
    "param_errors = result.errors()\n",
    "param_errors"
   ]
  },
  {
   "cell_type": "code",
   "execution_count": 22,
   "metadata": {},
   "outputs": [
    {
     "name": "stdout",
     "output_type": "stream",
     "text": [
      "name      value         minuit_minos    at limit\n",
      "------  -------  -------------------  ----------\n",
      "alphal   0.5502  -  0.024   +  0.025       False\n",
      "nl        2.263  -  0.097   +    0.1       False\n",
      "alphar      1.2  -  0.056   +  0.059       False\n",
      "nr        1.962  -   0.13   +   0.14       False\n"
     ]
    }
   ],
   "source": [
    "# Information on all the parameters in the fit\n",
    "print(result.params)"
   ]
  },
  {
   "cell_type": "code",
   "execution_count": 23,
   "metadata": {},
   "outputs": [
    {
     "data": {
      "image/png": "[encoded data removed]",
      "text/plain": [
       "<Figure size 720x720 with 1 Axes>"
      ]
     },
     "metadata": {
      "needs_background": "light"
     },
     "output_type": "display_data"
    }
   ],
   "source": [
    "# plot the data as a histogramm # issues start ere....\n",
    "bins = 100\n",
    "lower, upper = obs.limits\n",
    "counts, bin_edges = np.histogram(masses, bins, range=(lower[-1][0], upper[0][0]))\n",
    "hep.histplot((counts, bin_edges), yerr=True, histtype='errorbar')\n",
    "\n",
    "# evaluate the func at multiple x and plot\n",
    "x_plot = np.linspace(lower[-1][0], upper[0][0], num=1000)\n",
    "y_plot = zfit.run(dcb.pdf(x_plot, norm_range=obs))\n",
    "plt.plot(x_plot, y_plot * masses.shape[0] / bins * obs.area())\n",
    "plt.show()"
   ]
  },
  {
   "cell_type": "code",
   "execution_count": 24,
   "metadata": {},
   "outputs": [
    {
     "data": {
      "text/plain": [
       "0.9910133355021095"
      ]
     },
     "execution_count": 24,
     "metadata": {},
     "output_type": "execute_result"
    }
   ],
   "source": [
    "# Candidate estimate\n",
    "BGInterpVal=dcb.integrate(limits=(4500, 6500), norm_range=dcb.norm_range)#*result.params[\"exp_yield_exp_%s\"%label][\"value\"]\n",
    "# so limits are whatever the range of values are, ensure they are within the \"space\" for the fit.\n",
    "# norm_range is the simply the range which the fit is calculated over\n",
    "# this calculates the relative fraction of candidates in the limits given compared to the full space over which was integrated\n",
    "# and then multiplying by the yield scales it down/up to the actual number of candidates relative to the yield.\n",
    "particle_yield = 1\n",
    "np.array(BGInterpVal)[0] * particle_yield"
   ]
  },
  {
   "cell_type": "code",
   "execution_count": 25,
   "metadata": {},
   "outputs": [
    {
     "name": "stdout",
     "output_type": "stream",
     "text": [
      "0    3731\n",
      "1    3665\n",
      "Name: category, dtype: int64\n",
      "3214\n",
      "75\n"
     ]
    }
   ],
   "source": [
    "print(test.category.value_counts()) # no of signal events in the sample\n",
    "print(np.count_nonzero(np.logical_and(test['category']==1,test['predicted_class']==1))) # no of real signal events identified\n",
    "print(np.count_nonzero(np.logical_and(test['category']==0,test['predicted_class']==1))) # no of bg events id'd as signal"
   ]
  },
  {
   "cell_type": "markdown",
   "metadata": {},
   "source": [
    "SO then the model did pretty well of the 3665 signal events it selected 3214 (87.7% efficient) whilst keeping incorrect background identification very low. Identifying 75 of 3731 background events as signal (2.0%). The achieved signal to background ratio is $\\frac{S}{B}=42.9$ and $\\frac{S}{\\sqrt{S+B}}=56.04$."
   ]
  }
 ],
 "metadata": {
  "interpreter": {
   "hash": "cbd4dc6d56a1e42dbf8f7497fabd23f5df4d7139d9bd66320241cd36a8438585"
  },
  "kernelspec": {
   "display_name": "lb-dog",
   "language": "python",
   "name": "python3"
  },
  "language_info": {
   "codemirror_mode": {
    "name": "ipython",
    "version": 3
   },
   "file_extension": ".py",
   "mimetype": "text/x-python",
   "name": "python",
   "nbconvert_exporter": "python",
   "pygments_lexer": "ipython3",
   "version": "3.9.6"
  },
  "orig_nbformat": 4
 },
 "nbformat": 4,
 "nbformat_minor": 2
}
