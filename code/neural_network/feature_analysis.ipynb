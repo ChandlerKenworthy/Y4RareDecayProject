{
 "cells": [
  {
   "cell_type": "code",
   "execution_count": 5,
   "metadata": {},
   "outputs": [],
   "source": [
    "import pandas as pd\n",
    "import matplotlib.pyplot as plt\n",
    "import numpy as np\n",
    "import sys\n",
    "sys.path.append('../')\n",
    "import utilities as ut"
   ]
  },
  {
   "cell_type": "code",
   "execution_count": 16,
   "metadata": {},
   "outputs": [],
   "source": [
    "def plot_feature_distribution(feature, df, nbins, save=None):\n",
    "\n",
    "    if type(feature) is not list:\n",
    "        feature = [feature]\n",
    "\n",
    "    cols = 4\n",
    "    rows = int(np.ceil(len(feature)/4))\n",
    "\n",
    "    fig, ax = plt.subplots(rows, cols, figsize=(22, 5*rows))\n",
    "    ax = ax.flatten()\n",
    "\n",
    "    for j, ft in enumerate(feature):\n",
    "        #g = df.groupby('category')\n",
    "        start, stop = df[ft].min(), df[ft].max()\n",
    "\n",
    "        bins = np.linspace(start, stop, nbins + 1)\n",
    "        centres = [np.mean(bins[i:i+2]) for i in range(len(bins)-1)]\n",
    "        width = bins[1] - bins[0]\n",
    "\n",
    "        a = np.histogram(df[ft], bins, density=True)[0]\n",
    "\n",
    "        ax[j].bar(centres, a, label='Sim. Signal', edgecolor='k', width=width, alpha=0.7)\n",
    "        ax[j].set_title(f'Distribution of {ft}')\n",
    "        ax[j].legend(frameon=False)\n",
    "\n",
    "    if save is not None:\n",
    "        plt.savefig(save, dpi=800)\n",
    "\n",
    "    return fig, ax"
   ]
  },
  {
   "cell_type": "code",
   "execution_count": 7,
   "metadata": {},
   "outputs": [],
   "source": [
    "real, sim = ut.Data(*ut.Consts().get_real_tuple()), ut.Data(*ut.Consts().get_simulated_tuple())\n",
    "rkeys, skeys = real.get_keys(), sim.get_keys()"
   ]
  },
  {
   "cell_type": "code",
   "execution_count": 10,
   "metadata": {},
   "outputs": [
    {
     "data": {
      "text/plain": [
       "(4323, 2941)"
      ]
     },
     "execution_count": 10,
     "metadata": {},
     "output_type": "execute_result"
    }
   ],
   "source": [
    "len(rkeys), len(skeys)\n",
    "# Many more real than simulated features..."
   ]
  },
  {
   "cell_type": "code",
   "execution_count": 14,
   "metadata": {},
   "outputs": [],
   "source": [
    "all_keys = [key for key in rkeys if key in skeys]\n",
    "# Only keep keys common to both\n",
    "len(all_keys)\n",
    "\n",
    "pd.DataFrame({'Feature': all_keys}).to_csv('common_features.txt', sep=' ', index=None)"
   ]
  },
  {
   "cell_type": "code",
   "execution_count": 79,
   "metadata": {},
   "outputs": [
    {
     "data": {
      "text/plain": [
       "127"
      ]
     },
     "execution_count": 79,
     "metadata": {},
     "output_type": "execute_result"
    }
   ],
   "source": [
    "chi2 = pd.read_csv('common_features.txt', sep=' ')['Feature']\n",
    "chi2 = [feat for feat in chi2 if 'chi2' in feat.lower()]\n",
    "# Get all the CHI2 features that are common to the sets\n",
    "chi2.remove('PVCHI2')\n",
    "chi2.remove('Lb_DTF_PV_Psi_chi2')\n",
    "chi2.remove('Lb_DTF_PV_L1520-JPs_chi2')\n",
    "chi2.remove('Lb_DTF_PV_L1520_chi2')\n",
    "chi2.remove('Lb_DTF_PV_JPs_chi2')\n",
    "chi2.remove('Lb_DTF_PV_chi2')\n",
    "len(chi2)"
   ]
  },
  {
   "cell_type": "code",
   "execution_count": null,
   "metadata": {},
   "outputs": [],
   "source": [
    "pd.DataFrame({'Feature': ['PVCHI2', 'Lb_DTF_PV_Psi_chi2', 'Lb_DTF_PV_L1520-JPs_chi2', 'Lb_DTF_PV_L1520_chi2', 'Lb_DTF_PV_JPs_chi2', 'Lb_DTF_PV_chi2']}).to_csv('error_features.txt', sep=' ', index=None)"
   ]
  }
 ],
 "metadata": {
  "interpreter": {
   "hash": "9ca4116ab2c7470d45496f3104a2f3648c94db730a0039ceabb3a0fb6fe42410"
  },
  "kernelspec": {
   "display_name": "Python 3.9.7 ('linux-64')",
   "language": "python",
   "name": "python3"
  },
  "language_info": {
   "codemirror_mode": {
    "name": "ipython",
    "version": 3
   },
   "file_extension": ".py",
   "mimetype": "text/x-python",
   "name": "python",
   "nbconvert_exporter": "python",
   "pygments_lexer": "ipython3",
   "version": "3.9.7"
  },
  "orig_nbformat": 4
 },
 "nbformat": 4,
 "nbformat_minor": 2
}
