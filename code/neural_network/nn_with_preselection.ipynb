{
 "cells": [
  {
   "cell_type": "markdown",
   "metadata": {},
   "source": [
    "# Neural Network with Pre-Selection\n"
   ]
  },
  {
   "cell_type": "code",
   "execution_count": 1,
   "metadata": {},
   "outputs": [],
   "source": [
    "import numpy as np\n",
    "import tensorflow as tf\n",
    "import pandas as pd\n",
    "from tensorflow import keras\n",
    "import matplotlib.pyplot as plt\n",
    "import sys\n",
    "sys.path.append('../')\n",
    "from utilities import Data, Consts\n",
    "import data_pipeline as dp\n",
    "import pickle"
   ]
  },
  {
   "cell_type": "markdown",
   "metadata": {},
   "source": [
    "## Pre-Selection\n",
    "We start by implementing the simulated pre-selection cuts. They are different for the simulated and real data. The cut strings have been made by Dan. The function below just finds all the features that are needed and fetches them. It then turns the string into a format that can just be fed into the dataframe."
   ]
  },
  {
   "cell_type": "code",
   "execution_count": 2,
   "metadata": {},
   "outputs": [],
   "source": [
    "s = \"(((( Lb_M01_Subst0_p2K <1019.461-12)|( Lb_M01_Subst0_p2K >1019.461+12))&((((((243716.98437715+ p_P **2)**0.5+ K_PE + L2_PE )**2-( p_PX + K_PX + L2_PX )**2-( p_PY + K_PY + L2_PY )**2-( p_PZ + K_PZ + L2_PZ )**2)**0.5)>2000)&(((((243716.98437715+ p_P **2)**0.5+ K_PE + L1_PE )**2-( p_PX + K_PX + L1_PX )**2-( p_PY + K_PY + L1_PY )**2-( p_PZ + K_PZ + L1_PZ )**2)**0.5)>2000))&((((((((880354.49999197+ p_P **2)**0.5+(243716.98437715+ K_P **2)**0.5+(0.26112103+ L2_P **2)**0.5)**2-( p_PX + K_PX + L2_PX )**2-( p_PY + K_PY + L2_PY )**2-( p_PZ + K_PZ + L2_PZ )**2)**0.5)>2320)&((( L2_ID <0)&( p_ID >0))|(( L2_ID >0)&( p_ID <0))))|((( L1_ID <0)&( p_ID >0))|(( L1_ID >0)&( p_ID <0))))&(((((((880354.49999197+ p_P **2)**0.5+(243716.98437715+ K_P **2)**0.5+(11163.69140675+ L1_P **2)**0.5)**2-( p_PX + K_PX + L1_PX )**2-( p_PY + K_PY + L1_PY )**2-( p_PZ + K_PZ + L1_PZ )**2)**0.5)>2320)&((( L1_ID <0)&( p_ID >0))|(( L1_ID >0)&( p_ID <0))))|((( L2_ID <0)&( p_ID >0))|(( L2_ID >0)&( p_ID <0)))))&(( Lb_M23 >3178.05)|( Lb_M23 <3000))&((((((( K_PE +(19479.95517577+ L2_P **2)**0.5)**2-( K_PX + L2_PX )**2-( K_PY + L2_PY )**2-( K_PZ + L2_PZ )**2)**0.5)>1865+20)|(((( K_PE +(19479.95517577+ L2_P **2)**0.5)**2-( K_PX + L2_PX )**2-( K_PY + L2_PY )**2-( K_PZ + L2_PZ )**2)**0.5)<1865-20))&((( L2_ID <0)&( p_ID >0))|(( L2_ID >0)&( p_ID <0))))|((( L1_ID <0)&( p_ID >0))|(( L1_ID >0)&( p_ID <0))))&((((((((11163.69140675+ K_P **2)**0.5+ L1_PE )**2-( K_PX + L1_PX )**2-( K_PY + L1_PY )**2-( K_PZ + L1_PZ )**2)**0.5)>3097+35)|(((((11163.69140675+ K_P **2)**0.5+ L1_PE )**2-( K_PX + L1_PX )**2-( K_PY + L1_PY )**2-( K_PZ + L1_PZ )**2)**0.5)<3097-35))&((( L1_ID <0)&( p_ID >0))|(( L1_ID >0)&( p_ID <0))))|((( L2_ID <0)&( p_ID >0))|(( L2_ID >0)&( p_ID <0))))&((((((((243716.98437715+ p_P **2)**0.5+(19479.95517577+ L2_P **2)**0.5)**2-( p_PX + L2_PX )**2-( p_PY + L2_PY )**2-( p_PZ + L2_PZ )**2)**0.5)>1865+20)|(((((243716.98437715+ p_P **2)**0.5+(19479.95517577+ L2_P **2)**0.5)**2-( p_PX + L2_PX )**2-( p_PY + L2_PY )**2-( p_PZ + L2_PZ )**2)**0.5)<1865-20))&((( L2_ID >0)&( p_ID >0))|(( L2_ID <0)&( p_ID <0))))|((( L1_ID >0)&( p_ID >0))|(( L1_ID <0)&( p_ID <0))))&((( p_PX * L1_PX + p_PY * L1_PY + p_PZ * L1_PZ )/( p_P * L1_P )<np.cos(1e-3))&(( p_PX * L2_PX + p_PY * L2_PY + p_PZ * L2_PZ )/( p_P * L2_P )<np.cos(1e-3))&(( K_PX * L1_PX + K_PY * L1_PY + K_PZ * L1_PZ )/( K_P * L1_P )<np.cos(1e-3))&(( K_PX * L2_PX + K_PY * L2_PY + K_PZ * L2_PZ )/( K_P * L2_P )<np.cos(1e-3)))&(( p_PX * K_PX + p_PY * K_PY + p_PZ * K_PZ )/( p_P * K_P )<np.cos(1e-3)))&( L1_L0MuonDecision_TOS )&(( Lb_Hlt1TrackMVADecision_TOS )|( Lb_Hlt1TrackMuonDecision_TOS ))&( Lb_Hlt2Topo2BodyDecision_TOS | Lb_Hlt2Topo3BodyDecision_TOS | Lb_Hlt2Topo4BodyDecision_TOS | Lb_Hlt2TopoMu2BodyDecision_TOS | Lb_Hlt2TopoMu3BodyDecision_TOS | Lb_Hlt2TopoMu4BodyDecision_TOS )&(( LStar_M >1448)&( LStar_M <1591))&(( Lb_BKGCAT ==10)|( Lb_BKGCAT ==50)))\"\n",
    "r = \"((( Lb_M01_Subst0_p2K <1019.461-12)|( Lb_M01_Subst0_p2K >1019.461+12))&((((((243716.98437715+ p_P **2)**0.5+ K_PE + L2_PE )**2-( p_PX + K_PX + L2_PX )**2-( p_PY + K_PY + L2_PY )**2-( p_PZ + K_PZ + L2_PZ )**2)**0.5)>2000)&(((((243716.98437715+ p_P **2)**0.5+ K_PE + L1_PE )**2-( p_PX + K_PX + L1_PX )**2-( p_PY + K_PY + L1_PY )**2-( p_PZ + K_PZ + L1_PZ )**2)**0.5)>2000))&((((((((880354.49999197+ p_P **2)**0.5+(243716.98437715+ K_P **2)**0.5+(0.26112103+ L2_P **2)**0.5)**2-( p_PX + K_PX + L2_PX )**2-( p_PY + K_PY + L2_PY )**2-( p_PZ + K_PZ + L2_PZ )**2)**0.5)>2320)&((( L2_ID <0)&( p_ID >0))|(( L2_ID >0)&( p_ID <0))))|((( L1_ID <0)&( p_ID >0))|(( L1_ID >0)&( p_ID <0))))&(((((((880354.49999197+ p_P **2)**0.5+(243716.98437715+ K_P **2)**0.5+(11163.69140675+ L1_P **2)**0.5)**2-( p_PX + K_PX + L1_PX )**2-( p_PY + K_PY + L1_PY )**2-( p_PZ + K_PZ + L1_PZ )**2)**0.5)>2320)&((( L1_ID <0)&( p_ID >0))|(( L1_ID >0)&( p_ID <0))))|((( L2_ID <0)&( p_ID >0))|(( L2_ID >0)&( p_ID <0)))))&(( Lb_M23 >3178.05)|( Lb_M23 <3000))&((((((( K_PE +(19479.95517577+ L2_P **2)**0.5)**2-( K_PX + L2_PX )**2-( K_PY + L2_PY )**2-( K_PZ + L2_PZ )**2)**0.5)>1865+20)|(((( K_PE +(19479.95517577+ L2_P **2)**0.5)**2-( K_PX + L2_PX )**2-( K_PY + L2_PY )**2-( K_PZ + L2_PZ )**2)**0.5)<1865-20))&((( L2_ID <0)&( p_ID >0))|(( L2_ID >0)&( p_ID <0))))|((( L1_ID <0)&( p_ID >0))|(( L1_ID >0)&( p_ID <0))))&((((((((11163.69140675+ K_P **2)**0.5+ L1_PE )**2-( K_PX + L1_PX )**2-( K_PY + L1_PY )**2-( K_PZ + L1_PZ )**2)**0.5)>3097+35)|(((((11163.69140675+ K_P **2)**0.5+ L1_PE )**2-( K_PX + L1_PX )**2-( K_PY + L1_PY )**2-( K_PZ + L1_PZ )**2)**0.5)<3097-35))&((( L1_ID <0)&( p_ID >0))|(( L1_ID >0)&( p_ID <0))))|((( L2_ID <0)&( p_ID >0))|(( L2_ID >0)&( p_ID <0))))&((((((((243716.98437715+ p_P **2)**0.5+(19479.95517577+ L2_P **2)**0.5)**2-( p_PX + L2_PX )**2-( p_PY + L2_PY )**2-( p_PZ + L2_PZ )**2)**0.5)>1865+20)|(((((243716.98437715+ p_P **2)**0.5+(19479.95517577+ L2_P **2)**0.5)**2-( p_PX + L2_PX )**2-( p_PY + L2_PY )**2-( p_PZ + L2_PZ )**2)**0.5)<1865-20))&((( L2_ID >0)&( p_ID >0))|(( L2_ID <0)&( p_ID <0))))|((( L1_ID >0)&( p_ID >0))|(( L1_ID <0)&( p_ID <0))))&((( p_PX * L1_PX + p_PY * L1_PY + p_PZ * L1_PZ )/( p_P * L1_P )<np.cos(1e-3))&(( p_PX * L2_PX + p_PY * L2_PY + p_PZ * L2_PZ )/( p_P * L2_P )<np.cos(1e-3))&(( K_PX * L1_PX + K_PY * L1_PY + K_PZ * L1_PZ )/( K_P * L1_P )<np.cos(1e-3))&(( K_PX * L2_PX + K_PY * L2_PY + K_PZ * L2_PZ )/( K_P * L2_P )<np.cos(1e-3)))&(( p_PX * K_PX + p_PY * K_PY + p_PZ * K_PZ )/( p_P * K_P )<np.cos(1e-3)))\"\n",
    "# The pre-selection strings"
   ]
  },
  {
   "cell_type": "code",
   "execution_count": 3,
   "metadata": {},
   "outputs": [],
   "source": [
    "simulated_fts, sdfstring = dp.get_required_features(s, df_prefix='sf')\n",
    "real_fts, rdfstring = dp.get_required_features(r, df_prefix='rf')\n",
    "# Find the features needed from pre-selection string\n",
    "\n",
    "real, sim = Data(*Consts().get_real_tuple()), Data(*Consts().get_simulated_tuple())\n",
    "rf, sf = real.fetch_features(real_fts), sim.fetch_features(simulated_fts)\n",
    "# Gather all those features, remember we get eventNumber returned as an index\n",
    "\n",
    "pre_selection_rf = rf[eval(rdfstring)]\n",
    "pre_selection_sf = sf[eval(sdfstring)]\n",
    "# Apply the pre-selection criteria"
   ]
  },
  {
   "cell_type": "markdown",
   "metadata": {},
   "source": [
    "The pre-selections really did cut our data down alot! We removed 76.2% of the real data and 79.9% of the simulated data. Oh no, we are going to need more data now."
   ]
  },
  {
   "cell_type": "code",
   "execution_count": 4,
   "metadata": {},
   "outputs": [],
   "source": [
    "# Get the eventNumber of the remaining events, these are the only ones we will use to train any future neural network.\n",
    "real_eventNumbers = pre_selection_rf.index.to_list()\n",
    "sim_eventNumbers = pre_selection_sf.index.to_list()\n",
    "\n",
    "keep_events = {\n",
    "    'real': real_eventNumbers,\n",
    "    'sim': sim_eventNumbers\n",
    "}"
   ]
  },
  {
   "cell_type": "markdown",
   "metadata": {},
   "source": [
    "## Reading in Data"
   ]
  },
  {
   "cell_type": "code",
   "execution_count": 5,
   "metadata": {},
   "outputs": [
    {
     "data": {
      "text/plain": [
       "127"
      ]
     },
     "execution_count": 5,
     "metadata": {},
     "output_type": "execute_result"
    }
   ],
   "source": [
    "chi2 = pd.read_csv('common_features.txt', sep=' ')['Feature']\n",
    "chi2 = [feat for feat in chi2 if 'chi2' in feat.lower()]\n",
    "# Get all the CHI2 features that are common to the sets\n",
    "errs = pd.read_csv('error_features.txt', sep=' ')['Feature'].to_list()\n",
    "chi2 = [f for f in chi2 if f not in errs]\n",
    "# Remove all CHI2 features that cause errors in the reading process\n",
    "len(chi2)"
   ]
  },
  {
   "cell_type": "code",
   "execution_count": 6,
   "metadata": {},
   "outputs": [
    {
     "data": {
      "text/plain": [
       "151"
      ]
     },
     "execution_count": 6,
     "metadata": {},
     "output_type": "execute_result"
    }
   ],
   "source": [
    "particle_features = ['Theta', 'MINIP', 'PX', 'PY', 'PZ', 'PT']\n",
    "particles = ['L1', 'L2', 'p', 'K']\n",
    "feats = [particle + \"_\" + ft for ft in particle_features for particle in particles]\n",
    "feats += chi2\n",
    "# Define the set of features we want to have, PVCHI2 seems to cause weird errors\n",
    "len(feats)"
   ]
  },
  {
   "cell_type": "code",
   "execution_count": 7,
   "metadata": {},
   "outputs": [
    {
     "name": "stdout",
     "output_type": "stream",
     "text": [
      "Fetching features\n",
      "[====================] 100% Complete\n",
      "Applying pre-selection event number cuts\n",
      "No. simulated events: 21727\n",
      "No. real events: 132974\n",
      "Pre-selection criteria applied\n",
      "No. simulated events: 4402\n",
      "No. real events: 31593\n",
      "Features requested successfully\n"
     ]
    }
   ],
   "source": [
    "df = dp.get_combined_data(feats, keep_only_events=keep_events, random_shuffle=True, random_state=0, remove_na=False)\n",
    "# I will always use n a random state of zero for reproducibility of the notebook"
   ]
  },
  {
   "cell_type": "code",
   "execution_count": 51,
   "metadata": {},
   "outputs": [
    {
     "data": {
      "text/plain": [
       "['Lb_IPChi2_01',\n",
       " 'Lb_IPChi2_02',\n",
       " 'Lb_IPChi2_03',\n",
       " 'Lb_IPChi2_12',\n",
       " 'Lb_IPChi2_13',\n",
       " 'Lb_IPChi2_012',\n",
       " 'Lb_IPChi2_013',\n",
       " 'Lb_IPChi2_023',\n",
       " 'Lb_IPChi2_123',\n",
       " 'Lb_IPChi2_0123']"
      ]
     },
     "execution_count": 51,
     "metadata": {},
     "output_type": "execute_result"
    }
   ],
   "source": [
    "has_missing = df[df.isna().any(axis=1)]\n",
    "has_missing.columns[has_missing.isna().any()].to_list()\n",
    "# These features have missing values for some events! We could do some feature enginneering...or just drop the features.. we have\n",
    "# so many it doesn't even matter"
   ]
  },
  {
   "cell_type": "code",
   "execution_count": 55,
   "metadata": {},
   "outputs": [],
   "source": [
    "empty_events = pd.isnull(has_missing).any(1).to_numpy().nonzero()[0]\n",
    "# Then again there are not many events with missing values so we could just remove them..."
   ]
  },
  {
   "cell_type": "code",
   "execution_count": 56,
   "metadata": {},
   "outputs": [
    {
     "name": "stdout",
     "output_type": "stream",
     "text": [
      "[0, 0, 0, 0, 0, 0, 0, 0, 0, 0, 0, 0, 0, 0, 0, 0, 0, 0, 0, 0, 0, 0, 0, 0, 0, 0, 0, 0, 0, 0, 0, 0, 0, 0, 0, 0, 0, 0, 0, 0, 0, 0, 0, 0, 0, 0, 0, 0, 0, 0, 0, 0, 0, 0, 0, 0, 0, 0, 0, 0, 0, 0, 0, 0, 0, 0, 0, 0, 0, 0, 0]\n"
     ]
    }
   ],
   "source": [
    "# See what type of events the missing values are from\n",
    "print(df.iloc[pd.isnull(df).any(1).to_numpy().nonzero()[0]]['category'].to_list())"
   ]
  },
  {
   "cell_type": "code",
   "execution_count": 57,
   "metadata": {},
   "outputs": [
    {
     "name": "stdout",
     "output_type": "stream",
     "text": [
      "(35924, 176)\n"
     ]
    },
    {
     "data": {
      "text/plain": [
       "(35853, 176)"
      ]
     },
     "execution_count": 57,
     "metadata": {},
     "output_type": "execute_result"
    }
   ],
   "source": [
    "# These missing features are all contained within background events so we can just bin them off tbh since N(background)/N(signal) >> 1. \n",
    "print(df.shape)\n",
    "df.dropna(axis=0, inplace=True)\n",
    "df.shape"
   ]
  },
  {
   "cell_type": "markdown",
   "metadata": {},
   "source": [
    "## Feature Engineering\n",
    "Now we will make some new features out of those that we have already requested. This could significantly improve network performance. Essentially it does the job of the network for it. For example we expect some angles and differences between angles to be useful.\n",
    "\n",
    "Note that we do not need to review these distributions since these have already been done in a previous notebook. Essentially they all look somewhat similar, maybe this is bad for performance but at least it shows that the simulated data is reproducing the real data well. "
   ]
  },
  {
   "cell_type": "code",
   "execution_count": 62,
   "metadata": {},
   "outputs": [],
   "source": [
    "for particle in particles:\n",
    "    df[particle + \"_P\"] = np.sqrt(df[particle + \"_PT\"]**2 + df[particle + \"_PZ\"]**2)\n",
    "    df[particle + '_alpha'] = np.arcsin(df[particle + '_PT']/df[particle + '_P'])\n",
    "    df[particle + '_normPT'] = df[particle + \"_PT\"]/df[particle + \"_P\"]\n",
    "    \n",
    "combinations = np.array([\n",
    "    ['L1', 'L2'],\n",
    "    ['L1', 'p'],\n",
    "    ['L1', 'K'],\n",
    "    ['L2', 'p'],\n",
    "    ['L2', 'K'],\n",
    "    ['p', 'K']\n",
    "])\n",
    "\n",
    "for combo in combinations:\n",
    "    namePT = f\"{combo[0]}_minus_PT_{combo[1]}\"\n",
    "    nameALPHA = f\"{combo[0]}_minus_alpha_{combo[1]}\"\n",
    "    df[namePT] = df[combo[0] + \"_normPT\"] - df[combo[1] + \"_normPT\"]\n",
    "    df[nameALPHA] = df[combo[0] + \"_alpha\"] - df[combo[1] + \"_alpha\"]"
   ]
  },
  {
   "cell_type": "markdown",
   "metadata": {},
   "source": [
    "## Model Design and Training"
   ]
  },
  {
   "cell_type": "code",
   "execution_count": 63,
   "metadata": {},
   "outputs": [
    {
     "data": {
      "text/plain": [
       "((21511, 175), (21511,), (7171, 175), (7171, 175))"
      ]
     },
     "execution_count": 63,
     "metadata": {},
     "output_type": "execute_result"
    }
   ],
   "source": [
    "(X_train, y_train), (X_val, y_val), (X_test, y_test) = dp.prepare_data(df, train_frac=0.6, val_frac=0.2, test_frac=0.2, random_state=1)\n",
    "# Get the training, validation and test data, also inspect it for proof-of-concept\n",
    "\n",
    "X_train.shape, y_train.shape, X_val.shape, X_test.shape"
   ]
  },
  {
   "cell_type": "code",
   "execution_count": 69,
   "metadata": {},
   "outputs": [
    {
     "name": "stdout",
     "output_type": "stream",
     "text": [
      "Epoch 1/100\n",
      "22/22 [==============================] - 6s 135ms/step - loss: 4.9114 - binary_accuracy: 0.8803 - auc: 0.8204 - true_positives: 839.0000 - true_negatives: 18098.0000 - false_positives: 769.0000 - false_negatives: 1805.0000 - val_loss: 4.3726 - val_binary_accuracy: 0.9294 - val_auc: 0.9560 - val_true_positives: 671.0000 - val_true_negatives: 5994.0000 - val_false_positives: 290.0000 - val_false_negatives: 216.0000\n",
      "Epoch 2/100\n",
      "22/22 [==============================] - 2s 80ms/step - loss: 3.6988 - binary_accuracy: 0.9252 - auc: 0.9417 - true_positives: 1586.0000 - true_negatives: 18316.0000 - false_positives: 551.0000 - false_negatives: 1058.0000 - val_loss: 3.3964 - val_binary_accuracy: 0.9366 - val_auc: 0.9751 - val_true_positives: 487.0000 - val_true_negatives: 6229.0000 - val_false_positives: 55.0000 - val_false_negatives: 400.0000\n",
      "Epoch 3/100\n",
      "22/22 [==============================] - 2s 91ms/step - loss: 2.8583 - binary_accuracy: 0.9350 - auc: 0.9541 - true_positives: 1744.0000 - true_negatives: 18369.0000 - false_positives: 498.0000 - false_negatives: 900.0000 - val_loss: 2.4899 - val_binary_accuracy: 0.9506 - val_auc: 0.9764 - val_true_positives: 656.0000 - val_true_negatives: 6161.0000 - val_false_positives: 123.0000 - val_false_negatives: 231.0000\n",
      "Epoch 4/100\n",
      "22/22 [==============================] - 2s 98ms/step - loss: 2.0887 - binary_accuracy: 0.9412 - auc: 0.9630 - true_positives: 1896.0000 - true_negatives: 18350.0000 - false_positives: 517.0000 - false_negatives: 748.0000 - val_loss: 1.7771 - val_binary_accuracy: 0.9306 - val_auc: 0.9773 - val_true_positives: 426.0000 - val_true_negatives: 6247.0000 - val_false_positives: 37.0000 - val_false_negatives: 461.0000\n",
      "Epoch 5/100\n",
      "22/22 [==============================] - 2s 90ms/step - loss: 1.4753 - binary_accuracy: 0.9438 - auc: 0.9678 - true_positives: 1960.0000 - true_negatives: 18343.0000 - false_positives: 524.0000 - false_negatives: 684.0000 - val_loss: 1.2702 - val_binary_accuracy: 0.9200 - val_auc: 0.9770 - val_true_positives: 341.0000 - val_true_negatives: 6256.0000 - val_false_positives: 28.0000 - val_false_negatives: 546.0000\n",
      "Epoch 6/100\n",
      "22/22 [==============================] - 2s 91ms/step - loss: 1.0283 - binary_accuracy: 0.9493 - auc: 0.9696 - true_positives: 2042.0000 - true_negatives: 18379.0000 - false_positives: 488.0000 - false_negatives: 602.0000 - val_loss: 1.0139 - val_binary_accuracy: 0.8813 - val_auc: 0.9751 - val_true_positives: 39.0000 - val_true_negatives: 6281.0000 - val_false_positives: 3.0000 - val_false_negatives: 848.0000\n",
      "Epoch 7/100\n",
      "22/22 [==============================] - 2s 79ms/step - loss: 0.7397 - binary_accuracy: 0.9500 - auc: 0.9736 - true_positives: 2037.0000 - true_negatives: 18399.0000 - false_positives: 468.0000 - false_negatives: 607.0000 - val_loss: 0.8943 - val_binary_accuracy: 0.8763 - val_auc: 0.9752 - val_true_positives: 0.0000e+00 - val_true_negatives: 6284.0000 - val_false_positives: 0.0000e+00 - val_false_negatives: 887.0000\n",
      "Epoch 8/100\n",
      "22/22 [==============================] - 2s 90ms/step - loss: 0.5762 - binary_accuracy: 0.9479 - auc: 0.9702 - true_positives: 1960.0000 - true_negatives: 18430.0000 - false_positives: 437.0000 - false_negatives: 684.0000 - val_loss: 0.7960 - val_binary_accuracy: 0.8763 - val_auc: 0.9530 - val_true_positives: 0.0000e+00 - val_true_negatives: 6284.0000 - val_false_positives: 0.0000e+00 - val_false_negatives: 887.0000\n",
      "Epoch 9/100\n",
      "22/22 [==============================] - 2s 91ms/step - loss: 0.4620 - binary_accuracy: 0.9504 - auc: 0.9722 - true_positives: 1974.0000 - true_negatives: 18471.0000 - false_positives: 396.0000 - false_negatives: 670.0000 - val_loss: 149670.0000 - val_binary_accuracy: 0.8769 - val_auc: 0.9689 - val_true_positives: 6.0000 - val_true_negatives: 6282.0000 - val_false_positives: 2.0000 - val_false_negatives: 881.0000\n",
      "Epoch 10/100\n",
      "22/22 [==============================] - 2s 96ms/step - loss: 0.3769 - binary_accuracy: 0.9537 - auc: 0.9743 - true_positives: 2085.0000 - true_negatives: 18429.0000 - false_positives: 438.0000 - false_negatives: 559.0000 - val_loss: 0.6729 - val_binary_accuracy: 0.8763 - val_auc: 0.9332 - val_true_positives: 0.0000e+00 - val_true_negatives: 6284.0000 - val_false_positives: 0.0000e+00 - val_false_negatives: 887.0000\n",
      "Epoch 11/100\n",
      "22/22 [==============================] - 2s 90ms/step - loss: 0.3512 - binary_accuracy: 0.9504 - auc: 0.9724 - true_positives: 1987.0000 - true_negatives: 18456.0000 - false_positives: 411.0000 - false_negatives: 657.0000 - val_loss: 3788632.0000 - val_binary_accuracy: 0.8762 - val_auc: 0.9612 - val_true_positives: 2.0000 - val_true_negatives: 6281.0000 - val_false_positives: 3.0000 - val_false_negatives: 885.0000\n",
      "Epoch 12/100\n",
      "22/22 [==============================] - 2s 90ms/step - loss: 0.2989 - binary_accuracy: 0.9578 - auc: 0.9779 - true_positives: 2136.0000 - true_negatives: 18467.0000 - false_positives: 400.0000 - false_negatives: 508.0000 - val_loss: 0.6500 - val_binary_accuracy: 0.8763 - val_auc: 0.9145 - val_true_positives: 0.0000e+00 - val_true_negatives: 6284.0000 - val_false_positives: 0.0000e+00 - val_false_negatives: 887.0000\n",
      "Epoch 13/100\n",
      "22/22 [==============================] - 2s 107ms/step - loss: 0.2835 - binary_accuracy: 0.9569 - auc: 0.9785 - true_positives: 2097.0000 - true_negatives: 18487.0000 - false_positives: 380.0000 - false_negatives: 547.0000 - val_loss: 2273202.0000 - val_binary_accuracy: 0.8759 - val_auc: 0.9122 - val_true_positives: 0.0000e+00 - val_true_negatives: 6281.0000 - val_false_positives: 3.0000 - val_false_negatives: 887.0000\n",
      "Epoch 14/100\n",
      "22/22 [==============================] - 2s 88ms/step - loss: 0.2695 - binary_accuracy: 0.9544 - auc: 0.9778 - true_positives: 2063.0000 - true_negatives: 18467.0000 - false_positives: 400.0000 - false_negatives: 581.0000 - val_loss: 32144.0508 - val_binary_accuracy: 0.8760 - val_auc: 0.9659 - val_true_positives: 0.0000e+00 - val_true_negatives: 6282.0000 - val_false_positives: 2.0000 - val_false_negatives: 887.0000\n",
      "Epoch 15/100\n",
      "22/22 [==============================] - 2s 94ms/step - loss: 0.2535 - binary_accuracy: 0.9572 - auc: 0.9800 - true_positives: 2148.0000 - true_negatives: 18442.0000 - false_positives: 425.0000 - false_negatives: 496.0000 - val_loss: 744269.0625 - val_binary_accuracy: 0.8759 - val_auc: 0.9461 - val_true_positives: 0.0000e+00 - val_true_negatives: 6281.0000 - val_false_positives: 3.0000 - val_false_negatives: 887.0000\n",
      "Epoch 16/100\n",
      "22/22 [==============================] - 2s 93ms/step - loss: 0.2461 - binary_accuracy: 0.9590 - auc: 0.9786 - true_positives: 2109.0000 - true_negatives: 18519.0000 - false_positives: 348.0000 - false_negatives: 535.0000 - val_loss: 1664988.8750 - val_binary_accuracy: 0.8759 - val_auc: 0.9481 - val_true_positives: 0.0000e+00 - val_true_negatives: 6281.0000 - val_false_positives: 3.0000 - val_false_negatives: 887.0000\n",
      "Epoch 17/100\n",
      "22/22 [==============================] - 2s 80ms/step - loss: 0.2461 - binary_accuracy: 0.9573 - auc: 0.9792 - true_positives: 2070.0000 - true_negatives: 18522.0000 - false_positives: 345.0000 - false_negatives: 574.0000 - val_loss: 6364.3442 - val_binary_accuracy: 0.8759 - val_auc: 0.9557 - val_true_positives: 0.0000e+00 - val_true_negatives: 6281.0000 - val_false_positives: 3.0000 - val_false_negatives: 887.0000\n",
      "Epoch 18/100\n",
      "22/22 [==============================] - 2s 87ms/step - loss: 0.2322 - binary_accuracy: 0.9569 - auc: 0.9792 - true_positives: 2081.0000 - true_negatives: 18502.0000 - false_positives: 365.0000 - false_negatives: 563.0000 - val_loss: 6822526.5000 - val_binary_accuracy: 0.8759 - val_auc: 0.9172 - val_true_positives: 0.0000e+00 - val_true_negatives: 6281.0000 - val_false_positives: 3.0000 - val_false_negatives: 887.0000\n",
      "Epoch 19/100\n",
      "22/22 [==============================] - 2s 88ms/step - loss: 0.2302 - binary_accuracy: 0.9596 - auc: 0.9800 - true_positives: 2102.0000 - true_negatives: 18540.0000 - false_positives: 327.0000 - false_negatives: 542.0000 - val_loss: 1226411.6250 - val_binary_accuracy: 0.8760 - val_auc: 0.9796 - val_true_positives: 2.0000 - val_true_negatives: 6280.0000 - val_false_positives: 4.0000 - val_false_negatives: 885.0000\n",
      "Epoch 20/100\n",
      "22/22 [==============================] - 2s 83ms/step - loss: 0.2124 - binary_accuracy: 0.9626 - auc: 0.9827 - true_positives: 2189.0000 - true_negatives: 18518.0000 - false_positives: 349.0000 - false_negatives: 455.0000 - val_loss: 13511440.0000 - val_binary_accuracy: 0.8759 - val_auc: 0.9760 - val_true_positives: 0.0000e+00 - val_true_negatives: 6281.0000 - val_false_positives: 3.0000 - val_false_negatives: 887.0000\n",
      "Epoch 21/100\n",
      "22/22 [==============================] - 2s 96ms/step - loss: 0.2142 - binary_accuracy: 0.9633 - auc: 0.9825 - true_positives: 2200.0000 - true_negatives: 18521.0000 - false_positives: 346.0000 - false_negatives: 444.0000 - val_loss: 9460661.0000 - val_binary_accuracy: 0.9108 - val_auc: 0.9846 - val_true_positives: 254.0000 - val_true_negatives: 6277.0000 - val_false_positives: 7.0000 - val_false_negatives: 633.0000\n",
      "Epoch 22/100\n",
      "22/22 [==============================] - 2s 101ms/step - loss: 0.2103 - binary_accuracy: 0.9626 - auc: 0.9823 - true_positives: 2230.0000 - true_negatives: 18477.0000 - false_positives: 390.0000 - false_negatives: 414.0000 - val_loss: 14603493.0000 - val_binary_accuracy: 0.8802 - val_auc: 0.9843 - val_true_positives: 31.0000 - val_true_negatives: 6281.0000 - val_false_positives: 3.0000 - val_false_negatives: 856.0000\n",
      "Epoch 23/100\n",
      "22/22 [==============================] - 2s 91ms/step - loss: 0.1977 - binary_accuracy: 0.9649 - auc: 0.9844 - true_positives: 2262.0000 - true_negatives: 18495.0000 - false_positives: 372.0000 - false_negatives: 382.0000 - val_loss: 47162.5703 - val_binary_accuracy: 0.8760 - val_auc: 0.9786 - val_true_positives: 1.0000 - val_true_negatives: 6281.0000 - val_false_positives: 3.0000 - val_false_negatives: 886.0000\n",
      "Epoch 24/100\n",
      "22/22 [==============================] - 2s 94ms/step - loss: 0.2026 - binary_accuracy: 0.9617 - auc: 0.9840 - true_positives: 2184.0000 - true_negatives: 18504.0000 - false_positives: 363.0000 - false_negatives: 460.0000 - val_loss: 230843.3438 - val_binary_accuracy: 0.9471 - val_auc: 0.9832 - val_true_positives: 542.0000 - val_true_negatives: 6250.0000 - val_false_positives: 34.0000 - val_false_negatives: 345.0000\n",
      "Epoch 25/100\n",
      "22/22 [==============================] - 2s 87ms/step - loss: 0.2022 - binary_accuracy: 0.9635 - auc: 0.9826 - true_positives: 2245.0000 - true_negatives: 18480.0000 - false_positives: 387.0000 - false_negatives: 399.0000 - val_loss: 785912.3125 - val_binary_accuracy: 0.8944 - val_auc: 0.9848 - val_true_positives: 133.0000 - val_true_negatives: 6281.0000 - val_false_positives: 3.0000 - val_false_negatives: 754.0000\n",
      "Epoch 26/100\n",
      "22/22 [==============================] - 2s 93ms/step - loss: 0.1952 - binary_accuracy: 0.9642 - auc: 0.9826 - true_positives: 2240.0000 - true_negatives: 18500.0000 - false_positives: 367.0000 - false_negatives: 404.0000 - val_loss: 0.2578 - val_binary_accuracy: 0.9219 - val_auc: 0.9874 - val_true_positives: 332.0000 - val_true_negatives: 6279.0000 - val_false_positives: 5.0000 - val_false_negatives: 555.0000\n",
      "Epoch 27/100\n",
      "22/22 [==============================] - 2s 92ms/step - loss: 0.1901 - binary_accuracy: 0.9638 - auc: 0.9855 - true_positives: 2235.0000 - true_negatives: 18498.0000 - false_positives: 369.0000 - false_negatives: 409.0000 - val_loss: 1152454.0000 - val_binary_accuracy: 0.9094 - val_auc: 0.9831 - val_true_positives: 241.0000 - val_true_negatives: 6280.0000 - val_false_positives: 4.0000 - val_false_negatives: 646.0000\n",
      "Epoch 28/100\n",
      "22/22 [==============================] - 2s 90ms/step - loss: 0.1980 - binary_accuracy: 0.9625 - auc: 0.9817 - true_positives: 2225.0000 - true_negatives: 18479.0000 - false_positives: 388.0000 - false_negatives: 419.0000 - val_loss: 1730001.0000 - val_binary_accuracy: 0.9427 - val_auc: 0.9875 - val_true_positives: 487.0000 - val_true_negatives: 6273.0000 - val_false_positives: 11.0000 - val_false_negatives: 400.0000\n",
      "Epoch 29/100\n",
      "22/22 [==============================] - 2s 90ms/step - loss: 0.1852 - binary_accuracy: 0.9651 - auc: 0.9847 - true_positives: 2235.0000 - true_negatives: 18526.0000 - false_positives: 341.0000 - false_negatives: 409.0000 - val_loss: 11951.7588 - val_binary_accuracy: 0.9589 - val_auc: 0.9875 - val_true_positives: 614.0000 - val_true_negatives: 6262.0000 - val_false_positives: 22.0000 - val_false_negatives: 273.0000\n",
      "Epoch 30/100\n",
      "22/22 [==============================] - 2s 98ms/step - loss: 0.1884 - binary_accuracy: 0.9649 - auc: 0.9830 - true_positives: 2251.0000 - true_negatives: 18505.0000 - false_positives: 362.0000 - false_negatives: 393.0000 - val_loss: 17695470.0000 - val_binary_accuracy: 0.8759 - val_auc: 0.9751 - val_true_positives: 0.0000e+00 - val_true_negatives: 6281.0000 - val_false_positives: 3.0000 - val_false_negatives: 887.0000\n",
      "Epoch 31/100\n",
      "22/22 [==============================] - 2s 94ms/step - loss: 0.1920 - binary_accuracy: 0.9623 - auc: 0.9830 - true_positives: 2166.0000 - true_negatives: 18535.0000 - false_positives: 332.0000 - false_negatives: 478.0000 - val_loss: 4305809.5000 - val_binary_accuracy: 0.9522 - val_auc: 0.9788 - val_true_positives: 590.0000 - val_true_negatives: 6238.0000 - val_false_positives: 46.0000 - val_false_negatives: 297.0000\n",
      "Epoch 32/100\n",
      "22/22 [==============================] - 2s 85ms/step - loss: 0.1883 - binary_accuracy: 0.9634 - auc: 0.9833 - true_positives: 2204.0000 - true_negatives: 18519.0000 - false_positives: 348.0000 - false_negatives: 440.0000 - val_loss: 12277544.0000 - val_binary_accuracy: 0.9554 - val_auc: 0.9823 - val_true_positives: 815.0000 - val_true_negatives: 6036.0000 - val_false_positives: 248.0000 - val_false_negatives: 72.0000\n",
      "Epoch 33/100\n",
      "22/22 [==============================] - 2s 90ms/step - loss: 0.1947 - binary_accuracy: 0.9620 - auc: 0.9851 - true_positives: 2276.0000 - true_negatives: 18417.0000 - false_positives: 450.0000 - false_negatives: 368.0000 - val_loss: 6770013.0000 - val_binary_accuracy: 0.9547 - val_auc: 0.9742 - val_true_positives: 586.0000 - val_true_negatives: 6260.0000 - val_false_positives: 24.0000 - val_false_negatives: 301.0000\n",
      "Epoch 34/100\n",
      "22/22 [==============================] - 2s 108ms/step - loss: 0.1829 - binary_accuracy: 0.9665 - auc: 0.9857 - true_positives: 2258.0000 - true_negatives: 18533.0000 - false_positives: 334.0000 - false_negatives: 386.0000 - val_loss: 1542673.5000 - val_binary_accuracy: 0.9658 - val_auc: 0.9883 - val_true_positives: 706.0000 - val_true_negatives: 6220.0000 - val_false_positives: 64.0000 - val_false_negatives: 181.0000\n",
      "Epoch 35/100\n",
      "22/22 [==============================] - 2s 89ms/step - loss: 0.1808 - binary_accuracy: 0.9656 - auc: 0.9860 - true_positives: 2259.0000 - true_negatives: 18511.0000 - false_positives: 356.0000 - false_negatives: 385.0000 - val_loss: 0.1766 - val_binary_accuracy: 0.9670 - val_auc: 0.9890 - val_true_positives: 721.0000 - val_true_negatives: 6213.0000 - val_false_positives: 71.0000 - val_false_negatives: 166.0000\n",
      "Epoch 36/100\n",
      "22/22 [==============================] - 2s 93ms/step - loss: 0.1812 - binary_accuracy: 0.9644 - auc: 0.9863 - true_positives: 2282.0000 - true_negatives: 18464.0000 - false_positives: 403.0000 - false_negatives: 362.0000 - val_loss: 17371840.0000 - val_binary_accuracy: 0.9689 - val_auc: 0.9900 - val_true_positives: 740.0000 - val_true_negatives: 6208.0000 - val_false_positives: 76.0000 - val_false_negatives: 147.0000\n",
      "Epoch 37/100\n",
      "22/22 [==============================] - 2s 93ms/step - loss: 0.1776 - binary_accuracy: 0.9663 - auc: 0.9850 - true_positives: 2282.0000 - true_negatives: 18505.0000 - false_positives: 362.0000 - false_negatives: 362.0000 - val_loss: 5967100.0000 - val_binary_accuracy: 0.9458 - val_auc: 0.9722 - val_true_positives: 733.0000 - val_true_negatives: 6049.0000 - val_false_positives: 235.0000 - val_false_negatives: 154.0000\n",
      "Epoch 38/100\n",
      "22/22 [==============================] - 2s 88ms/step - loss: 0.1871 - binary_accuracy: 0.9641 - auc: 0.9862 - true_positives: 2293.0000 - true_negatives: 18445.0000 - false_positives: 422.0000 - false_negatives: 351.0000 - val_loss: 0.2004 - val_binary_accuracy: 0.9668 - val_auc: 0.9873 - val_true_positives: 746.0000 - val_true_negatives: 6187.0000 - val_false_positives: 97.0000 - val_false_negatives: 141.0000\n",
      "Epoch 39/100\n",
      "22/22 [==============================] - 2s 104ms/step - loss: 0.1862 - binary_accuracy: 0.9649 - auc: 0.9846 - true_positives: 2293.0000 - true_negatives: 18463.0000 - false_positives: 404.0000 - false_negatives: 351.0000 - val_loss: 2098086.0000 - val_binary_accuracy: 0.9682 - val_auc: 0.9886 - val_true_positives: 730.0000 - val_true_negatives: 6213.0000 - val_false_positives: 71.0000 - val_false_negatives: 157.0000\n",
      "Epoch 40/100\n",
      "22/22 [==============================] - 2s 88ms/step - loss: 0.1775 - binary_accuracy: 0.9668 - auc: 0.9866 - true_positives: 2276.0000 - true_negatives: 18521.0000 - false_positives: 346.0000 - false_negatives: 368.0000 - val_loss: 821824.6875 - val_binary_accuracy: 0.9668 - val_auc: 0.9868 - val_true_positives: 764.0000 - val_true_negatives: 6169.0000 - val_false_positives: 115.0000 - val_false_negatives: 123.0000\n",
      "Epoch 41/100\n",
      "22/22 [==============================] - 2s 93ms/step - loss: 0.1770 - binary_accuracy: 0.9671 - auc: 0.9874 - true_positives: 2292.0000 - true_negatives: 18511.0000 - false_positives: 356.0000 - false_negatives: 352.0000 - val_loss: 20129560.0000 - val_binary_accuracy: 0.9678 - val_auc: 0.9864 - val_true_positives: 710.0000 - val_true_negatives: 6230.0000 - val_false_positives: 54.0000 - val_false_negatives: 177.0000\n",
      "Epoch 42/100\n",
      "22/22 [==============================] - 2s 98ms/step - loss: 0.1795 - binary_accuracy: 0.9654 - auc: 0.9849 - true_positives: 2265.0000 - true_negatives: 18501.0000 - false_positives: 366.0000 - false_negatives: 379.0000 - val_loss: 4123157.0000 - val_binary_accuracy: 0.9650 - val_auc: 0.9867 - val_true_positives: 805.0000 - val_true_negatives: 6115.0000 - val_false_positives: 169.0000 - val_false_negatives: 82.0000\n",
      "Epoch 43/100\n",
      "22/22 [==============================] - 2s 93ms/step - loss: 0.1812 - binary_accuracy: 0.9668 - auc: 0.9861 - true_positives: 2301.0000 - true_negatives: 18495.0000 - false_positives: 372.0000 - false_negatives: 343.0000 - val_loss: 113484.3125 - val_binary_accuracy: 0.9722 - val_auc: 0.9902 - val_true_positives: 775.0000 - val_true_negatives: 6197.0000 - val_false_positives: 87.0000 - val_false_negatives: 112.0000\n",
      "Epoch 44/100\n",
      "22/22 [==============================] - 2s 98ms/step - loss: 0.1736 - binary_accuracy: 0.9667 - auc: 0.9871 - true_positives: 2285.0000 - true_negatives: 18510.0000 - false_positives: 357.0000 - false_negatives: 359.0000 - val_loss: 3574295.5000 - val_binary_accuracy: 0.9615 - val_auc: 0.9837 - val_true_positives: 638.0000 - val_true_negatives: 6257.0000 - val_false_positives: 27.0000 - val_false_negatives: 249.0000\n",
      "Epoch 45/100\n",
      "22/22 [==============================] - 2s 89ms/step - loss: 0.1817 - binary_accuracy: 0.9666 - auc: 0.9848 - true_positives: 2260.0000 - true_negatives: 18533.0000 - false_positives: 334.0000 - false_negatives: 384.0000 - val_loss: 19171.0273 - val_binary_accuracy: 0.9696 - val_auc: 0.9898 - val_true_positives: 758.0000 - val_true_negatives: 6195.0000 - val_false_positives: 89.0000 - val_false_negatives: 129.0000\n",
      "Epoch 46/100\n",
      "22/22 [==============================] - 2s 98ms/step - loss: 0.1763 - binary_accuracy: 0.9673 - auc: 0.9863 - true_positives: 2284.0000 - true_negatives: 18523.0000 - false_positives: 344.0000 - false_negatives: 360.0000 - val_loss: 721820.1250 - val_binary_accuracy: 0.9686 - val_auc: 0.9863 - val_true_positives: 750.0000 - val_true_negatives: 6196.0000 - val_false_positives: 88.0000 - val_false_negatives: 137.0000\n",
      "Epoch 47/100\n",
      "22/22 [==============================] - 2s 92ms/step - loss: 0.1786 - binary_accuracy: 0.9677 - auc: 0.9857 - true_positives: 2280.0000 - true_negatives: 18536.0000 - false_positives: 331.0000 - false_negatives: 364.0000 - val_loss: 2204366.0000 - val_binary_accuracy: 0.9664 - val_auc: 0.9859 - val_true_positives: 770.0000 - val_true_negatives: 6160.0000 - val_false_positives: 124.0000 - val_false_negatives: 117.0000\n",
      "Epoch 48/100\n",
      "22/22 [==============================] - 2s 85ms/step - loss: 0.1796 - binary_accuracy: 0.9670 - auc: 0.9854 - true_positives: 2278.0000 - true_negatives: 18523.0000 - false_positives: 344.0000 - false_negatives: 366.0000 - val_loss: 34107996.0000 - val_binary_accuracy: 0.9683 - val_auc: 0.9860 - val_true_positives: 738.0000 - val_true_negatives: 6206.0000 - val_false_positives: 78.0000 - val_false_negatives: 149.0000\n",
      "Epoch 49/100\n",
      "22/22 [==============================] - 2s 90ms/step - loss: 0.1765 - binary_accuracy: 0.9665 - auc: 0.9866 - true_positives: 2276.0000 - true_negatives: 18514.0000 - false_positives: 353.0000 - false_negatives: 368.0000 - val_loss: 862245.0625 - val_binary_accuracy: 0.9667 - val_auc: 0.9877 - val_true_positives: 706.0000 - val_true_negatives: 6226.0000 - val_false_positives: 58.0000 - val_false_negatives: 181.0000\n",
      "Epoch 50/100\n",
      "22/22 [==============================] - 2s 91ms/step - loss: 0.1733 - binary_accuracy: 0.9671 - auc: 0.9874 - true_positives: 2296.0000 - true_negatives: 18507.0000 - false_positives: 360.0000 - false_negatives: 348.0000 - val_loss: 0.2141 - val_binary_accuracy: 0.9575 - val_auc: 0.9824 - val_true_positives: 796.0000 - val_true_negatives: 6070.0000 - val_false_positives: 214.0000 - val_false_negatives: 91.0000\n",
      "Epoch 51/100\n",
      "22/22 [==============================] - 2s 98ms/step - loss: 0.1845 - binary_accuracy: 0.9666 - auc: 0.9865 - true_positives: 2330.0000 - true_negatives: 18463.0000 - false_positives: 404.0000 - false_negatives: 314.0000 - val_loss: 22861266.0000 - val_binary_accuracy: 0.9696 - val_auc: 0.9894 - val_true_positives: 712.0000 - val_true_negatives: 6241.0000 - val_false_positives: 43.0000 - val_false_negatives: 175.0000\n",
      "Epoch 52/100\n",
      "22/22 [==============================] - 2s 93ms/step - loss: 0.1746 - binary_accuracy: 0.9674 - auc: 0.9874 - true_positives: 2296.0000 - true_negatives: 18514.0000 - false_positives: 353.0000 - false_negatives: 348.0000 - val_loss: 734575.1875 - val_binary_accuracy: 0.9696 - val_auc: 0.9876 - val_true_positives: 756.0000 - val_true_negatives: 6197.0000 - val_false_positives: 87.0000 - val_false_negatives: 131.0000\n",
      "Epoch 53/100\n",
      "22/22 [==============================] - 2s 97ms/step - loss: 0.1710 - binary_accuracy: 0.9691 - auc: 0.9873 - true_positives: 2309.0000 - true_negatives: 18538.0000 - false_positives: 329.0000 - false_negatives: 335.0000 - val_loss: 310458.3750 - val_binary_accuracy: 0.9707 - val_auc: 0.9910 - val_true_positives: 787.0000 - val_true_negatives: 6174.0000 - val_false_positives: 110.0000 - val_false_negatives: 100.0000\n",
      "Epoch 54/100\n",
      "22/22 [==============================] - 2s 101ms/step - loss: 0.1724 - binary_accuracy: 0.9668 - auc: 0.9870 - true_positives: 2313.0000 - true_negatives: 18484.0000 - false_positives: 383.0000 - false_negatives: 331.0000 - val_loss: 659898.1875 - val_binary_accuracy: 0.9670 - val_auc: 0.9872 - val_true_positives: 707.0000 - val_true_negatives: 6227.0000 - val_false_positives: 57.0000 - val_false_negatives: 180.0000\n",
      "Epoch 55/100\n",
      "22/22 [==============================] - 2s 96ms/step - loss: 0.1792 - binary_accuracy: 0.9669 - auc: 0.9857 - true_positives: 2297.0000 - true_negatives: 18502.0000 - false_positives: 365.0000 - false_negatives: 347.0000 - val_loss: 4023758.2500 - val_binary_accuracy: 0.9338 - val_auc: 0.9733 - val_true_positives: 423.0000 - val_true_negatives: 6273.0000 - val_false_positives: 11.0000 - val_false_negatives: 464.0000\n"
     ]
    },
    {
     "name": "stderr",
     "output_type": "stream",
     "text": [
      "Exception ignored in: <function IteratorResourceDeleter.__del__ at 0x7f839caacf70>\n",
      "Traceback (most recent call last):\n",
      "  File \"/cvmfs/lhcbdev.cern.ch/conda/envs/default/2021-09-07_04-06/linux-64/lib/python3.9/site-packages/tensorflow/python/data/ops/iterator_ops.py\", line 545, in __del__\n",
      "    gen_dataset_ops.delete_iterator(\n",
      "  File \"/cvmfs/lhcbdev.cern.ch/conda/envs/default/2021-09-07_04-06/linux-64/lib/python3.9/site-packages/tensorflow/python/ops/gen_dataset_ops.py\", line 1263, in delete_iterator\n",
      "    _result = pywrap_tfe.TFE_Py_FastPathExecute(\n",
      "KeyboardInterrupt: \n"
     ]
    },
    {
     "name": "stdout",
     "output_type": "stream",
     "text": [
      "INFO:tensorflow:Assets written to: models/v2.3.4/assets\n"
     ]
    }
   ],
   "source": [
    "from tensorflow.keras import layers\n",
    "from tensorflow.keras.regularizers import l1_l2\n",
    "from tensorflow.keras import callbacks\n",
    "\n",
    "early_stopping = keras.callbacks.EarlyStopping(patience=20, min_delta=0.001, restore_best_weights=True)\n",
    "# Stop the training early when we really plateau\n",
    "\n",
    "lr_schedule = callbacks.ReduceLROnPlateau(patience=5, factor=0.2, min_lr=0.001)\n",
    "# Adjust learning rate when we start to plateau during training\n",
    "\n",
    "m = keras.Sequential()\n",
    "m.add(layers.Dense(64, activation='relu', input_shape=(X_train.shape[1],), kernel_regularizer=l1_l2(0.001, 0.001)))\n",
    "m.add(layers.Dropout(0.4))\n",
    "m.add(layers.BatchNormalization())\n",
    "m.add(layers.Dense(128, activation='relu', kernel_regularizer=l1_l2(0.001, 0.001)))\n",
    "m.add(layers.Dropout(0.4))\n",
    "m.add(layers.Dense(128, activation='relu', kernel_regularizer=l1_l2(0.001, 0.001)))\n",
    "m.add(layers.BatchNormalization())\n",
    "m.add(layers.Dense(256, activation='relu', kernel_regularizer=l1_l2(0.001, 0.001)))\n",
    "m.add(layers.Dense(1, activation='sigmoid'))\n",
    "m.compile(optimizer='rmsprop', loss='binary_crossentropy', metrics=['binary_accuracy', 'AUC', 'TruePositives', 'TrueNegatives', 'FalsePositives', 'FalseNegatives'])\n",
    "m_history = m.fit(X_train, y_train, epochs=100, batch_size=1024, validation_data=(X_val, y_val), callbacks=[early_stopping, lr_schedule])\n",
    "with open('train_history/v2.3.4_histDict', 'wb') as file_pi:\n",
    "    pickle.dump(m_history.history, file_pi)\n",
    "    # Write out the raw dictionary history\n",
    "m.save('models/v2.3.4')"
   ]
  },
  {
   "cell_type": "code",
   "execution_count": 70,
   "metadata": {},
   "outputs": [],
   "source": [
    "history = pickle.load(open('train_history/v2.3.4_histDict', \"rb\"))\n",
    "nepochs = len(history['loss'])"
   ]
  },
  {
   "cell_type": "code",
   "execution_count": 71,
   "metadata": {},
   "outputs": [
    {
     "data": {
      "image/png": "[encoded data removed]",
      "text/plain": [
       "<Figure size 1584x432 with 3 Axes>"
      ]
     },
     "metadata": {
      "needs_background": "light"
     },
     "output_type": "display_data"
    }
   ],
   "source": [
    "dp.plot_history_curves(history, nepochs)"
   ]
  },
  {
   "cell_type": "markdown",
   "metadata": {},
   "source": [
    "## ROC Curve Analysis\n",
    "Now that we have got a pretty good semi-initial model we can plot the ROC curve. This will help us spot overfitting and really accelerate our models development. It will allow us to see what type of error our model has preference to, does it incorrectly reject signal or incorrectly accept background more often?"
   ]
  },
  {
   "cell_type": "code",
   "execution_count": 72,
   "metadata": {},
   "outputs": [],
   "source": [
    "roc_history = m_history.history\n",
    "\n",
    "train_signal_efficiency = roc_history['true_positives'] /  y_train.value_counts()[1]\n",
    "val_signal_efficiency = roc_history['val_true_positives'] /  y_val.value_counts()[1]\n",
    "# What percentage of total signal events were identified as signal events\n",
    "\n",
    "train_background_rej = 1 - (roc_history['false_positives'] / y_train.value_counts()[0])\n",
    "val_background_rej = 1 - (roc_history['val_false_positives'] / y_val.value_counts()[0])\n",
    "# The number of true positives to total positivesa"
   ]
  },
  {
   "cell_type": "code",
   "execution_count": 107,
   "metadata": {},
   "outputs": [
    {
     "data": {
      "text/html": [
       "<div>\n",
       "<style scoped>\n",
       "    .dataframe tbody tr th:only-of-type {\n",
       "        vertical-align: middle;\n",
       "    }\n",
       "\n",
       "    .dataframe tbody tr th {\n",
       "        vertical-align: top;\n",
       "    }\n",
       "\n",
       "    .dataframe thead th {\n",
       "        text-align: right;\n",
       "    }\n",
       "</style>\n",
       "<table border=\"1\" class=\"dataframe\">\n",
       "  <thead>\n",
       "    <tr style=\"text-align: right;\">\n",
       "      <th></th>\n",
       "      <th>TrainSigEff</th>\n",
       "      <th>TrainBackRej</th>\n",
       "      <th>ValSigEff</th>\n",
       "      <th>ValBackRej</th>\n",
       "      <th>TrainDistOpt</th>\n",
       "      <th>ValDistOpt</th>\n",
       "      <th>MeanDistOpt</th>\n",
       "    </tr>\n",
       "    <tr>\n",
       "      <th>Epoch</th>\n",
       "      <th></th>\n",
       "      <th></th>\n",
       "      <th></th>\n",
       "      <th></th>\n",
       "      <th></th>\n",
       "      <th></th>\n",
       "      <th></th>\n",
       "    </tr>\n",
       "  </thead>\n",
       "  <tbody>\n",
       "    <tr>\n",
       "      <th>1</th>\n",
       "      <td>0.317322</td>\n",
       "      <td>0.959241</td>\n",
       "      <td>0.756483</td>\n",
       "      <td>0.953851</td>\n",
       "      <td>0.683893</td>\n",
       "      <td>0.247852</td>\n",
       "      <td>0.465873</td>\n",
       "    </tr>\n",
       "    <tr>\n",
       "      <th>2</th>\n",
       "      <td>0.599849</td>\n",
       "      <td>0.970796</td>\n",
       "      <td>0.549042</td>\n",
       "      <td>0.991248</td>\n",
       "      <td>0.401216</td>\n",
       "      <td>0.451043</td>\n",
       "      <td>0.426129</td>\n",
       "    </tr>\n",
       "    <tr>\n",
       "      <th>3</th>\n",
       "      <td>0.659607</td>\n",
       "      <td>0.973605</td>\n",
       "      <td>0.739572</td>\n",
       "      <td>0.980426</td>\n",
       "      <td>0.341415</td>\n",
       "      <td>0.261163</td>\n",
       "      <td>0.301289</td>\n",
       "    </tr>\n",
       "    <tr>\n",
       "      <th>4</th>\n",
       "      <td>0.717095</td>\n",
       "      <td>0.972598</td>\n",
       "      <td>0.480271</td>\n",
       "      <td>0.994112</td>\n",
       "      <td>0.284229</td>\n",
       "      <td>0.519763</td>\n",
       "      <td>0.401996</td>\n",
       "    </tr>\n",
       "    <tr>\n",
       "      <th>5</th>\n",
       "      <td>0.741301</td>\n",
       "      <td>0.972227</td>\n",
       "      <td>0.384442</td>\n",
       "      <td>0.995544</td>\n",
       "      <td>0.260186</td>\n",
       "      <td>0.615574</td>\n",
       "      <td>0.437880</td>\n",
       "    </tr>\n",
       "  </tbody>\n",
       "</table>\n",
       "</div>"
      ],
      "text/plain": [
       "       TrainSigEff  TrainBackRej  ValSigEff  ValBackRej  TrainDistOpt  \\\n",
       "Epoch                                                                   \n",
       "1         0.317322      0.959241   0.756483    0.953851      0.683893   \n",
       "2         0.599849      0.970796   0.549042    0.991248      0.401216   \n",
       "3         0.659607      0.973605   0.739572    0.980426      0.341415   \n",
       "4         0.717095      0.972598   0.480271    0.994112      0.284229   \n",
       "5         0.741301      0.972227   0.384442    0.995544      0.260186   \n",
       "\n",
       "       ValDistOpt  MeanDistOpt  \n",
       "Epoch                           \n",
       "1        0.247852     0.465873  \n",
       "2        0.451043     0.426129  \n",
       "3        0.261163     0.301289  \n",
       "4        0.519763     0.401996  \n",
       "5        0.615574     0.437880  "
      ]
     },
     "execution_count": 107,
     "metadata": {},
     "output_type": "execute_result"
    }
   ],
   "source": [
    "data = pd.DataFrame({'TrainSigEff': train_signal_efficiency, 'TrainBackRej': train_background_rej, 'ValSigEff': val_signal_efficiency, 'ValBackRej': val_background_rej})\n",
    "data.rename_axis('Epoch', inplace=True)\n",
    "data.index += 1\n",
    "data['TrainDistOpt'] = np.sqrt((1-data['TrainSigEff'])**2 + (1-data['TrainBackRej'])**2)\n",
    "data['ValDistOpt'] = np.sqrt((1-data['ValSigEff'])**2 + (1-data['ValBackRej'])**2)\n",
    "data['MeanDistOpt'] = (data['TrainDistOpt'] + data['ValDistOpt'])/2\n",
    "data.head()"
   ]
  },
  {
   "cell_type": "code",
   "execution_count": 115,
   "metadata": {},
   "outputs": [
    {
     "data": {
      "image/png": "[encoded data removed]",
      "text/plain": [
       "<Figure size 864x648 with 2 Axes>"
      ]
     },
     "metadata": {
      "needs_background": "light"
     },
     "output_type": "display_data"
    }
   ],
   "source": [
    "import matplotlib.cm as cm\n",
    "import matplotlib as mpl\n",
    "\n",
    "fig, ax = plt.subplots(2, 1, figsize=(12, 9), gridspec_kw={'height_ratios': [3, 1]})\n",
    "ax[0].scatter(train_signal_efficiency, train_background_rej,  label='Training')\n",
    "ax[0].scatter(val_signal_efficiency, val_background_rej, label='Validation')\n",
    "ax[0].set_ylabel('Background Rejection (1 - False Positive Rate)')\n",
    "ax[0].set_xlabel('Signal Efficiency (True Positive Rate)')\n",
    "ax[0].legend()\n",
    "\n",
    "ax[1].scatter(data.index, data['MeanDistOpt'])\n",
    "ax[1].set_ylabel('Mean Distance from Optional (MDFO)')\n",
    "ax[1].set_xlabel('Training Epoch')\n",
    "plt.show()"
   ]
  }
 ],
 "metadata": {
  "interpreter": {
   "hash": "9ca4116ab2c7470d45496f3104a2f3648c94db730a0039ceabb3a0fb6fe42410"
  },
  "kernelspec": {
   "display_name": "Python 3.9.7 64-bit ('linux-64': conda)",
   "language": "python",
   "name": "python3"
  },
  "language_info": {
   "codemirror_mode": {
    "name": "ipython",
    "version": 3
   },
   "file_extension": ".py",
   "mimetype": "text/x-python",
   "name": "python",
   "nbconvert_exporter": "python",
   "pygments_lexer": "ipython3",
   "version": "3.9.7"
  },
  "orig_nbformat": 4
 },
 "nbformat": 4,
 "nbformat_minor": 2
}
