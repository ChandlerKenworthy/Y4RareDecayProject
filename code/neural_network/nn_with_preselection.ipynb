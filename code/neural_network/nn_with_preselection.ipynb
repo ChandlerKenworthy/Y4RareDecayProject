{
 "cells": [
  {
   "cell_type": "markdown",
   "metadata": {},
   "source": [
    "# Neural Network with Pre-Selection\n"
   ]
  },
  {
   "cell_type": "code",
   "execution_count": 1,
   "metadata": {},
   "outputs": [],
   "source": [
    "import numpy as np\n",
    "import tensorflow as tf\n",
    "import pandas as pd\n",
    "from tensorflow import keras\n",
    "import matplotlib.pyplot as plt\n",
    "import sys\n",
    "sys.path.append('../')\n",
    "from utilities import Data, Consts\n",
    "import data_pipeline as dp\n",
    "import pickle"
   ]
  },
  {
   "cell_type": "markdown",
   "metadata": {},
   "source": [
    "## Pre-Selection\n",
    "We start by implementing the simulated pre-selection cuts. They are different for the simulated and real data. The cut strings have been made by Dan. The function below just finds all the features that are needed and fetches them. It then turns the string into a format that can just be fed into the dataframe."
   ]
  },
  {
   "cell_type": "code",
   "execution_count": 2,
   "metadata": {},
   "outputs": [],
   "source": [
    "s = \"(((( Lb_M01_Subst0_p2K <1019.461-12)|( Lb_M01_Subst0_p2K >1019.461+12))&((((((243716.98437715+ p_P **2)**0.5+ K_PE + L2_PE )**2-( p_PX + K_PX + L2_PX )**2-( p_PY + K_PY + L2_PY )**2-( p_PZ + K_PZ + L2_PZ )**2)**0.5)>2000)&(((((243716.98437715+ p_P **2)**0.5+ K_PE + L1_PE )**2-( p_PX + K_PX + L1_PX )**2-( p_PY + K_PY + L1_PY )**2-( p_PZ + K_PZ + L1_PZ )**2)**0.5)>2000))&((((((((880354.49999197+ p_P **2)**0.5+(243716.98437715+ K_P **2)**0.5+(0.26112103+ L2_P **2)**0.5)**2-( p_PX + K_PX + L2_PX )**2-( p_PY + K_PY + L2_PY )**2-( p_PZ + K_PZ + L2_PZ )**2)**0.5)>2320)&((( L2_ID <0)&( p_ID >0))|(( L2_ID >0)&( p_ID <0))))|((( L1_ID <0)&( p_ID >0))|(( L1_ID >0)&( p_ID <0))))&(((((((880354.49999197+ p_P **2)**0.5+(243716.98437715+ K_P **2)**0.5+(11163.69140675+ L1_P **2)**0.5)**2-( p_PX + K_PX + L1_PX )**2-( p_PY + K_PY + L1_PY )**2-( p_PZ + K_PZ + L1_PZ )**2)**0.5)>2320)&((( L1_ID <0)&( p_ID >0))|(( L1_ID >0)&( p_ID <0))))|((( L2_ID <0)&( p_ID >0))|(( L2_ID >0)&( p_ID <0)))))&(( Lb_M23 >3178.05)|( Lb_M23 <3000))&((((((( K_PE +(19479.95517577+ L2_P **2)**0.5)**2-( K_PX + L2_PX )**2-( K_PY + L2_PY )**2-( K_PZ + L2_PZ )**2)**0.5)>1865+20)|(((( K_PE +(19479.95517577+ L2_P **2)**0.5)**2-( K_PX + L2_PX )**2-( K_PY + L2_PY )**2-( K_PZ + L2_PZ )**2)**0.5)<1865-20))&((( L2_ID <0)&( p_ID >0))|(( L2_ID >0)&( p_ID <0))))|((( L1_ID <0)&( p_ID >0))|(( L1_ID >0)&( p_ID <0))))&((((((((11163.69140675+ K_P **2)**0.5+ L1_PE )**2-( K_PX + L1_PX )**2-( K_PY + L1_PY )**2-( K_PZ + L1_PZ )**2)**0.5)>3097+35)|(((((11163.69140675+ K_P **2)**0.5+ L1_PE )**2-( K_PX + L1_PX )**2-( K_PY + L1_PY )**2-( K_PZ + L1_PZ )**2)**0.5)<3097-35))&((( L1_ID <0)&( p_ID >0))|(( L1_ID >0)&( p_ID <0))))|((( L2_ID <0)&( p_ID >0))|(( L2_ID >0)&( p_ID <0))))&((((((((243716.98437715+ p_P **2)**0.5+(19479.95517577+ L2_P **2)**0.5)**2-( p_PX + L2_PX )**2-( p_PY + L2_PY )**2-( p_PZ + L2_PZ )**2)**0.5)>1865+20)|(((((243716.98437715+ p_P **2)**0.5+(19479.95517577+ L2_P **2)**0.5)**2-( p_PX + L2_PX )**2-( p_PY + L2_PY )**2-( p_PZ + L2_PZ )**2)**0.5)<1865-20))&((( L2_ID >0)&( p_ID >0))|(( L2_ID <0)&( p_ID <0))))|((( L1_ID >0)&( p_ID >0))|(( L1_ID <0)&( p_ID <0))))&((( p_PX * L1_PX + p_PY * L1_PY + p_PZ * L1_PZ )/( p_P * L1_P )<np.cos(1e-3))&(( p_PX * L2_PX + p_PY * L2_PY + p_PZ * L2_PZ )/( p_P * L2_P )<np.cos(1e-3))&(( K_PX * L1_PX + K_PY * L1_PY + K_PZ * L1_PZ )/( K_P * L1_P )<np.cos(1e-3))&(( K_PX * L2_PX + K_PY * L2_PY + K_PZ * L2_PZ )/( K_P * L2_P )<np.cos(1e-3)))&(( p_PX * K_PX + p_PY * K_PY + p_PZ * K_PZ )/( p_P * K_P )<np.cos(1e-3)))&( L1_L0MuonDecision_TOS )&(( Lb_Hlt1TrackMVADecision_TOS )|( Lb_Hlt1TrackMuonDecision_TOS ))&( Lb_Hlt2Topo2BodyDecision_TOS | Lb_Hlt2Topo3BodyDecision_TOS | Lb_Hlt2Topo4BodyDecision_TOS | Lb_Hlt2TopoMu2BodyDecision_TOS | Lb_Hlt2TopoMu3BodyDecision_TOS | Lb_Hlt2TopoMu4BodyDecision_TOS )&(( LStar_M >1448)&( LStar_M <1591))&(( Lb_BKGCAT ==10)|( Lb_BKGCAT ==50)))\"\n",
    "r = \"((( Lb_M01_Subst0_p2K <1019.461-12)|( Lb_M01_Subst0_p2K >1019.461+12))&((((((243716.98437715+ p_P **2)**0.5+ K_PE + L2_PE )**2-( p_PX + K_PX + L2_PX )**2-( p_PY + K_PY + L2_PY )**2-( p_PZ + K_PZ + L2_PZ )**2)**0.5)>2000)&(((((243716.98437715+ p_P **2)**0.5+ K_PE + L1_PE )**2-( p_PX + K_PX + L1_PX )**2-( p_PY + K_PY + L1_PY )**2-( p_PZ + K_PZ + L1_PZ )**2)**0.5)>2000))&((((((((880354.49999197+ p_P **2)**0.5+(243716.98437715+ K_P **2)**0.5+(0.26112103+ L2_P **2)**0.5)**2-( p_PX + K_PX + L2_PX )**2-( p_PY + K_PY + L2_PY )**2-( p_PZ + K_PZ + L2_PZ )**2)**0.5)>2320)&((( L2_ID <0)&( p_ID >0))|(( L2_ID >0)&( p_ID <0))))|((( L1_ID <0)&( p_ID >0))|(( L1_ID >0)&( p_ID <0))))&(((((((880354.49999197+ p_P **2)**0.5+(243716.98437715+ K_P **2)**0.5+(11163.69140675+ L1_P **2)**0.5)**2-( p_PX + K_PX + L1_PX )**2-( p_PY + K_PY + L1_PY )**2-( p_PZ + K_PZ + L1_PZ )**2)**0.5)>2320)&((( L1_ID <0)&( p_ID >0))|(( L1_ID >0)&( p_ID <0))))|((( L2_ID <0)&( p_ID >0))|(( L2_ID >0)&( p_ID <0)))))&(( Lb_M23 >3178.05)|( Lb_M23 <3000))&((((((( K_PE +(19479.95517577+ L2_P **2)**0.5)**2-( K_PX + L2_PX )**2-( K_PY + L2_PY )**2-( K_PZ + L2_PZ )**2)**0.5)>1865+20)|(((( K_PE +(19479.95517577+ L2_P **2)**0.5)**2-( K_PX + L2_PX )**2-( K_PY + L2_PY )**2-( K_PZ + L2_PZ )**2)**0.5)<1865-20))&((( L2_ID <0)&( p_ID >0))|(( L2_ID >0)&( p_ID <0))))|((( L1_ID <0)&( p_ID >0))|(( L1_ID >0)&( p_ID <0))))&((((((((11163.69140675+ K_P **2)**0.5+ L1_PE )**2-( K_PX + L1_PX )**2-( K_PY + L1_PY )**2-( K_PZ + L1_PZ )**2)**0.5)>3097+35)|(((((11163.69140675+ K_P **2)**0.5+ L1_PE )**2-( K_PX + L1_PX )**2-( K_PY + L1_PY )**2-( K_PZ + L1_PZ )**2)**0.5)<3097-35))&((( L1_ID <0)&( p_ID >0))|(( L1_ID >0)&( p_ID <0))))|((( L2_ID <0)&( p_ID >0))|(( L2_ID >0)&( p_ID <0))))&((((((((243716.98437715+ p_P **2)**0.5+(19479.95517577+ L2_P **2)**0.5)**2-( p_PX + L2_PX )**2-( p_PY + L2_PY )**2-( p_PZ + L2_PZ )**2)**0.5)>1865+20)|(((((243716.98437715+ p_P **2)**0.5+(19479.95517577+ L2_P **2)**0.5)**2-( p_PX + L2_PX )**2-( p_PY + L2_PY )**2-( p_PZ + L2_PZ )**2)**0.5)<1865-20))&((( L2_ID >0)&( p_ID >0))|(( L2_ID <0)&( p_ID <0))))|((( L1_ID >0)&( p_ID >0))|(( L1_ID <0)&( p_ID <0))))&((( p_PX * L1_PX + p_PY * L1_PY + p_PZ * L1_PZ )/( p_P * L1_P )<np.cos(1e-3))&(( p_PX * L2_PX + p_PY * L2_PY + p_PZ * L2_PZ )/( p_P * L2_P )<np.cos(1e-3))&(( K_PX * L1_PX + K_PY * L1_PY + K_PZ * L1_PZ )/( K_P * L1_P )<np.cos(1e-3))&(( K_PX * L2_PX + K_PY * L2_PY + K_PZ * L2_PZ )/( K_P * L2_P )<np.cos(1e-3)))&(( p_PX * K_PX + p_PY * K_PY + p_PZ * K_PZ )/( p_P * K_P )<np.cos(1e-3)))\"\n",
    "# The pre-selection strings"
   ]
  },
  {
   "cell_type": "code",
   "execution_count": 3,
   "metadata": {},
   "outputs": [],
   "source": [
    "simulated_fts, sdfstring = dp.get_required_features(s, df_prefix='sf')\n",
    "real_fts, rdfstring = dp.get_required_features(r, df_prefix='rf')\n",
    "# Find the features needed from pre-selection string\n",
    "\n",
    "real, sim = Data(*Consts().get_real_tuple()), Data(*Consts().get_simulated_tuple())\n",
    "rf, sf = real.fetch_features(real_fts), sim.fetch_features(simulated_fts)\n",
    "# Gather all those features, remember we get eventNumber returned as an index\n",
    "\n",
    "pre_selection_rf = rf[eval(rdfstring)]\n",
    "pre_selection_sf = sf[eval(sdfstring)]\n",
    "# Apply the pre-selection criteria"
   ]
  },
  {
   "cell_type": "markdown",
   "metadata": {},
   "source": [
    "The pre-selections really did cut our data down alot! We removed 76.2% of the real data and 79.9% of the simulated data. Oh no, we are going to need more data now."
   ]
  },
  {
   "cell_type": "code",
   "execution_count": 4,
   "metadata": {},
   "outputs": [],
   "source": [
    "# Get the eventNumber of the remaining events, these are the only ones we will use to train any future neural network.\n",
    "real_eventNumbers = pre_selection_rf.index.to_list()\n",
    "sim_eventNumbers = pre_selection_sf.index.to_list()\n",
    "\n",
    "keep_events = {\n",
    "    'real': real_eventNumbers,\n",
    "    'sim': sim_eventNumbers\n",
    "}"
   ]
  },
  {
   "cell_type": "markdown",
   "metadata": {},
   "source": [
    "## Reading in Data"
   ]
  },
  {
   "cell_type": "code",
   "execution_count": 24,
   "metadata": {},
   "outputs": [
    {
     "name": "stdout",
     "output_type": "stream",
     "text": [
      "133\n"
     ]
    },
    {
     "data": {
      "text/plain": [
       "127"
      ]
     },
     "execution_count": 24,
     "metadata": {},
     "output_type": "execute_result"
    }
   ],
   "source": [
    "chi2 = pd.read_csv('common_features.txt', sep=' ')['Feature']\n",
    "chi2 = [feat for feat in chi2 if 'chi2' in feat.lower()]\n",
    "# Get all the CHI2 features that are common to the sets\n",
    "errs = pd.read_csv('error_features.txt', sep=' ')['Feature'].to_list()\n",
    "chi2 = [f for f in chi2 if f not in errs]\n",
    "# Remove all CHI2 features that cause errors in the reading process\n",
    "len(chi2)"
   ]
  },
  {
   "cell_type": "code",
   "execution_count": 18,
   "metadata": {},
   "outputs": [
    {
     "data": {
      "text/plain": [
       "155"
      ]
     },
     "execution_count": 18,
     "metadata": {},
     "output_type": "execute_result"
    }
   ],
   "source": [
    "particle_features = ['Theta', 'MINIP', 'PX', 'PY', 'PZ', 'PT']\n",
    "particles = ['L1', 'L2', 'p', 'K']\n",
    "feats = [particle + \"_\" + ft for ft in particle_features for particle in particles]\n",
    "feats += chi2\n",
    "# Define the set of features we want to have, PVCHI2 seems to cause weird errors\n",
    "len(feats)"
   ]
  },
  {
   "cell_type": "code",
   "execution_count": 19,
   "metadata": {},
   "outputs": [
    {
     "name": "stdout",
     "output_type": "stream",
     "text": [
      "Fetching features\n",
      "[=================---] 86% Complete\r"
     ]
    },
    {
     "ename": "AttributeError",
     "evalue": "'tuple' object has no attribute 'set_index'",
     "output_type": "error",
     "traceback": [
      "\u001b[0;31m---------------------------------------------------------------------------\u001b[0m",
      "\u001b[0;31mAttributeError\u001b[0m                            Traceback (most recent call last)",
      "\u001b[0;32m/tmp/ipykernel_3945257/1064696939.py\u001b[0m in \u001b[0;36m<module>\u001b[0;34m\u001b[0m\n\u001b[0;32m----> 1\u001b[0;31m \u001b[0mdf\u001b[0m \u001b[0;34m=\u001b[0m \u001b[0mdp\u001b[0m\u001b[0;34m.\u001b[0m\u001b[0mget_combined_data\u001b[0m\u001b[0;34m(\u001b[0m\u001b[0mfeats\u001b[0m\u001b[0;34m,\u001b[0m \u001b[0mkeep_only_events\u001b[0m\u001b[0;34m=\u001b[0m\u001b[0mkeep_events\u001b[0m\u001b[0;34m,\u001b[0m \u001b[0mrandom_shuffle\u001b[0m\u001b[0;34m=\u001b[0m\u001b[0;32mTrue\u001b[0m\u001b[0;34m,\u001b[0m \u001b[0mrandom_state\u001b[0m\u001b[0;34m=\u001b[0m\u001b[0;36m0\u001b[0m\u001b[0;34m)\u001b[0m\u001b[0;34m\u001b[0m\u001b[0;34m\u001b[0m\u001b[0m\n\u001b[0m\u001b[1;32m      2\u001b[0m \u001b[0;31m# I will always use n a random state of zero for reproducibility of the notebook\u001b[0m\u001b[0;34m\u001b[0m\u001b[0;34m\u001b[0m\u001b[0m\n\u001b[1;32m      3\u001b[0m \u001b[0;31m# This fetches\u001b[0m\u001b[0;34m\u001b[0m\u001b[0;34m\u001b[0m\u001b[0m\n",
      "\u001b[0;32m/disk/homedisk/home/user211/project/code/neural_network/../data_pipeline.py\u001b[0m in \u001b[0;36mget_combined_data\u001b[0;34m(features, keep_only_events, random_shuffle, random_state)\u001b[0m\n\u001b[1;32m     38\u001b[0m     \u001b[0mrf\u001b[0m \u001b[0;34m=\u001b[0m \u001b[0mreal\u001b[0m\u001b[0;34m.\u001b[0m\u001b[0mfetch_features\u001b[0m\u001b[0;34m(\u001b[0m\u001b[0mfeatures\u001b[0m\u001b[0;34m)\u001b[0m\u001b[0;34m\u001b[0m\u001b[0;34m\u001b[0m\u001b[0m\n\u001b[1;32m     39\u001b[0m     \u001b[0mprint\u001b[0m\u001b[0;34m(\u001b[0m\u001b[0;34m'[=================---] 86% Complete'\u001b[0m\u001b[0;34m,\u001b[0m \u001b[0mend\u001b[0m\u001b[0;34m=\u001b[0m\u001b[0;34m'\\r'\u001b[0m\u001b[0;34m)\u001b[0m\u001b[0;34m\u001b[0m\u001b[0;34m\u001b[0m\u001b[0m\n\u001b[0;32m---> 40\u001b[0;31m     \u001b[0msf\u001b[0m \u001b[0;34m=\u001b[0m \u001b[0msiml\u001b[0m\u001b[0;34m.\u001b[0m\u001b[0mfetch_features\u001b[0m\u001b[0;34m(\u001b[0m\u001b[0mfeatures\u001b[0m \u001b[0;34m+\u001b[0m \u001b[0;34m[\u001b[0m\u001b[0;34m'Lb_BKGCAT'\u001b[0m\u001b[0;34m]\u001b[0m\u001b[0;34m)\u001b[0m\u001b[0;34m\u001b[0m\u001b[0;34m\u001b[0m\u001b[0m\n\u001b[0m\u001b[1;32m     41\u001b[0m     \u001b[0mprint\u001b[0m\u001b[0;34m(\u001b[0m\u001b[0;34m'[====================] 100% Complete'\u001b[0m\u001b[0;34m)\u001b[0m\u001b[0;34m\u001b[0m\u001b[0;34m\u001b[0m\u001b[0m\n\u001b[1;32m     42\u001b[0m \u001b[0;34m\u001b[0m\u001b[0m\n",
      "\u001b[0;32m/disk/homedisk/home/user211/project/code/neural_network/../utilities.py\u001b[0m in \u001b[0;36mfetch_features\u001b[0;34m(self, features)\u001b[0m\n\u001b[1;32m     39\u001b[0m             \u001b[0;31m# Open the tuple using UpRoot\u001b[0m\u001b[0;34m\u001b[0m\u001b[0;34m\u001b[0m\u001b[0m\n\u001b[1;32m     40\u001b[0m             \u001b[0mdf\u001b[0m \u001b[0;34m=\u001b[0m \u001b[0mf\u001b[0m\u001b[0;34m.\u001b[0m\u001b[0marrays\u001b[0m\u001b[0;34m(\u001b[0m\u001b[0mfts\u001b[0m\u001b[0;34m,\u001b[0m \u001b[0mlibrary\u001b[0m\u001b[0;34m=\u001b[0m\u001b[0;34m\"pd\"\u001b[0m\u001b[0;34m)\u001b[0m\u001b[0;34m\u001b[0m\u001b[0;34m\u001b[0m\u001b[0m\n\u001b[0;32m---> 41\u001b[0;31m             \u001b[0mdf\u001b[0m\u001b[0;34m.\u001b[0m\u001b[0mset_index\u001b[0m\u001b[0;34m(\u001b[0m\u001b[0;34m\"eventNumber\"\u001b[0m\u001b[0;34m,\u001b[0m \u001b[0minplace\u001b[0m\u001b[0;34m=\u001b[0m\u001b[0;32mTrue\u001b[0m\u001b[0;34m)\u001b[0m\u001b[0;34m\u001b[0m\u001b[0;34m\u001b[0m\u001b[0m\n\u001b[0m\u001b[1;32m     42\u001b[0m             \u001b[0mdf\u001b[0m\u001b[0;34m.\u001b[0m\u001b[0mcolumns\u001b[0m \u001b[0;34m=\u001b[0m \u001b[0mfts\u001b[0m\u001b[0;34m[\u001b[0m\u001b[0;36m1\u001b[0m\u001b[0;34m:\u001b[0m\u001b[0;34m]\u001b[0m\u001b[0;34m\u001b[0m\u001b[0;34m\u001b[0m\u001b[0m\n\u001b[1;32m     43\u001b[0m             \u001b[0mdf\u001b[0m \u001b[0;34m=\u001b[0m \u001b[0mdf\u001b[0m\u001b[0;34m[\u001b[0m\u001b[0;34m~\u001b[0m\u001b[0mdf\u001b[0m\u001b[0;34m.\u001b[0m\u001b[0mindex\u001b[0m\u001b[0;34m.\u001b[0m\u001b[0mduplicated\u001b[0m\u001b[0;34m(\u001b[0m\u001b[0mkeep\u001b[0m\u001b[0;34m=\u001b[0m\u001b[0;34m'first'\u001b[0m\u001b[0;34m)\u001b[0m\u001b[0;34m]\u001b[0m\u001b[0;34m\u001b[0m\u001b[0;34m\u001b[0m\u001b[0m\n",
      "\u001b[0;31mAttributeError\u001b[0m: 'tuple' object has no attribute 'set_index'"
     ]
    }
   ],
   "source": [
    "df = dp.get_combined_data(feats, keep_only_events=keep_events, random_shuffle=True, random_state=0)\n",
    "# I will always use n a random state of zero for reproducibility of the notebook\n",
    "# This fetches "
   ]
  },
  {
   "cell_type": "markdown",
   "metadata": {},
   "source": [
    "## Feature Engineering\n",
    "Now we will make some new features out of those that we have already requested. This could significantly improve network performance. Essentially it does the job of the network for it. For example we expect some angles and differences between angles to be useful.\n",
    "\n",
    "Note that we do not need to review these distributions since these have already been done in a previous notebook. Essentially they all look somewhat similar, maybe this is bad for performance but at least it shows that the simulated data is reproducing the real data well. "
   ]
  },
  {
   "cell_type": "code",
   "execution_count": null,
   "metadata": {},
   "outputs": [],
   "source": [
    "for particle in particles:\n",
    "    df[particle + \"_P\"] = np.sqrt(df[particle + \"_PT\"]**2 + df[particle + \"_PZ\"]**2)\n",
    "    df[particle + '_alpha'] = np.arcsin(df[particle + '_PT']/df[particle + '_P'])\n",
    "    df[particle + '_normPT'] = df[particle + \"_PT\"]/df[particle + \"_P\"]\n",
    "    \n",
    "combinations = np.array([\n",
    "    ['L1', 'L2'],\n",
    "    ['L1', 'p'],\n",
    "    ['L1', 'K'],\n",
    "    ['L2', 'p'],\n",
    "    ['L2', 'K'],\n",
    "    ['p', 'K']\n",
    "])\n",
    "\n",
    "for combo in combinations:\n",
    "    namePT = f\"{combo[0]}_minus_PT_{combo[1]}\"\n",
    "    nameALPHA = f\"{combo[0]}_minus_alpha_{combo[1]}\"\n",
    "    df[namePT] = df[combo[0] + \"_normPT\"] - df[combo[1] + \"_normPT\"]\n",
    "    df[nameALPHA] = df[combo[0] + \"_alpha\"] - df[combo[1] + \"_alpha\"]"
   ]
  },
  {
   "cell_type": "markdown",
   "metadata": {},
   "source": [
    "## Model Design and Training"
   ]
  },
  {
   "cell_type": "code",
   "execution_count": null,
   "metadata": {},
   "outputs": [
    {
     "data": {
      "text/plain": [
       "((21596, 51), (21596,), (7199, 51), (7200, 51))"
      ]
     },
     "execution_count": 10,
     "metadata": {},
     "output_type": "execute_result"
    }
   ],
   "source": [
    "(X_train, y_train), (X_val, y_val), (X_test, y_test) = dp.prepare_data(df, train_frac=0.6, val_frac=0.2, test_frac=0.2, random_state=1)\n",
    "# Get the training, validation and test data, also inspect it for proof-of-concept\n",
    "\n",
    "X_train.shape, y_train.shape, X_val.shape, X_test.shape"
   ]
  },
  {
   "cell_type": "code",
   "execution_count": null,
   "metadata": {},
   "outputs": [
    {
     "name": "stderr",
     "output_type": "stream",
     "text": [
      "2022-02-09 10:54:37.983217: I tensorflow/core/platform/cpu_feature_guard.cc:142] This TensorFlow binary is optimized with oneAPI Deep Neural Network Library (oneDNN) to use the following CPU instructions in performance-critical operations:  SSE4.1 SSE4.2 AVX AVX2 AVX512F FMA\n",
      "To enable them in other operations, rebuild TensorFlow with the appropriate compiler flags.\n",
      "2022-02-09 10:54:38.013212: I tensorflow/core/common_runtime/process_util.cc:146] Creating new thread pool with default inter op setting: 2. Tune using inter_op_parallelism_threads for best performance.\n",
      "2022-02-09 10:54:38.179725: I tensorflow/compiler/mlir/mlir_graph_optimization_pass.cc:176] None of the MLIR Optimization Passes are enabled (registered 2)\n",
      "2022-02-09 10:54:38.193110: I tensorflow/core/platform/profile_utils/cpu_utils.cc:114] CPU Frequency: 2100000000 Hz\n"
     ]
    },
    {
     "name": "stdout",
     "output_type": "stream",
     "text": [
      "Epoch 1/100\n",
      "22/22 [==============================] - 6s 152ms/step - loss: 4.4571 - binary_accuracy: 0.8736 - auc: 0.7570 - true_positives: 420.0000 - true_negatives: 18447.0000 - false_positives: 505.0000 - false_negatives: 2224.0000 - val_loss: 3.9908 - val_binary_accuracy: 0.8850 - val_auc: 0.8145 - val_true_positives: 97.0000 - val_true_negatives: 6274.0000 - val_false_positives: 27.0000 - val_false_negatives: 801.0000\n",
      "Epoch 2/100\n",
      "22/22 [==============================] - 2s 106ms/step - loss: 3.3382 - binary_accuracy: 0.8924 - auc: 0.8464 - true_positives: 679.0000 - true_negatives: 18594.0000 - false_positives: 358.0000 - false_negatives: 1965.0000 - val_loss: 3.0295 - val_binary_accuracy: 0.8757 - val_auc: 0.8766 - val_true_positives: 4.0000 - val_true_negatives: 6300.0000 - val_false_positives: 1.0000 - val_false_negatives: 894.0000\n",
      "Epoch 3/100\n",
      "22/22 [==============================] - 2s 92ms/step - loss: 2.5053 - binary_accuracy: 0.8966 - auc: 0.8730 - true_positives: 826.0000 - true_negatives: 18537.0000 - false_positives: 415.0000 - false_negatives: 1818.0000 - val_loss: 2.2522 - val_binary_accuracy: 0.8787 - val_auc: 0.8805 - val_true_positives: 32.0000 - val_true_negatives: 6294.0000 - val_false_positives: 7.0000 - val_false_negatives: 866.0000\n",
      "Epoch 4/100\n",
      "22/22 [==============================] - 2s 98ms/step - loss: 1.8628 - binary_accuracy: 0.8992 - auc: 0.8853 - true_positives: 1001.0000 - true_negatives: 18418.0000 - false_positives: 534.0000 - false_negatives: 1643.0000 - val_loss: 1.6539 - val_binary_accuracy: 0.8757 - val_auc: 0.8835 - val_true_positives: 4.0000 - val_true_negatives: 6300.0000 - val_false_positives: 1.0000 - val_false_negatives: 894.0000\n",
      "Epoch 5/100\n",
      "22/22 [==============================] - 2s 105ms/step - loss: 1.3603 - binary_accuracy: 0.9012 - auc: 0.8927 - true_positives: 1046.0000 - true_negatives: 18416.0000 - false_positives: 536.0000 - false_negatives: 1598.0000 - val_loss: 1.2325 - val_binary_accuracy: 0.8753 - val_auc: 0.8865 - val_true_positives: 1.0000 - val_true_negatives: 6300.0000 - val_false_positives: 1.0000 - val_false_negatives: 897.0000\n",
      "Epoch 6/100\n",
      "22/22 [==============================] - 2s 103ms/step - loss: 1.0016 - binary_accuracy: 0.9027 - auc: 0.8960 - true_positives: 1055.0000 - true_negatives: 18439.0000 - false_positives: 513.0000 - false_negatives: 1589.0000 - val_loss: 0.9640 - val_binary_accuracy: 0.8751 - val_auc: 0.8967 - val_true_positives: 0.0000e+00 - val_true_negatives: 6300.0000 - val_false_positives: 1.0000 - val_false_negatives: 898.0000\n",
      "Epoch 7/100\n",
      "22/22 [==============================] - 2s 94ms/step - loss: 0.7636 - binary_accuracy: 0.9020 - auc: 0.8994 - true_positives: 1030.0000 - true_negatives: 18449.0000 - false_positives: 503.0000 - false_negatives: 1614.0000 - val_loss: 0.8012 - val_binary_accuracy: 0.8753 - val_auc: 0.8924 - val_true_positives: 0.0000e+00 - val_true_negatives: 6301.0000 - val_false_positives: 0.0000e+00 - val_false_negatives: 898.0000\n",
      "Epoch 8/100\n",
      "22/22 [==============================] - 2s 92ms/step - loss: 0.6102 - binary_accuracy: 0.9028 - auc: 0.9033 - true_positives: 1075.0000 - true_negatives: 18421.0000 - false_positives: 531.0000 - false_negatives: 1569.0000 - val_loss: 0.7006 - val_binary_accuracy: 0.8753 - val_auc: 0.9043 - val_true_positives: 0.0000e+00 - val_true_negatives: 6301.0000 - val_false_positives: 0.0000e+00 - val_false_negatives: 898.0000\n",
      "Epoch 9/100\n",
      "22/22 [==============================] - 3s 120ms/step - loss: 0.5152 - binary_accuracy: 0.9047 - auc: 0.9070 - true_positives: 1140.0000 - true_negatives: 18398.0000 - false_positives: 554.0000 - false_negatives: 1504.0000 - val_loss: 0.6327 - val_binary_accuracy: 0.8753 - val_auc: 0.9037 - val_true_positives: 0.0000e+00 - val_true_negatives: 6301.0000 - val_false_positives: 0.0000e+00 - val_false_negatives: 898.0000\n",
      "Epoch 10/100\n",
      "22/22 [==============================] - 2s 108ms/step - loss: 0.4593 - binary_accuracy: 0.9081 - auc: 0.9083 - true_positives: 1222.0000 - true_negatives: 18389.0000 - false_positives: 563.0000 - false_negatives: 1422.0000 - val_loss: 0.5886 - val_binary_accuracy: 0.8753 - val_auc: 0.9098 - val_true_positives: 0.0000e+00 - val_true_negatives: 6301.0000 - val_false_positives: 0.0000e+00 - val_false_negatives: 898.0000\n",
      "Epoch 11/100\n",
      "22/22 [==============================] - 2s 113ms/step - loss: 0.4247 - binary_accuracy: 0.9060 - auc: 0.9101 - true_positives: 1213.0000 - true_negatives: 18354.0000 - false_positives: 598.0000 - false_negatives: 1431.0000 - val_loss: 0.5745 - val_binary_accuracy: 0.8751 - val_auc: 0.9069 - val_true_positives: 0.0000e+00 - val_true_negatives: 6300.0000 - val_false_positives: 1.0000 - val_false_negatives: 898.0000\n",
      "Epoch 12/100\n",
      "22/22 [==============================] - 2s 99ms/step - loss: 0.3980 - binary_accuracy: 0.9091 - auc: 0.9148 - true_positives: 1296.0000 - true_negatives: 18338.0000 - false_positives: 614.0000 - false_negatives: 1348.0000 - val_loss: 0.5459 - val_binary_accuracy: 0.8753 - val_auc: 0.9163 - val_true_positives: 0.0000e+00 - val_true_negatives: 6301.0000 - val_false_positives: 0.0000e+00 - val_false_negatives: 898.0000\n",
      "Epoch 13/100\n",
      "22/22 [==============================] - 2s 107ms/step - loss: 0.3815 - binary_accuracy: 0.9101 - auc: 0.9160 - true_positives: 1315.0000 - true_negatives: 18339.0000 - false_positives: 613.0000 - false_negatives: 1329.0000 - val_loss: 0.5739 - val_binary_accuracy: 0.8753 - val_auc: 0.8991 - val_true_positives: 0.0000e+00 - val_true_negatives: 6301.0000 - val_false_positives: 0.0000e+00 - val_false_negatives: 898.0000\n",
      "Epoch 14/100\n",
      "22/22 [==============================] - 3s 115ms/step - loss: 0.3676 - binary_accuracy: 0.9087 - auc: 0.9176 - true_positives: 1218.0000 - true_negatives: 18407.0000 - false_positives: 545.0000 - false_negatives: 1426.0000 - val_loss: 0.4942 - val_binary_accuracy: 0.8753 - val_auc: 0.9218 - val_true_positives: 0.0000e+00 - val_true_negatives: 6301.0000 - val_false_positives: 0.0000e+00 - val_false_negatives: 898.0000\n",
      "Epoch 15/100\n",
      "22/22 [==============================] - 2s 110ms/step - loss: 0.3544 - binary_accuracy: 0.9087 - auc: 0.9202 - true_positives: 1316.0000 - true_negatives: 18308.0000 - false_positives: 644.0000 - false_negatives: 1328.0000 - val_loss: 0.4905 - val_binary_accuracy: 0.8751 - val_auc: 0.9177 - val_true_positives: 0.0000e+00 - val_true_negatives: 6300.0000 - val_false_positives: 1.0000 - val_false_negatives: 898.0000\n",
      "Epoch 16/100\n",
      "22/22 [==============================] - 2s 101ms/step - loss: 0.3439 - binary_accuracy: 0.9126 - auc: 0.9215 - true_positives: 1307.0000 - true_negatives: 18402.0000 - false_positives: 550.0000 - false_negatives: 1337.0000 - val_loss: 0.4763 - val_binary_accuracy: 0.8751 - val_auc: 0.9230 - val_true_positives: 0.0000e+00 - val_true_negatives: 6300.0000 - val_false_positives: 1.0000 - val_false_negatives: 898.0000\n",
      "Epoch 17/100\n",
      "22/22 [==============================] - 2s 105ms/step - loss: 0.3369 - binary_accuracy: 0.9136 - auc: 0.9208 - true_positives: 1344.0000 - true_negatives: 18387.0000 - false_positives: 565.0000 - false_negatives: 1300.0000 - val_loss: 0.4819 - val_binary_accuracy: 0.8753 - val_auc: 0.9103 - val_true_positives: 0.0000e+00 - val_true_negatives: 6301.0000 - val_false_positives: 0.0000e+00 - val_false_negatives: 898.0000\n",
      "Epoch 18/100\n",
      "22/22 [==============================] - 2s 94ms/step - loss: 0.3302 - binary_accuracy: 0.9133 - auc: 0.9217 - true_positives: 1333.0000 - true_negatives: 18391.0000 - false_positives: 561.0000 - false_negatives: 1311.0000 - val_loss: 0.5231 - val_binary_accuracy: 0.8753 - val_auc: 0.9194 - val_true_positives: 0.0000e+00 - val_true_negatives: 6301.0000 - val_false_positives: 0.0000e+00 - val_false_negatives: 898.0000\n",
      "Epoch 19/100\n",
      "22/22 [==============================] - 2s 99ms/step - loss: 0.3226 - binary_accuracy: 0.9141 - auc: 0.9254 - true_positives: 1305.0000 - true_negatives: 18435.0000 - false_positives: 517.0000 - false_negatives: 1339.0000 - val_loss: 0.4479 - val_binary_accuracy: 0.8751 - val_auc: 0.9130 - val_true_positives: 0.0000e+00 - val_true_negatives: 6300.0000 - val_false_positives: 1.0000 - val_false_negatives: 898.0000\n",
      "Epoch 20/100\n",
      "22/22 [==============================] - 2s 94ms/step - loss: 0.3165 - binary_accuracy: 0.9146 - auc: 0.9254 - true_positives: 1395.0000 - true_negatives: 18356.0000 - false_positives: 596.0000 - false_negatives: 1249.0000 - val_loss: 0.4450 - val_binary_accuracy: 0.8751 - val_auc: 0.9243 - val_true_positives: 0.0000e+00 - val_true_negatives: 6300.0000 - val_false_positives: 1.0000 - val_false_negatives: 898.0000\n",
      "Epoch 21/100\n",
      "22/22 [==============================] - 2s 102ms/step - loss: 0.3107 - binary_accuracy: 0.9169 - auc: 0.9276 - true_positives: 1379.0000 - true_negatives: 18422.0000 - false_positives: 530.0000 - false_negatives: 1265.0000 - val_loss: 0.4391 - val_binary_accuracy: 0.8753 - val_auc: 0.9226 - val_true_positives: 1.0000 - val_true_negatives: 6300.0000 - val_false_positives: 1.0000 - val_false_negatives: 897.0000\n",
      "Epoch 22/100\n",
      "22/22 [==============================] - 2s 96ms/step - loss: 0.3079 - binary_accuracy: 0.9148 - auc: 0.9271 - true_positives: 1388.0000 - true_negatives: 18369.0000 - false_positives: 583.0000 - false_negatives: 1256.0000 - val_loss: 0.4394 - val_binary_accuracy: 0.8751 - val_auc: 0.9212 - val_true_positives: 0.0000e+00 - val_true_negatives: 6300.0000 - val_false_positives: 1.0000 - val_false_negatives: 898.0000\n",
      "Epoch 23/100\n",
      "22/22 [==============================] - 2s 103ms/step - loss: 0.3029 - binary_accuracy: 0.9164 - auc: 0.9284 - true_positives: 1367.0000 - true_negatives: 18424.0000 - false_positives: 528.0000 - false_negatives: 1277.0000 - val_loss: 0.3932 - val_binary_accuracy: 0.8772 - val_auc: 0.9259 - val_true_positives: 16.0000 - val_true_negatives: 6299.0000 - val_false_positives: 2.0000 - val_false_negatives: 882.0000\n",
      "Epoch 24/100\n",
      "22/22 [==============================] - 2s 112ms/step - loss: 0.2978 - binary_accuracy: 0.9182 - auc: 0.9297 - true_positives: 1433.0000 - true_negatives: 18396.0000 - false_positives: 556.0000 - false_negatives: 1211.0000 - val_loss: 0.3435 - val_binary_accuracy: 0.8892 - val_auc: 0.9236 - val_true_positives: 114.0000 - val_true_negatives: 6287.0000 - val_false_positives: 14.0000 - val_false_negatives: 784.0000\n",
      "Epoch 25/100\n",
      "22/22 [==============================] - 2s 98ms/step - loss: 0.2958 - binary_accuracy: 0.9179 - auc: 0.9304 - true_positives: 1479.0000 - true_negatives: 18344.0000 - false_positives: 608.0000 - false_negatives: 1165.0000 - val_loss: 0.3910 - val_binary_accuracy: 0.8769 - val_auc: 0.9215 - val_true_positives: 15.0000 - val_true_negatives: 6298.0000 - val_false_positives: 3.0000 - val_false_negatives: 883.0000\n",
      "Epoch 26/100\n",
      "22/22 [==============================] - 2s 101ms/step - loss: 0.2949 - binary_accuracy: 0.9160 - auc: 0.9286 - true_positives: 1379.0000 - true_negatives: 18403.0000 - false_positives: 549.0000 - false_negatives: 1265.0000 - val_loss: 0.3813 - val_binary_accuracy: 0.8755 - val_auc: 0.9250 - val_true_positives: 3.0000 - val_true_negatives: 6300.0000 - val_false_positives: 1.0000 - val_false_negatives: 895.0000\n",
      "Epoch 27/100\n",
      "22/22 [==============================] - 2s 99ms/step - loss: 0.2907 - binary_accuracy: 0.9189 - auc: 0.9309 - true_positives: 1420.0000 - true_negatives: 18425.0000 - false_positives: 527.0000 - false_negatives: 1224.0000 - val_loss: 0.3397 - val_binary_accuracy: 0.8858 - val_auc: 0.9263 - val_true_positives: 89.0000 - val_true_negatives: 6288.0000 - val_false_positives: 13.0000 - val_false_negatives: 809.0000\n",
      "Epoch 28/100\n",
      "22/22 [==============================] - 2s 95ms/step - loss: 0.2888 - binary_accuracy: 0.9186 - auc: 0.9325 - true_positives: 1422.0000 - true_negatives: 18416.0000 - false_positives: 536.0000 - false_negatives: 1222.0000 - val_loss: 0.3140 - val_binary_accuracy: 0.9022 - val_auc: 0.9246 - val_true_positives: 264.0000 - val_true_negatives: 6231.0000 - val_false_positives: 70.0000 - val_false_negatives: 634.0000\n",
      "Epoch 29/100\n",
      "22/22 [==============================] - 2s 99ms/step - loss: 0.2866 - binary_accuracy: 0.9172 - auc: 0.9320 - true_positives: 1437.0000 - true_negatives: 18371.0000 - false_positives: 581.0000 - false_negatives: 1207.0000 - val_loss: 0.3368 - val_binary_accuracy: 0.8850 - val_auc: 0.9235 - val_true_positives: 79.0000 - val_true_negatives: 6292.0000 - val_false_positives: 9.0000 - val_false_negatives: 819.0000\n",
      "Epoch 30/100\n",
      "22/22 [==============================] - 2s 95ms/step - loss: 0.2823 - binary_accuracy: 0.9212 - auc: 0.9340 - true_positives: 1475.0000 - true_negatives: 18420.0000 - false_positives: 532.0000 - false_negatives: 1169.0000 - val_loss: 0.3229 - val_binary_accuracy: 0.8978 - val_auc: 0.9220 - val_true_positives: 214.0000 - val_true_negatives: 6249.0000 - val_false_positives: 52.0000 - val_false_negatives: 684.0000\n",
      "Epoch 31/100\n",
      "22/22 [==============================] - 3s 114ms/step - loss: 0.2842 - binary_accuracy: 0.9192 - auc: 0.9329 - true_positives: 1503.0000 - true_negatives: 18348.0000 - false_positives: 604.0000 - false_negatives: 1141.0000 - val_loss: 0.3828 - val_binary_accuracy: 0.8753 - val_auc: 0.9264 - val_true_positives: 0.0000e+00 - val_true_negatives: 6301.0000 - val_false_positives: 0.0000e+00 - val_false_negatives: 898.0000\n",
      "Epoch 32/100\n",
      "22/22 [==============================] - 2s 105ms/step - loss: 0.2808 - binary_accuracy: 0.9202 - auc: 0.9337 - true_positives: 1395.0000 - true_negatives: 18478.0000 - false_positives: 474.0000 - false_negatives: 1249.0000 - val_loss: 0.2927 - val_binary_accuracy: 0.9185 - val_auc: 0.9273 - val_true_positives: 465.0000 - val_true_negatives: 6147.0000 - val_false_positives: 154.0000 - val_false_negatives: 433.0000\n",
      "Epoch 33/100\n",
      "22/22 [==============================] - 2s 102ms/step - loss: 0.2762 - binary_accuracy: 0.9220 - auc: 0.9376 - true_positives: 1539.0000 - true_negatives: 18372.0000 - false_positives: 580.0000 - false_negatives: 1105.0000 - val_loss: 0.3079 - val_binary_accuracy: 0.9030 - val_auc: 0.9285 - val_true_positives: 238.0000 - val_true_negatives: 6263.0000 - val_false_positives: 38.0000 - val_false_negatives: 660.0000\n",
      "Epoch 34/100\n",
      "22/22 [==============================] - 2s 105ms/step - loss: 0.2748 - binary_accuracy: 0.9219 - auc: 0.9372 - true_positives: 1515.0000 - true_negatives: 18394.0000 - false_positives: 558.0000 - false_negatives: 1129.0000 - val_loss: 0.3457 - val_binary_accuracy: 0.8818 - val_auc: 0.9286 - val_true_positives: 53.0000 - val_true_negatives: 6295.0000 - val_false_positives: 6.0000 - val_false_negatives: 845.0000\n",
      "Epoch 35/100\n",
      "22/22 [==============================] - 2s 102ms/step - loss: 0.2754 - binary_accuracy: 0.9219 - auc: 0.9365 - true_positives: 1463.0000 - true_negatives: 18446.0000 - false_positives: 506.0000 - false_negatives: 1181.0000 - val_loss: 0.2996 - val_binary_accuracy: 0.9073 - val_auc: 0.9291 - val_true_positives: 266.0000 - val_true_negatives: 6266.0000 - val_false_positives: 35.0000 - val_false_negatives: 632.0000\n",
      "Epoch 36/100\n",
      "22/22 [==============================] - 3s 119ms/step - loss: 0.2731 - binary_accuracy: 0.9218 - auc: 0.9375 - true_positives: 1488.0000 - true_negatives: 18420.0000 - false_positives: 532.0000 - false_negatives: 1156.0000 - val_loss: 0.2925 - val_binary_accuracy: 0.9121 - val_auc: 0.9260 - val_true_positives: 528.0000 - val_true_negatives: 6038.0000 - val_false_positives: 263.0000 - val_false_negatives: 370.0000\n",
      "Epoch 37/100\n",
      "22/22 [==============================] - 2s 100ms/step - loss: 0.2733 - binary_accuracy: 0.9218 - auc: 0.9364 - true_positives: 1522.0000 - true_negatives: 18386.0000 - false_positives: 566.0000 - false_negatives: 1122.0000 - val_loss: 0.2883 - val_binary_accuracy: 0.9136 - val_auc: 0.9316 - val_true_positives: 378.0000 - val_true_negatives: 6199.0000 - val_false_positives: 102.0000 - val_false_negatives: 520.0000\n",
      "Epoch 38/100\n",
      "22/22 [==============================] - 2s 105ms/step - loss: 0.2709 - binary_accuracy: 0.9205 - auc: 0.9369 - true_positives: 1493.0000 - true_negatives: 18386.0000 - false_positives: 566.0000 - false_negatives: 1151.0000 - val_loss: 0.2902 - val_binary_accuracy: 0.9162 - val_auc: 0.9252 - val_true_positives: 472.0000 - val_true_negatives: 6124.0000 - val_false_positives: 177.0000 - val_false_negatives: 426.0000\n",
      "Epoch 39/100\n",
      "22/22 [==============================] - 2s 101ms/step - loss: 0.2677 - binary_accuracy: 0.9239 - auc: 0.9399 - true_positives: 1537.0000 - true_negatives: 18415.0000 - false_positives: 537.0000 - false_negatives: 1107.0000 - val_loss: 0.2890 - val_binary_accuracy: 0.9171 - val_auc: 0.9289 - val_true_positives: 579.0000 - val_true_negatives: 6023.0000 - val_false_positives: 278.0000 - val_false_negatives: 319.0000\n",
      "Epoch 40/100\n",
      "22/22 [==============================] - 2s 104ms/step - loss: 0.2704 - binary_accuracy: 0.9231 - auc: 0.9379 - true_positives: 1535.0000 - true_negatives: 18400.0000 - false_positives: 552.0000 - false_negatives: 1109.0000 - val_loss: 0.2845 - val_binary_accuracy: 0.9162 - val_auc: 0.9315 - val_true_positives: 573.0000 - val_true_negatives: 6023.0000 - val_false_positives: 278.0000 - val_false_negatives: 325.0000\n",
      "Epoch 41/100\n",
      "22/22 [==============================] - 2s 106ms/step - loss: 0.2695 - binary_accuracy: 0.9214 - auc: 0.9377 - true_positives: 1523.0000 - true_negatives: 18376.0000 - false_positives: 576.0000 - false_negatives: 1121.0000 - val_loss: 0.2847 - val_binary_accuracy: 0.9210 - val_auc: 0.9284 - val_true_positives: 477.0000 - val_true_negatives: 6153.0000 - val_false_positives: 148.0000 - val_false_negatives: 421.0000\n",
      "Epoch 42/100\n",
      "22/22 [==============================] - 2s 101ms/step - loss: 0.2670 - binary_accuracy: 0.9230 - auc: 0.9395 - true_positives: 1531.0000 - true_negatives: 18403.0000 - false_positives: 549.0000 - false_negatives: 1113.0000 - val_loss: 0.2968 - val_binary_accuracy: 0.9132 - val_auc: 0.9360 - val_true_positives: 329.0000 - val_true_negatives: 6245.0000 - val_false_positives: 56.0000 - val_false_negatives: 569.0000\n",
      "Epoch 43/100\n",
      "22/22 [==============================] - 2s 99ms/step - loss: 0.2660 - binary_accuracy: 0.9244 - auc: 0.9384 - true_positives: 1507.0000 - true_negatives: 18457.0000 - false_positives: 495.0000 - false_negatives: 1137.0000 - val_loss: 0.2882 - val_binary_accuracy: 0.9153 - val_auc: 0.9277 - val_true_positives: 412.0000 - val_true_negatives: 6177.0000 - val_false_positives: 124.0000 - val_false_negatives: 486.0000\n",
      "Epoch 44/100\n",
      "22/22 [==============================] - 2s 102ms/step - loss: 0.2673 - binary_accuracy: 0.9230 - auc: 0.9383 - true_positives: 1488.0000 - true_negatives: 18446.0000 - false_positives: 506.0000 - false_negatives: 1156.0000 - val_loss: 0.3173 - val_binary_accuracy: 0.9008 - val_auc: 0.9172 - val_true_positives: 209.0000 - val_true_negatives: 6276.0000 - val_false_positives: 25.0000 - val_false_negatives: 689.0000\n",
      "Epoch 45/100\n",
      "22/22 [==============================] - 3s 123ms/step - loss: 0.2667 - binary_accuracy: 0.9226 - auc: 0.9389 - true_positives: 1472.0000 - true_negatives: 18453.0000 - false_positives: 499.0000 - false_negatives: 1172.0000 - val_loss: 0.3089 - val_binary_accuracy: 0.8962 - val_auc: 0.9364 - val_true_positives: 165.0000 - val_true_negatives: 6287.0000 - val_false_positives: 14.0000 - val_false_negatives: 733.0000\n",
      "Epoch 46/100\n",
      "22/22 [==============================] - 2s 99ms/step - loss: 0.2629 - binary_accuracy: 0.9263 - auc: 0.9400 - true_positives: 1533.0000 - true_negatives: 18472.0000 - false_positives: 480.0000 - false_negatives: 1111.0000 - val_loss: 0.2737 - val_binary_accuracy: 0.9210 - val_auc: 0.9352 - val_true_positives: 571.0000 - val_true_negatives: 6059.0000 - val_false_positives: 242.0000 - val_false_negatives: 327.0000\n",
      "Epoch 47/100\n",
      "22/22 [==============================] - 2s 88ms/step - loss: 0.2625 - binary_accuracy: 0.9254 - auc: 0.9404 - true_positives: 1544.0000 - true_negatives: 18442.0000 - false_positives: 510.0000 - false_negatives: 1100.0000 - val_loss: 0.2683 - val_binary_accuracy: 0.9222 - val_auc: 0.9390 - val_true_positives: 492.0000 - val_true_negatives: 6147.0000 - val_false_positives: 154.0000 - val_false_negatives: 406.0000\n",
      "Epoch 48/100\n",
      "22/22 [==============================] - 2s 104ms/step - loss: 0.2648 - binary_accuracy: 0.9218 - auc: 0.9390 - true_positives: 1512.0000 - true_negatives: 18395.0000 - false_positives: 557.0000 - false_negatives: 1132.0000 - val_loss: 0.2729 - val_binary_accuracy: 0.9187 - val_auc: 0.9354 - val_true_positives: 461.0000 - val_true_negatives: 6153.0000 - val_false_positives: 148.0000 - val_false_negatives: 437.0000\n",
      "Epoch 49/100\n",
      "22/22 [==============================] - 2s 109ms/step - loss: 0.2628 - binary_accuracy: 0.9255 - auc: 0.9393 - true_positives: 1548.0000 - true_negatives: 18439.0000 - false_positives: 513.0000 - false_negatives: 1096.0000 - val_loss: 0.2793 - val_binary_accuracy: 0.9164 - val_auc: 0.9299 - val_true_positives: 495.0000 - val_true_negatives: 6102.0000 - val_false_positives: 199.0000 - val_false_negatives: 403.0000\n",
      "Epoch 50/100\n",
      "22/22 [==============================] - 2s 104ms/step - loss: 0.2616 - binary_accuracy: 0.9248 - auc: 0.9410 - true_positives: 1529.0000 - true_negatives: 18444.0000 - false_positives: 508.0000 - false_negatives: 1115.0000 - val_loss: 0.2701 - val_binary_accuracy: 0.9215 - val_auc: 0.9368 - val_true_positives: 583.0000 - val_true_negatives: 6051.0000 - val_false_positives: 250.0000 - val_false_negatives: 315.0000\n",
      "Epoch 51/100\n",
      "22/22 [==============================] - 2s 114ms/step - loss: 0.2611 - binary_accuracy: 0.9247 - auc: 0.9406 - true_positives: 1558.0000 - true_negatives: 18412.0000 - false_positives: 540.0000 - false_negatives: 1086.0000 - val_loss: 0.2785 - val_binary_accuracy: 0.9193 - val_auc: 0.9284 - val_true_positives: 456.0000 - val_true_negatives: 6162.0000 - val_false_positives: 139.0000 - val_false_negatives: 442.0000\n",
      "Epoch 52/100\n",
      "22/22 [==============================] - 2s 98ms/step - loss: 0.2592 - binary_accuracy: 0.9258 - auc: 0.9416 - true_positives: 1549.0000 - true_negatives: 18444.0000 - false_positives: 508.0000 - false_negatives: 1095.0000 - val_loss: 0.2712 - val_binary_accuracy: 0.9230 - val_auc: 0.9353 - val_true_positives: 514.0000 - val_true_negatives: 6131.0000 - val_false_positives: 170.0000 - val_false_negatives: 384.0000\n",
      "Epoch 53/100\n",
      "22/22 [==============================] - 2s 101ms/step - loss: 0.2594 - binary_accuracy: 0.9236 - auc: 0.9423 - true_positives: 1509.0000 - true_negatives: 18438.0000 - false_positives: 514.0000 - false_negatives: 1135.0000 - val_loss: 0.2863 - val_binary_accuracy: 0.9132 - val_auc: 0.9299 - val_true_positives: 587.0000 - val_true_negatives: 5987.0000 - val_false_positives: 314.0000 - val_false_negatives: 311.0000\n",
      "Epoch 54/100\n",
      "22/22 [==============================] - 2s 97ms/step - loss: 0.2609 - binary_accuracy: 0.9222 - auc: 0.9409 - true_positives: 1547.0000 - true_negatives: 18368.0000 - false_positives: 584.0000 - false_negatives: 1097.0000 - val_loss: 0.2906 - val_binary_accuracy: 0.9065 - val_auc: 0.9382 - val_true_positives: 686.0000 - val_true_negatives: 5840.0000 - val_false_positives: 461.0000 - val_false_negatives: 212.0000\n",
      "Epoch 55/100\n",
      "22/22 [==============================] - 2s 100ms/step - loss: 0.2602 - binary_accuracy: 0.9234 - auc: 0.9429 - true_positives: 1556.0000 - true_negatives: 18386.0000 - false_positives: 566.0000 - false_negatives: 1088.0000 - val_loss: 0.2805 - val_binary_accuracy: 0.9194 - val_auc: 0.9286 - val_true_positives: 412.0000 - val_true_negatives: 6207.0000 - val_false_positives: 94.0000 - val_false_negatives: 486.0000\n",
      "Epoch 56/100\n",
      "22/22 [==============================] - 2s 100ms/step - loss: 0.2594 - binary_accuracy: 0.9244 - auc: 0.9416 - true_positives: 1535.0000 - true_negatives: 18429.0000 - false_positives: 523.0000 - false_negatives: 1109.0000 - val_loss: 0.2683 - val_binary_accuracy: 0.9189 - val_auc: 0.9367 - val_true_positives: 474.0000 - val_true_negatives: 6141.0000 - val_false_positives: 160.0000 - val_false_negatives: 424.0000\n",
      "Epoch 57/100\n",
      "22/22 [==============================] - 2s 97ms/step - loss: 0.2596 - binary_accuracy: 0.9269 - auc: 0.9413 - true_positives: 1568.0000 - true_negatives: 18450.0000 - false_positives: 502.0000 - false_negatives: 1076.0000 - val_loss: 0.2820 - val_binary_accuracy: 0.9143 - val_auc: 0.9313 - val_true_positives: 619.0000 - val_true_negatives: 5963.0000 - val_false_positives: 338.0000 - val_false_negatives: 279.0000\n",
      "Epoch 58/100\n",
      "22/22 [==============================] - 2s 93ms/step - loss: 0.2578 - binary_accuracy: 0.9266 - auc: 0.9416 - true_positives: 1557.0000 - true_negatives: 18453.0000 - false_positives: 499.0000 - false_negatives: 1087.0000 - val_loss: 0.2698 - val_binary_accuracy: 0.9222 - val_auc: 0.9353 - val_true_positives: 528.0000 - val_true_negatives: 6111.0000 - val_false_positives: 190.0000 - val_false_negatives: 370.0000\n",
      "Epoch 59/100\n",
      "22/22 [==============================] - 2s 104ms/step - loss: 0.2576 - binary_accuracy: 0.9246 - auc: 0.9430 - true_positives: 1570.0000 - true_negatives: 18398.0000 - false_positives: 554.0000 - false_negatives: 1074.0000 - val_loss: 0.2755 - val_binary_accuracy: 0.9169 - val_auc: 0.9355 - val_true_positives: 613.0000 - val_true_negatives: 5988.0000 - val_false_positives: 313.0000 - val_false_negatives: 285.0000\n",
      "Epoch 60/100\n",
      "22/22 [==============================] - 2s 99ms/step - loss: 0.2624 - binary_accuracy: 0.9230 - auc: 0.9399 - true_positives: 1531.0000 - true_negatives: 18403.0000 - false_positives: 549.0000 - false_negatives: 1113.0000 - val_loss: 0.2764 - val_binary_accuracy: 0.9160 - val_auc: 0.9356 - val_true_positives: 414.0000 - val_true_negatives: 6180.0000 - val_false_positives: 121.0000 - val_false_negatives: 484.0000\n",
      "Epoch 61/100\n",
      "22/22 [==============================] - 2s 102ms/step - loss: 0.2562 - binary_accuracy: 0.9251 - auc: 0.9437 - true_positives: 1553.0000 - true_negatives: 18425.0000 - false_positives: 527.0000 - false_negatives: 1091.0000 - val_loss: 0.2967 - val_binary_accuracy: 0.9115 - val_auc: 0.9158 - val_true_positives: 325.0000 - val_true_negatives: 6237.0000 - val_false_positives: 64.0000 - val_false_negatives: 573.0000\n",
      "Epoch 62/100\n",
      "22/22 [==============================] - 2s 113ms/step - loss: 0.2584 - binary_accuracy: 0.9246 - auc: 0.9411 - true_positives: 1521.0000 - true_negatives: 18447.0000 - false_positives: 505.0000 - false_negatives: 1123.0000 - val_loss: 0.3006 - val_binary_accuracy: 0.9087 - val_auc: 0.9120 - val_true_positives: 282.0000 - val_true_negatives: 6260.0000 - val_false_positives: 41.0000 - val_false_negatives: 616.0000\n",
      "Epoch 63/100\n",
      "22/22 [==============================] - 2s 103ms/step - loss: 0.2547 - binary_accuracy: 0.9283 - auc: 0.9441 - true_positives: 1546.0000 - true_negatives: 18501.0000 - false_positives: 451.0000 - false_negatives: 1098.0000 - val_loss: 0.2854 - val_binary_accuracy: 0.9128 - val_auc: 0.9253 - val_true_positives: 374.0000 - val_true_negatives: 6197.0000 - val_false_positives: 104.0000 - val_false_negatives: 524.0000\n",
      "Epoch 64/100\n",
      "22/22 [==============================] - 2s 108ms/step - loss: 0.2559 - binary_accuracy: 0.9252 - auc: 0.9433 - true_positives: 1510.0000 - true_negatives: 18471.0000 - false_positives: 481.0000 - false_negatives: 1134.0000 - val_loss: 0.2828 - val_binary_accuracy: 0.9136 - val_auc: 0.9290 - val_true_positives: 540.0000 - val_true_negatives: 6037.0000 - val_false_positives: 264.0000 - val_false_negatives: 358.0000\n",
      "Epoch 65/100\n",
      "22/22 [==============================] - 2s 99ms/step - loss: 0.2572 - binary_accuracy: 0.9256 - auc: 0.9419 - true_positives: 1562.0000 - true_negatives: 18427.0000 - false_positives: 525.0000 - false_negatives: 1082.0000 - val_loss: 0.2729 - val_binary_accuracy: 0.9226 - val_auc: 0.9333 - val_true_positives: 464.0000 - val_true_negatives: 6178.0000 - val_false_positives: 123.0000 - val_false_negatives: 434.0000\n",
      "Epoch 66/100\n",
      "22/22 [==============================] - 2s 102ms/step - loss: 0.2553 - binary_accuracy: 0.9262 - auc: 0.9434 - true_positives: 1590.0000 - true_negatives: 18413.0000 - false_positives: 539.0000 - false_negatives: 1054.0000 - val_loss: 0.2674 - val_binary_accuracy: 0.9243 - val_auc: 0.9359 - val_true_positives: 573.0000 - val_true_negatives: 6081.0000 - val_false_positives: 220.0000 - val_false_negatives: 325.0000\n",
      "Epoch 67/100\n",
      "22/22 [==============================] - 2s 108ms/step - loss: 0.2571 - binary_accuracy: 0.9258 - auc: 0.9424 - true_positives: 1574.0000 - true_negatives: 18419.0000 - false_positives: 533.0000 - false_negatives: 1070.0000 - val_loss: 0.2699 - val_binary_accuracy: 0.9187 - val_auc: 0.9348 - val_true_positives: 488.0000 - val_true_negatives: 6126.0000 - val_false_positives: 175.0000 - val_false_negatives: 410.0000\n"
     ]
    },
    {
     "name": "stderr",
     "output_type": "stream",
     "text": [
      "2022-02-09 10:57:13.925496: W tensorflow/python/util/util.cc:348] Sets are not currently considered sequences, but this may change in the future, so consider avoiding using them.\n"
     ]
    },
    {
     "name": "stdout",
     "output_type": "stream",
     "text": [
      "INFO:tensorflow:Assets written to: models/v2.3.2/assets\n"
     ]
    }
   ],
   "source": [
    "from tensorflow.keras import layers\n",
    "from tensorflow.keras.regularizers import l1_l2\n",
    "from tensorflow.keras import callbacks\n",
    "\n",
    "early_stopping = keras.callbacks.EarlyStopping(patience=20, min_delta=0.001, restore_best_weights=True)\n",
    "# Stop the training early when we really plateau\n",
    "\n",
    "lr_schedule = callbacks.ReduceLROnPlateau(patience=5, factor=0.2, min_lr=0.001)\n",
    "# Adjust learning rate when we start to plateau during training\n",
    "\n",
    "m = keras.Sequential()\n",
    "m.add(layers.Dense(64, activation='relu', input_shape=(X_train.shape[1],), kernel_regularizer=l1_l2(0.001, 0.001)))\n",
    "m.add(layers.Dropout(0.2))\n",
    "m.add(layers.BatchNormalization())\n",
    "m.add(layers.Dense(128, activation='relu', kernel_regularizer=l1_l2(0.001, 0.001)))\n",
    "m.add(layers.Dropout(0.2))\n",
    "m.add(layers.Dense(128, activation='relu', kernel_regularizer=l1_l2(0.001, 0.001)))\n",
    "m.add(layers.BatchNormalization())\n",
    "m.add(layers.Dense(256, activation='relu', kernel_regularizer=l1_l2(0.001, 0.001)))\n",
    "m.add(layers.Dense(1, activation='sigmoid'))\n",
    "m.compile(optimizer='rmsprop', loss='binary_crossentropy', metrics=['binary_accuracy', 'AUC', 'TruePositives', 'TrueNegatives', 'FalsePositives', 'FalseNegatives'])\n",
    "m_history = m.fit(X_train, y_train, epochs=100, batch_size=1024, validation_data=(X_val, y_val), callbacks=[early_stopping, lr_schedule])\n",
    "with open('train_history/v2.3.2_histDict', 'wb') as file_pi:\n",
    "    pickle.dump(m_history.history, file_pi)\n",
    "    # Write out the raw dictionary history\n",
    "m.save('models/v2.3.2')"
   ]
  },
  {
   "cell_type": "code",
   "execution_count": null,
   "metadata": {},
   "outputs": [],
   "source": [
    "history = pickle.load(open('train_history/v2.3.2_histDict', \"rb\"))\n",
    "nepochs = len(history['loss'])"
   ]
  },
  {
   "cell_type": "code",
   "execution_count": null,
   "metadata": {},
   "outputs": [
    {
     "data": {
      "image/png": "[encoded data removed]",
      "text/plain": [
       "<Figure size 1584x432 with 3 Axes>"
      ]
     },
     "metadata": {
      "needs_background": "light"
     },
     "output_type": "display_data"
    }
   ],
   "source": [
    "dp.plot_history_curves(history, nepochs)"
   ]
  },
  {
   "cell_type": "markdown",
   "metadata": {},
   "source": [
    "## ROC Curve Analysis\n",
    "Now that we have got a pretty good semi-initial model we can plot the ROC curve. This will help us spot overfitting and really accelerate our models development. It will allow us to see what type of error our model has preference to, does it incorrectly reject signal or incorrectly accept background more often?"
   ]
  },
  {
   "cell_type": "code",
   "execution_count": null,
   "metadata": {},
   "outputs": [],
   "source": [
    "roc_history = m_history.history\n",
    "\n",
    "train_signal_efficiency = roc_history['true_positives'] /  y_train.value_counts()[1]\n",
    "val_signal_efficiency = roc_history['val_true_positives'] /  y_val.value_counts()[1]\n",
    "# What percentage of total signal events were identified as signal events\n",
    "\n",
    "train_background_rej = 1 - (roc_history['false_positives'] / y_train.value_counts()[0])\n",
    "val_background_rej = 1 - (roc_history['val_false_positives'] / y_val.value_counts()[0])\n",
    "# The number of true positives to total positivesa"
   ]
  },
  {
   "cell_type": "code",
   "execution_count": null,
   "metadata": {},
   "outputs": [
    {
     "data": {
      "image/png": "[encoded data removed]",
      "text/plain": [
       "<Figure size 648x432 with 1 Axes>"
      ]
     },
     "metadata": {
      "needs_background": "light"
     },
     "output_type": "display_data"
    }
   ],
   "source": [
    "fig, ax = plt.subplots(1, 1, figsize=(9, 6))\n",
    "ax.plot(train_signal_efficiency, train_background_rej, 'b.', label='Training')\n",
    "ax.plot(val_signal_efficiency, val_background_rej, 'r.', label='Validation')\n",
    "ax.set_ylabel('Background Rejection (1 - False Positive Rate)')\n",
    "ax.set_xlabel('Signal Efficiency (True Positive Rate)')\n",
    "plt.legend(frameon=False)\n",
    "plt.show()"
   ]
  }
 ],
 "metadata": {
  "interpreter": {
   "hash": "9ca4116ab2c7470d45496f3104a2f3648c94db730a0039ceabb3a0fb6fe42410"
  },
  "kernelspec": {
   "display_name": "Python 3.9.7 64-bit ('linux-64': conda)",
   "language": "python",
   "name": "python3"
  },
  "language_info": {
   "codemirror_mode": {
    "name": "ipython",
    "version": 3
   },
   "file_extension": ".py",
   "mimetype": "text/x-python",
   "name": "python",
   "nbconvert_exporter": "python",
   "pygments_lexer": "ipython3",
   "version": "3.9.7"
  },
  "orig_nbformat": 4
 },
 "nbformat": 4,
 "nbformat_minor": 2
}
