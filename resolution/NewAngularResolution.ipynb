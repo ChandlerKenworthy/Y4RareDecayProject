{
 "cells": [
  {
   "cell_type": "markdown",
   "metadata": {},
   "source": [
    "# Angular Resolution\n",
    "In this notebook we find the resolution as a function of polar angle from the beam's axis for the LHCb using the simulated data tuple."
   ]
  },
  {
   "cell_type": "code",
   "execution_count": 22,
   "metadata": {},
   "outputs": [],
   "source": [
    "import pandas as pd\n",
    "import numpy as np\n",
    "import matplotlib.pyplot as plt\n",
    "import sys\n",
    "sys.path.append('../')\n",
    "from utilities import Consts, Data, Cut\n",
    "sys.path.append('../background_fitting/')\n",
    "import bgfuncs as bf"
   ]
  },
  {
   "cell_type": "code",
   "execution_count": 23,
   "metadata": {},
   "outputs": [],
   "source": [
    "fname, suffix = Consts().get_simulated_tuple()\n",
    "data = Data(fname, suffix)"
   ]
  },
  {
   "cell_type": "markdown",
   "metadata": {},
   "source": [
    "## Make Angular Features"
   ]
  },
  {
   "cell_type": "code",
   "execution_count": 24,
   "metadata": {},
   "outputs": [],
   "source": [
    "fts = ['PZ', 'TRUEP_Z', 'PT', 'TRUEPT']\n",
    "particles = ['L1']\n",
    "bins = 150\n",
    "features = [particle + \"_\" + feature for feature in fts for particle in particles]\n",
    "df = data.fetch_features(features)"
   ]
  },
  {
   "cell_type": "code",
   "execution_count": 25,
   "metadata": {},
   "outputs": [
    {
     "data": {
      "text/html": [
       "<div>\n",
       "<style scoped>\n",
       "    .dataframe tbody tr th:only-of-type {\n",
       "        vertical-align: middle;\n",
       "    }\n",
       "\n",
       "    .dataframe tbody tr th {\n",
       "        vertical-align: top;\n",
       "    }\n",
       "\n",
       "    .dataframe thead th {\n",
       "        text-align: right;\n",
       "    }\n",
       "</style>\n",
       "<table border=\"1\" class=\"dataframe\">\n",
       "  <thead>\n",
       "    <tr style=\"text-align: right;\">\n",
       "      <th></th>\n",
       "      <th>L1_P</th>\n",
       "      <th>L1_TRUEP</th>\n",
       "      <th>L1_theta</th>\n",
       "      <th>L1_Ttheta</th>\n",
       "      <th>L1_dtheta</th>\n",
       "    </tr>\n",
       "    <tr>\n",
       "      <th>eventNumber</th>\n",
       "      <th></th>\n",
       "      <th></th>\n",
       "      <th></th>\n",
       "      <th></th>\n",
       "      <th></th>\n",
       "    </tr>\n",
       "  </thead>\n",
       "  <tbody>\n",
       "    <tr>\n",
       "      <th>4826</th>\n",
       "      <td>11297.693849</td>\n",
       "      <td>11338.020634</td>\n",
       "      <td>0.198427</td>\n",
       "      <td>0.198241</td>\n",
       "      <td>0.000186</td>\n",
       "    </tr>\n",
       "    <tr>\n",
       "      <th>4839</th>\n",
       "      <td>38010.813843</td>\n",
       "      <td>38027.371941</td>\n",
       "      <td>0.107528</td>\n",
       "      <td>0.107570</td>\n",
       "      <td>-0.000042</td>\n",
       "    </tr>\n",
       "    <tr>\n",
       "      <th>4844</th>\n",
       "      <td>55626.350731</td>\n",
       "      <td>55833.684325</td>\n",
       "      <td>0.050984</td>\n",
       "      <td>0.051020</td>\n",
       "      <td>-0.000037</td>\n",
       "    </tr>\n",
       "    <tr>\n",
       "      <th>1686</th>\n",
       "      <td>30724.463415</td>\n",
       "      <td>30844.637465</td>\n",
       "      <td>0.044307</td>\n",
       "      <td>0.043730</td>\n",
       "      <td>0.000578</td>\n",
       "    </tr>\n",
       "    <tr>\n",
       "      <th>1603</th>\n",
       "      <td>17153.754745</td>\n",
       "      <td>17102.486700</td>\n",
       "      <td>0.184014</td>\n",
       "      <td>0.184839</td>\n",
       "      <td>-0.000825</td>\n",
       "    </tr>\n",
       "  </tbody>\n",
       "</table>\n",
       "</div>"
      ],
      "text/plain": [
       "                     L1_P      L1_TRUEP  L1_theta  L1_Ttheta  L1_dtheta\n",
       "eventNumber                                                            \n",
       "4826         11297.693849  11338.020634  0.198427   0.198241   0.000186\n",
       "4839         38010.813843  38027.371941  0.107528   0.107570  -0.000042\n",
       "4844         55626.350731  55833.684325  0.050984   0.051020  -0.000037\n",
       "1686         30724.463415  30844.637465  0.044307   0.043730   0.000578\n",
       "1603         17153.754745  17102.486700  0.184014   0.184839  -0.000825"
      ]
     },
     "execution_count": 25,
     "metadata": {},
     "output_type": "execute_result"
    }
   ],
   "source": [
    "for particle in particles:\n",
    "    df[particle + \"_P\"] = np.sqrt(df[particle + \"_PZ\"]**2 + df[particle + \"_PT\"]**2)\n",
    "    df[particle + \"_TRUEP\"] = np.sqrt(df[particle + \"_TRUEP_Z\"]**2 + df[particle + \"_TRUEPT\"]**2)\n",
    "    df[particle + \"_theta\"] = np.arcsin(df[particle + '_PT']/df[particle + '_P'])\n",
    "    df[particle + \"_Ttheta\"] = np.arcsin(df[particle + '_TRUEPT']/df[particle + '_TRUEP'])\n",
    "    df[particle + \"_dtheta\"] = np.arcsin(df[particle + \"_theta\"] - df[particle + \"_Ttheta\"])\n",
    "    df.drop([particle + \"_\" + feature for feature in fts], axis=1, inplace=True)\n",
    "    \n",
    "df.head()"
   ]
  },
  {
   "cell_type": "markdown",
   "metadata": {},
   "source": [
    "## Group Data into Bins"
   ]
  },
  {
   "cell_type": "code",
   "execution_count": 35,
   "metadata": {},
   "outputs": [],
   "source": [
    "bin_edges = np.linspace(np.min(df['L1_dtheta'])-0.0001, np.max(df['L1_dtheta'])+0.0001, bins+1)\n",
    "bin_width = bin_edges[1] - bin_edges[0]\n",
    "bin_centr = np.array([np.mean(bin_edges[i:i+2]) for i in range(len(bin_edges) - 1)])\n",
    "quartiles = np.linspace(0., 1., bins+1)\n",
    "df['Bin'] = pd.qcut(df['L1_dtheta'], q=quartiles, labels=np.arange(1, bins+1))\n",
    "df.dropna(axis=0, inplace=True)"
   ]
  },
  {
   "cell_type": "markdown",
   "metadata": {},
   "source": [
    "## Calculating Resolution in each Bin"
   ]
  },
  {
   "cell_type": "code",
   "execution_count": 86,
   "metadata": {},
   "outputs": [],
   "source": [
    "g = df.groupby('Bin')\n",
    "internal_bins = 30\n",
    "\n",
    "all_data = []\n",
    "for bin_number, group in g:\n",
    "    hist_data, hist_bin_edges = np.histogram(group['L1_dtheta'].to_numpy(), internal_bins)\n",
    "    hist_bin_centres = np.array([np.mean(hist_bin_edges[i:i+2]) for i in range(len(hist_bin_edges)-1)])\n",
    "    d = np.array([hist_data, hist_bin_centres]).T\n",
    "    # Remove all the empty bins across rows\n",
    "    d = d[~np.any(d == 0, axis=1)]\n",
    "    all_data.append(d)"
   ]
  },
  {
   "cell_type": "code",
   "execution_count": 94,
   "metadata": {},
   "outputs": [],
   "source": [
    "y = [np.average(all_data[i][:,1], weights=all_data[i][:,0]) for i in range(bins)]"
   ]
  },
  {
   "cell_type": "code",
   "execution_count": 98,
   "metadata": {},
   "outputs": [
    {
     "data": {
      "image/png": "[encoded data removed]",
      "text/plain": [
       "<Figure size 432x288 with 1 Axes>"
      ]
     },
     "metadata": {
      "needs_background": "light"
     },
     "output_type": "display_data"
    }
   ],
   "source": [
    "plt.scatter(bin_centr, y, s=3, label='Resolution')\n",
    "plt.legend()\n",
    "plt.show()"
   ]
  },
  {
   "cell_type": "code",
   "execution_count": 80,
   "metadata": {},
   "outputs": [
    {
     "name": "stdout",
     "output_type": "stream",
     "text": [
      "Stuck on bin: 1\n",
      "Stuck on bin: 2\n",
      "Stuck on bin: 3\n",
      "Stuck on bin: 4\n",
      "Stuck on bin: 5\n",
      "Stuck on bin: 6\n",
      "Stuck on bin: 7\n",
      "Stuck on bin: 8\n",
      "Stuck on bin: 9\n",
      "Stuck on bin: 10\n",
      "Stuck on bin: 11\n",
      "Stuck on bin: 12\n",
      "Stuck on bin: 13\n",
      "Stuck on bin: 14\n",
      "Stuck on bin: 15\n",
      "Stuck on bin: 16\n",
      "Stuck on bin: 17\n",
      "Stuck on bin: 18\n",
      "Stuck on bin: 19\n",
      "Stuck on bin: 20\n",
      "Stuck on bin: 21\n",
      "Stuck on bin: 22\n",
      "Stuck on bin: 23\n",
      "Stuck on bin: 24\n",
      "Stuck on bin: 25\n",
      "Stuck on bin: 26\n",
      "Stuck on bin: 27\n",
      "Stuck on bin: 28\n",
      "Stuck on bin: 29\n",
      "Stuck on bin: 30\n",
      "Stuck on bin: 31\n",
      "Stuck on bin: 32\n",
      "Stuck on bin: 33\n",
      "Stuck on bin: 34\n",
      "Stuck on bin: 35\n",
      "Stuck on bin: 36\n",
      "Stuck on bin: 37\n",
      "Stuck on bin: 38\n",
      "Stuck on bin: 39\n",
      "Stuck on bin: 40\n",
      "Stuck on bin: 41\n",
      "Stuck on bin: 42\n",
      "Stuck on bin: 43\n",
      "Stuck on bin: 44\n",
      "Stuck on bin: 45\n",
      "Stuck on bin: 46\n",
      "Stuck on bin: 47\n",
      "Stuck on bin: 48\n",
      "Stuck on bin: 49\n",
      "Stuck on bin: 50\n",
      "Stuck on bin: 51\n",
      "Stuck on bin: 52\n",
      "Stuck on bin: 53\n",
      "Stuck on bin: 54\n",
      "Stuck on bin: 55\n",
      "Stuck on bin: 56\n",
      "Stuck on bin: 57\n",
      "Stuck on bin: 58\n",
      "Stuck on bin: 59\n",
      "Stuck on bin: 60\n",
      "Stuck on bin: 61\n",
      "Stuck on bin: 62\n",
      "Stuck on bin: 63\n",
      "Stuck on bin: 64\n",
      "Stuck on bin: 65\n",
      "Stuck on bin: 66\n",
      "Stuck on bin: 67\n",
      "Stuck on bin: 68\n",
      "Stuck on bin: 69\n",
      "Stuck on bin: 70\n",
      "Stuck on bin: 71\n",
      "Stuck on bin: 72\n",
      "Stuck on bin: 73\n",
      "Stuck on bin: 74\n",
      "Stuck on bin: 75\n",
      "Stuck on bin: 76\n",
      "Stuck on bin: 77\n",
      "Stuck on bin: 78\n",
      "Stuck on bin: 79\n",
      "Stuck on bin: 80\n",
      "Stuck on bin: 81\n",
      "Stuck on bin: 82\n",
      "Stuck on bin: 83\n",
      "Stuck on bin: 84\n",
      "Stuck on bin: 85\n",
      "Stuck on bin: 86\n",
      "Stuck on bin: 87\n",
      "Stuck on bin: 88\n",
      "Stuck on bin: 89\n",
      "Stuck on bin: 90\n",
      "Stuck on bin: 91\n",
      "Stuck on bin: 92\n",
      "Stuck on bin: 93\n",
      "Stuck on bin: 94\n",
      "Stuck on bin: 95\n",
      "Stuck on bin: 96\n",
      "Stuck on bin: 97\n",
      "Stuck on bin: 98\n",
      "Stuck on bin: 99\n",
      "Stuck on bin: 100\n",
      "Stuck on bin: 101\n",
      "Stuck on bin: 102\n",
      "Stuck on bin: 103\n",
      "Stuck on bin: 104\n",
      "Stuck on bin: 105\n",
      "Stuck on bin: 106\n",
      "Stuck on bin: 107\n",
      "Stuck on bin: 108\n",
      "Stuck on bin: 109\n",
      "Stuck on bin: 110\n",
      "Stuck on bin: 111\n",
      "Stuck on bin: 112\n",
      "Stuck on bin: 113\n",
      "Stuck on bin: 114\n",
      "Stuck on bin: 115\n",
      "Stuck on bin: 116\n",
      "Stuck on bin: 117\n",
      "Stuck on bin: 118\n",
      "Stuck on bin: 119\n",
      "Stuck on bin: 120\n",
      "Stuck on bin: 121\n",
      "Stuck on bin: 122\n",
      "Stuck on bin: 123\n",
      "Stuck on bin: 124\n",
      "Stuck on bin: 125\n",
      "Stuck on bin: 126\n",
      "Stuck on bin: 127\n",
      "Stuck on bin: 128\n",
      "Stuck on bin: 129\n",
      "Stuck on bin: 130\n",
      "Stuck on bin: 131\n",
      "Stuck on bin: 132\n",
      "Stuck on bin: 133\n",
      "Stuck on bin: 134\n",
      "Stuck on bin: 135\n",
      "Stuck on bin: 136\n",
      "Stuck on bin: 137\n",
      "Stuck on bin: 138\n",
      "Stuck on bin: 139\n",
      "Stuck on bin: 140\n",
      "Stuck on bin: 141\n",
      "Stuck on bin: 142\n",
      "Stuck on bin: 143\n",
      "Stuck on bin: 144\n",
      "Stuck on bin: 145\n",
      "Stuck on bin: 146\n",
      "Stuck on bin: 147\n",
      "Stuck on bin: 148\n",
      "Stuck on bin: 149\n",
      "Stuck on bin: 150\n"
     ]
    }
   ],
   "source": [
    "# Fit a gaussian to each bin to get the resolution (mean) and error on this value (sigma)\n",
    "from scipy.optimize import curve_fit\n",
    "\n",
    "def normal(x, mu, std):\n",
    "    return (1/np.sqrt(2*np.pi*(std**2))) * np.exp(-((x-mu)**2)/(2*(std**2)))\n",
    "\n",
    "fit_params = []\n",
    "for i, bin_data in enumerate(all_data):\n",
    "    try:\n",
    "        popt, pcov = curve_fit(normal, bin_data[:,1], bin_data[:,0], p0=[1, np.mean(bin_data[:,1]), 1e-4])\n",
    "        fit_params.append(popt)\n",
    "    except:\n",
    "        print(f'Stuck on bin: {i+1}')"
   ]
  }
 ],
 "metadata": {
  "interpreter": {
   "hash": "9ca4116ab2c7470d45496f3104a2f3648c94db730a0039ceabb3a0fb6fe42410"
  },
  "kernelspec": {
   "display_name": "Python 3.9.7 64-bit ('linux-64': conda)",
   "language": "python",
   "name": "python3"
  },
  "language_info": {
   "codemirror_mode": {
    "name": "ipython",
    "version": 3
   },
   "file_extension": ".py",
   "mimetype": "text/x-python",
   "name": "python",
   "nbconvert_exporter": "python",
   "pygments_lexer": "ipython3",
   "version": "3.9.7"
  },
  "orig_nbformat": 4
 },
 "nbformat": 4,
 "nbformat_minor": 2
}
