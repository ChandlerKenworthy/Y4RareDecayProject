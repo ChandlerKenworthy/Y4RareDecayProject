{
 "cells": [
  {
   "cell_type": "markdown",
   "metadata": {},
   "source": [
    "# Estimating Detector Resolution\n",
    "This notebook describes how we determine the detector resolution by calculating the difference between the simulated true momenta and just simulated momenta. It is expected that these results should be consistent with those in the LHCb detector paper given at the start of the project.\n",
    "\n",
    "## Getting the Data\n",
    "The first step to achieving the above is to import the data from the ROOT file and extract the variables we need into a Pandas dataframe. Using Pandas over numpy is a somewhat arbitrary choice though mostly due to ease-of-use and familiarity. Note here we are doing the momentum not the position resolution."
   ]
  },
  {
   "cell_type": "code",
   "execution_count": 1,
   "metadata": {},
   "outputs": [],
   "source": [
    "import uproot as up\n",
    "import pandas as pd\n",
    "import numpy as np\n",
    "import matplotlib.pyplot as plt\n",
    "%matplotlib inline\n",
    "\n",
    "fName=\"/disk/moose/lhcb/djdt/Lb2L1520mueTuples/MC/2016MD/100FilesCheck/job185-CombDVntuple-15314000-MC2016MD_100F-pKmue-MC.root\""
   ]
  },
  {
   "cell_type": "code",
   "execution_count": 2,
   "metadata": {},
   "outputs": [
    {
     "data": {
      "text/html": [
       "<div>\n",
       "<style scoped>\n",
       "    .dataframe tbody tr th:only-of-type {\n",
       "        vertical-align: middle;\n",
       "    }\n",
       "\n",
       "    .dataframe tbody tr th {\n",
       "        vertical-align: top;\n",
       "    }\n",
       "\n",
       "    .dataframe thead th {\n",
       "        text-align: right;\n",
       "    }\n",
       "</style>\n",
       "<table border=\"1\" class=\"dataframe\">\n",
       "  <thead>\n",
       "    <tr style=\"text-align: right;\">\n",
       "      <th></th>\n",
       "      <th>Px</th>\n",
       "      <th>TPx</th>\n",
       "      <th>Py</th>\n",
       "      <th>TPy</th>\n",
       "      <th>Pz</th>\n",
       "      <th>TPz</th>\n",
       "      <th>TPT</th>\n",
       "      <th>PT</th>\n",
       "    </tr>\n",
       "  </thead>\n",
       "  <tbody>\n",
       "    <tr>\n",
       "      <th>0</th>\n",
       "      <td>2191.14</td>\n",
       "      <td>2197.44</td>\n",
       "      <td>398.49</td>\n",
       "      <td>396.74</td>\n",
       "      <td>11115.96</td>\n",
       "      <td>11076.01</td>\n",
       "      <td>2232.967797</td>\n",
       "      <td>2227.080775</td>\n",
       "    </tr>\n",
       "    <tr>\n",
       "      <th>8</th>\n",
       "      <td>3973.59</td>\n",
       "      <td>3976.55</td>\n",
       "      <td>922.88</td>\n",
       "      <td>925.05</td>\n",
       "      <td>37807.57</td>\n",
       "      <td>37791.28</td>\n",
       "      <td>4082.727937</td>\n",
       "      <td>4079.353501</td>\n",
       "    </tr>\n",
       "    <tr>\n",
       "      <th>10</th>\n",
       "      <td>-2335.96</td>\n",
       "      <td>-2344.85</td>\n",
       "      <td>1606.08</td>\n",
       "      <td>1615.40</td>\n",
       "      <td>55761.03</td>\n",
       "      <td>55554.07</td>\n",
       "      <td>2847.426677</td>\n",
       "      <td>2834.819586</td>\n",
       "    </tr>\n",
       "    <tr>\n",
       "      <th>11</th>\n",
       "      <td>-641.30</td>\n",
       "      <td>-639.89</td>\n",
       "      <td>-1200.30</td>\n",
       "      <td>-1186.90</td>\n",
       "      <td>30815.15</td>\n",
       "      <td>30694.31</td>\n",
       "      <td>1348.403064</td>\n",
       "      <td>1360.876842</td>\n",
       "    </tr>\n",
       "    <tr>\n",
       "      <th>13</th>\n",
       "      <td>-3110.08</td>\n",
       "      <td>-3115.87</td>\n",
       "      <td>-423.26</td>\n",
       "      <td>-413.89</td>\n",
       "      <td>16811.16</td>\n",
       "      <td>16864.15</td>\n",
       "      <td>3143.238901</td>\n",
       "      <td>3138.749215</td>\n",
       "    </tr>\n",
       "  </tbody>\n",
       "</table>\n",
       "</div>"
      ],
      "text/plain": [
       "         Px      TPx       Py      TPy        Pz       TPz          TPT  \\\n",
       "0   2191.14  2197.44   398.49   396.74  11115.96  11076.01  2232.967797   \n",
       "8   3973.59  3976.55   922.88   925.05  37807.57  37791.28  4082.727937   \n",
       "10 -2335.96 -2344.85  1606.08  1615.40  55761.03  55554.07  2847.426677   \n",
       "11  -641.30  -639.89 -1200.30 -1186.90  30815.15  30694.31  1348.403064   \n",
       "13 -3110.08 -3115.87  -423.26  -413.89  16811.16  16864.15  3143.238901   \n",
       "\n",
       "             PT  \n",
       "0   2227.080775  \n",
       "8   4079.353501  \n",
       "10  2834.819586  \n",
       "11  1360.876842  \n",
       "13  3138.749215  "
      ]
     },
     "execution_count": 2,
     "metadata": {},
     "output_type": "execute_result"
    }
   ],
   "source": [
    "with up.open(fName + \":DTT1520me/DecayTree\") as f:\n",
    "    df = f.arrays([\"L1_PX\", \"L1_TRUEP_X\", \"L1_PY\", \"L1_TRUEP_Y\", \"L1_TRUEP_Z\", \"L1_PZ\", \"L1_TRUEPT\", \"L1_PT\"], library=\"pd\")\n",
    "    df.columns = ['Px', 'TPx', 'Py', 'TPy', 'Pz', 'TPz', 'TPT', 'PT']\n",
    "    # Drop the duplictaes since about 30% of the data is duplicated\n",
    "    df.drop_duplicates(keep='first', inplace=True)\n",
    "df.head()"
   ]
  },
  {
   "cell_type": "markdown",
   "metadata": {},
   "source": [
    "## Feature Engineering\n",
    "To better understand our data and extract some more useful plots we will do some feature engineering. That is using variables to create other variables of interest - in this case using the x, y, and z momentum so extract the transverse and total momentum. From these we can find the polar angle of the particle relative to the beam axis. That is $\\sin\\theta=\\frac{p_T}{|p|}$."
   ]
  },
  {
   "cell_type": "code",
   "execution_count": 3,
   "metadata": {},
   "outputs": [
    {
     "data": {
      "text/html": [
       "<div>\n",
       "<style scoped>\n",
       "    .dataframe tbody tr th:only-of-type {\n",
       "        vertical-align: middle;\n",
       "    }\n",
       "\n",
       "    .dataframe tbody tr th {\n",
       "        vertical-align: top;\n",
       "    }\n",
       "\n",
       "    .dataframe thead th {\n",
       "        text-align: right;\n",
       "    }\n",
       "</style>\n",
       "<table border=\"1\" class=\"dataframe\">\n",
       "  <thead>\n",
       "    <tr style=\"text-align: right;\">\n",
       "      <th></th>\n",
       "      <th>Px</th>\n",
       "      <th>TPx</th>\n",
       "      <th>Py</th>\n",
       "      <th>TPy</th>\n",
       "      <th>Pz</th>\n",
       "      <th>TPz</th>\n",
       "      <th>TPT</th>\n",
       "      <th>PT</th>\n",
       "      <th>P</th>\n",
       "      <th>TP</th>\n",
       "    </tr>\n",
       "  </thead>\n",
       "  <tbody>\n",
       "    <tr>\n",
       "      <th>0</th>\n",
       "      <td>2191.14</td>\n",
       "      <td>2197.44</td>\n",
       "      <td>398.49</td>\n",
       "      <td>396.74</td>\n",
       "      <td>11115.96</td>\n",
       "      <td>11076.01</td>\n",
       "      <td>2232.967797</td>\n",
       "      <td>2227.080775</td>\n",
       "      <td>11336.862683</td>\n",
       "      <td>11298.855814</td>\n",
       "    </tr>\n",
       "    <tr>\n",
       "      <th>8</th>\n",
       "      <td>3973.59</td>\n",
       "      <td>3976.55</td>\n",
       "      <td>922.88</td>\n",
       "      <td>925.05</td>\n",
       "      <td>37807.57</td>\n",
       "      <td>37791.28</td>\n",
       "      <td>4082.727937</td>\n",
       "      <td>4079.353501</td>\n",
       "      <td>38027.009799</td>\n",
       "      <td>38011.176139</td>\n",
       "    </tr>\n",
       "    <tr>\n",
       "      <th>10</th>\n",
       "      <td>-2335.96</td>\n",
       "      <td>-2344.85</td>\n",
       "      <td>1606.08</td>\n",
       "      <td>1615.40</td>\n",
       "      <td>55761.03</td>\n",
       "      <td>55554.07</td>\n",
       "      <td>2847.426677</td>\n",
       "      <td>2834.819586</td>\n",
       "      <td>55833.042804</td>\n",
       "      <td>55626.994636</td>\n",
       "    </tr>\n",
       "    <tr>\n",
       "      <th>11</th>\n",
       "      <td>-641.30</td>\n",
       "      <td>-639.89</td>\n",
       "      <td>-1200.30</td>\n",
       "      <td>-1186.90</td>\n",
       "      <td>30815.15</td>\n",
       "      <td>30694.31</td>\n",
       "      <td>1348.403064</td>\n",
       "      <td>1360.876842</td>\n",
       "      <td>30845.185286</td>\n",
       "      <td>30723.913442</td>\n",
       "    </tr>\n",
       "    <tr>\n",
       "      <th>13</th>\n",
       "      <td>-3110.08</td>\n",
       "      <td>-3115.87</td>\n",
       "      <td>-423.26</td>\n",
       "      <td>-413.89</td>\n",
       "      <td>16811.16</td>\n",
       "      <td>16864.15</td>\n",
       "      <td>3143.238901</td>\n",
       "      <td>3138.749215</td>\n",
       "      <td>17101.662117</td>\n",
       "      <td>17154.576824</td>\n",
       "    </tr>\n",
       "  </tbody>\n",
       "</table>\n",
       "</div>"
      ],
      "text/plain": [
       "         Px      TPx       Py      TPy        Pz       TPz          TPT  \\\n",
       "0   2191.14  2197.44   398.49   396.74  11115.96  11076.01  2232.967797   \n",
       "8   3973.59  3976.55   922.88   925.05  37807.57  37791.28  4082.727937   \n",
       "10 -2335.96 -2344.85  1606.08  1615.40  55761.03  55554.07  2847.426677   \n",
       "11  -641.30  -639.89 -1200.30 -1186.90  30815.15  30694.31  1348.403064   \n",
       "13 -3110.08 -3115.87  -423.26  -413.89  16811.16  16864.15  3143.238901   \n",
       "\n",
       "             PT             P            TP  \n",
       "0   2227.080775  11336.862683  11298.855814  \n",
       "8   4079.353501  38027.009799  38011.176139  \n",
       "10  2834.819586  55833.042804  55626.994636  \n",
       "11  1360.876842  30845.185286  30723.913442  \n",
       "13  3138.749215  17101.662117  17154.576824  "
      ]
     },
     "execution_count": 3,
     "metadata": {},
     "output_type": "execute_result"
    }
   ],
   "source": [
    "df['P'] = np.sqrt(df['Px']**2 + df['Py']**2 + df['Pz']**2) # The magnitude of the measured total momentum\n",
    "df['TP'] = np.sqrt(df['TPx']**2 + df['TPy']**2 + df['TPz']**2) # The magnitude of the true total momentum\n",
    "df.head()"
   ]
  },
  {
   "cell_type": "markdown",
   "metadata": {},
   "source": [
    "Now we create the plots showing the angular distributions. We will keep everything in radians for now since this is what most of the LHCb papers use to quantify the angular resoltion of the detector. We can then find the resoution of the detector as a function of angle."
   ]
  },
  {
   "cell_type": "code",
   "execution_count": 4,
   "metadata": {},
   "outputs": [
    {
     "data": {
      "text/html": [
       "<div>\n",
       "<style scoped>\n",
       "    .dataframe tbody tr th:only-of-type {\n",
       "        vertical-align: middle;\n",
       "    }\n",
       "\n",
       "    .dataframe tbody tr th {\n",
       "        vertical-align: top;\n",
       "    }\n",
       "\n",
       "    .dataframe thead th {\n",
       "        text-align: right;\n",
       "    }\n",
       "</style>\n",
       "<table border=\"1\" class=\"dataframe\">\n",
       "  <thead>\n",
       "    <tr style=\"text-align: right;\">\n",
       "      <th></th>\n",
       "      <th>Px</th>\n",
       "      <th>TPx</th>\n",
       "      <th>Py</th>\n",
       "      <th>TPy</th>\n",
       "      <th>Pz</th>\n",
       "      <th>TPz</th>\n",
       "      <th>TPT</th>\n",
       "      <th>PT</th>\n",
       "      <th>P</th>\n",
       "      <th>TP</th>\n",
       "      <th>theta</th>\n",
       "      <th>T_theta</th>\n",
       "    </tr>\n",
       "  </thead>\n",
       "  <tbody>\n",
       "    <tr>\n",
       "      <th>0</th>\n",
       "      <td>2191.14</td>\n",
       "      <td>2197.44</td>\n",
       "      <td>398.49</td>\n",
       "      <td>396.74</td>\n",
       "      <td>11115.96</td>\n",
       "      <td>11076.01</td>\n",
       "      <td>2232.967797</td>\n",
       "      <td>2227.080775</td>\n",
       "      <td>11336.862683</td>\n",
       "      <td>11298.855814</td>\n",
       "      <td>0.197732</td>\n",
       "      <td>0.198937</td>\n",
       "    </tr>\n",
       "    <tr>\n",
       "      <th>8</th>\n",
       "      <td>3973.59</td>\n",
       "      <td>3976.55</td>\n",
       "      <td>922.88</td>\n",
       "      <td>925.05</td>\n",
       "      <td>37807.57</td>\n",
       "      <td>37791.28</td>\n",
       "      <td>4082.727937</td>\n",
       "      <td>4079.353501</td>\n",
       "      <td>38027.009799</td>\n",
       "      <td>38011.176139</td>\n",
       "      <td>0.107482</td>\n",
       "      <td>0.107616</td>\n",
       "    </tr>\n",
       "    <tr>\n",
       "      <th>10</th>\n",
       "      <td>-2335.96</td>\n",
       "      <td>-2344.85</td>\n",
       "      <td>1606.08</td>\n",
       "      <td>1615.40</td>\n",
       "      <td>55761.03</td>\n",
       "      <td>55554.07</td>\n",
       "      <td>2847.426677</td>\n",
       "      <td>2834.819586</td>\n",
       "      <td>55833.042804</td>\n",
       "      <td>55626.994636</td>\n",
       "      <td>0.050795</td>\n",
       "      <td>0.051210</td>\n",
       "    </tr>\n",
       "    <tr>\n",
       "      <th>11</th>\n",
       "      <td>-641.30</td>\n",
       "      <td>-639.89</td>\n",
       "      <td>-1200.30</td>\n",
       "      <td>-1186.90</td>\n",
       "      <td>30815.15</td>\n",
       "      <td>30694.31</td>\n",
       "      <td>1348.403064</td>\n",
       "      <td>1360.876842</td>\n",
       "      <td>30845.185286</td>\n",
       "      <td>30723.913442</td>\n",
       "      <td>0.044134</td>\n",
       "      <td>0.043902</td>\n",
       "    </tr>\n",
       "    <tr>\n",
       "      <th>13</th>\n",
       "      <td>-3110.08</td>\n",
       "      <td>-3115.87</td>\n",
       "      <td>-423.26</td>\n",
       "      <td>-413.89</td>\n",
       "      <td>16811.16</td>\n",
       "      <td>16864.15</td>\n",
       "      <td>3143.238901</td>\n",
       "      <td>3138.749215</td>\n",
       "      <td>17101.662117</td>\n",
       "      <td>17154.576824</td>\n",
       "      <td>0.184581</td>\n",
       "      <td>0.184271</td>\n",
       "    </tr>\n",
       "  </tbody>\n",
       "</table>\n",
       "</div>"
      ],
      "text/plain": [
       "         Px      TPx       Py      TPy        Pz       TPz          TPT  \\\n",
       "0   2191.14  2197.44   398.49   396.74  11115.96  11076.01  2232.967797   \n",
       "8   3973.59  3976.55   922.88   925.05  37807.57  37791.28  4082.727937   \n",
       "10 -2335.96 -2344.85  1606.08  1615.40  55761.03  55554.07  2847.426677   \n",
       "11  -641.30  -639.89 -1200.30 -1186.90  30815.15  30694.31  1348.403064   \n",
       "13 -3110.08 -3115.87  -423.26  -413.89  16811.16  16864.15  3143.238901   \n",
       "\n",
       "             PT             P            TP     theta   T_theta  \n",
       "0   2227.080775  11336.862683  11298.855814  0.197732  0.198937  \n",
       "8   4079.353501  38027.009799  38011.176139  0.107482  0.107616  \n",
       "10  2834.819586  55833.042804  55626.994636  0.050795  0.051210  \n",
       "11  1360.876842  30845.185286  30723.913442  0.044134  0.043902  \n",
       "13  3138.749215  17101.662117  17154.576824  0.184581  0.184271  "
      ]
     },
     "execution_count": 4,
     "metadata": {},
     "output_type": "execute_result"
    }
   ],
   "source": [
    "df['theta'] = np.arcsin(df['PT']/df['P']) # Theta here is measured in radians\n",
    "df['T_theta'] = np.arcsin(df['TPT']/df['TP'])\n",
    "df.head()"
   ]
  },
  {
   "cell_type": "markdown",
   "metadata": {},
   "source": [
    "Now let us plot these data as a function of angle. That is create a histogram of the angle of the particle relative to the beam axis in radians."
   ]
  },
  {
   "cell_type": "code",
   "execution_count": 5,
   "metadata": {},
   "outputs": [
    {
     "data": {
      "image/png": "[encoded data removed]",
      "text/plain": [
       "<Figure size 720x504 with 1 Axes>"
      ]
     },
     "metadata": {
      "needs_background": "light"
     },
     "output_type": "display_data"
    }
   ],
   "source": [
    "bins = 150\n",
    "fig, ax = plt.subplots(1, 1, figsize=(10, 7))\n",
    "measured = ax.hist(df['theta'], bins=bins, label='Measured Angle', alpha=0.7)\n",
    "true = ax.hist(df['T_theta'], bins=measured[1], label='Truth Angle', alpha=0.7) # Use the same sets of bins for all the data!\n",
    "ax.set_yscale('log')\n",
    "ax.set_ylabel('Frequency')\n",
    "ax.set_xlabel(r'Angle relative to beam axis, $\\theta$ (rad)')\n",
    "plt.legend()\n",
    "plt.show()"
   ]
  },
  {
   "cell_type": "markdown",
   "metadata": {},
   "source": [
    "## Cleaning the Data\n",
    "Before we can perform any calculations it is prudent to notice that these data are not perfect. For whatever reason the simulation has misbehaved and we have some strange results at angles exceeding $0.4$ rad. Let us split the data to remove these points and investigate them separately. Then we can calculate the resolution using only the \"correct\" data."
   ]
  },
  {
   "cell_type": "code",
   "execution_count": 6,
   "metadata": {},
   "outputs": [
    {
     "data": {
      "image/png": "[encoded data removed]",
      "text/plain": [
       "<Figure size 720x504 with 1 Axes>"
      ]
     },
     "metadata": {
      "needs_background": "light"
     },
     "output_type": "display_data"
    }
   ],
   "source": [
    "# Now remove all data from the dataframe where the measured angle is 'incorrect' i.e. greater than 0.4 rad\n",
    "df = df.loc[(df['theta'] < 0.4)]\n",
    "# Now plot these data\n",
    "\n",
    "bins = 150\n",
    "fig, ax = plt.subplots(1, 1, figsize=(10, 7))\n",
    "measured = ax.hist(df['theta'], bins=bins, label='Measured Angle', alpha=0.7)\n",
    "true = ax.hist(df['T_theta'], bins=measured[1], label='Truth Angle', alpha=0.7) # Use the same sets of bins for all the data!\n",
    "ax.set_yscale('log')\n",
    "ax.set_ylabel('Frequency')\n",
    "ax.set_xlabel(r'Angle relative to beam axis, $\\theta$ (rad)')\n",
    "plt.legend()\n",
    "plt.show()"
   ]
  },
  {
   "cell_type": "markdown",
   "metadata": {},
   "source": [
    "We now calculate the efficiency by considering the following, that the number of recorded events $\\mathcal{N}$ is given by $\\mathcal{N}=\\frac{\\mathcal{L}\\sigma}{\\epsilon}$ for $\\epsilon$ the detector efficiency. Given our binwise data can calculate the efficiency as a function of angle to the beam axis, $\\theta$. Essentially since we know $\\mathcal{N_{true}}$ and $\\mathcal{N_{measured}}$ we can calculate the efficiency as $\\mathcal{N_{measured}}/\\mathcal{N_{true}}=\\epsilon$."
   ]
  },
  {
   "cell_type": "markdown",
   "metadata": {},
   "source": [
    "## Efficiency of Muon Detection versus Angle"
   ]
  },
  {
   "cell_type": "code",
   "execution_count": 7,
   "metadata": {},
   "outputs": [],
   "source": [
    "edges = measured[1]\n",
    "bin_middles = [(edges[i] + edges[i+1])/2 for i in range(len(edges)-1)]\n",
    "# This is so we can do a scatter plot"
   ]
  },
  {
   "cell_type": "code",
   "execution_count": 8,
   "metadata": {
    "scrolled": false
   },
   "outputs": [
    {
     "data": {
      "image/png": "[encoded data removed]",
      "text/plain": [
       "<Figure size 720x504 with 1 Axes>"
      ]
     },
     "metadata": {
      "needs_background": "light"
     },
     "output_type": "display_data"
    }
   ],
   "source": [
    "eff_df = pd.DataFrame({'Measured': measured[0], 'True': true[0], 'Bins': bin_middles})\n",
    "eff_df = eff_df.loc[eff_df['True'] > 0]\n",
    "eff = eff_df['Measured'] / eff_df['True']\n",
    "fig, ax = plt.subplots(1, 1, figsize=(10, 7))\n",
    "ax.scatter(eff_df['Bins'], eff, label='Angular Efficiency of Muons')\n",
    "ax.set_ylabel(r'Efficiency, $\\epsilon$ (1=100%)')\n",
    "ax.set_xlabel(r'Angle relative to beam axis, $\\theta$ (rad)')\n",
    "plt.legend()\n",
    "plt.show()"
   ]
  },
  {
   "cell_type": "code",
   "execution_count": 9,
   "metadata": {},
   "outputs": [
    {
     "data": {
      "text/plain": [
       "1.019706052850668"
      ]
     },
     "execution_count": 9,
     "metadata": {},
     "output_type": "execute_result"
    }
   ],
   "source": [
    "np.average(eff)"
   ]
  },
  {
   "cell_type": "markdown",
   "metadata": {},
   "source": [
    "## Issues with Current Analysis\n",
    "One of the biggest issues with these current analyses is that this includes 'all' the data. A better way to do this would be to select only signal events and see how the angular efficiency changes for these. As these data are simulated we are given a PID (Particle ID) for all the events. We can use the strict PID matching criteria to select pure signal and then see how our effiency changes."
   ]
  },
  {
   "cell_type": "code",
   "execution_count": 10,
   "metadata": {
    "scrolled": true
   },
   "outputs": [
    {
     "name": "stdout",
     "output_type": "stream",
     "text": [
      "21843\n"
     ]
    },
    {
     "data": {
      "text/html": [
       "<div>\n",
       "<style scoped>\n",
       "    .dataframe tbody tr th:only-of-type {\n",
       "        vertical-align: middle;\n",
       "    }\n",
       "\n",
       "    .dataframe tbody tr th {\n",
       "        vertical-align: top;\n",
       "    }\n",
       "\n",
       "    .dataframe thead th {\n",
       "        text-align: right;\n",
       "    }\n",
       "</style>\n",
       "<table border=\"1\" class=\"dataframe\">\n",
       "  <thead>\n",
       "    <tr style=\"text-align: right;\">\n",
       "      <th></th>\n",
       "      <th>Px</th>\n",
       "      <th>TPx</th>\n",
       "      <th>Py</th>\n",
       "      <th>TPy</th>\n",
       "      <th>Pz</th>\n",
       "      <th>TPz</th>\n",
       "      <th>TPT</th>\n",
       "      <th>PT</th>\n",
       "      <th>TID</th>\n",
       "      <th>ID</th>\n",
       "    </tr>\n",
       "  </thead>\n",
       "  <tbody>\n",
       "    <tr>\n",
       "      <th>0</th>\n",
       "      <td>2191.14</td>\n",
       "      <td>2197.44</td>\n",
       "      <td>398.49</td>\n",
       "      <td>396.74</td>\n",
       "      <td>11115.96</td>\n",
       "      <td>11076.01</td>\n",
       "      <td>2232.967797</td>\n",
       "      <td>2227.080775</td>\n",
       "      <td>13</td>\n",
       "      <td>13</td>\n",
       "    </tr>\n",
       "    <tr>\n",
       "      <th>8</th>\n",
       "      <td>3973.59</td>\n",
       "      <td>3976.55</td>\n",
       "      <td>922.88</td>\n",
       "      <td>925.05</td>\n",
       "      <td>37807.57</td>\n",
       "      <td>37791.28</td>\n",
       "      <td>4082.727937</td>\n",
       "      <td>4079.353501</td>\n",
       "      <td>13</td>\n",
       "      <td>13</td>\n",
       "    </tr>\n",
       "    <tr>\n",
       "      <th>10</th>\n",
       "      <td>-2335.96</td>\n",
       "      <td>-2344.85</td>\n",
       "      <td>1606.08</td>\n",
       "      <td>1615.40</td>\n",
       "      <td>55761.03</td>\n",
       "      <td>55554.07</td>\n",
       "      <td>2847.426677</td>\n",
       "      <td>2834.819586</td>\n",
       "      <td>13</td>\n",
       "      <td>13</td>\n",
       "    </tr>\n",
       "    <tr>\n",
       "      <th>11</th>\n",
       "      <td>-641.30</td>\n",
       "      <td>-639.89</td>\n",
       "      <td>-1200.30</td>\n",
       "      <td>-1186.90</td>\n",
       "      <td>30815.15</td>\n",
       "      <td>30694.31</td>\n",
       "      <td>1348.403064</td>\n",
       "      <td>1360.876842</td>\n",
       "      <td>13</td>\n",
       "      <td>13</td>\n",
       "    </tr>\n",
       "    <tr>\n",
       "      <th>13</th>\n",
       "      <td>-3110.08</td>\n",
       "      <td>-3115.87</td>\n",
       "      <td>-423.26</td>\n",
       "      <td>-413.89</td>\n",
       "      <td>16811.16</td>\n",
       "      <td>16864.15</td>\n",
       "      <td>3143.238901</td>\n",
       "      <td>3138.749215</td>\n",
       "      <td>13</td>\n",
       "      <td>13</td>\n",
       "    </tr>\n",
       "  </tbody>\n",
       "</table>\n",
       "</div>"
      ],
      "text/plain": [
       "         Px      TPx       Py      TPy        Pz       TPz          TPT  \\\n",
       "0   2191.14  2197.44   398.49   396.74  11115.96  11076.01  2232.967797   \n",
       "8   3973.59  3976.55   922.88   925.05  37807.57  37791.28  4082.727937   \n",
       "10 -2335.96 -2344.85  1606.08  1615.40  55761.03  55554.07  2847.426677   \n",
       "11  -641.30  -639.89 -1200.30 -1186.90  30815.15  30694.31  1348.403064   \n",
       "13 -3110.08 -3115.87  -423.26  -413.89  16811.16  16864.15  3143.238901   \n",
       "\n",
       "             PT  TID  ID  \n",
       "0   2227.080775   13  13  \n",
       "8   4079.353501   13  13  \n",
       "10  2834.819586   13  13  \n",
       "11  1360.876842   13  13  \n",
       "13  3138.749215   13  13  "
      ]
     },
     "execution_count": 10,
     "metadata": {},
     "output_type": "execute_result"
    }
   ],
   "source": [
    "with up.open(fName + \":DTT1520me/DecayTree\") as f:\n",
    "    df = f.arrays([\"L1_PX\", \"L1_TRUEP_X\", \"L1_PY\", \"L1_TRUEP_Y\", \"L1_TRUEP_Z\", \"L1_PZ\", \"L1_TRUEPT\", \"L1_PT\", \"L1_TRUEID\", \"L1_ID\"], library=\"pd\")\n",
    "    df.columns = ['Px', 'TPx', 'Py', 'TPy', 'Pz', 'TPz', 'TPT', 'PT', 'TID', 'ID']\n",
    "    # Drop the duplictaes since about 30% of the data is duplicated\n",
    "    df.drop_duplicates(keep='first', inplace=True)\n",
    "    print(len(df))\n",
    "df.head()"
   ]
  },
  {
   "cell_type": "code",
   "execution_count": 11,
   "metadata": {},
   "outputs": [
    {
     "data": {
      "text/html": [
       "<div>\n",
       "<style scoped>\n",
       "    .dataframe tbody tr th:only-of-type {\n",
       "        vertical-align: middle;\n",
       "    }\n",
       "\n",
       "    .dataframe tbody tr th {\n",
       "        vertical-align: top;\n",
       "    }\n",
       "\n",
       "    .dataframe thead th {\n",
       "        text-align: right;\n",
       "    }\n",
       "</style>\n",
       "<table border=\"1\" class=\"dataframe\">\n",
       "  <thead>\n",
       "    <tr style=\"text-align: right;\">\n",
       "      <th></th>\n",
       "      <th>Px</th>\n",
       "      <th>TPx</th>\n",
       "      <th>Py</th>\n",
       "      <th>TPy</th>\n",
       "      <th>Pz</th>\n",
       "      <th>TPz</th>\n",
       "      <th>TPT</th>\n",
       "      <th>PT</th>\n",
       "      <th>TID</th>\n",
       "      <th>ID</th>\n",
       "      <th>P</th>\n",
       "      <th>TP</th>\n",
       "      <th>theta</th>\n",
       "      <th>T_theta</th>\n",
       "    </tr>\n",
       "  </thead>\n",
       "  <tbody>\n",
       "    <tr>\n",
       "      <th>0</th>\n",
       "      <td>2191.14</td>\n",
       "      <td>2197.44</td>\n",
       "      <td>398.49</td>\n",
       "      <td>396.74</td>\n",
       "      <td>11115.96</td>\n",
       "      <td>11076.01</td>\n",
       "      <td>2232.967797</td>\n",
       "      <td>2227.080775</td>\n",
       "      <td>13</td>\n",
       "      <td>13</td>\n",
       "      <td>11336.862683</td>\n",
       "      <td>11298.855814</td>\n",
       "      <td>0.197732</td>\n",
       "      <td>0.198937</td>\n",
       "    </tr>\n",
       "    <tr>\n",
       "      <th>8</th>\n",
       "      <td>3973.59</td>\n",
       "      <td>3976.55</td>\n",
       "      <td>922.88</td>\n",
       "      <td>925.05</td>\n",
       "      <td>37807.57</td>\n",
       "      <td>37791.28</td>\n",
       "      <td>4082.727937</td>\n",
       "      <td>4079.353501</td>\n",
       "      <td>13</td>\n",
       "      <td>13</td>\n",
       "      <td>38027.009799</td>\n",
       "      <td>38011.176139</td>\n",
       "      <td>0.107482</td>\n",
       "      <td>0.107616</td>\n",
       "    </tr>\n",
       "    <tr>\n",
       "      <th>10</th>\n",
       "      <td>-2335.96</td>\n",
       "      <td>-2344.85</td>\n",
       "      <td>1606.08</td>\n",
       "      <td>1615.40</td>\n",
       "      <td>55761.03</td>\n",
       "      <td>55554.07</td>\n",
       "      <td>2847.426677</td>\n",
       "      <td>2834.819586</td>\n",
       "      <td>13</td>\n",
       "      <td>13</td>\n",
       "      <td>55833.042804</td>\n",
       "      <td>55626.994636</td>\n",
       "      <td>0.050795</td>\n",
       "      <td>0.051210</td>\n",
       "    </tr>\n",
       "    <tr>\n",
       "      <th>11</th>\n",
       "      <td>-641.30</td>\n",
       "      <td>-639.89</td>\n",
       "      <td>-1200.30</td>\n",
       "      <td>-1186.90</td>\n",
       "      <td>30815.15</td>\n",
       "      <td>30694.31</td>\n",
       "      <td>1348.403064</td>\n",
       "      <td>1360.876842</td>\n",
       "      <td>13</td>\n",
       "      <td>13</td>\n",
       "      <td>30845.185286</td>\n",
       "      <td>30723.913442</td>\n",
       "      <td>0.044134</td>\n",
       "      <td>0.043902</td>\n",
       "    </tr>\n",
       "    <tr>\n",
       "      <th>13</th>\n",
       "      <td>-3110.08</td>\n",
       "      <td>-3115.87</td>\n",
       "      <td>-423.26</td>\n",
       "      <td>-413.89</td>\n",
       "      <td>16811.16</td>\n",
       "      <td>16864.15</td>\n",
       "      <td>3143.238901</td>\n",
       "      <td>3138.749215</td>\n",
       "      <td>13</td>\n",
       "      <td>13</td>\n",
       "      <td>17101.662117</td>\n",
       "      <td>17154.576824</td>\n",
       "      <td>0.184581</td>\n",
       "      <td>0.184271</td>\n",
       "    </tr>\n",
       "  </tbody>\n",
       "</table>\n",
       "</div>"
      ],
      "text/plain": [
       "         Px      TPx       Py      TPy        Pz       TPz          TPT  \\\n",
       "0   2191.14  2197.44   398.49   396.74  11115.96  11076.01  2232.967797   \n",
       "8   3973.59  3976.55   922.88   925.05  37807.57  37791.28  4082.727937   \n",
       "10 -2335.96 -2344.85  1606.08  1615.40  55761.03  55554.07  2847.426677   \n",
       "11  -641.30  -639.89 -1200.30 -1186.90  30815.15  30694.31  1348.403064   \n",
       "13 -3110.08 -3115.87  -423.26  -413.89  16811.16  16864.15  3143.238901   \n",
       "\n",
       "             PT  TID  ID             P            TP     theta   T_theta  \n",
       "0   2227.080775   13  13  11336.862683  11298.855814  0.197732  0.198937  \n",
       "8   4079.353501   13  13  38027.009799  38011.176139  0.107482  0.107616  \n",
       "10  2834.819586   13  13  55833.042804  55626.994636  0.050795  0.051210  \n",
       "11  1360.876842   13  13  30845.185286  30723.913442  0.044134  0.043902  \n",
       "13  3138.749215   13  13  17101.662117  17154.576824  0.184581  0.184271  "
      ]
     },
     "execution_count": 11,
     "metadata": {},
     "output_type": "execute_result"
    }
   ],
   "source": [
    "df = df.loc[df['TID'] == df['ID']]\n",
    "df['P'] = np.sqrt(df['Px']**2 + df['Py']**2 + df['Pz']**2) # The magnitude of the measured total momentum\n",
    "df['TP'] = np.sqrt(df['TPx']**2 + df['TPy']**2 + df['TPz']**2) # The magnitude of the true total momentum\n",
    "df['theta'] = np.arcsin(df['PT']/df['P']) # Theta here is measured in radians\n",
    "df['T_theta'] = np.arcsin(df['TPT']/df['TP'])\n",
    "df.head()"
   ]
  },
  {
   "cell_type": "code",
   "execution_count": 12,
   "metadata": {},
   "outputs": [
    {
     "data": {
      "image/png": "[encoded data removed]",
      "text/plain": [
       "<Figure size 720x504 with 1 Axes>"
      ]
     },
     "metadata": {
      "needs_background": "light"
     },
     "output_type": "display_data"
    }
   ],
   "source": [
    "bins = 100\n",
    "fig, ax = plt.subplots(1, 1, figsize=(10, 7))\n",
    "measured = ax.hist(df['theta'], bins=bins, label='Measured Angle', alpha=0.7)\n",
    "true = ax.hist(df['T_theta'], bins=measured[1], label='Truth Angle', alpha=0.7) # Use the same sets of bins for all the data!\n",
    "ax.set_yscale('log')\n",
    "ax.set_ylabel('Frequency')\n",
    "ax.set_xlabel(r'Angle relative to beam axis, $\\theta$ (rad)')\n",
    "plt.legend()\n",
    "plt.show()"
   ]
  },
  {
   "cell_type": "markdown",
   "metadata": {},
   "source": [
    "Interestingly when we used the strict PID matching no events were observed at an angle of more than $0.4$ rad relative to the beam axis. The efficiency looks broadly the same as well (see plots below)."
   ]
  },
  {
   "cell_type": "code",
   "execution_count": 13,
   "metadata": {},
   "outputs": [
    {
     "data": {
      "image/png": "[encoded data removed]",
      "text/plain": [
       "<Figure size 720x504 with 1 Axes>"
      ]
     },
     "metadata": {
      "needs_background": "light"
     },
     "output_type": "display_data"
    }
   ],
   "source": [
    "edges = measured[1]\n",
    "bin_middles = [(edges[i] + edges[i+1])/2 for i in range(len(edges)-1)]\n",
    "# This is so we can do a scatter plot\n",
    "eff_df = pd.DataFrame({'Measured': measured[0], 'True': true[0], 'Bins': bin_middles})\n",
    "eff_df = eff_df.loc[eff_df['True'] > 0]\n",
    "eff = eff_df['Measured'] / eff_df['True']\n",
    "fig, ax = plt.subplots(1, 1, figsize=(10, 7))\n",
    "ax.scatter(eff_df['Bins'], eff, label='Angular Efficiency of Muons')\n",
    "ax.set_ylabel(r'Efficiency, $\\epsilon$ (1=100%)')\n",
    "ax.set_xlabel(r'Angle relative to beam axis, $\\theta$ (rad)')\n",
    "plt.legend()\n",
    "plt.show()"
   ]
  },
  {
   "cell_type": "code",
   "execution_count": 14,
   "metadata": {},
   "outputs": [
    {
     "data": {
      "text/plain": [
       "1.0036392850158462"
      ]
     },
     "execution_count": 14,
     "metadata": {},
     "output_type": "execute_result"
    }
   ],
   "source": [
    "np.average(eff)"
   ]
  },
  {
   "cell_type": "markdown",
   "metadata": {},
   "source": [
    "## Resolution as a Function of Angle\n",
    "We have found the efficiency as a function of angle - now we find the resolution as a function of angle which is defined as,\n",
    "$\\delta(\\theta)=\\theta_{measured}-\\theta_{true}\\equiv\\theta-\\hat{\\theta}$. We wish to do this by looking inside each bin and asking the above question and plotting a distribution of these data (it should be Gaussian) from this we can extract a mean resolution and error on this value for each bin. Then we can plot this distribution!"
   ]
  },
  {
   "cell_type": "code",
   "execution_count": 15,
   "metadata": {},
   "outputs": [
    {
     "name": "stdout",
     "output_type": "stream",
     "text": [
      "       theta    Ttheta    dtheta\n",
      "0   0.096312  0.096527 -0.000215\n",
      "1   0.120042  0.121073 -0.001031\n",
      "8   0.082308  0.108738 -0.026430\n",
      "10  0.072180  0.071269  0.000911\n",
      "11  0.101249  0.102767 -0.001517\n"
     ]
    },
    {
     "data": {
      "text/plain": [
       "1"
      ]
     },
     "execution_count": 15,
     "metadata": {},
     "output_type": "execute_result"
    }
   ],
   "source": [
    "def get_angular_resolution(particle, bins=150, truth_matching=False):\n",
    "    \"\"\"\n",
    "    Paramters:\n",
    "        particle (str): The type of particle to be investigated. Allowed types are 'p' (proton), 'k' (kaon), 'L1' (muon) and 'L2' (electron)\n",
    "        bins (int): The number of bins to divide the data through. Higher number of bins lead to greater cross-bin leakage. Default is 150. \n",
    "        truth_matching (bool): Remove all events which are not explicitly signal events by matching particle ID's. Default is False.\n",
    "    Returns:\n",
    "        resolution (array): A numpy array of resolution and associated errors. Such that array[0] yields [x, y, xerr, yerr] for the first angle bin\n",
    "    \"\"\"\n",
    "    with up.open(fName + \":DTT1520me/DecayTree\") as f:\n",
    "        features = [\"_PX\", \"_TRUEP_X\", \"_PY\", \"_TRUEP_Y\", \"_TRUEP_Z\", \"_PZ\", \"_TRUEPT\", \"_PT\", \"_TRUEID\", \"_ID\"]\n",
    "        features = [particle + i for i in features]\n",
    "        df = f.arrays(features, library=\"pd\")\n",
    "    df.columns = ['Px', 'TPx', 'Py', 'TPy', 'Pz', 'TPz', 'TPT', 'PT', 'TID', 'ID']\n",
    "    df.drop_duplicates(keep='first', inplace=True)\n",
    "    df['theta'] = np.arcsin(df['PT']/np.sqrt(df['Px']**2 + df['Py']**2 + df['Pz']**2))\n",
    "    df['Ttheta'] = np.arcsin(df['TPT']/np.sqrt(df['TPx']**2 + df['TPy']**2 + df['TPz']**2))\n",
    "    df['dtheta'] = df['theta'] - df['Ttheta']\n",
    "    df = df[['theta', 'Ttheta', 'dtheta']]\n",
    "    print(df.head())\n",
    "    return 1\n",
    "    \n",
    "get_angular_resolution('L2')"
   ]
  },
  {
   "cell_type": "code",
   "execution_count": 16,
   "metadata": {},
   "outputs": [
    {
     "data": {
      "text/html": [
       "<div>\n",
       "<style scoped>\n",
       "    .dataframe tbody tr th:only-of-type {\n",
       "        vertical-align: middle;\n",
       "    }\n",
       "\n",
       "    .dataframe tbody tr th {\n",
       "        vertical-align: top;\n",
       "    }\n",
       "\n",
       "    .dataframe thead th {\n",
       "        text-align: right;\n",
       "    }\n",
       "</style>\n",
       "<table border=\"1\" class=\"dataframe\">\n",
       "  <thead>\n",
       "    <tr style=\"text-align: right;\">\n",
       "      <th></th>\n",
       "      <th>theta</th>\n",
       "      <th>T_theta</th>\n",
       "      <th>dtheta</th>\n",
       "    </tr>\n",
       "  </thead>\n",
       "  <tbody>\n",
       "    <tr>\n",
       "      <th>count</th>\n",
       "      <td>21631.000000</td>\n",
       "      <td>21631.000000</td>\n",
       "      <td>21631.000000</td>\n",
       "    </tr>\n",
       "    <tr>\n",
       "      <th>mean</th>\n",
       "      <td>0.106365</td>\n",
       "      <td>0.106286</td>\n",
       "      <td>0.000079</td>\n",
       "    </tr>\n",
       "    <tr>\n",
       "      <th>std</th>\n",
       "      <td>0.064373</td>\n",
       "      <td>0.064353</td>\n",
       "      <td>0.002034</td>\n",
       "    </tr>\n",
       "    <tr>\n",
       "      <th>min</th>\n",
       "      <td>0.012640</td>\n",
       "      <td>0.012746</td>\n",
       "      <td>-0.134563</td>\n",
       "    </tr>\n",
       "    <tr>\n",
       "      <th>25%</th>\n",
       "      <td>0.055940</td>\n",
       "      <td>0.055755</td>\n",
       "      <td>-0.000418</td>\n",
       "    </tr>\n",
       "    <tr>\n",
       "      <th>50%</th>\n",
       "      <td>0.091914</td>\n",
       "      <td>0.091770</td>\n",
       "      <td>0.000079</td>\n",
       "    </tr>\n",
       "    <tr>\n",
       "      <th>75%</th>\n",
       "      <td>0.143271</td>\n",
       "      <td>0.143145</td>\n",
       "      <td>0.000606</td>\n",
       "    </tr>\n",
       "    <tr>\n",
       "      <th>max</th>\n",
       "      <td>0.395127</td>\n",
       "      <td>0.403160</td>\n",
       "      <td>0.112787</td>\n",
       "    </tr>\n",
       "  </tbody>\n",
       "</table>\n",
       "</div>"
      ],
      "text/plain": [
       "              theta       T_theta        dtheta\n",
       "count  21631.000000  21631.000000  21631.000000\n",
       "mean       0.106365      0.106286      0.000079\n",
       "std        0.064373      0.064353      0.002034\n",
       "min        0.012640      0.012746     -0.134563\n",
       "25%        0.055940      0.055755     -0.000418\n",
       "50%        0.091914      0.091770      0.000079\n",
       "75%        0.143271      0.143145      0.000606\n",
       "max        0.395127      0.403160      0.112787"
      ]
     },
     "execution_count": 16,
     "metadata": {},
     "output_type": "execute_result"
    }
   ],
   "source": [
    "a = df.copy() # Recall df has duplicate events and events where TRUEID != ID removed\n",
    "a = a[['theta', 'T_theta']]\n",
    "a['dtheta'] = a['theta'] - a['T_theta']\n",
    "bin_edges = measured[1] # We have the edges of all the bins here now use Pandas groupby to collect into interval bins\n",
    "a = a.loc[(a['theta'] < max(bin_edges)) & (a['theta'] > min(bin_edges))]\n",
    "a.describe()"
   ]
  },
  {
   "cell_type": "code",
   "execution_count": 17,
   "metadata": {},
   "outputs": [
    {
     "data": {
      "text/html": [
       "<div>\n",
       "<style scoped>\n",
       "    .dataframe tbody tr th:only-of-type {\n",
       "        vertical-align: middle;\n",
       "    }\n",
       "\n",
       "    .dataframe tbody tr th {\n",
       "        vertical-align: top;\n",
       "    }\n",
       "\n",
       "    .dataframe thead th {\n",
       "        text-align: right;\n",
       "    }\n",
       "</style>\n",
       "<table border=\"1\" class=\"dataframe\">\n",
       "  <thead>\n",
       "    <tr style=\"text-align: right;\">\n",
       "      <th></th>\n",
       "      <th>theta</th>\n",
       "      <th>T_theta</th>\n",
       "      <th>dtheta</th>\n",
       "      <th>bin</th>\n",
       "    </tr>\n",
       "  </thead>\n",
       "  <tbody>\n",
       "    <tr>\n",
       "      <th>0</th>\n",
       "      <td>0.197732</td>\n",
       "      <td>0.198937</td>\n",
       "      <td>-0.001205</td>\n",
       "      <td>48</td>\n",
       "    </tr>\n",
       "    <tr>\n",
       "      <th>8</th>\n",
       "      <td>0.107482</td>\n",
       "      <td>0.107616</td>\n",
       "      <td>-0.000134</td>\n",
       "      <td>24</td>\n",
       "    </tr>\n",
       "    <tr>\n",
       "      <th>10</th>\n",
       "      <td>0.050795</td>\n",
       "      <td>0.051210</td>\n",
       "      <td>-0.000415</td>\n",
       "      <td>9</td>\n",
       "    </tr>\n",
       "    <tr>\n",
       "      <th>11</th>\n",
       "      <td>0.044134</td>\n",
       "      <td>0.043902</td>\n",
       "      <td>0.000232</td>\n",
       "      <td>8</td>\n",
       "    </tr>\n",
       "    <tr>\n",
       "      <th>13</th>\n",
       "      <td>0.184581</td>\n",
       "      <td>0.184271</td>\n",
       "      <td>0.000310</td>\n",
       "      <td>44</td>\n",
       "    </tr>\n",
       "  </tbody>\n",
       "</table>\n",
       "</div>"
      ],
      "text/plain": [
       "       theta   T_theta    dtheta  bin\n",
       "0   0.197732  0.198937 -0.001205   48\n",
       "8   0.107482  0.107616 -0.000134   24\n",
       "10  0.050795  0.051210 -0.000415    9\n",
       "11  0.044134  0.043902  0.000232    8\n",
       "13  0.184581  0.184271  0.000310   44"
      ]
     },
     "execution_count": 17,
     "metadata": {},
     "output_type": "execute_result"
    }
   ],
   "source": [
    "def GroupRowFunc(df, col='theta'):\n",
    "    bin_nums = []\n",
    "    for row in df.iterrows():\n",
    "        value = row[1].loc[col]\n",
    "        bin_num = [n for n, i in enumerate(bin_edges) if i < value][-1]\n",
    "        bin_nums.append(bin_num)\n",
    "    return bin_nums\n",
    "\n",
    "b = GroupRowFunc(a)\n",
    "a['bin'] = b\n",
    "a.head()"
   ]
  },
  {
   "cell_type": "code",
   "execution_count": 18,
   "metadata": {},
   "outputs": [],
   "source": [
    "grouped_angles = a.groupby(['bin'])\n",
    "means = grouped_angles.mean()['dtheta'].to_numpy() # The mean of the resolution in each bin\n",
    "std = grouped_angles.agg(np.std, ddof=0)['dtheta'].to_numpy() # The standard devitation of the resolution within each bin"
   ]
  },
  {
   "cell_type": "code",
   "execution_count": 19,
   "metadata": {},
   "outputs": [
    {
     "name": "stderr",
     "output_type": "stream",
     "text": [
      "/cvmfs/lhcbdev.cern.ch/conda/envs/default/2021-09-07_04-06/linux-64/lib/python3.9/site-packages/scipy/optimize/minpack.py:833: OptimizeWarning: Covariance of the parameters could not be estimated\n",
      "  warnings.warn('Covariance of the parameters could not be estimated',\n"
     ]
    }
   ],
   "source": [
    "# Use `means` from before\n",
    "from scipy.optimize import curve_fit\n",
    "\n",
    "def normal(x, A, mu, std):\n",
    "    return (A/np.sqrt(2*np.pi*(std**2))) * np.exp(-((x-mu)**2)/(2*(std**2)))\n",
    "\n",
    "i = 0\n",
    "popts = []\n",
    "for _, group in grouped_angles:\n",
    "    if len(group['dtheta']) > 3:\n",
    "        popt, pcov = curve_fit(normal, group['T_theta'], group['dtheta'], p0=[1, np.mean(group['dtheta']), 1e-3])\n",
    "        popts.append(popt)\n",
    "    else:\n",
    "        popts.append([1, np.mean(group['dtheta']), 0])\n",
    "    i += 1"
   ]
  },
  {
   "cell_type": "markdown",
   "metadata": {},
   "source": [
    "## Finding Resolution as a Function of Polar Angle to Beam Axis\n",
    "Now we have iterated through each bin and taken every point and determined its distance from the corresponding true value. Then within each bin collated all these measurements and found a mean and population standard deviation. We now plot these to see how the resolution changes as a fucntion of angle."
   ]
  },
  {
   "cell_type": "code",
   "execution_count": 20,
   "metadata": {},
   "outputs": [],
   "source": [
    "# Find the central location of each bin as this is what we will plot on the scatter plot\n",
    "bin_centroids = [(bin_edges[i] + bin_edges[i+1])/2 for i in range(len(bin_edges) - 1)]\n",
    "# The 'resolution' in the angular 'direction' i.e. because our bins are finite width\n",
    "x, xerr = bin_centroids[0:-2], (bin_edges[1] - bin_edges[0])/2 \n",
    "# The bins are equally spaced so this is okay\n",
    "y, yerr = np.abs([args[1] for i, args in enumerate(popts)]), [args[2] for i, args in enumerate(popts)]"
   ]
  },
  {
   "cell_type": "code",
   "execution_count": 21,
   "metadata": {},
   "outputs": [
    {
     "data": {
      "image/png": "[encoded data removed]",
      "text/plain": [
       "<Figure size 720x504 with 1 Axes>"
      ]
     },
     "metadata": {
      "needs_background": "light"
     },
     "output_type": "display_data"
    }
   ],
   "source": [
    "# Make the scatter plot - and bother labelling it correctly\n",
    "fig, ax = plt.subplots(1, 1, figsize=(10, 7))\n",
    "ax.errorbar(x, y, xerr, yerr, fmt=\".\", capsize=1, capthick=1, label='Muons')\n",
    "ax.set_ylabel('Resolution (rad, lower is better)')\n",
    "ax.set_xlabel('Angle Relative to Beam Axis (rad)')\n",
    "ax.set_yscale('log')\n",
    "plt.title(r'Resolution versus Angle Relative to Beam Axis for $\\mu$')\n",
    "plt.legend()\n",
    "plt.show()"
   ]
  },
  {
   "cell_type": "markdown",
   "metadata": {},
   "source": [
    "Now considering the atrocity that is the error bars on the above plot we plot some of the Gaussian fits which scipy optimised for 8 random bins."
   ]
  },
  {
   "cell_type": "code",
   "execution_count": 39,
   "metadata": {},
   "outputs": [
    {
     "name": "stderr",
     "output_type": "stream",
     "text": [
      "/tmp/ipykernel_840164/3658951592.py:5: RuntimeWarning: divide by zero encountered in double_scalars\n",
      "  return (A/np.sqrt(2*np.pi*(std**2))) * np.exp(-((x-mu)**2)/(2*(std**2)))\n",
      "/tmp/ipykernel_840164/3658951592.py:5: RuntimeWarning: divide by zero encountered in true_divide\n",
      "  return (A/np.sqrt(2*np.pi*(std**2))) * np.exp(-((x-mu)**2)/(2*(std**2)))\n",
      "/tmp/ipykernel_840164/3658951592.py:5: RuntimeWarning: invalid value encountered in multiply\n",
      "  return (A/np.sqrt(2*np.pi*(std**2))) * np.exp(-((x-mu)**2)/(2*(std**2)))\n"
     ]
    },
    {
     "ename": "KeyError",
     "evalue": "96",
     "output_type": "error",
     "traceback": [
      "\u001b[0;31m---------------------------------------------------------------------------\u001b[0m",
      "\u001b[0;31mKeyError\u001b[0m                                  Traceback (most recent call last)",
      "\u001b[0;32m/tmp/ipykernel_840164/3146076659.py\u001b[0m in \u001b[0;36m<module>\u001b[0;34m\u001b[0m\n\u001b[1;32m     10\u001b[0m     \u001b[0;31m# i is the randomly generated bin number so let us plot the Gaussian first\u001b[0m\u001b[0;34m\u001b[0m\u001b[0;34m\u001b[0m\u001b[0m\n\u001b[1;32m     11\u001b[0m         \u001b[0max\u001b[0m\u001b[0;34m[\u001b[0m\u001b[0mn\u001b[0m\u001b[0;34m,\u001b[0m\u001b[0mm\u001b[0m\u001b[0;34m]\u001b[0m\u001b[0;34m.\u001b[0m\u001b[0mplot\u001b[0m\u001b[0;34m(\u001b[0m\u001b[0mdefault_x\u001b[0m\u001b[0;34m,\u001b[0m \u001b[0mnormal\u001b[0m\u001b[0;34m(\u001b[0m\u001b[0mdefault_x\u001b[0m\u001b[0;34m,\u001b[0m \u001b[0;34m*\u001b[0m\u001b[0mpopts\u001b[0m\u001b[0;34m[\u001b[0m\u001b[0mrandom_bin\u001b[0m\u001b[0;34m]\u001b[0m\u001b[0;34m)\u001b[0m\u001b[0;34m,\u001b[0m \u001b[0mlabel\u001b[0m\u001b[0;34m=\u001b[0m\u001b[0;34m'Gaussian fit'\u001b[0m\u001b[0;34m)\u001b[0m\u001b[0;34m\u001b[0m\u001b[0;34m\u001b[0m\u001b[0m\n\u001b[0;32m---> 12\u001b[0;31m         \u001b[0max\u001b[0m\u001b[0;34m[\u001b[0m\u001b[0mn\u001b[0m\u001b[0;34m,\u001b[0m\u001b[0mm\u001b[0m\u001b[0;34m]\u001b[0m\u001b[0;34m.\u001b[0m\u001b[0mscatter\u001b[0m\u001b[0;34m(\u001b[0m\u001b[0mgrouped_angles\u001b[0m\u001b[0;34m.\u001b[0m\u001b[0mget_group\u001b[0m\u001b[0;34m(\u001b[0m\u001b[0mrandom_bin\u001b[0m\u001b[0;34m)\u001b[0m\u001b[0;34m[\u001b[0m\u001b[0;34m'T_theta'\u001b[0m\u001b[0;34m]\u001b[0m\u001b[0;34m,\u001b[0m \u001b[0mgrouped_angles\u001b[0m\u001b[0;34m.\u001b[0m\u001b[0mget_group\u001b[0m\u001b[0;34m(\u001b[0m\u001b[0mrandom_bin\u001b[0m\u001b[0;34m)\u001b[0m\u001b[0;34m[\u001b[0m\u001b[0;34m'dtheta'\u001b[0m\u001b[0;34m]\u001b[0m\u001b[0;34m,\u001b[0m \u001b[0mlabel\u001b[0m\u001b[0;34m=\u001b[0m\u001b[0;34mf'Bin {random_bin}'\u001b[0m\u001b[0;34m)\u001b[0m\u001b[0;34m\u001b[0m\u001b[0;34m\u001b[0m\u001b[0m\n\u001b[0m\u001b[1;32m     13\u001b[0m         \u001b[0max\u001b[0m\u001b[0;34m[\u001b[0m\u001b[0mn\u001b[0m\u001b[0;34m,\u001b[0m\u001b[0mm\u001b[0m\u001b[0;34m]\u001b[0m\u001b[0;34m.\u001b[0m\u001b[0mlegend\u001b[0m\u001b[0;34m(\u001b[0m\u001b[0;34m)\u001b[0m\u001b[0;34m\u001b[0m\u001b[0;34m\u001b[0m\u001b[0m\n\u001b[1;32m     14\u001b[0m         \u001b[0mi\u001b[0m \u001b[0;34m+=\u001b[0m \u001b[0;36m1\u001b[0m\u001b[0;34m\u001b[0m\u001b[0;34m\u001b[0m\u001b[0m\n",
      "\u001b[0;32m/cvmfs/lhcbdev.cern.ch/conda/envs/default/2021-09-07_04-06/linux-64/lib/python3.9/site-packages/pandas/core/groupby/groupby.py\u001b[0m in \u001b[0;36mget_group\u001b[0;34m(self, name, obj)\u001b[0m\n\u001b[1;32m    751\u001b[0m         \u001b[0minds\u001b[0m \u001b[0;34m=\u001b[0m \u001b[0mself\u001b[0m\u001b[0;34m.\u001b[0m\u001b[0m_get_index\u001b[0m\u001b[0;34m(\u001b[0m\u001b[0mname\u001b[0m\u001b[0;34m)\u001b[0m\u001b[0;34m\u001b[0m\u001b[0;34m\u001b[0m\u001b[0m\n\u001b[1;32m    752\u001b[0m         \u001b[0;32mif\u001b[0m \u001b[0;32mnot\u001b[0m \u001b[0mlen\u001b[0m\u001b[0;34m(\u001b[0m\u001b[0minds\u001b[0m\u001b[0;34m)\u001b[0m\u001b[0;34m:\u001b[0m\u001b[0;34m\u001b[0m\u001b[0;34m\u001b[0m\u001b[0m\n\u001b[0;32m--> 753\u001b[0;31m             \u001b[0;32mraise\u001b[0m \u001b[0mKeyError\u001b[0m\u001b[0;34m(\u001b[0m\u001b[0mname\u001b[0m\u001b[0;34m)\u001b[0m\u001b[0;34m\u001b[0m\u001b[0;34m\u001b[0m\u001b[0m\n\u001b[0m\u001b[1;32m    754\u001b[0m \u001b[0;34m\u001b[0m\u001b[0m\n\u001b[1;32m    755\u001b[0m         \u001b[0;32mreturn\u001b[0m \u001b[0mobj\u001b[0m\u001b[0;34m.\u001b[0m\u001b[0m_take_with_is_copy\u001b[0m\u001b[0;34m(\u001b[0m\u001b[0minds\u001b[0m\u001b[0;34m,\u001b[0m \u001b[0maxis\u001b[0m\u001b[0;34m=\u001b[0m\u001b[0mself\u001b[0m\u001b[0;34m.\u001b[0m\u001b[0maxis\u001b[0m\u001b[0;34m)\u001b[0m\u001b[0;34m\u001b[0m\u001b[0;34m\u001b[0m\u001b[0m\n",
      "\u001b[0;31mKeyError\u001b[0m: 96"
     ]
    },
    {
     "data": {
      "image/png": "[encoded data removed]",
      "text/plain": [
       "<Figure size 720x1440 with 8 Axes>"
      ]
     },
     "metadata": {
      "needs_background": "light"
     },
     "output_type": "display_data"
    }
   ],
   "source": [
    "fig, ax = plt.subplots(4, 2, figsize=(10, 20))\n",
    "np.random.seed = 0 # Set the seed for the generator for consistency\n",
    "\n",
    "random_bins = np.random.randint(0, 99, 8)\n",
    "default_x = np.linspace(min(x), max(x), num=150)\n",
    "i = 0\n",
    "for n in range(4):\n",
    "    for m in range(2):\n",
    "        random_bin = random_bins[i]\n",
    "        # i is the randomly generated bin number so let us plot the Gaussian first\n",
    "        ax[n,m].plot(default_x, normal(default_x, *popts[random_bin]), label='Gaussian fit')\n",
    "        ax[n,m].scatter(grouped_angles.get_group(random_bin)['T_theta'], grouped_angles.get_group(random_bin)['dtheta'], label=f'Bin {random_bin}')\n",
    "        ax[n,m].legend()\n",
    "        i += 1\n",
    "    \n",
    "plt.legend()\n",
    "plt.show()"
   ]
  }
 ],
 "metadata": {
  "interpreter": {
   "hash": "9ca4116ab2c7470d45496f3104a2f3648c94db730a0039ceabb3a0fb6fe42410"
  },
  "kernelspec": {
   "display_name": "Python 3 (ipykernel)",
   "language": "python",
   "name": "python3"
  },
  "language_info": {
   "codemirror_mode": {
    "name": "ipython",
    "version": 3
   },
   "file_extension": ".py",
   "mimetype": "text/x-python",
   "name": "python",
   "nbconvert_exporter": "python",
   "pygments_lexer": "ipython3",
   "version": "3.9.7"
  }
 },
 "nbformat": 4,
 "nbformat_minor": 2
}
