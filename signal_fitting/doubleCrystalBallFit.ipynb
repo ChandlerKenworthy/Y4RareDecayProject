{
 "cells": [
  {
   "cell_type": "markdown",
   "metadata": {},
   "source": [
    "# Double-Sided Crystal Ball Signal Fit\n",
    "This notebook fits the double-sided crystal ball function to the Monte-Carlo simulated signal events. Only pure category 10 and category 50 events are used as these are the 'best' quality signal events. The fit routines will be a least-squares (technically a chi-square as we will include errors) and a maximum likelihood fit."
   ]
  },
  {
   "cell_type": "code",
   "execution_count": 1,
   "metadata": {},
   "outputs": [],
   "source": [
    "# Gather the necessary libraries needed\n",
    "import numpy as np\n",
    "import matplotlib.pyplot as plt\n",
    "import pandas as pd\n",
    "import sys\n",
    "sys.path.append('../')\n",
    "from utilities import Data, Consts"
   ]
  },
  {
   "cell_type": "code",
   "execution_count": 2,
   "metadata": {},
   "outputs": [],
   "source": [
    "s = Data(*Consts().get_simulated_tuple())\n",
    "# Create a data object from the unpacked constant filenames\n",
    "\n",
    "df = s.fetch_features(['Lb_M', 'Lb_BKGCAT'])\n",
    "# Get the invariant mass and background category features for all simulated events\n",
    "\n",
    "df['cat'] = np.where(df['Lb_BKGCAT'].isin([10, 50]), 1, 0)\n",
    "# Create a category column which is based on the BKGCAT value 1 = signal, 0 = non-signal\n",
    "\n",
    "df.drop('Lb_BKGCAT', axis=1, inplace=True)\n",
    "# Now remove the BKGCAT column, it is redundant now\n",
    "\n",
    "g = df.groupby('cat')\n",
    "# Group the events by the category (1 or 0)"
   ]
  },
  {
   "cell_type": "markdown",
   "metadata": {},
   "source": [
    "## Plotting Initial Mass Distribution\n",
    "Now we will plot the initial mass distribution for the events we care about, that is signal category 1 events. This is just so we know what we are working with. Errors are computed assuming Poisson statistics that is $\\sigma\\propto\\sqrt{N}$."
   ]
  },
  {
   "cell_type": "code",
   "execution_count": 3,
   "metadata": {},
   "outputs": [
    {
     "data": {
      "image/png": "[encoded data removed]",
      "text/plain": [
       "<Figure size 648x504 with 1 Axes>"
      ]
     },
     "metadata": {
      "needs_background": "light"
     },
     "output_type": "display_data"
    }
   ],
   "source": [
    "low_mass_limit, high_mass_limit = 3500, 7000\n",
    "no_bins = 100\n",
    "bins = np.linspace(low_mass_limit, high_mass_limit, no_bins+1)\n",
    "# Create an array of bin edges\n",
    "\n",
    "bin_centres = [np.mean(bins[i:i+2]) for i in range(len(bins)-1)]\n",
    "bin_width = bins[1]- bins[0]\n",
    "\n",
    "data = g.get_group(1)[g.get_group(1)['Lb_M'].between(low_mass_limit, high_mass_limit)]\n",
    "\n",
    "f, _ = np.histogram(g.get_group(1)['Lb_M'], bins=bins)\n",
    "err = np.sqrt(f)\n",
    "# The error is the square root of the frequency\n",
    "\n",
    "d = np.array([bin_centres, f, err]).T\n",
    "# Make an array of the bin centroid the frequency and the associated error\n",
    "\n",
    "fig, ax = plt.subplots(1, 1, figsize=(9, 7))\n",
    "ax.bar(d[:,0], d[:,1], width=bin_width, yerr=d[:,2], label='Simulated Signal', edgecolor='k', color='#1f77b4')\n",
    "ax.set_ylabel('Frequency')\n",
    "ax.set_xlabel('Mass (MeV)')\n",
    "plt.title('Mass Distribution for Simulated Signal Events')\n",
    "plt.legend(frameon=False)\n",
    "plt.show()"
   ]
  },
  {
   "cell_type": "markdown",
   "metadata": {},
   "source": [
    "## Fitting the DSCB\n",
    "Now we have plotted these data we will now attempt to fit them using a statistically sound routine(s). Before fitting we need to remove all the bins with zero frequency and hence zero error."
   ]
  },
  {
   "cell_type": "code",
   "execution_count": 4,
   "metadata": {},
   "outputs": [],
   "source": [
    "d = d[d[:,1]!=0,:]\n",
    "# Remove all the bins with no signal candidates recorded"
   ]
  },
  {
   "cell_type": "code",
   "execution_count": 11,
   "metadata": {},
   "outputs": [
    {
     "name": "stdout",
     "output_type": "stream",
     "text": [
      "[-60.08333333 -56.58333333 -55.41666667 -53.08333333 -51.91666667\n",
      " -50.75       -49.58333333 -47.25       -46.08333333 -44.91666667\n",
      " -43.75       -42.58333333 -41.41666667 -40.25       -39.08333333\n",
      " -37.91666667 -36.75       -35.58333333 -34.41666667 -33.25\n",
      " -32.08333333 -30.91666667 -29.75       -28.58333333 -27.41666667\n",
      " -26.25       -25.08333333 -23.91666667 -22.75       -21.58333333\n",
      " -20.41666667 -19.25       -18.08333333 -16.91666667 -15.75\n",
      " -14.58333333 -13.41666667 -12.25       -11.08333333  -9.91666667\n",
      "  -8.75        -7.58333333  -6.41666667  -5.25        -4.08333333\n",
      "  -2.91666667  -1.75        -0.58333333   0.58333333   1.75\n",
      "   2.91666667   4.08333333   5.25         6.41666667   7.58333333\n",
      "   8.75         9.91666667  11.08333333  12.25        13.41666667\n",
      "  14.58333333  15.75        16.91666667  18.08333333  19.25\n",
      "  20.41666667  21.58333333  22.75        23.91666667  25.08333333\n",
      "  26.25        27.41666667  28.58333333  29.75        30.91666667\n",
      "  33.25        34.41666667  35.58333333  36.75        37.91666667\n",
      "  39.08333333]\n",
      "[ True  True  True  True  True  True  True  True  True  True  True  True\n",
      "  True  True  True  True  True  True  True  True  True  True  True  True\n",
      "  True  True  True  True  True  True  True  True  True  True  True  True\n",
      "  True  True  True  True  True  True  True  True  True  True  True  True\n",
      "  True False False False False False False False False False False False\n",
      " False False False False False False False False False False False False\n",
      " False False False False False False False False False]\n",
      "[False False False False False False False False False False False False\n",
      " False False False False False False False False False False False False\n",
      " False False False False False False False False False False False False\n",
      " False False False False False False False False False False False False\n",
      " False  True  True  True  True  True  True  True  True  True  True  True\n",
      "  True  True  True  True  True  True  True  True  True  True  True  True\n",
      "  True  True  True  True  True  True  True  True  True]\n"
     ]
    },
    {
     "data": {
      "text/plain": [
       "0"
      ]
     },
     "execution_count": 11,
     "metadata": {},
     "output_type": "execute_result"
    }
   ],
   "source": [
    "from scipy.optimize import curve_fit\n",
    "# For the chi-square fitting routine (least-squares as it is also known)\n",
    "\n",
    "def dscb(x, mu, sigma, alow, ahigh, nlow, nhigh):\n",
    "    \n",
    "    xshift = (x - mu)/sigma\n",
    "    # Apply a specific function to the shifted values based on initial values\n",
    "    \n",
    "    \n",
    "    \n",
    "    return 0\n",
    "    \n",
    "dscb(d[:,0], *[5600, 30, -0.75, 1.5, 2, 2])\n",
    "\n",
    "#bounds = ([2800, 5500, 28, -0.85, 1.2, 1, 1], [3000, 5700, 32, -0.65, 1.6, 4, 4])\n",
    "#popt, pcov = curve_fit(dscb, d[:,0], d[:,1], p0=[2900, 5600, 30, -0.75, 1.36, 2, 2], sigma=d[:,2], bounds=bounds)\n"
   ]
  }
 ],
 "metadata": {
  "interpreter": {
   "hash": "9ca4116ab2c7470d45496f3104a2f3648c94db730a0039ceabb3a0fb6fe42410"
  },
  "kernelspec": {
   "display_name": "Python 3.9.7 64-bit ('linux-64': conda)",
   "language": "python",
   "name": "python3"
  },
  "language_info": {
   "codemirror_mode": {
    "name": "ipython",
    "version": 3
   },
   "file_extension": ".py",
   "mimetype": "text/x-python",
   "name": "python",
   "nbconvert_exporter": "python",
   "pygments_lexer": "ipython3",
   "version": "3.9.7"
  },
  "orig_nbformat": 4
 },
 "nbformat": 4,
 "nbformat_minor": 2
}
