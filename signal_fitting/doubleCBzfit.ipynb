{
 "cells": [
  {
   "cell_type": "code",
   "execution_count": 1,
   "metadata": {},
   "outputs": [
    {
     "name": "stderr",
     "output_type": "stream",
     "text": [
      "2022-03-31 19:12:52.411493: W tensorflow/stream_executor/platform/default/dso_loader.cc:64] Could not load dynamic library 'libcudart.so.11.0'; dlerror: libcudart.so.11.0: cannot open shared object file: No such file or directory\n",
      "2022-03-31 19:12:52.411543: I tensorflow/stream_executor/cuda/cudart_stub.cc:29] Ignore above cudart dlerror if you do not have a GPU set up on your machine.\n",
      "/home/user211/envs/scientific/lib64/python3.9/site-packages/zfit/__init__.py:37: UserWarning: TensorFlow warnings are by default suppressed by zfit. In order to show them, set the environment variable ZFIT_DISABLE_TF_WARNINGS=0. In order to suppress the TensorFlow warnings AND this warning, set ZFIT_DISABLE_TF_WARNINGS=1.\n",
      "  warnings.warn(\"TensorFlow warnings are by default suppressed by zfit.\"\n"
     ]
    }
   ],
   "source": [
    "import tensorflow as tf\n",
    "import zfit\n",
    "from zfit import z\n",
    "import pandas as pd\n",
    "import numpy as np"
   ]
  },
  {
   "cell_type": "code",
   "execution_count": 2,
   "metadata": {},
   "outputs": [
    {
     "data": {
      "text/html": [
       "<div>\n",
       "<style scoped>\n",
       "    .dataframe tbody tr th:only-of-type {\n",
       "        vertical-align: middle;\n",
       "    }\n",
       "\n",
       "    .dataframe tbody tr th {\n",
       "        vertical-align: top;\n",
       "    }\n",
       "\n",
       "    .dataframe thead th {\n",
       "        text-align: right;\n",
       "    }\n",
       "</style>\n",
       "<table border=\"1\" class=\"dataframe\">\n",
       "  <thead>\n",
       "    <tr style=\"text-align: right;\">\n",
       "      <th></th>\n",
       "      <th>JPs_FD_ORIVX</th>\n",
       "      <th>LStar_ORIVX_CHI2</th>\n",
       "      <th>Lb_ENDVERTEX_CHI2</th>\n",
       "      <th>LN_Lb_IPCHI2_OWNPV</th>\n",
       "      <th>Lb_PT</th>\n",
       "      <th>LN_Lb_MINIPCHI2</th>\n",
       "      <th>LN_Lb_IP01</th>\n",
       "      <th>LN_Lb_IP23</th>\n",
       "      <th>LN_Lb_IP_OWNPV</th>\n",
       "      <th>p_TRACK_VeloCHI2NDOF</th>\n",
       "      <th>...</th>\n",
       "      <th>JPs_IP_TOPPV</th>\n",
       "      <th>LStar_IP_ORIVX</th>\n",
       "      <th>JPs_IP_ORIVX</th>\n",
       "      <th>LN_SUM_CONEISO</th>\n",
       "      <th>LN_SUM_IPCHI2</th>\n",
       "      <th>LN_COS_THETA</th>\n",
       "      <th>LN_COS_LBDIRA</th>\n",
       "      <th>Lb_M</th>\n",
       "      <th>IsSimulated</th>\n",
       "      <th>category</th>\n",
       "    </tr>\n",
       "  </thead>\n",
       "  <tbody>\n",
       "    <tr>\n",
       "      <th>0</th>\n",
       "      <td>1.851979</td>\n",
       "      <td>28.907789</td>\n",
       "      <td>28.907789</td>\n",
       "      <td>2.193329</td>\n",
       "      <td>4230.809665</td>\n",
       "      <td>2.193329</td>\n",
       "      <td>-0.847595</td>\n",
       "      <td>-1.041318</td>\n",
       "      <td>-2.872736</td>\n",
       "      <td>0.594733</td>\n",
       "      <td>...</td>\n",
       "      <td>0.352945</td>\n",
       "      <td>0.085317</td>\n",
       "      <td>0.041645</td>\n",
       "      <td>0.265708</td>\n",
       "      <td>6.464721</td>\n",
       "      <td>-5.570637</td>\n",
       "      <td>-0.777264</td>\n",
       "      <td>3998.369168</td>\n",
       "      <td>False</td>\n",
       "      <td>0</td>\n",
       "    </tr>\n",
       "    <tr>\n",
       "      <th>1</th>\n",
       "      <td>0.085784</td>\n",
       "      <td>3.052172</td>\n",
       "      <td>3.052172</td>\n",
       "      <td>2.961534</td>\n",
       "      <td>8458.609810</td>\n",
       "      <td>2.961534</td>\n",
       "      <td>-1.916333</td>\n",
       "      <td>-2.378791</td>\n",
       "      <td>-2.722544</td>\n",
       "      <td>0.501596</td>\n",
       "      <td>...</td>\n",
       "      <td>0.092650</td>\n",
       "      <td>0.010171</td>\n",
       "      <td>0.004363</td>\n",
       "      <td>0.989021</td>\n",
       "      <td>5.767648</td>\n",
       "      <td>-4.412842</td>\n",
       "      <td>-0.777397</td>\n",
       "      <td>3908.707715</td>\n",
       "      <td>False</td>\n",
       "      <td>0</td>\n",
       "    </tr>\n",
       "    <tr>\n",
       "      <th>2</th>\n",
       "      <td>0.328561</td>\n",
       "      <td>31.440962</td>\n",
       "      <td>31.440962</td>\n",
       "      <td>1.192254</td>\n",
       "      <td>7521.502286</td>\n",
       "      <td>1.192254</td>\n",
       "      <td>-1.315165</td>\n",
       "      <td>-3.398239</td>\n",
       "      <td>-3.880958</td>\n",
       "      <td>0.961206</td>\n",
       "      <td>...</td>\n",
       "      <td>0.033464</td>\n",
       "      <td>0.064917</td>\n",
       "      <td>0.005629</td>\n",
       "      <td>0.546949</td>\n",
       "      <td>5.256708</td>\n",
       "      <td>-5.071058</td>\n",
       "      <td>-0.777203</td>\n",
       "      <td>3925.686564</td>\n",
       "      <td>False</td>\n",
       "      <td>0</td>\n",
       "    </tr>\n",
       "    <tr>\n",
       "      <th>3</th>\n",
       "      <td>0.292555</td>\n",
       "      <td>4.659895</td>\n",
       "      <td>4.659895</td>\n",
       "      <td>2.916038</td>\n",
       "      <td>4882.919930</td>\n",
       "      <td>2.916038</td>\n",
       "      <td>-0.328529</td>\n",
       "      <td>-0.747493</td>\n",
       "      <td>-2.750426</td>\n",
       "      <td>0.267760</td>\n",
       "      <td>...</td>\n",
       "      <td>0.473588</td>\n",
       "      <td>0.024150</td>\n",
       "      <td>0.016349</td>\n",
       "      <td>-0.544535</td>\n",
       "      <td>7.818096</td>\n",
       "      <td>-5.766520</td>\n",
       "      <td>-0.777214</td>\n",
       "      <td>4532.655292</td>\n",
       "      <td>False</td>\n",
       "      <td>0</td>\n",
       "    </tr>\n",
       "    <tr>\n",
       "      <th>4</th>\n",
       "      <td>0.276511</td>\n",
       "      <td>27.207298</td>\n",
       "      <td>27.207298</td>\n",
       "      <td>2.325226</td>\n",
       "      <td>9988.647107</td>\n",
       "      <td>2.325226</td>\n",
       "      <td>-1.274015</td>\n",
       "      <td>-2.394711</td>\n",
       "      <td>-2.658933</td>\n",
       "      <td>0.962834</td>\n",
       "      <td>...</td>\n",
       "      <td>0.091219</td>\n",
       "      <td>0.030870</td>\n",
       "      <td>0.026209</td>\n",
       "      <td>0.925614</td>\n",
       "      <td>7.154856</td>\n",
       "      <td>-4.088718</td>\n",
       "      <td>-0.777254</td>\n",
       "      <td>4394.754828</td>\n",
       "      <td>False</td>\n",
       "      <td>0</td>\n",
       "    </tr>\n",
       "  </tbody>\n",
       "</table>\n",
       "<p>5 rows × 26 columns</p>\n",
       "</div>"
      ],
      "text/plain": [
       "   JPs_FD_ORIVX  LStar_ORIVX_CHI2  Lb_ENDVERTEX_CHI2  LN_Lb_IPCHI2_OWNPV  \\\n",
       "0      1.851979         28.907789          28.907789            2.193329   \n",
       "1      0.085784          3.052172           3.052172            2.961534   \n",
       "2      0.328561         31.440962          31.440962            1.192254   \n",
       "3      0.292555          4.659895           4.659895            2.916038   \n",
       "4      0.276511         27.207298          27.207298            2.325226   \n",
       "\n",
       "         Lb_PT  LN_Lb_MINIPCHI2  LN_Lb_IP01  LN_Lb_IP23  LN_Lb_IP_OWNPV  \\\n",
       "0  4230.809665         2.193329   -0.847595   -1.041318       -2.872736   \n",
       "1  8458.609810         2.961534   -1.916333   -2.378791       -2.722544   \n",
       "2  7521.502286         1.192254   -1.315165   -3.398239       -3.880958   \n",
       "3  4882.919930         2.916038   -0.328529   -0.747493       -2.750426   \n",
       "4  9988.647107         2.325226   -1.274015   -2.394711       -2.658933   \n",
       "\n",
       "   p_TRACK_VeloCHI2NDOF  ...  JPs_IP_TOPPV  LStar_IP_ORIVX  JPs_IP_ORIVX  \\\n",
       "0              0.594733  ...      0.352945        0.085317      0.041645   \n",
       "1              0.501596  ...      0.092650        0.010171      0.004363   \n",
       "2              0.961206  ...      0.033464        0.064917      0.005629   \n",
       "3              0.267760  ...      0.473588        0.024150      0.016349   \n",
       "4              0.962834  ...      0.091219        0.030870      0.026209   \n",
       "\n",
       "   LN_SUM_CONEISO  LN_SUM_IPCHI2  LN_COS_THETA  LN_COS_LBDIRA         Lb_M  \\\n",
       "0        0.265708       6.464721     -5.570637      -0.777264  3998.369168   \n",
       "1        0.989021       5.767648     -4.412842      -0.777397  3908.707715   \n",
       "2        0.546949       5.256708     -5.071058      -0.777203  3925.686564   \n",
       "3       -0.544535       7.818096     -5.766520      -0.777214  4532.655292   \n",
       "4        0.925614       7.154856     -4.088718      -0.777254  4394.754828   \n",
       "\n",
       "   IsSimulated  category  \n",
       "0        False         0  \n",
       "1        False         0  \n",
       "2        False         0  \n",
       "3        False         0  \n",
       "4        False         0  \n",
       "\n",
       "[5 rows x 26 columns]"
      ]
     },
     "execution_count": 2,
     "metadata": {},
     "output_type": "execute_result"
    }
   ],
   "source": [
    "version = '9.0.0'\n",
    "all = pd.read_csv(f'../data_files/{version}/all.csv', index_col=[0])\n",
    "all.head()"
   ]
  },
  {
   "cell_type": "code",
   "execution_count": 3,
   "metadata": {},
   "outputs": [],
   "source": [
    "masses = all['Lb_M'][all['category']==1].to_numpy()\n",
    "# Masses of signal candidate events"
   ]
  },
  {
   "cell_type": "code",
   "execution_count": 4,
   "metadata": {},
   "outputs": [
    {
     "data": {
      "image/png": "[encoded data removed]",
      "text/plain": [
       "<Figure size 720x720 with 1 Axes>"
      ]
     },
     "metadata": {
      "needs_background": "light"
     },
     "output_type": "display_data"
    }
   ],
   "source": [
    "import matplotlib.pyplot as plt\n",
    "import mplhep as hep\n",
    "plt.style.use([hep.style.ROOT, hep.style.firamath])\n",
    "\n",
    "h, bins = np.histogram(masses, bins=100)\n",
    "fig, ax = plt.subplots(1, 1)\n",
    "hep.histplot(h, yerr=np.sqrt(h), bins=bins, ax=ax)\n",
    "plt.xlabel('Mass')\n",
    "plt.ylabel('Candidates')\n",
    "plt.show()\n",
    "# Initial plot"
   ]
  },
  {
   "cell_type": "code",
   "execution_count": 5,
   "metadata": {},
   "outputs": [],
   "source": [
    "def fitDoubleCB(np_data, label, mass_ranges=[4000, 6500], param_ranges=[[5600, 5500, 5700],[20, 10, 50],[1, 0, 2],[4, 0.1, 10],[1, 0, 2],[4, 0.1, 10],[30000, 0, 100000]]):\n",
    "    massObsMC = zfit.Space(\"Lb_M\", limits=(mass_ranges[0], mass_ranges[1]))\n",
    "    MC_LbM = zfit.Data.from_numpy(obs=massObsMC, array=np_data)\n",
    "    \n",
    "    mu_CB = zfit.Parameter('mu_CB_%s'%label, *param_ranges[0])\n",
    "    sigma_CB = zfit.Parameter('sigma_CB_%s'%label, *param_ranges[1])\n",
    "    alpha_l = zfit.Parameter('alpha_l_%s'%label, *param_ranges[2])\n",
    "    n_l = zfit.Parameter('n_l_%s'%label, *param_ranges[3])\n",
    "    alpha_r = zfit.Parameter('alpha_r_%s'%label, *param_ranges[4])\n",
    "    n_r = zfit.Parameter('n_r_%s'%label, *param_ranges[5])\n",
    "    \n",
    "    dcb = zfit.pdf.DoubleCB(obs=massObsMC, mu=mu_CB, sigma=sigma_CB, alphal=alpha_l, nl=n_l, alphar=alpha_r, nr=n_r)\n",
    "    \n",
    "    dcb_yield = zfit.Parameter('DCB_yield_%s'%label, *param_ranges[6], step_size=1)\n",
    "    dcb_ext = dcb.create_extended(dcb_yield)\n",
    "    nll_ext_dcb = zfit.loss.ExtendedUnbinnedNLL(dcb_ext, MC_LbM)\n",
    "    minimizerDCB = zfit.minimize.Minuit(use_minuit_grad=True)\n",
    "    fitResult = minimizerDCB.minimize(nll_ext_dcb)\n",
    "    \n",
    "    return dcb_ext, fitResult, MC_LbM, massObsMC"
   ]
  },
  {
   "cell_type": "code",
   "execution_count": 6,
   "metadata": {},
   "outputs": [
    {
     "name": "stderr",
     "output_type": "stream",
     "text": [
      "2022-03-31 19:13:02.258004: W tensorflow/stream_executor/platform/default/dso_loader.cc:64] Could not load dynamic library 'libcuda.so.1'; dlerror: libcuda.so.1: cannot open shared object file: No such file or directory\n",
      "2022-03-31 19:13:02.258051: W tensorflow/stream_executor/cuda/cuda_driver.cc:269] failed call to cuInit: UNKNOWN ERROR (303)\n",
      "2022-03-31 19:13:02.258093: I tensorflow/stream_executor/cuda/cuda_diagnostics.cc:156] kernel driver does not appear to be running on this host (eprexb.ph.bham.ac.uk): /proc/driver/nvidia/version does not exist\n",
      "2022-03-31 19:13:02.258754: I tensorflow/core/platform/cpu_feature_guard.cc:142] This TensorFlow binary is optimized with oneAPI Deep Neural Network Library (oneDNN) to use the following CPU instructions in performance-critical operations:  AVX2 FMA\n",
      "To enable them in other operations, rebuild TensorFlow with the appropriate compiler flags.\n",
      "2022-03-31 19:13:02.328678: I tensorflow/compiler/mlir/mlir_graph_optimization_pass.cc:185] None of the MLIR Optimization Passes are enabled (registered 2)\n"
     ]
    }
   ],
   "source": [
    "model, fit, zmasses, obs = fitDoubleCB(masses, \"MC\")"
   ]
  },
  {
   "cell_type": "code",
   "execution_count": 7,
   "metadata": {},
   "outputs": [
    {
     "name": "stderr",
     "output_type": "stream",
     "text": [
      "/home/user211/envs/scientific/lib64/python3.9/site-packages/zfit/minimizers/fitresult.py:1115: FutureWarning: 'minuit_minos' will be changed as the default errors method to a custom implementationwith the same functionality. If you want to make sure that 'minuit_minos' will be used in the future, add it explicitly as in `errors(method='minuit_minos')`\n",
      "  warnings.warn(\"'minuit_minos' will be changed as the default errors method to a custom implementation\"\n"
     ]
    },
    {
     "name": "stdout",
     "output_type": "stream",
     "text": [
      "name            value         minuit_minos    at limit\n",
      "------------  -------  -------------------  ----------\n",
      "DCB_yield_MC    58830  -2.4e+02   +2.4e+02       False\n",
      "alpha_l_MC     0.4599  -  0.013   +  0.013       False\n",
      "alpha_r_MC       1.16  -  0.028   +  0.026       False\n",
      "mu_CB_MC         5611  -   0.39   +    0.4       False\n",
      "n_l_MC          2.571  -  0.034   +  0.035       False\n",
      "n_r_MC          2.005  -  0.038   +   0.04       False\n",
      "sigma_CB_MC     22.14  -    0.6   +   0.56       False\n"
     ]
    }
   ],
   "source": [
    "param_errors = fit.errors()\n",
    "print(fit.params)"
   ]
  },
  {
   "cell_type": "code",
   "execution_count": 30,
   "metadata": {},
   "outputs": [
    {
     "name": "stdout",
     "output_type": "stream",
     "text": [
      "Chi2 = 4\n"
     ]
    },
    {
     "data": {
      "image/png": "[encoded data removed]",
      "text/plain": [
       "<Figure size 720x720 with 1 Axes>"
      ]
     },
     "metadata": {
      "needs_background": "light"
     },
     "output_type": "display_data"
    }
   ],
   "source": [
    "import matplotlib.pyplot as plt\n",
    "import mplhep as hep\n",
    "plt.style.use([hep.style.ROOT, hep.style.firamath])\n",
    "\n",
    "fig, ax = plt.subplots(1, 1)\n",
    "\n",
    "allLimits = [zmasses.data_range.limit1d[0], zmasses.data_range.limit1d[1]]\n",
    "allLimits = np.array(allLimits)\n",
    "\n",
    "xBins = np.linspace(np.amin(allLimits), np.amax(allLimits), num=200)\n",
    "x = (xBins[1:]+xBins[:-1]) / 2\n",
    "y=np.array([])\n",
    "\n",
    "nBinsLimit=0\n",
    "for a in range(int(allLimits.shape[0]/2)):\n",
    "    nBinsLimit+=len(x[(x>allLimits[a*2])&(x<allLimits[a*2+1])])\n",
    "    \n",
    "y = np.append(y, model.pdf(x) * zmasses.nevents.numpy() / nBinsLimit * np.sum(allLimits[1::2]-allLimits[::2]))\n",
    "y *= 1\n",
    "\n",
    "data_plot = zfit.run(z.unstack_x(zmasses))\n",
    "a = ax.hist(data_plot, bins=xBins,label=zmasses.space.obs[0])\n",
    "scaledDiff=(a[0][a[0]!=0]-y[a[0]!=0])/np.sqrt(a[0][a[0]!=0])\n",
    "print(\"Chi2 = %.2g\"%(np.sum(scaledDiff**2)/(len(scaledDiff)-len(model.get_params()))))\n",
    "    \n",
    "ax.plot(x, y, label='DCB Ext. Model')\n",
    "\n",
    "plt.tight_layout()\n",
    "plt.show()"
   ]
  },
  {
   "cell_type": "code",
   "execution_count": 31,
   "metadata": {},
   "outputs": [
    {
     "data": {
      "text/plain": [
       "<tf.Tensor: shape=(1,), dtype=float64, numpy=array([43073.95219635])>"
      ]
     },
     "execution_count": 31,
     "metadata": {},
     "output_type": "execute_result"
    }
   ],
   "source": [
    "BGSigmaRange = 5\n",
    "\n",
    "interpRange = np.ones(2)*fit.params[\"mu_CB_MC\"]['value']+np.array([-1*BGSigmaRange,\n",
    "                            BGSigmaRange])*fit.params[\"sigma_CB_MC\"]['value']\n",
    "\n",
    "model.integrate(limits=interpRange, norm_range=model.norm_range)*fit.params[\"DCB_yield_MC\"][\"value\"]"
   ]
  }
 ],
 "metadata": {
  "interpreter": {
   "hash": "41e220d95b7ec8b8d5afec9fc37dd8786ce41c9f6ed7d4ccf5e0049ff2f60044"
  },
  "kernelspec": {
   "display_name": "Python 3.8.10 ('scientific')",
   "language": "python",
   "name": "python3"
  },
  "language_info": {
   "codemirror_mode": {
    "name": "ipython",
    "version": 3
   },
   "file_extension": ".py",
   "mimetype": "text/x-python",
   "name": "python",
   "nbconvert_exporter": "python",
   "pygments_lexer": "ipython3",
   "version": "3.9.6"
  },
  "orig_nbformat": 4
 },
 "nbformat": 4,
 "nbformat_minor": 2
}
