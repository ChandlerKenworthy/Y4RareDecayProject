{
 "cells": [
  {
   "cell_type": "code",
   "execution_count": 1,
   "metadata": {},
   "outputs": [
    {
     "name": "stderr",
     "output_type": "stream",
     "text": [
      "2022-03-30 14:27:42.927369: W tensorflow/stream_executor/platform/default/dso_loader.cc:64] Could not load dynamic library 'libcudart.so.11.0'; dlerror: libcudart.so.11.0: cannot open shared object file: No such file or directory\n",
      "2022-03-30 14:27:42.927459: I tensorflow/stream_executor/cuda/cudart_stub.cc:29] Ignore above cudart dlerror if you do not have a GPU set up on your machine.\n",
      "/root/envs/scientific/lib/python3.8/site-packages/zfit/__init__.py:37: UserWarning: TensorFlow warnings are by default suppressed by zfit. In order to show them, set the environment variable ZFIT_DISABLE_TF_WARNINGS=0. In order to suppress the TensorFlow warnings AND this warning, set ZFIT_DISABLE_TF_WARNINGS=1.\n",
      "  warnings.warn(\"TensorFlow warnings are by default suppressed by zfit.\"\n"
     ]
    }
   ],
   "source": [
    "import tensorflow as tf\n",
    "import zfit\n",
    "from zfit import z\n",
    "import pandas as pd\n",
    "import numpy as np"
   ]
  },
  {
   "cell_type": "code",
   "execution_count": 2,
   "metadata": {},
   "outputs": [
    {
     "data": {
      "text/html": [
       "<div>\n",
       "<style scoped>\n",
       "    .dataframe tbody tr th:only-of-type {\n",
       "        vertical-align: middle;\n",
       "    }\n",
       "\n",
       "    .dataframe tbody tr th {\n",
       "        vertical-align: top;\n",
       "    }\n",
       "\n",
       "    .dataframe thead th {\n",
       "        text-align: right;\n",
       "    }\n",
       "</style>\n",
       "<table border=\"1\" class=\"dataframe\">\n",
       "  <thead>\n",
       "    <tr style=\"text-align: right;\">\n",
       "      <th></th>\n",
       "      <th>JPs_FD_ORIVX</th>\n",
       "      <th>LStar_ORIVX_CHI2</th>\n",
       "      <th>Lb_ENDVERTEX_CHI2</th>\n",
       "      <th>LN_Lb_IPCHI2_OWNPV</th>\n",
       "      <th>Lb_PT</th>\n",
       "      <th>LN_Lb_MINIPCHI2</th>\n",
       "      <th>LN_Lb_IP01</th>\n",
       "      <th>LN_Lb_IP23</th>\n",
       "      <th>LN_Lb_IP_OWNPV</th>\n",
       "      <th>p_TRACK_VeloCHI2NDOF</th>\n",
       "      <th>...</th>\n",
       "      <th>JPs_IP_TOPPV</th>\n",
       "      <th>LStar_IP_ORIVX</th>\n",
       "      <th>JPs_IP_ORIVX</th>\n",
       "      <th>LN_SUM_CONEISO</th>\n",
       "      <th>LN_SUM_IPCHI2</th>\n",
       "      <th>LN_COS_THETA</th>\n",
       "      <th>LN_COS_LBDIRA</th>\n",
       "      <th>Lb_M</th>\n",
       "      <th>IsSimulated</th>\n",
       "      <th>category</th>\n",
       "    </tr>\n",
       "  </thead>\n",
       "  <tbody>\n",
       "    <tr>\n",
       "      <th>0</th>\n",
       "      <td>1.851979</td>\n",
       "      <td>28.907789</td>\n",
       "      <td>28.907789</td>\n",
       "      <td>2.193329</td>\n",
       "      <td>4230.809665</td>\n",
       "      <td>2.193329</td>\n",
       "      <td>-0.847595</td>\n",
       "      <td>-1.041318</td>\n",
       "      <td>-2.872736</td>\n",
       "      <td>0.594733</td>\n",
       "      <td>...</td>\n",
       "      <td>0.352945</td>\n",
       "      <td>0.085317</td>\n",
       "      <td>0.041645</td>\n",
       "      <td>0.265708</td>\n",
       "      <td>6.464721</td>\n",
       "      <td>-5.570637</td>\n",
       "      <td>-0.777264</td>\n",
       "      <td>3998.369168</td>\n",
       "      <td>False</td>\n",
       "      <td>0</td>\n",
       "    </tr>\n",
       "    <tr>\n",
       "      <th>1</th>\n",
       "      <td>0.085784</td>\n",
       "      <td>3.052172</td>\n",
       "      <td>3.052172</td>\n",
       "      <td>2.961534</td>\n",
       "      <td>8458.609810</td>\n",
       "      <td>2.961534</td>\n",
       "      <td>-1.916333</td>\n",
       "      <td>-2.378791</td>\n",
       "      <td>-2.722544</td>\n",
       "      <td>0.501596</td>\n",
       "      <td>...</td>\n",
       "      <td>0.092650</td>\n",
       "      <td>0.010171</td>\n",
       "      <td>0.004363</td>\n",
       "      <td>0.989021</td>\n",
       "      <td>5.767648</td>\n",
       "      <td>-4.412842</td>\n",
       "      <td>-0.777397</td>\n",
       "      <td>3908.707715</td>\n",
       "      <td>False</td>\n",
       "      <td>0</td>\n",
       "    </tr>\n",
       "    <tr>\n",
       "      <th>2</th>\n",
       "      <td>0.328561</td>\n",
       "      <td>31.440962</td>\n",
       "      <td>31.440962</td>\n",
       "      <td>1.192254</td>\n",
       "      <td>7521.502286</td>\n",
       "      <td>1.192254</td>\n",
       "      <td>-1.315165</td>\n",
       "      <td>-3.398239</td>\n",
       "      <td>-3.880958</td>\n",
       "      <td>0.961206</td>\n",
       "      <td>...</td>\n",
       "      <td>0.033464</td>\n",
       "      <td>0.064917</td>\n",
       "      <td>0.005629</td>\n",
       "      <td>0.546949</td>\n",
       "      <td>5.256708</td>\n",
       "      <td>-5.071058</td>\n",
       "      <td>-0.777203</td>\n",
       "      <td>3925.686564</td>\n",
       "      <td>False</td>\n",
       "      <td>0</td>\n",
       "    </tr>\n",
       "    <tr>\n",
       "      <th>3</th>\n",
       "      <td>0.292555</td>\n",
       "      <td>4.659895</td>\n",
       "      <td>4.659895</td>\n",
       "      <td>2.916038</td>\n",
       "      <td>4882.919930</td>\n",
       "      <td>2.916038</td>\n",
       "      <td>-0.328529</td>\n",
       "      <td>-0.747493</td>\n",
       "      <td>-2.750426</td>\n",
       "      <td>0.267760</td>\n",
       "      <td>...</td>\n",
       "      <td>0.473588</td>\n",
       "      <td>0.024150</td>\n",
       "      <td>0.016349</td>\n",
       "      <td>-0.544535</td>\n",
       "      <td>7.818096</td>\n",
       "      <td>-5.766520</td>\n",
       "      <td>-0.777214</td>\n",
       "      <td>4532.655292</td>\n",
       "      <td>False</td>\n",
       "      <td>0</td>\n",
       "    </tr>\n",
       "    <tr>\n",
       "      <th>4</th>\n",
       "      <td>0.276511</td>\n",
       "      <td>27.207298</td>\n",
       "      <td>27.207298</td>\n",
       "      <td>2.325226</td>\n",
       "      <td>9988.647107</td>\n",
       "      <td>2.325226</td>\n",
       "      <td>-1.274015</td>\n",
       "      <td>-2.394711</td>\n",
       "      <td>-2.658933</td>\n",
       "      <td>0.962834</td>\n",
       "      <td>...</td>\n",
       "      <td>0.091219</td>\n",
       "      <td>0.030870</td>\n",
       "      <td>0.026209</td>\n",
       "      <td>0.925614</td>\n",
       "      <td>7.154856</td>\n",
       "      <td>-4.088718</td>\n",
       "      <td>-0.777254</td>\n",
       "      <td>4394.754828</td>\n",
       "      <td>False</td>\n",
       "      <td>0</td>\n",
       "    </tr>\n",
       "  </tbody>\n",
       "</table>\n",
       "<p>5 rows × 26 columns</p>\n",
       "</div>"
      ],
      "text/plain": [
       "   JPs_FD_ORIVX  LStar_ORIVX_CHI2  Lb_ENDVERTEX_CHI2  LN_Lb_IPCHI2_OWNPV  \\\n",
       "0      1.851979         28.907789          28.907789            2.193329   \n",
       "1      0.085784          3.052172           3.052172            2.961534   \n",
       "2      0.328561         31.440962          31.440962            1.192254   \n",
       "3      0.292555          4.659895           4.659895            2.916038   \n",
       "4      0.276511         27.207298          27.207298            2.325226   \n",
       "\n",
       "         Lb_PT  LN_Lb_MINIPCHI2  LN_Lb_IP01  LN_Lb_IP23  LN_Lb_IP_OWNPV  \\\n",
       "0  4230.809665         2.193329   -0.847595   -1.041318       -2.872736   \n",
       "1  8458.609810         2.961534   -1.916333   -2.378791       -2.722544   \n",
       "2  7521.502286         1.192254   -1.315165   -3.398239       -3.880958   \n",
       "3  4882.919930         2.916038   -0.328529   -0.747493       -2.750426   \n",
       "4  9988.647107         2.325226   -1.274015   -2.394711       -2.658933   \n",
       "\n",
       "   p_TRACK_VeloCHI2NDOF  ...  JPs_IP_TOPPV  LStar_IP_ORIVX  JPs_IP_ORIVX  \\\n",
       "0              0.594733  ...      0.352945        0.085317      0.041645   \n",
       "1              0.501596  ...      0.092650        0.010171      0.004363   \n",
       "2              0.961206  ...      0.033464        0.064917      0.005629   \n",
       "3              0.267760  ...      0.473588        0.024150      0.016349   \n",
       "4              0.962834  ...      0.091219        0.030870      0.026209   \n",
       "\n",
       "   LN_SUM_CONEISO  LN_SUM_IPCHI2  LN_COS_THETA  LN_COS_LBDIRA         Lb_M  \\\n",
       "0        0.265708       6.464721     -5.570637      -0.777264  3998.369168   \n",
       "1        0.989021       5.767648     -4.412842      -0.777397  3908.707715   \n",
       "2        0.546949       5.256708     -5.071058      -0.777203  3925.686564   \n",
       "3       -0.544535       7.818096     -5.766520      -0.777214  4532.655292   \n",
       "4        0.925614       7.154856     -4.088718      -0.777254  4394.754828   \n",
       "\n",
       "   IsSimulated  category  \n",
       "0        False         0  \n",
       "1        False         0  \n",
       "2        False         0  \n",
       "3        False         0  \n",
       "4        False         0  \n",
       "\n",
       "[5 rows x 26 columns]"
      ]
     },
     "execution_count": 2,
     "metadata": {},
     "output_type": "execute_result"
    }
   ],
   "source": [
    "version = '9.0.0'\n",
    "all = pd.read_csv(f'../data_files/{version}/all.csv', index_col=[0])\n",
    "all.head()"
   ]
  },
  {
   "cell_type": "code",
   "execution_count": 3,
   "metadata": {},
   "outputs": [],
   "source": [
    "masses = all['Lb_M'][all['category']==1].to_numpy()\n",
    "# Masses of signal candidate events"
   ]
  },
  {
   "cell_type": "code",
   "execution_count": 4,
   "metadata": {},
   "outputs": [
    {
     "data": {
      "image/png": "[encoded data removed]",
      "text/plain": [
       "<Figure size 720x720 with 1 Axes>"
      ]
     },
     "metadata": {
      "needs_background": "light"
     },
     "output_type": "display_data"
    }
   ],
   "source": [
    "import matplotlib.pyplot as plt\n",
    "import mplhep as hep\n",
    "plt.style.use([hep.style.ROOT, hep.style.firamath])\n",
    "\n",
    "h, bins = np.histogram(masses, bins=100)\n",
    "fig, ax = plt.subplots(1, 1)\n",
    "hep.histplot(h, yerr=np.sqrt(h), bins=bins, ax=ax)\n",
    "plt.xlabel('Mass')\n",
    "plt.ylabel('Candidates')\n",
    "plt.show()\n",
    "# Initial plot"
   ]
  },
  {
   "cell_type": "code",
   "execution_count": 5,
   "metadata": {},
   "outputs": [
    {
     "name": "stderr",
     "output_type": "stream",
     "text": [
      "2022-03-30 14:27:55.331851: W tensorflow/stream_executor/platform/default/dso_loader.cc:64] Could not load dynamic library 'libcuda.so.1'; dlerror: libcuda.so.1: cannot open shared object file: No such file or directory\n",
      "2022-03-30 14:27:55.332032: W tensorflow/stream_executor/cuda/cuda_driver.cc:269] failed call to cuInit: UNKNOWN ERROR (303)\n",
      "2022-03-30 14:27:55.332078: I tensorflow/stream_executor/cuda/cuda_diagnostics.cc:156] kernel driver does not appear to be running on this host (LAPTOP-0L9OF1GC): /proc/driver/nvidia/version does not exist\n",
      "2022-03-30 14:27:55.332826: I tensorflow/core/platform/cpu_feature_guard.cc:142] This TensorFlow binary is optimized with oneAPI Deep Neural Network Library (oneDNN) to use the following CPU instructions in performance-critical operations:  AVX2 FMA\n",
      "To enable them in other operations, rebuild TensorFlow with the appropriate compiler flags.\n"
     ]
    }
   ],
   "source": [
    "obs = zfit.Space('x', limits=(np.min(masses), np.max(masses)))"
   ]
  },
  {
   "cell_type": "code",
   "execution_count": 6,
   "metadata": {},
   "outputs": [],
   "source": [
    "mu = zfit.Parameter(\"mu\", 5610.0, 5500.0, 5700.0)\n",
    "sigma = zfit.Parameter(\"sigma\", 25, 15, 35)\n",
    "alphal = zfit.Parameter(\"alphal\", 1, -3, 3)\n",
    "nl = zfit.Parameter(\"nl\", 1, -3, 3)\n",
    "alphar = zfit.Parameter(\"alphar\", 1, -3, 3)\n",
    "nr = zfit.Parameter(\"nr\", 1, -3, 3)"
   ]
  },
  {
   "cell_type": "code",
   "execution_count": 7,
   "metadata": {},
   "outputs": [],
   "source": [
    "dcb = zfit.pdf.DoubleCB(obs=obs, mu=mu, sigma=sigma, alphal=alphal, nl=nl,\n",
    "alphar=alphar, nr=nr)\n",
    "data = zfit.Data.from_numpy(obs=obs, array=masses)"
   ]
  },
  {
   "cell_type": "code",
   "execution_count": 8,
   "metadata": {},
   "outputs": [
    {
     "name": "stderr",
     "output_type": "stream",
     "text": [
      "2022-03-30 14:27:58.409622: I tensorflow/compiler/mlir/mlir_graph_optimization_pass.cc:185] None of the MLIR Optimization Passes are enabled (registered 2)\n"
     ]
    }
   ],
   "source": [
    "nll = zfit.loss.UnbinnedNLL(model=dcb, data=data)\n",
    "minimizer = zfit.minimize.Minuit()\n",
    "result = minimizer.minimize(nll)"
   ]
  },
  {
   "cell_type": "code",
   "execution_count": 24,
   "metadata": {},
   "outputs": [
    {
     "name": "stderr",
     "output_type": "stream",
     "text": [
      "/root/envs/scientific/lib/python3.8/site-packages/zfit/minimizers/fitresult.py:1115: FutureWarning: 'minuit_minos' will be changed as the default errors method to a custom implementationwith the same functionality. If you want to make sure that 'minuit_minos' will be used in the future, add it explicitly as in `errors(method='minuit_minos')`\n",
      "  warnings.warn(\"'minuit_minos' will be changed as the default errors method to a custom implementation\"\n"
     ]
    },
    {
     "name": "stdout",
     "output_type": "stream",
     "text": [
      "OrderedDict([(<zfit.Parameter 'alphal' floating=True value=0.4458>, {'lower': -0.01331782458173972, 'upper': 0.012856267415529114, 'is_valid': True, 'upper_valid': True, 'lower_valid': True, 'at_lower_limit': False, 'at_upper_limit': False, 'nfcn': 94, 'original': <MError number=0 name='alphal' lower=-0.01331782458173972 upper=0.012856267415529114 is_valid=True lower_valid=True upper_valid=True at_lower_limit=False at_upper_limit=False at_lower_max_fcn=False at_upper_max_fcn=False lower_new_min=False upper_new_min=False nfcn=94 min=0.445830568825521>, 'cl': 0.68268949}), (<zfit.Parameter 'alphar' floating=True value=1.133>, {'lower': -0.0276417116247058, 'upper': 0.026693615791161574, 'is_valid': True, 'upper_valid': True, 'lower_valid': True, 'at_lower_limit': False, 'at_upper_limit': False, 'nfcn': 96, 'original': <MError number=1 name='alphar' lower=-0.0276417116247058 upper=0.026693615791161574 is_valid=True lower_valid=True upper_valid=True at_lower_limit=False at_upper_limit=False at_lower_max_fcn=False at_upper_max_fcn=False lower_new_min=False upper_new_min=False nfcn=96 min=1.1326711368340419>, 'cl': 0.68268949}), (<zfit.Parameter 'mu' floating=True value=5611>, {'lower': -0.3990138077872069, 'upper': 0.40904011507310173, 'is_valid': True, 'upper_valid': True, 'lower_valid': True, 'at_lower_limit': False, 'at_upper_limit': False, 'nfcn': 97, 'original': <MError number=2 name='mu' lower=-0.3990138077872069 upper=0.40904011507310173 is_valid=True lower_valid=True upper_valid=True at_lower_limit=False at_upper_limit=False at_lower_max_fcn=False at_upper_max_fcn=False lower_new_min=False upper_new_min=False nfcn=97 min=5611.253293413277>, 'cl': 0.68268949}), (<zfit.Parameter 'nl' floating=True value=2.637>, {'lower': -0.0341151827088388, 'upper': 0.03542261426921766, 'is_valid': True, 'upper_valid': True, 'lower_valid': True, 'at_lower_limit': False, 'at_upper_limit': False, 'nfcn': 129, 'original': <MError number=3 name='nl' lower=-0.0341151827088388 upper=0.03542261426921766 is_valid=True lower_valid=True upper_valid=True at_lower_limit=False at_upper_limit=False at_lower_max_fcn=False at_upper_max_fcn=False lower_new_min=False upper_new_min=False nfcn=129 min=2.636853575846433>, 'cl': 0.68268949}), (<zfit.Parameter 'nr' floating=True value=2.057>, {'lower': -0.036403649879186144, 'upper': 0.037140087907594696, 'is_valid': True, 'upper_valid': True, 'lower_valid': True, 'at_lower_limit': False, 'at_upper_limit': False, 'nfcn': 96, 'original': <MError number=4 name='nr' lower=-0.036403649879186144 upper=0.037140087907594696 is_valid=True lower_valid=True upper_valid=True at_lower_limit=False at_upper_limit=False at_lower_max_fcn=False at_upper_max_fcn=False lower_new_min=False upper_new_min=False nfcn=96 min=2.0574805395934637>, 'cl': 0.68268949}), (<zfit.Parameter 'sigma' floating=True value=21.79>, {'lower': -0.609399442352168, 'upper': 0.5833767394891125, 'is_valid': True, 'upper_valid': True, 'lower_valid': True, 'at_lower_limit': False, 'at_upper_limit': False, 'nfcn': 124, 'original': <MError number=5 name='sigma' lower=-0.609399442352168 upper=0.5833767394891125 is_valid=True lower_valid=True upper_valid=True at_lower_limit=False at_upper_limit=False at_lower_max_fcn=False at_upper_max_fcn=False lower_new_min=False upper_new_min=False nfcn=124 min=21.79322469140094>, 'cl': 0.68268949})])\n"
     ]
    }
   ],
   "source": [
    "param_errors = result.errors()[0]\n",
    "print(param_errors)"
   ]
  },
  {
   "cell_type": "code",
   "execution_count": 10,
   "metadata": {},
   "outputs": [
    {
     "name": "stdout",
     "output_type": "stream",
     "text": [
      "Function minimum: -12508.222776272623\n",
      "Converged: True\n",
      "Valid: True\n"
     ]
    }
   ],
   "source": [
    "print(f\"Function minimum: {result.fmin}\")\n",
    "print(f\"Converged: {result.converged}\")\n",
    "print(f\"Valid: {result.valid}\")"
   ]
  },
  {
   "cell_type": "code",
   "execution_count": 11,
   "metadata": {},
   "outputs": [
    {
     "name": "stdout",
     "output_type": "stream",
     "text": [
      "name      value         minuit_minos    at limit\n",
      "------  -------  -------------------  ----------\n",
      "alphal   0.4458  -  0.013   +  0.013       False\n",
      "alphar    1.133  -  0.028   +  0.027       False\n",
      "mu         5611  -    0.4   +   0.41       False\n",
      "nl        2.637  -  0.034   +  0.035       False\n",
      "nr        2.057  -  0.036   +  0.037       False\n",
      "sigma     21.79  -   0.61   +   0.58       False\n"
     ]
    }
   ],
   "source": [
    "# Information on all the parameters in the fit\n",
    "print(result.params)"
   ]
  },
  {
   "cell_type": "code",
   "execution_count": 12,
   "metadata": {},
   "outputs": [],
   "source": [
    "lower, upper = obs.limits\n",
    "data_np = zfit.run(data.value()[:,0])"
   ]
  },
  {
   "cell_type": "code",
   "execution_count": 16,
   "metadata": {},
   "outputs": [
    {
     "data": {
      "image/png": "[encoded data removed]",
      "text/plain": [
       "<Figure size 720x720 with 1 Axes>"
      ]
     },
     "metadata": {
      "needs_background": "light"
     },
     "output_type": "display_data"
    }
   ],
   "source": [
    "# plot the data as a histogramm\n",
    "bins = 100\n",
    "counts, bin_edges = np.histogram(data_np, bins, range=(lower[-1][0], upper[0][0]))\n",
    "hep.histplot((counts, bin_edges), yerr=True, histtype='errorbar')\n",
    "\n",
    "# evaluate the func at multiple x and plot\n",
    "x_plot = np.linspace(lower[-1][0], upper[0][0], num=1000)\n",
    "y_plot = zfit.run(dcb.pdf(x_plot, norm_range=obs))\n",
    "plt.plot(x_plot, y_plot * data_np.shape[0] / bins * obs.area())\n",
    "plt.show()"
   ]
  }
 ],
 "metadata": {
  "interpreter": {
   "hash": "41e220d95b7ec8b8d5afec9fc37dd8786ce41c9f6ed7d4ccf5e0049ff2f60044"
  },
  "kernelspec": {
   "display_name": "Python 3.8.10 ('scientific')",
   "language": "python",
   "name": "python3"
  },
  "language_info": {
   "codemirror_mode": {
    "name": "ipython",
    "version": 3
   },
   "file_extension": ".py",
   "mimetype": "text/x-python",
   "name": "python",
   "nbconvert_exporter": "python",
   "pygments_lexer": "ipython3",
   "version": "3.8.10"
  },
  "orig_nbformat": 4
 },
 "nbformat": 4,
 "nbformat_minor": 2
}
