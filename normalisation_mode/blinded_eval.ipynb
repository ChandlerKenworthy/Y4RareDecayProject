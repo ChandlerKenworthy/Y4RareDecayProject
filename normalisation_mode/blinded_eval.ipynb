{
 "cells": [
  {
   "cell_type": "markdown",
   "metadata": {},
   "source": [
    "# Blind Evaluation\n",
    "We have evaluated our model in the rare decay mode. The normalisation mode is $\\Lambda_B\\rightarrow pK [J/\\pi\\rightarrow\\mu\\mu]$ and we will now use this mode to evaluate our perfromance as if it ere the rare mode. We can then compare our estimated performance to the unblind mode. "
   ]
  },
  {
   "cell_type": "code",
   "execution_count": 2,
   "metadata": {},
   "outputs": [],
   "source": [
    "import os\n",
    "os.environ[\"ZFIT_DISABLE_TF_WARNINGS\"] = \"1\"\n",
    "import pandas as pd\n",
    "import numpy as np\n",
    "import tensorflow as tf\n",
    "import zfit \n",
    "from zfit import z\n",
    "import matplotlib.pyplot as plt\n",
    "import mplhep as hep\n",
    "plt.style.use([hep.style.ROOT, hep.style.firamath])"
   ]
  },
  {
   "cell_type": "code",
   "execution_count": null,
   "metadata": {},
   "outputs": [],
   "source": [
    "test = pd.read_csv('../data_files/8.0.5/train.csv', index_col=[0])\n",
    "\n",
    "X_test = test.drop(['category', 'Lb_M', 'IsSimulated', 'QSQR'], axis=1)\n",
    "y_test = test[['category', 'Lb_M', 'IsSimulated']]\n",
    "test.head()"
   ]
  }
 ],
 "metadata": {
  "interpreter": {
   "hash": "cbd4dc6d56a1e42dbf8f7497fabd23f5df4d7139d9bd66320241cd36a8438585"
  },
  "kernelspec": {
   "display_name": "Python 3.9.6 ('scientific')",
   "language": "python",
   "name": "python3"
  },
  "language_info": {
   "codemirror_mode": {
    "name": "ipython",
    "version": 3
   },
   "file_extension": ".py",
   "mimetype": "text/x-python",
   "name": "python",
   "nbconvert_exporter": "python",
   "pygments_lexer": "ipython3",
   "version": "3.9.6"
  },
  "orig_nbformat": 4
 },
 "nbformat": 4,
 "nbformat_minor": 2
}
