{
 "cells": [
  {
   "cell_type": "markdown",
   "metadata": {},
   "source": [
    "# Evaluating Applied Cuts\n",
    "This notebook will apply some of the rough manual cuts found via research in previous notebooks (and detailed in the lab book). It will then look to evaluate the performance of these cuts across both the simulated data and the real background data from now on simulated data will be referred to as SD and real background data as RD."
   ]
  },
  {
   "cell_type": "code",
   "execution_count": 1,
   "metadata": {},
   "outputs": [],
   "source": [
    "import numpy as np\n",
    "import matplotlib.pyplot as plt\n",
    "from utilities import Consts, Data, Cut, Plots\n",
    "%matplotlib inline"
   ]
  },
  {
   "cell_type": "code",
   "execution_count": 2,
   "metadata": {},
   "outputs": [],
   "source": [
    "SFNAME, SSUFFIX = Consts().get_simulated_tuple()\n",
    "RFNAME, RSUFFIX = Consts().get_real_tuple()\n",
    "sd = Data(SFNAME, SSUFFIX)\n",
    "rd = Data(RFNAME, RSUFFIX)"
   ]
  },
  {
   "cell_type": "code",
   "execution_count": 3,
   "metadata": {},
   "outputs": [],
   "source": [
    "sdc, rdc = Cut(sd), Cut(rd)"
   ]
  },
  {
   "cell_type": "code",
   "execution_count": null,
   "metadata": {},
   "outputs": [],
   "source": [
    "d = sd.fetch_features(['L1_PX'])\n",
    "len(d)"
   ]
  },
  {
   "cell_type": "markdown",
   "metadata": {},
   "source": [
    "## Implementing Cuts\n",
    "Now all the initial setup is done we actually apply some of the cuts on the data and plot some of the invariant mass distributions each time to see how this has affected anything. Some basic statistics are also output. Firstly though we fetch the backgroud category feature from the simulated data and categorise all the events so when we plot them we can distinguish them. We define 1 as a signal event and 0 as a background event."
   ]
  },
  {
   "cell_type": "markdown",
   "metadata": {},
   "source": [
    "## ProbNN Cuts\n",
    "The cuts we will be implementing and evaluating are given below (notice firstly we will apply one at a time then reset and then apply the next to evaluate each distinctly). These cuts are phrased such that anything meeting the criteria is retained.\n",
    "- $P(K=p)\\leq0.4921$,\n",
    "- $P(K=K)\\geq0.5398$,\n",
    "- $P(e=p)\\leq0.4306$,\n",
    "- $P(e=K)\\leq0.7197$"
   ]
  },
  {
   "cell_type": "code",
   "execution_count": null,
   "metadata": {},
   "outputs": [],
   "source": [
    "def invariant_mass_plot(data_objects, bins=100, normalised=True, save=None):\n",
    "    \"\"\"\n",
    "    Parameters\n",
    "    ----------\n",
    "    data_objects : list\n",
    "        A list of Data objects which contain information about some set of data, typically simulated or real.\n",
    "        Should be a list of [simulated, signal]\n",
    "    \"\"\"\n",
    "    s, r = data_objects[0], data_objects[1]\n",
    "    \n",
    "    bin_set = np.linspace(3750, 6900, bins) # Generate an array of bin edges so all histograms are consistent\n",
    "    fig, ax = plt.subplots(1, 1, figsize=(9, 7)) # Create the figure and axis objects\n",
    "    \n",
    "    s.fetch_features([\"Lb_BKGCAT\", \"Lb_M\"])  \n",
    "    s.get_data()['Category'] = np.where(data_objects[0].get_data()['Lb_BKGCAT'].isin([10, 50]), 1, 0)\n",
    "    s.get_data().drop('Lb_BKGCAT', axis=1, inplace=True)\n",
    "    g = s.get_data().groupby('Category')\n",
    "    d1 = ax.hist(g.get_group(1)['Lb_M'], histtype='bar', bins=bin_set, edgecolor='k', alpha=0.7, label='Simulated Signal', density=normalised)\n",
    "    d2 = ax.hist(g.get_group(0)['Lb_M'], histtype='bar', bins=bin_set, edgecolor='k', alpha=0.7, label='Simulated Background', density=normalised)\n",
    "    df = r.get_data(['Lb'], 'M')\n",
    "    d3 = ax.hist(df['Lb_M'], histtype='bar', bins=bin_set, edgecolor='k', alpha=0.7, label='Real Background', density=normalised)\n",
    "    plt.xlabel('Invariant Mass (MeV)')\n",
    "    plt.ylabel('Frequency')\n",
    "    plt.legend(frameon=False)\n",
    "    if save is not None:\n",
    "        plt.savefig(save)\n",
    "    plt.show()\n",
    "    return [d1, d2, d3]"
   ]
  },
  {
   "cell_type": "code",
   "execution_count": null,
   "metadata": {},
   "outputs": [],
   "source": [
    "start = invariant_mass_plot([sd, rd], normalised=False, save='/home/user211/project/images/mass_plots/inital.png')"
   ]
  },
  {
   "cell_type": "markdown",
   "metadata": {},
   "source": [
    "### Cut 1"
   ]
  },
  {
   "cell_type": "code",
   "execution_count": null,
   "metadata": {},
   "outputs": [],
   "source": [
    "sdc.probnn_cut('K', 0.4921, 'p', type='gt')\n",
    "rdc.probnn_cut('K', 0.4921, 'p', type='gt')"
   ]
  },
  {
   "cell_type": "code",
   "execution_count": null,
   "metadata": {},
   "outputs": [],
   "source": [
    "a = invariant_mass_plot([sd, rd], normalised=False, save='/home/user211/project/images/mass_plots/K_ProbNNp.png')"
   ]
  },
  {
   "cell_type": "markdown",
   "metadata": {},
   "source": [
    "### Cut 2"
   ]
  },
  {
   "cell_type": "code",
   "execution_count": null,
   "metadata": {},
   "outputs": [],
   "source": [
    "sdc.probnn_cut('K', 0.5398, 'k', type='lt')\n",
    "rdc.probnn_cut('K', 0.5398, 'k', type='lt')"
   ]
  },
  {
   "cell_type": "code",
   "execution_count": null,
   "metadata": {},
   "outputs": [],
   "source": [
    "a = invariant_mass_plot([sd, rd], normalised=False, save='/home/user211/project/images/mass_plots/K_ProbNNk.png')"
   ]
  },
  {
   "cell_type": "code",
   "execution_count": null,
   "metadata": {},
   "outputs": [],
   "source": []
  }
 ],
 "metadata": {
  "interpreter": {
   "hash": "9ca4116ab2c7470d45496f3104a2f3648c94db730a0039ceabb3a0fb6fe42410"
  },
  "kernelspec": {
   "display_name": "Python 3 (ipykernel)",
   "language": "python",
   "name": "python3"
  },
  "language_info": {
   "codemirror_mode": {
    "name": "ipython",
    "version": 3
   },
   "file_extension": ".py",
   "mimetype": "text/x-python",
   "name": "python",
   "nbconvert_exporter": "python",
   "pygments_lexer": "ipython3",
   "version": "3.9.7"
  }
 },
 "nbformat": 4,
 "nbformat_minor": 2
}
