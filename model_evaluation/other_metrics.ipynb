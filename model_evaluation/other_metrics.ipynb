{
 "cells": [
  {
   "cell_type": "code",
   "execution_count": 4,
   "metadata": {},
   "outputs": [],
   "source": [
    "import pandas as pd\n",
    "from joblib import load\n",
    "import tensorflow as tf\n",
    "import tensorflow_addons as tfa\n",
    "import numpy as np\n",
    "from sklearn.metrics import accuracy_score, roc_auc_score\n",
    "import matplotlib.pyplot as plt\n",
    "import mplhep as hep\n",
    "plt.style.use([hep.style.ROOT, hep.style.firamath])"
   ]
  },
  {
   "cell_type": "code",
   "execution_count": 32,
   "metadata": {},
   "outputs": [],
   "source": [
    "version = '8.0.5'\n",
    "train = pd.read_csv(f'../data_files/{version}/train.csv', index_col=[0])\n",
    "X_train = train.drop(['category', 'Lb_M', 'IsSimulated', 'QSQR'], axis=1)\n",
    "y_train = train.category\n",
    "\n",
    "test = df = pd.read_csv(f'../data_files/{version}/test.csv', index_col=[0])\n",
    "X_test = test.drop(['category', 'Lb_M', 'IsSimulated', 'QSQR'], axis=1)\n",
    "y_test = test.category"
   ]
  },
  {
   "cell_type": "code",
   "execution_count": 30,
   "metadata": {},
   "outputs": [],
   "source": [
    "nn = tf.keras.models.load_model(f'../model_evaluation/models/NN_{version}')\n",
    "knn = load(f'../model_evaluation/models/KNN_{version}.joblib')\n",
    "rfc = load(f'../model_evaluation/models/RFC_{version}.joblib')\n",
    "dtc = load(f'../model_evaluation/models/DTC_{version}.joblib')\n",
    "xgb = load(f'../model_evaluation/models/XGB_{version}.joblib')\n",
    "\n",
    "models = {'_NN': nn, 'KNN': knn, 'RFC': rfc, 'DTC': dtc, 'XGB': xgb}"
   ]
  },
  {
   "cell_type": "markdown",
   "metadata": {},
   "source": [
    "## Generate Predictions"
   ]
  },
  {
   "cell_type": "code",
   "execution_count": 33,
   "metadata": {},
   "outputs": [
    {
     "name": "stderr",
     "output_type": "stream",
     "text": [
      "/home/user211/envs/scientific/lib64/python3.9/site-packages/sklearn/base.py:450: UserWarning: X does not have valid feature names, but KNeighborsClassifier was fitted with feature names\n",
      "  warnings.warn(\n",
      "/home/user211/envs/scientific/lib64/python3.9/site-packages/sklearn/base.py:450: UserWarning: X does not have valid feature names, but KNeighborsClassifier was fitted with feature names\n",
      "  warnings.warn(\n",
      "/home/user211/envs/scientific/lib64/python3.9/site-packages/sklearn/base.py:450: UserWarning: X does not have valid feature names, but RandomForestClassifier was fitted with feature names\n",
      "  warnings.warn(\n",
      "/home/user211/envs/scientific/lib64/python3.9/site-packages/sklearn/base.py:450: UserWarning: X does not have valid feature names, but RandomForestClassifier was fitted with feature names\n",
      "  warnings.warn(\n",
      "/home/user211/envs/scientific/lib64/python3.9/site-packages/sklearn/base.py:450: UserWarning: X does not have valid feature names, but DecisionTreeClassifier was fitted with feature names\n",
      "  warnings.warn(\n",
      "/home/user211/envs/scientific/lib64/python3.9/site-packages/sklearn/base.py:450: UserWarning: X does not have valid feature names, but DecisionTreeClassifier was fitted with feature names\n",
      "  warnings.warn(\n"
     ]
    }
   ],
   "source": [
    "train_preds = {}\n",
    "test_preds = {}\n",
    "\n",
    "for name, model in models.items():\n",
    "    try:\n",
    "        train_preds[name] = model.predict_proba(X_train.to_numpy())[:,1]\n",
    "        test_preds[name] = model.predict_proba(X_test.to_numpy())[:,1]\n",
    "    except:\n",
    "        train_preds[name] = model.predict(X_train.to_numpy()).flatten()\n",
    "        test_preds[name] = model.predict(X_test.to_numpy()).flatten()"
   ]
  },
  {
   "cell_type": "code",
   "execution_count": 35,
   "metadata": {},
   "outputs": [
    {
     "name": "stdout",
     "output_type": "stream",
     "text": [
      "F1 Scores\n",
      "=========\n",
      "\n",
      "Model | Train | Test\n",
      "_NN   : 0.931   0.924\n",
      "\n",
      "\n",
      "Model | Train | Test\n",
      "KNN   : 0.873   0.860\n",
      "\n",
      "\n",
      "Model | Train | Test\n",
      "RFC   : 0.842   0.821\n",
      "\n",
      "\n",
      "Model | Train | Test\n",
      "DTC   : 0.848   0.842\n",
      "\n",
      "\n",
      "Model | Train | Test\n",
      "XGB   : 0.799   0.798\n",
      "\n"
     ]
    }
   ],
   "source": [
    "print(\"F1 Scores\\n=========\")\n",
    "for name, pred in train_preds.items():\n",
    "    metric = tfa.metrics.F1Score(num_classes=1, threshold=0.8)\n",
    "    metric.update_state(np.array([[i] for i in y_train.to_numpy()]), np.array([[i] for i in pred]))\n",
    "    train_f1 = metric.result()\n",
    "    # Reset metric\n",
    "    metric = tfa.metrics.F1Score(num_classes=1, threshold=0.8)\n",
    "    metric.update_state(np.array([[i] for i in y_test.to_numpy()]), np.array([[i] for i in test_preds[name]]))\n",
    "    test_f1 = metric.result()\n",
    "    print(\"\\nModel | Train | Test\")\n",
    "    print(f\"{name}   : {train_f1.numpy()[0]:.3f}   {test_f1.numpy()[0]:.3f}\\n\")"
   ]
  }
 ],
 "metadata": {
  "interpreter": {
   "hash": "41e220d95b7ec8b8d5afec9fc37dd8786ce41c9f6ed7d4ccf5e0049ff2f60044"
  },
  "kernelspec": {
   "display_name": "Python 3.8.10 ('scientific')",
   "language": "python",
   "name": "python3"
  },
  "language_info": {
   "codemirror_mode": {
    "name": "ipython",
    "version": 3
   },
   "file_extension": ".py",
   "mimetype": "text/x-python",
   "name": "python",
   "nbconvert_exporter": "python",
   "pygments_lexer": "ipython3",
   "version": "3.9.6"
  },
  "orig_nbformat": 4
 },
 "nbformat": 4,
 "nbformat_minor": 2
}
