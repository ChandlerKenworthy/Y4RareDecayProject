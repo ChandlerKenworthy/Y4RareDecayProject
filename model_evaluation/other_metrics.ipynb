{
 "cells": [
  {
   "cell_type": "code",
   "execution_count": 1,
   "metadata": {},
   "outputs": [
    {
     "name": "stderr",
     "output_type": "stream",
     "text": [
      "2022-04-08 12:32:32.434179: W tensorflow/stream_executor/platform/default/dso_loader.cc:64] Could not load dynamic library 'libcudart.so.11.0'; dlerror: libcudart.so.11.0: cannot open shared object file: No such file or directory\n",
      "2022-04-08 12:32:32.434253: I tensorflow/stream_executor/cuda/cudart_stub.cc:29] Ignore above cudart dlerror if you do not have a GPU set up on your machine.\n"
     ]
    }
   ],
   "source": [
    "import pandas as pd\n",
    "from joblib import load\n",
    "import tensorflow as tf\n",
    "import tensorflow_addons as tfa\n",
    "import numpy as np\n",
    "from sklearn.metrics import accuracy_score, roc_auc_score\n",
    "from sklearn.metrics import roc_curve\n",
    "import matplotlib.pyplot as plt\n",
    "from scipy.stats import ks_2samp\n",
    "import mplhep as hep\n",
    "plt.style.use([hep.style.ROOT, hep.style.firamath])"
   ]
  },
  {
   "cell_type": "code",
   "execution_count": 2,
   "metadata": {},
   "outputs": [],
   "source": [
    "version = '9.0.5'\n",
    "train = pd.read_csv(f'../data_files/{version}/train.csv', index_col=[0])\n",
    "X_train = train.drop(['category', 'Lb_M', 'IsSimulated'], axis=1)\n",
    "y_train = train.category\n",
    "\n",
    "test = df = pd.read_csv(f'../data_files/{version}/test.csv', index_col=[0])\n",
    "X_test = test.drop(['category', 'Lb_M', 'IsSimulated'], axis=1)\n",
    "y_test = test.category"
   ]
  },
  {
   "cell_type": "code",
   "execution_count": 3,
   "metadata": {},
   "outputs": [
    {
     "name": "stderr",
     "output_type": "stream",
     "text": [
      "2022-04-08 12:34:27.821856: W tensorflow/stream_executor/platform/default/dso_loader.cc:64] Could not load dynamic library 'libcuda.so.1'; dlerror: libcuda.so.1: cannot open shared object file: No such file or directory\n",
      "2022-04-08 12:34:27.828172: W tensorflow/stream_executor/cuda/cuda_driver.cc:269] failed call to cuInit: UNKNOWN ERROR (303)\n",
      "2022-04-08 12:34:27.828229: I tensorflow/stream_executor/cuda/cuda_diagnostics.cc:156] kernel driver does not appear to be running on this host (eprexb.ph.bham.ac.uk): /proc/driver/nvidia/version does not exist\n",
      "2022-04-08 12:34:27.828901: I tensorflow/core/platform/cpu_feature_guard.cc:142] This TensorFlow binary is optimized with oneAPI Deep Neural Network Library (oneDNN) to use the following CPU instructions in performance-critical operations:  AVX2 FMA\n",
      "To enable them in other operations, rebuild TensorFlow with the appropriate compiler flags.\n",
      "/home/user211/envs/scientific/lib64/python3.9/site-packages/sklearn/base.py:329: UserWarning: Trying to unpickle estimator KNeighborsClassifier from version 0.24.2 when using version 1.0.2. This might lead to breaking code or invalid results. Use at your own risk. For more info please refer to:\n",
      "https://scikit-learn.org/stable/modules/model_persistence.html#security-maintainability-limitations\n",
      "  warnings.warn(\n",
      "/home/user211/envs/scientific/lib64/python3.9/site-packages/sklearn/base.py:329: UserWarning: Trying to unpickle estimator DecisionTreeClassifier from version 0.24.2 when using version 1.0.2. This might lead to breaking code or invalid results. Use at your own risk. For more info please refer to:\n",
      "https://scikit-learn.org/stable/modules/model_persistence.html#security-maintainability-limitations\n",
      "  warnings.warn(\n",
      "/home/user211/envs/scientific/lib64/python3.9/site-packages/sklearn/base.py:329: UserWarning: Trying to unpickle estimator RandomForestClassifier from version 0.24.2 when using version 1.0.2. This might lead to breaking code or invalid results. Use at your own risk. For more info please refer to:\n",
      "https://scikit-learn.org/stable/modules/model_persistence.html#security-maintainability-limitations\n",
      "  warnings.warn(\n",
      "/home/user211/envs/scientific/lib64/python3.9/site-packages/xgboost/compat.py:36: FutureWarning: pandas.Int64Index is deprecated and will be removed from pandas in a future version. Use pandas.Index with the appropriate dtype instead.\n",
      "  from pandas import MultiIndex, Int64Index\n"
     ]
    }
   ],
   "source": [
    "nn = tf.keras.models.load_model(f'../neural_network/models/v{version}')\n",
    "knn = load(f'../classification_methods/models/KNN_{version}_tune.joblib')\n",
    "rfc = load(f'../classification_methods/models/RFC_{version}_tune.joblib')\n",
    "dtc = load(f'../classification_methods/models/DTC_{version}_tune.joblib')\n",
    "xgb = load(f'../classification_methods/models/XGB_{version}.joblib')\n",
    "\n",
    "models = {'NN': nn, 'KNN': knn, 'RFC': rfc, 'DTC': dtc, 'XGB': xgb}"
   ]
  },
  {
   "cell_type": "markdown",
   "metadata": {},
   "source": [
    "## Generate Predictions"
   ]
  },
  {
   "cell_type": "code",
   "execution_count": 4,
   "metadata": {},
   "outputs": [
    {
     "name": "stderr",
     "output_type": "stream",
     "text": [
      "2022-04-08 12:35:05.119263: I tensorflow/compiler/mlir/mlir_graph_optimization_pass.cc:185] None of the MLIR Optimization Passes are enabled (registered 2)\n"
     ]
    }
   ],
   "source": [
    "train_preds = {}\n",
    "test_preds = {}\n",
    "\n",
    "for name, model in models.items():\n",
    "    try:\n",
    "        train_preds[name] = model.predict_proba(X_train.to_numpy())[:,1]\n",
    "        test_preds[name] = model.predict_proba(X_test.to_numpy())[:,1]\n",
    "    except:\n",
    "        train_preds[name] = model.predict(X_train.to_numpy()).flatten()\n",
    "        test_preds[name] = model.predict(X_test.to_numpy()).flatten()"
   ]
  },
  {
   "cell_type": "markdown",
   "metadata": {},
   "source": [
    "## Define Metrics"
   ]
  },
  {
   "cell_type": "code",
   "execution_count": 16,
   "metadata": {},
   "outputs": [],
   "source": [
    "def display_scores(scores):\n",
    "    for key, value in scores.items():\n",
    "        print(f\"Model: {key}\\nTrain: {value[0]:.3f}\\nTest: {value[1]:.3f}\\n\")\n",
    "        \n",
    "def get_f1_score(train_preds, test_preds, threshold):\n",
    "    \"\"\"\n",
    "    Get the F1 score for a model or set of models. Values closer to\n",
    "    one are better.\n",
    "    \n",
    "    Parameters\n",
    "    ----------\n",
    "    train_preds : dict\n",
    "        A dictionary of model names and values are array like probabilties\n",
    "        for an event to be signal.\n",
    "    test_preds : dict\n",
    "        The same as the above but for the test data\n",
    "    thresholdl : float, array_like\n",
    "        Either a float value for the cut threshold value as found by the\n",
    "        Punzi FoM or an array of values to evaluate multiple F1 scores.\n",
    "        \n",
    "    Returns\n",
    "    -------\n",
    "    scores : dict\n",
    "     A dictionary with keys the model names from the prior dictionary and keys\n",
    "     are numpy arrays of scores at the threshold values passed. Shape is N x 2,\n",
    "     sorted such that the 1st column are for training and the second for test data.\n",
    "    \"\"\"\n",
    "    \n",
    "    scores = {}\n",
    "    if type(threshold) is float:\n",
    "        threshold = np.array([threshold])\n",
    "    for name, pred in train_preds.items():\n",
    "        model_scores = []\n",
    "        for thr in threshold:\n",
    "            metric = tfa.metrics.F1Score(num_classes=1, threshold=thr)\n",
    "            metric.update_state(np.array([[i] for i in y_train.to_numpy()]), np.array([[i] for i in pred]))\n",
    "            train_f1 = metric.result()\n",
    "            \n",
    "            metric = tfa.metrics.F1Score(num_classes=1, threshold=thr)\n",
    "            metric.update_state(np.array([[i] for i in y_test.to_numpy()]), np.array([[i] for i in test_preds[name]]))\n",
    "            test_f1 = metric.result()\n",
    "            model_scores.append([train_f1, test_f1])\n",
    "        scores[name] = np.squeeze(np.array(model_scores))\n",
    "    return scores\n",
    "\n",
    "def get_accuracy_score(train_preds, test_preds, train_labels, test_labels, threshold):\n",
    "    scores = {}\n",
    "    for name, pred in train_preds.items():\n",
    "        if type(threshold) is float:\n",
    "            threshold = np.array([threshold])\n",
    "        model_scores = []\n",
    "        for thr in threshold:\n",
    "            train_acc = accuracy_score(train_labels, np.where(pred > thr, 1, 0))\n",
    "            test_acc = accuracy_score(test_labels, np.where(test_preds[name] > thr, 1, 0))\n",
    "            model_scores.append([train_acc, test_acc])\n",
    "        scores[name] = np.squeeze(np.array(model_scores))\n",
    "    return scores\n",
    "\n",
    "def get_purity_score(train_preds, test_preds, train_labels, test_labels, threshold):\n",
    "    scores = {}\n",
    "    for name, pred in train_preds.items():\n",
    "        if type(threshold) is float:\n",
    "            threshold = np.array([threshold])\n",
    "        model_scores = []\n",
    "        for thr in threshold:\n",
    "            train_classes = np.where(pred > thr, 1, 0)\n",
    "            test_classes = np.where(test_preds[name] > thr, 1, 0)\n",
    "            train_purity = np.count_nonzero(np.logical_and(train_labels==1, train_classes==1)) / np.count_nonzero(train_classes)\n",
    "            test_purity = np.count_nonzero(np.logical_and(test_labels==1, test_classes==1)) / np.count_nonzero(test_classes)\n",
    "            model_scores.append([train_purity, test_purity])\n",
    "        scores[name] = np.squeeze(np.array(model_scores))\n",
    "    return scores\n",
    "\n",
    "def get_roc_score(train_preds, test_preds, train_labels, test_labels, displayPlots=False, showTrain=False, showTest=True, savePlots=False):\n",
    "    scores = {}\n",
    "    for name, pred in train_preds.items():\n",
    "        train_roc_score = roc_auc_score(train_labels, pred)\n",
    "        test_roc_score = roc_auc_score(test_labels, test_preds[name])\n",
    "        scores[name] = np.squeeze(np.array([train_roc_score, test_roc_score]))\n",
    "    if displayPlots:\n",
    "        fig, ax = plt.subplots(1, 1)\n",
    "        for name, score in scores.items():\n",
    "            train_roc = roc_curve(train_labels, train_preds[name])\n",
    "            test_roc = roc_curve(test_labels, test_preds[name])\n",
    "            best_train_pos = np.argmin(np.sqrt((1-train_roc[1])**2 + (train_roc[0])**2))\n",
    "            best_test_pos = np.argmin(np.sqrt((1-test_roc[1])**2 + (test_roc[0])**2))\n",
    "            print(f\"{name} best pos: ({train_roc[1][best_train_pos]:.3f}, {(1-train_roc[0])[best_train_pos]:3f})\")\n",
    "            print(f\"{name} best pos: ({test_roc[1][best_test_pos]:.3f}, {(1-test_roc[0])[best_test_pos]:3f})\")\n",
    "            if showTrain:\n",
    "                ax.plot(train_roc[1], 1-train_roc[0], label=f'{name} train {score[0]:.3f}')\n",
    "            if showTest:\n",
    "                ax.plot(test_roc[1], 1-test_roc[0], label=f'{name} ({score[1]:.3f})')\n",
    "        ax.legend()\n",
    "        ax.set_xlim(0.7, 1)\n",
    "        ax.set_ylim(0.7, 1)\n",
    "        plt.xlabel('Signal Selection Rate')\n",
    "        plt.ylabel('Background Rejection Rate')\n",
    "        plt.tight_layout()\n",
    "        if savePlots:\n",
    "            plt.savefig(f'../images/ModelEval/{version}_roc_curves.png')\n",
    "        plt.show()\n",
    "    return scores\n",
    "\n",
    "def get_ks_score(train_preds, test_preds, displayPlots=False, showTestOnly=False, savePlots=False, plotModels=['NN', 'KNN', 'XGB', 'RFC', 'DTC'],):\n",
    "    scores = {}\n",
    "    for name, pred in train_preds.items():\n",
    "        ks, pvalue = ks_2samp(pred, test_preds[name])\n",
    "        scores[name] = (ks, pvalue)\n",
    "    if displayPlots:\n",
    "        fig, ax = plt.subplots(1, 1)\n",
    "        bins = np.linspace(0, 1, 51)\n",
    "        for name, pred in train_preds.items():\n",
    "            if name in plotModels:\n",
    "                if showTestOnly:\n",
    "                    ht, _ = np.histogram(test_preds[name], bins=bins)\n",
    "                    hep.histplot(ht, yerr=True, bins=bins, ax=ax, label=name)\n",
    "                else:\n",
    "                    h, _ = np.histogram(pred, bins=bins, density=True)\n",
    "                    h1, _ = np.histogram(test_preds[name], bins=bins, density=True)\n",
    "                    hep.histplot([h, h1], yerr=False, bins=bins, ax=ax, label=[f'{name} train', f'{name} test'])\n",
    "        plt.legend(loc='upper center')\n",
    "        plt.xlabel('Predicted Probability')\n",
    "        plt.ylabel('Candidates')\n",
    "        plt.tight_layout()\n",
    "        if savePlots:\n",
    "            print('Zoom')\n",
    "            plt.savefig('../images/ModelEval/TestProbDistRare.png')\n",
    "        plt.show()\n",
    "    return scores"
   ]
  },
  {
   "cell_type": "code",
   "execution_count": 17,
   "metadata": {},
   "outputs": [
    {
     "name": "stdout",
     "output_type": "stream",
     "text": [
      "Zoom\n"
     ]
    },
    {
     "data": {
      "image/png": "[encoded data removed]",
      "text/plain": [
       "<Figure size 720x720 with 1 Axes>"
      ]
     },
     "metadata": {
      "needs_background": "light"
     },
     "output_type": "display_data"
    }
   ],
   "source": [
    "a = get_ks_score(train_preds, test_preds, displayPlots=True, showTestOnly=True, savePlots=True)"
   ]
  },
  {
   "cell_type": "code",
   "execution_count": 124,
   "metadata": {},
   "outputs": [
    {
     "name": "stdout",
     "output_type": "stream",
     "text": [
      "Model: NN\n",
      "Train: 0.011\n",
      "Test: 0.349\n",
      "\n",
      "Model: KNN\n",
      "Train: 0.012\n",
      "Test: 0.230\n",
      "\n",
      "Model: RFC\n",
      "Train: 0.017\n",
      "Test: 0.020\n",
      "\n",
      "Model: DTC\n",
      "Train: 0.010\n",
      "Test: 0.459\n",
      "\n",
      "Model: XGB\n",
      "Train: 0.009\n",
      "Test: 0.587\n",
      "\n"
     ]
    }
   ],
   "source": [
    "display_scores(a)"
   ]
  }
 ],
 "metadata": {
  "interpreter": {
   "hash": "41e220d95b7ec8b8d5afec9fc37dd8786ce41c9f6ed7d4ccf5e0049ff2f60044"
  },
  "kernelspec": {
   "display_name": "Python 3.8.10 ('scientific')",
   "language": "python",
   "name": "python3"
  },
  "language_info": {
   "codemirror_mode": {
    "name": "ipython",
    "version": 3
   },
   "file_extension": ".py",
   "mimetype": "text/x-python",
   "name": "python",
   "nbconvert_exporter": "python",
   "pygments_lexer": "ipython3",
   "version": "3.9.6"
  },
  "orig_nbformat": 4
 },
 "nbformat": 4,
 "nbformat_minor": 2
}
