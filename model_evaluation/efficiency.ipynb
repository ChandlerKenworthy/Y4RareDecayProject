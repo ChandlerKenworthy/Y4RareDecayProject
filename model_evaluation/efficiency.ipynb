{
 "cells": [
  {
   "cell_type": "code",
   "execution_count": 1,
   "metadata": {},
   "outputs": [
    {
     "name": "stderr",
     "output_type": "stream",
     "text": [
      "2022-05-05 12:35:08.248656: W tensorflow/stream_executor/platform/default/dso_loader.cc:64] Could not load dynamic library 'libcudart.so.11.0'; dlerror: libcudart.so.11.0: cannot open shared object file: No such file or directory\n",
      "2022-05-05 12:35:08.248713: I tensorflow/stream_executor/cuda/cudart_stub.cc:29] Ignore above cudart dlerror if you do not have a GPU set up on your machine.\n"
     ]
    }
   ],
   "source": [
    "import numpy as np\n",
    "import pandas as pd\n",
    "import tensorflow as tf\n",
    "from joblib import load\n",
    "import matplotlib.pyplot as plt\n",
    "import mplhep as hep\n",
    "plt.style.use([hep.style.ROOT, hep.style.firamath])"
   ]
  },
  {
   "cell_type": "markdown",
   "metadata": {},
   "source": [
    "## Load Data and Models"
   ]
  },
  {
   "cell_type": "code",
   "execution_count": 2,
   "metadata": {},
   "outputs": [],
   "source": [
    "# For the rare mode version=9.0.4.\n",
    "version = '9.0.4'\n",
    "\n",
    "test = pd.read_csv(f'../data_files/{version}/test.csv', index_col=[0])\n",
    "X_test = test.drop(['category', 'Lb_M', 'IsSimulated'], axis=1)\n",
    "y_test = test.category"
   ]
  },
  {
   "cell_type": "code",
   "execution_count": 3,
   "metadata": {},
   "outputs": [
    {
     "name": "stderr",
     "output_type": "stream",
     "text": [
      "2022-05-05 12:35:46.204932: W tensorflow/stream_executor/platform/default/dso_loader.cc:64] Could not load dynamic library 'libcuda.so.1'; dlerror: libcuda.so.1: cannot open shared object file: No such file or directory\n",
      "2022-05-05 12:35:46.205018: W tensorflow/stream_executor/cuda/cuda_driver.cc:269] failed call to cuInit: UNKNOWN ERROR (303)\n",
      "2022-05-05 12:35:46.205064: I tensorflow/stream_executor/cuda/cuda_diagnostics.cc:156] kernel driver does not appear to be running on this host (eprexb.ph.bham.ac.uk): /proc/driver/nvidia/version does not exist\n",
      "2022-05-05 12:35:46.205872: I tensorflow/core/platform/cpu_feature_guard.cc:142] This TensorFlow binary is optimized with oneAPI Deep Neural Network Library (oneDNN) to use the following CPU instructions in performance-critical operations:  AVX2 FMA\n",
      "To enable them in other operations, rebuild TensorFlow with the appropriate compiler flags.\n",
      "/home/user211/envs/scientific/lib64/python3.9/site-packages/sklearn/base.py:329: UserWarning: Trying to unpickle estimator KNeighborsClassifier from version 0.24.2 when using version 1.0.2. This might lead to breaking code or invalid results. Use at your own risk. For more info please refer to:\n",
      "https://scikit-learn.org/stable/modules/model_persistence.html#security-maintainability-limitations\n",
      "  warnings.warn(\n",
      "/home/user211/envs/scientific/lib64/python3.9/site-packages/sklearn/base.py:329: UserWarning: Trying to unpickle estimator DecisionTreeClassifier from version 0.24.2 when using version 1.0.2. This might lead to breaking code or invalid results. Use at your own risk. For more info please refer to:\n",
      "https://scikit-learn.org/stable/modules/model_persistence.html#security-maintainability-limitations\n",
      "  warnings.warn(\n",
      "/home/user211/envs/scientific/lib64/python3.9/site-packages/sklearn/base.py:329: UserWarning: Trying to unpickle estimator RandomForestClassifier from version 0.24.2 when using version 1.0.2. This might lead to breaking code or invalid results. Use at your own risk. For more info please refer to:\n",
      "https://scikit-learn.org/stable/modules/model_persistence.html#security-maintainability-limitations\n",
      "  warnings.warn(\n",
      "/home/user211/envs/scientific/lib64/python3.9/site-packages/xgboost/compat.py:36: FutureWarning: pandas.Int64Index is deprecated and will be removed from pandas in a future version. Use pandas.Index with the appropriate dtype instead.\n",
      "  from pandas import MultiIndex, Int64Index\n"
     ]
    }
   ],
   "source": [
    "nn = tf.keras.models.load_model(f'../neural_network/models/v9.0.5')\n",
    "knn = load(f'../classification_methods/models/KNN_9.0.5.joblib')\n",
    "rfc = load(f'../classification_methods/models/RFC_9.0.5.joblib')\n",
    "dtc = load(f'../classification_methods/models/DTC_9.0.5.joblib')\n",
    "xgb = load(f'../classification_methods/models/XGB_9.0.5.joblib')\n",
    "\n",
    "models = {'NN': nn, 'KNN': knn, 'RFC': rfc, 'DTC': dtc, 'XGB': xgb}"
   ]
  },
  {
   "cell_type": "markdown",
   "metadata": {},
   "source": [
    "## Evaluate Efficiency"
   ]
  },
  {
   "cell_type": "code",
   "execution_count": 4,
   "metadata": {},
   "outputs": [
    {
     "name": "stderr",
     "output_type": "stream",
     "text": [
      "2022-05-05 12:36:15.049313: I tensorflow/compiler/mlir/mlir_graph_optimization_pass.cc:185] None of the MLIR Optimization Passes are enabled (registered 2)\n",
      "/home/user211/envs/scientific/lib64/python3.9/site-packages/xgboost/data.py:262: FutureWarning: pandas.Int64Index is deprecated and will be removed from pandas in a future version. Use pandas.Index with the appropriate dtype instead.\n",
      "  elif isinstance(data.columns, (pd.Int64Index, pd.RangeIndex)):\n"
     ]
    }
   ],
   "source": [
    "predictions = {\n",
    "    'NN': np.squeeze(nn.predict(X_test)),\n",
    "    'RFC': np.squeeze(rfc.predict_proba(X_test.to_numpy())[:,1]),\n",
    "    'DTC': np.squeeze(dtc.predict_proba(X_test.to_numpy())[:,1]),\n",
    "    'KNN': np.squeeze(knn.predict_proba(X_test.to_numpy())[:,1]),\n",
    "    'XGB': np.squeeze(xgb.predict_proba(X_test)[:,1])\n",
    "}"
   ]
  },
  {
   "cell_type": "code",
   "execution_count": 5,
   "metadata": {},
   "outputs": [],
   "source": [
    "predicted_classes = {\n",
    "    k: v for (k, v) in zip(list(predictions.keys()), [np.where(i > 0.7, 1, 0) for i in predictions.values()])\n",
    "}"
   ]
  },
  {
   "cell_type": "code",
   "execution_count": 6,
   "metadata": {},
   "outputs": [],
   "source": [
    "for key, value in predicted_classes.items():\n",
    "    test[f'Pred{key}'] = value"
   ]
  },
  {
   "cell_type": "code",
   "execution_count": 24,
   "metadata": {},
   "outputs": [
    {
     "name": "stdout",
     "output_type": "stream",
     "text": [
      "Predicted Efficiencies (Rare Mode)\n",
      "NN\tSignal Eff = 0.906(+0.0034-0.0034)%\n",
      "\tBkg. Eff = 0.97(+0.0018-0.0018)%\n",
      "RFC\tSignal Eff = 0.927(+0.0030-0.0030)%\n",
      "\tBkg. Eff = 0.96(+0.0024-0.0024)%\n",
      "DTC\tSignal Eff = 0.955(+0.0024-0.0024)%\n",
      "\tBkg. Eff = 0.83(+0.0044-0.0044)%\n",
      "KNN\tSignal Eff = 0.913(+0.0033-0.0033)%\n",
      "\tBkg. Eff = 0.96(+0.0022-0.0022)%\n",
      "XGB\tSignal Eff = 0.959(+0.0023-0.0023)%\n",
      "\tBkg. Eff = 0.95(+0.0026-0.0026)%\n"
     ]
    }
   ],
   "source": [
    "total_signal = test['category'].value_counts()[1]\n",
    "total_bg = test['category'].value_counts()[0]\n",
    "\n",
    "N = 7396\n",
    "\n",
    "print('Predicted Efficiencies (Rare Mode)')\n",
    "for model_name in predicted_classes.keys():\n",
    "    correct_signal = np.count_nonzero(np.logical_and(test[f'Pred{model_name}']==1,test['category']==1))\n",
    "    correct_bkg = np.count_nonzero(np.logical_and(test[f'Pred{model_name}']==0,test['category']==0))\n",
    "    \n",
    "    es = correct_signal/total_signal\n",
    "    eb = correct_bkg/total_bg\n",
    "    \n",
    "    errs = (np.sqrt(es * (1-es)/N), np.sqrt(es * (1-es)/N))\n",
    "    errb = (np.sqrt(eb * (1-eb)/N), np.sqrt(eb * (1-eb)/N))\n",
    "    \n",
    "    print(f'{model_name}\\tSignal Eff = {es:.3f}(+{errs[0]:.4f}-{errs[1]:.4f})%\\n\\tBkg. Eff = {eb:.3f}(+{errb[0]:.4f}-{errb[1]:.4f})%')"
   ]
  },
  {
   "cell_type": "markdown",
   "metadata": {},
   "source": [
    "# Same for Normalisation Mode"
   ]
  },
  {
   "cell_type": "code",
   "execution_count": 25,
   "metadata": {},
   "outputs": [],
   "source": [
    "norm = pd.read_csv(f'../data_files/8.0.4/test.csv', index_col=[0])\n",
    "X_test = norm.drop(['category', 'Lb_M', 'IsSimulated', 'QSQR'], axis=1)\n",
    "y_test = norm.category"
   ]
  },
  {
   "cell_type": "code",
   "execution_count": 26,
   "metadata": {},
   "outputs": [],
   "source": [
    "nn = tf.keras.models.load_model('models/NN_8.0.5')\n",
    "knn = load(f'models/KNN_8.0.5.joblib')\n",
    "rfc = load(f'models/RFC_8.0.5.joblib')\n",
    "dtc = load(f'models/DTC_8.0.5.joblib')\n",
    "xgb = load(f'models/XGB_8.0.5.joblib')"
   ]
  },
  {
   "cell_type": "code",
   "execution_count": 27,
   "metadata": {},
   "outputs": [
    {
     "name": "stderr",
     "output_type": "stream",
     "text": [
      "/home/user211/envs/scientific/lib64/python3.9/site-packages/sklearn/base.py:450: UserWarning: X does not have valid feature names, but RandomForestClassifier was fitted with feature names\n",
      "  warnings.warn(\n",
      "/home/user211/envs/scientific/lib64/python3.9/site-packages/sklearn/base.py:450: UserWarning: X does not have valid feature names, but DecisionTreeClassifier was fitted with feature names\n",
      "  warnings.warn(\n",
      "/home/user211/envs/scientific/lib64/python3.9/site-packages/sklearn/base.py:450: UserWarning: X does not have valid feature names, but KNeighborsClassifier was fitted with feature names\n",
      "  warnings.warn(\n",
      "/home/user211/envs/scientific/lib64/python3.9/site-packages/xgboost/data.py:262: FutureWarning: pandas.Int64Index is deprecated and will be removed from pandas in a future version. Use pandas.Index with the appropriate dtype instead.\n",
      "  elif isinstance(data.columns, (pd.Int64Index, pd.RangeIndex)):\n"
     ]
    }
   ],
   "source": [
    "predictions = {\n",
    "    'NN': np.squeeze(nn.predict(X_test)),\n",
    "    'RFC': np.squeeze(rfc.predict_proba(X_test.to_numpy())[:,1]),\n",
    "    'DTC': np.squeeze(dtc.predict_proba(X_test.to_numpy())[:,1]),\n",
    "    'KNN': np.squeeze(knn.predict_proba(X_test.to_numpy())[:,1]),\n",
    "    'XGB': np.squeeze(xgb.predict_proba(X_test)[:,1])\n",
    "}\n",
    "\n",
    "predicted_classes = {\n",
    "    k: v for (k, v) in zip(list(predictions.keys()), [np.where(i > 0.7, 1, 0) for i in predictions.values()])\n",
    "}\n",
    "\n",
    "for key, value in predicted_classes.items():\n",
    "    norm[f'Pred{key}'] = value"
   ]
  },
  {
   "cell_type": "code",
   "execution_count": 28,
   "metadata": {},
   "outputs": [
    {
     "data": {
      "text/plain": [
       "(12806,)"
      ]
     },
     "execution_count": 28,
     "metadata": {},
     "output_type": "execute_result"
    }
   ],
   "source": [
    "predictions['NN'].shape"
   ]
  },
  {
   "cell_type": "code",
   "execution_count": 29,
   "metadata": {},
   "outputs": [
    {
     "name": "stdout",
     "output_type": "stream",
     "text": [
      "Predicted Efficiencies (Rare Mode)\n",
      "NN\tSignal Eff = 0.882(+0.0029-0.0029)%\n",
      "\tBkg. Eff = 0.98(+0.0013-0.0013)%\n",
      "RFC\tSignal Eff = 0.762(+0.0039-0.0039)%\n",
      "\tBkg. Eff = 0.98(+0.0013-0.0013)%\n",
      "DTC\tSignal Eff = 0.724(+0.0041-0.0041)%\n",
      "\tBkg. Eff = 0.95(+0.0019-0.0019)%\n",
      "KNN\tSignal Eff = 0.829(+0.0034-0.0034)%\n",
      "\tBkg. Eff = 0.97(+0.0015-0.0015)%\n",
      "XGB\tSignal Eff = 0.716(+0.0041-0.0041)%\n",
      "\tBkg. Eff = 0.95(+0.0019-0.0019)%\n"
     ]
    }
   ],
   "source": [
    "total_signal = norm['category'].value_counts()[1]\n",
    "total_bg = norm['category'].value_counts()[0]\n",
    "\n",
    "N = 12086\n",
    "\n",
    "print('Predicted Efficiencies (Rare Mode)')\n",
    "for model_name in predicted_classes.keys():\n",
    "    correct_signal = np.count_nonzero(np.logical_and(norm[f'Pred{model_name}']==1,norm['category']==1))\n",
    "    correct_bkg = np.count_nonzero(np.logical_and(norm[f'Pred{model_name}']==0,norm['category']==0))\n",
    "    \n",
    "    es = correct_signal/total_signal\n",
    "    eb = correct_bkg/total_bg\n",
    "    \n",
    "    errs = (np.sqrt(es * (1-es)/N), np.sqrt(es * (1-es)/N))\n",
    "    errb = (np.sqrt(eb * (1-eb)/N), np.sqrt(eb * (1-eb)/N))\n",
    "    \n",
    "    print(f'{model_name}\\tSignal Eff = {es:.3f}(+{errs[0]:.4f}-{errs[1]:.4f})%\\n\\tBkg. Eff = {eb:.2f}(+{errb[0]:.4f}-{errb[1]:.4f})%')"
   ]
  },
  {
   "cell_type": "code",
   "execution_count": 7,
   "metadata": {},
   "outputs": [
    {
     "data": {
      "text/plain": [
       "array([[88.23, 33.33],\n",
       "       [76.27,  0.  ],\n",
       "       [72.43,  0.  ],\n",
       "       [82.9 , 33.33],\n",
       "       [71.65, 33.33]])"
      ]
     },
     "execution_count": 7,
     "metadata": {},
     "output_type": "execute_result"
    }
   ],
   "source": [
    "# Make the plots\n",
    "bar_data = np.array([cs_blind, cs_bands]).T\n",
    "bar_data = np.round(bar_data, 2)\n",
    "bar_data"
   ]
  },
  {
   "cell_type": "code",
   "execution_count": 8,
   "metadata": {},
   "outputs": [
    {
     "data": {
      "image/png": "[encoded data removed]",
      "text/plain": [
       "<Figure size 720x720 with 1 Axes>"
      ]
     },
     "metadata": {
      "needs_background": "light"
     },
     "output_type": "display_data"
    }
   ],
   "source": [
    "fig, ax = plt.subplots(1, 1)\n",
    "width = 0.3\n",
    "rects1 = ax.bar(np.arange(5)-width/2, bar_data[:,0], width=width, label='Inside Blinded Region')\n",
    "rects2 = ax.bar(np.arange(5)+width/2, bar_data[:,1], width=width, label='Outside Blinded Region')\n",
    "ax.set_xticks(np.arange(5), [\"NN\", \"RFC\", \"DTC\", \"KNN\", \"XGB\"])\n",
    "plt.xlabel('Model')\n",
    "plt.ylabel('Signal Selection Efficiency (%)')\n",
    "ax.bar_label(rects1, padding=3, fontsize=14)\n",
    "ax.bar_label(rects2, padding=3, fontsize=14)\n",
    "plt.legend(bbox_to_anchor=(0,1.02,1,0.2), loc=\"lower left\", mode=\"expand\", borderaxespad=0, ncol=2)\n",
    "plt.tight_layout()\n",
    "plt.savefig('../images/ModelEval/Predicted_Sig_Norm_Efficiency_ByRegion.png')\n",
    "plt.show()"
   ]
  }
 ],
 "metadata": {
  "interpreter": {
   "hash": "cbd4dc6d56a1e42dbf8f7497fabd23f5df4d7139d9bd66320241cd36a8438585"
  },
  "kernelspec": {
   "display_name": "Python 3.9.6 ('scientific')",
   "language": "python",
   "name": "python3"
  },
  "language_info": {
   "codemirror_mode": {
    "name": "ipython",
    "version": 3
   },
   "file_extension": ".py",
   "mimetype": "text/x-python",
   "name": "python",
   "nbconvert_exporter": "python",
   "pygments_lexer": "ipython3",
   "version": "3.9.6"
  },
  "orig_nbformat": 4
 },
 "nbformat": 4,
 "nbformat_minor": 2
}
