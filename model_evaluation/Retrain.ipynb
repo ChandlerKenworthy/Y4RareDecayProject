{
 "cells": [
  {
   "cell_type": "markdown",
   "metadata": {},
   "source": [
    "# Retraining Models\n",
    "As per Nigel's instructions it is probably best now to take our tuned models and retrain them in the normalisation mode. Hopefully it will still yield good results considering that this mode has a similar topology. "
   ]
  },
  {
   "cell_type": "code",
   "execution_count": 4,
   "metadata": {},
   "outputs": [],
   "source": [
    "import pandas as pd\n",
    "import numpy as np\n",
    "import tensorflow as tf\n",
    "from tensorflow.keras import callbacks\n",
    "from joblib import load, dump"
   ]
  },
  {
   "cell_type": "markdown",
   "metadata": {},
   "source": [
    "## Load Prerequisites\n",
    "We need to load the original models or their arhcitectures if they do not support retraining from their last saved weight point. We also need to load in the correct data. In this case version 8.0.5 is the normalisation mode data with preselection applied, the ratio of signal to background events forced to 1 and the mass sideband restriction implemented. The $q^2$ veto has also been applied."
   ]
  },
  {
   "cell_type": "code",
   "execution_count": 2,
   "metadata": {},
   "outputs": [
    {
     "name": "stderr",
     "output_type": "stream",
     "text": [
      "2022-04-07 15:28:18.397762: W tensorflow/stream_executor/platform/default/dso_loader.cc:64] Could not load dynamic library 'libcuda.so.1'; dlerror: libcuda.so.1: cannot open shared object file: No such file or directory\n",
      "2022-04-07 15:28:18.397816: W tensorflow/stream_executor/cuda/cuda_driver.cc:269] failed call to cuInit: UNKNOWN ERROR (303)\n",
      "2022-04-07 15:28:18.397867: I tensorflow/stream_executor/cuda/cuda_diagnostics.cc:156] kernel driver does not appear to be running on this host (eprexb.ph.bham.ac.uk): /proc/driver/nvidia/version does not exist\n",
      "2022-04-07 15:28:18.398193: I tensorflow/core/platform/cpu_feature_guard.cc:142] This TensorFlow binary is optimized with oneAPI Deep Neural Network Library (oneDNN) to use the following CPU instructions in performance-critical operations:  AVX2 FMA\n",
      "To enable them in other operations, rebuild TensorFlow with the appropriate compiler flags.\n",
      "/home/user211/envs/scientific/lib64/python3.9/site-packages/sklearn/base.py:329: UserWarning: Trying to unpickle estimator KNeighborsClassifier from version 0.24.2 when using version 1.0.2. This might lead to breaking code or invalid results. Use at your own risk. For more info please refer to:\n",
      "https://scikit-learn.org/stable/modules/model_persistence.html#security-maintainability-limitations\n",
      "  warnings.warn(\n",
      "/home/user211/envs/scientific/lib64/python3.9/site-packages/sklearn/base.py:329: UserWarning: Trying to unpickle estimator DecisionTreeClassifier from version 0.24.2 when using version 1.0.2. This might lead to breaking code or invalid results. Use at your own risk. For more info please refer to:\n",
      "https://scikit-learn.org/stable/modules/model_persistence.html#security-maintainability-limitations\n",
      "  warnings.warn(\n",
      "/home/user211/envs/scientific/lib64/python3.9/site-packages/sklearn/base.py:329: UserWarning: Trying to unpickle estimator RandomForestClassifier from version 0.24.2 when using version 1.0.2. This might lead to breaking code or invalid results. Use at your own risk. For more info please refer to:\n",
      "https://scikit-learn.org/stable/modules/model_persistence.html#security-maintainability-limitations\n",
      "  warnings.warn(\n",
      "/home/user211/envs/scientific/lib64/python3.9/site-packages/xgboost/compat.py:36: FutureWarning: pandas.Int64Index is deprecated and will be removed from pandas in a future version. Use pandas.Index with the appropriate dtype instead.\n",
      "  from pandas import MultiIndex, Int64Index\n"
     ]
    }
   ],
   "source": [
    "# Load the data\n",
    "base_path = \"../data_files\"\n",
    "version = \"8.0.5\"\n",
    "\n",
    "train = pd.read_csv(f'{base_path}/{version}/train.csv', index_col=[0])\n",
    "X_train, y_train = train.drop(['category', 'Lb_M', 'IsSimulated', 'QSQR'], axis=1), train.category\n",
    "\n",
    "val = pd.read_csv(f'{base_path}/{version}/val.csv', index_col=[0])\n",
    "X_val, y_val = val.drop(['category', 'Lb_M', 'IsSimulated', 'QSQR'], axis=1), val.category\n",
    "\n",
    "# Load the models\n",
    "nn = tf.keras.models.load_model(f'../neural_network/models/v9.0.5')\n",
    "knn = load(f'../classification_methods/models/KNN_9.0.5_tune.joblib')\n",
    "rfc = load(f'../classification_methods/models/RFC_9.0.5_tune.joblib')\n",
    "dtc = load(f'../classification_methods/models/DTC_9.0.5_tune.joblib')\n",
    "xgb = load(f'../classification_methods/models/XGB_9.0.5.joblib')"
   ]
  },
  {
   "cell_type": "markdown",
   "metadata": {},
   "source": [
    "## Retrain Models"
   ]
  },
  {
   "cell_type": "code",
   "execution_count": 20,
   "metadata": {},
   "outputs": [
    {
     "name": "stdout",
     "output_type": "stream",
     "text": [
      "Epoch 1/80\n",
      "61/61 [==============================] - 1s 9ms/step - loss: 0.1884 - binary_accuracy: 0.9342 - auc: 0.9820 - true_positives: 14611.0000 - true_negatives: 14500.0000 - false_positives: 1091.0000 - false_negatives: 961.0000 - val_loss: 0.1600 - val_binary_accuracy: 0.9461 - val_auc: 0.9886 - val_true_positives: 4988.0000 - val_true_negatives: 4840.0000 - val_false_positives: 315.0000 - val_false_negatives: 245.0000\n",
      "Epoch 2/80\n",
      "61/61 [==============================] - 0s 8ms/step - loss: 0.1845 - binary_accuracy: 0.9358 - auc: 0.9829 - true_positives: 14622.0000 - true_negatives: 14539.0000 - false_positives: 1052.0000 - false_negatives: 950.0000 - val_loss: 0.1572 - val_binary_accuracy: 0.9472 - val_auc: 0.9881 - val_true_positives: 5001.0000 - val_true_negatives: 4839.0000 - val_false_positives: 316.0000 - val_false_negatives: 232.0000\n",
      "Epoch 3/80\n",
      "61/61 [==============================] - 0s 8ms/step - loss: 0.1861 - binary_accuracy: 0.9352 - auc: 0.9825 - true_positives: 14606.0000 - true_negatives: 14539.0000 - false_positives: 1052.0000 - false_negatives: 966.0000 - val_loss: 0.1620 - val_binary_accuracy: 0.9443 - val_auc: 0.9879 - val_true_positives: 5028.0000 - val_true_negatives: 4781.0000 - val_false_positives: 374.0000 - val_false_negatives: 205.0000\n",
      "Epoch 4/80\n",
      "61/61 [==============================] - 0s 8ms/step - loss: 0.1824 - binary_accuracy: 0.9369 - auc: 0.9833 - true_positives: 14648.0000 - true_negatives: 14550.0000 - false_positives: 1041.0000 - false_negatives: 924.0000 - val_loss: 0.1656 - val_binary_accuracy: 0.9428 - val_auc: 0.9872 - val_true_positives: 5031.0000 - val_true_negatives: 4763.0000 - val_false_positives: 392.0000 - val_false_negatives: 202.0000\n",
      "Epoch 5/80\n",
      "61/61 [==============================] - 0s 8ms/step - loss: 0.1861 - binary_accuracy: 0.9368 - auc: 0.9825 - true_positives: 14623.0000 - true_negatives: 14571.0000 - false_positives: 1020.0000 - false_negatives: 949.0000 - val_loss: 0.1594 - val_binary_accuracy: 0.9482 - val_auc: 0.9886 - val_true_positives: 5033.0000 - val_true_negatives: 4817.0000 - val_false_positives: 338.0000 - val_false_negatives: 200.0000\n",
      "Epoch 6/80\n",
      "61/61 [==============================] - 0s 8ms/step - loss: 0.1886 - binary_accuracy: 0.9351 - auc: 0.9818 - true_positives: 14623.0000 - true_negatives: 14519.0000 - false_positives: 1072.0000 - false_negatives: 949.0000 - val_loss: 0.1632 - val_binary_accuracy: 0.9429 - val_auc: 0.9877 - val_true_positives: 5031.0000 - val_true_negatives: 4764.0000 - val_false_positives: 391.0000 - val_false_negatives: 202.0000\n",
      "Epoch 7/80\n",
      "61/61 [==============================] - 0s 8ms/step - loss: 0.1855 - binary_accuracy: 0.9351 - auc: 0.9826 - true_positives: 14610.0000 - true_negatives: 14531.0000 - false_positives: 1060.0000 - false_negatives: 962.0000 - val_loss: 0.1654 - val_binary_accuracy: 0.9421 - val_auc: 0.9872 - val_true_positives: 5040.0000 - val_true_negatives: 4747.0000 - val_false_positives: 408.0000 - val_false_negatives: 193.0000\n",
      "Epoch 8/80\n",
      "61/61 [==============================] - 0s 8ms/step - loss: 0.1877 - binary_accuracy: 0.9350 - auc: 0.9821 - true_positives: 14632.0000 - true_negatives: 14504.0000 - false_positives: 1087.0000 - false_negatives: 940.0000 - val_loss: 0.1610 - val_binary_accuracy: 0.9433 - val_auc: 0.9878 - val_true_positives: 5007.0000 - val_true_negatives: 4792.0000 - val_false_positives: 363.0000 - val_false_negatives: 226.0000\n",
      "Epoch 9/80\n",
      "61/61 [==============================] - 0s 8ms/step - loss: 0.1864 - binary_accuracy: 0.9348 - auc: 0.9824 - true_positives: 14608.0000 - true_negatives: 14523.0000 - false_positives: 1068.0000 - false_negatives: 964.0000 - val_loss: 0.1572 - val_binary_accuracy: 0.9465 - val_auc: 0.9883 - val_true_positives: 4945.0000 - val_true_negatives: 4887.0000 - val_false_positives: 268.0000 - val_false_negatives: 288.0000\n",
      "Epoch 10/80\n",
      "61/61 [==============================] - 0s 8ms/step - loss: 0.1858 - binary_accuracy: 0.9359 - auc: 0.9824 - true_positives: 14609.0000 - true_negatives: 14557.0000 - false_positives: 1034.0000 - false_negatives: 963.0000 - val_loss: 0.1591 - val_binary_accuracy: 0.9455 - val_auc: 0.9882 - val_true_positives: 4986.0000 - val_true_negatives: 4836.0000 - val_false_positives: 319.0000 - val_false_negatives: 247.0000\n",
      "Epoch 11/80\n",
      "61/61 [==============================] - 0s 8ms/step - loss: 0.1850 - binary_accuracy: 0.9366 - auc: 0.9826 - true_positives: 14624.0000 - true_negatives: 14564.0000 - false_positives: 1027.0000 - false_negatives: 948.0000 - val_loss: 0.1610 - val_binary_accuracy: 0.9427 - val_auc: 0.9878 - val_true_positives: 4923.0000 - val_true_negatives: 4870.0000 - val_false_positives: 285.0000 - val_false_negatives: 310.0000\n",
      "Epoch 12/80\n",
      "61/61 [==============================] - 0s 8ms/step - loss: 0.1856 - binary_accuracy: 0.9370 - auc: 0.9825 - true_positives: 14631.0000 - true_negatives: 14570.0000 - false_positives: 1021.0000 - false_negatives: 941.0000 - val_loss: 0.1590 - val_binary_accuracy: 0.9463 - val_auc: 0.9887 - val_true_positives: 4914.0000 - val_true_negatives: 4916.0000 - val_false_positives: 239.0000 - val_false_negatives: 319.0000\n",
      "Epoch 13/80\n",
      "61/61 [==============================] - 0s 8ms/step - loss: 0.1876 - binary_accuracy: 0.9355 - auc: 0.9821 - true_positives: 14563.0000 - true_negatives: 14591.0000 - false_positives: 1000.0000 - false_negatives: 1009.0000 - val_loss: 0.1572 - val_binary_accuracy: 0.9487 - val_auc: 0.9886 - val_true_positives: 5015.0000 - val_true_negatives: 4840.0000 - val_false_positives: 315.0000 - val_false_negatives: 218.0000\n",
      "Epoch 14/80\n",
      "61/61 [==============================] - 0s 8ms/step - loss: 0.1837 - binary_accuracy: 0.9368 - auc: 0.9830 - true_positives: 14625.0000 - true_negatives: 14569.0000 - false_positives: 1022.0000 - false_negatives: 947.0000 - val_loss: 0.1620 - val_binary_accuracy: 0.9441 - val_auc: 0.9880 - val_true_positives: 5011.0000 - val_true_negatives: 4796.0000 - val_false_positives: 359.0000 - val_false_negatives: 222.0000\n",
      "Epoch 15/80\n",
      "61/61 [==============================] - 0s 8ms/step - loss: 0.1834 - binary_accuracy: 0.9370 - auc: 0.9829 - true_positives: 14637.0000 - true_negatives: 14564.0000 - false_positives: 1027.0000 - false_negatives: 935.0000 - val_loss: 0.1567 - val_binary_accuracy: 0.9457 - val_auc: 0.9884 - val_true_positives: 4960.0000 - val_true_negatives: 4864.0000 - val_false_positives: 291.0000 - val_false_negatives: 273.0000\n",
      "Epoch 16/80\n",
      "61/61 [==============================] - 0s 8ms/step - loss: 0.1857 - binary_accuracy: 0.9345 - auc: 0.9826 - true_positives: 14573.0000 - true_negatives: 14550.0000 - false_positives: 1041.0000 - false_negatives: 999.0000 - val_loss: 0.1716 - val_binary_accuracy: 0.9414 - val_auc: 0.9870 - val_true_positives: 5051.0000 - val_true_negatives: 4728.0000 - val_false_positives: 427.0000 - val_false_negatives: 182.0000\n",
      "Epoch 17/80\n",
      "61/61 [==============================] - 0s 8ms/step - loss: 0.1863 - binary_accuracy: 0.9361 - auc: 0.9824 - true_positives: 14603.0000 - true_negatives: 14569.0000 - false_positives: 1022.0000 - false_negatives: 969.0000 - val_loss: 0.1598 - val_binary_accuracy: 0.9446 - val_auc: 0.9880 - val_true_positives: 4985.0000 - val_true_negatives: 4827.0000 - val_false_positives: 328.0000 - val_false_negatives: 248.0000\n",
      "Epoch 18/80\n",
      "61/61 [==============================] - 0s 8ms/step - loss: 0.1879 - binary_accuracy: 0.9343 - auc: 0.9821 - true_positives: 14596.0000 - true_negatives: 14521.0000 - false_positives: 1070.0000 - false_negatives: 976.0000 - val_loss: 0.1631 - val_binary_accuracy: 0.9423 - val_auc: 0.9873 - val_true_positives: 4974.0000 - val_true_negatives: 4815.0000 - val_false_positives: 340.0000 - val_false_negatives: 259.0000\n",
      "Epoch 19/80\n",
      "61/61 [==============================] - 0s 8ms/step - loss: 0.1863 - binary_accuracy: 0.9353 - auc: 0.9823 - true_positives: 14594.0000 - true_negatives: 14553.0000 - false_positives: 1038.0000 - false_negatives: 978.0000 - val_loss: 0.1629 - val_binary_accuracy: 0.9433 - val_auc: 0.9874 - val_true_positives: 4966.0000 - val_true_negatives: 4833.0000 - val_false_positives: 322.0000 - val_false_negatives: 267.0000\n",
      "Epoch 20/80\n",
      "61/61 [==============================] - 1s 8ms/step - loss: 0.1885 - binary_accuracy: 0.9341 - auc: 0.9819 - true_positives: 14580.0000 - true_negatives: 14528.0000 - false_positives: 1063.0000 - false_negatives: 992.0000 - val_loss: 0.1633 - val_binary_accuracy: 0.9450 - val_auc: 0.9878 - val_true_positives: 4921.0000 - val_true_negatives: 4896.0000 - val_false_positives: 259.0000 - val_false_negatives: 312.0000\n",
      "Epoch 21/80\n",
      "61/61 [==============================] - 0s 8ms/step - loss: 0.1860 - binary_accuracy: 0.9353 - auc: 0.9823 - true_positives: 14601.0000 - true_negatives: 14546.0000 - false_positives: 1045.0000 - false_negatives: 971.0000 - val_loss: 0.1623 - val_binary_accuracy: 0.9446 - val_auc: 0.9874 - val_true_positives: 4935.0000 - val_true_negatives: 4877.0000 - val_false_positives: 278.0000 - val_false_negatives: 298.0000\n",
      "Epoch 22/80\n",
      "61/61 [==============================] - 0s 8ms/step - loss: 0.1833 - binary_accuracy: 0.9365 - auc: 0.9830 - true_positives: 14639.0000 - true_negatives: 14544.0000 - false_positives: 1047.0000 - false_negatives: 933.0000 - val_loss: 0.1576 - val_binary_accuracy: 0.9468 - val_auc: 0.9885 - val_true_positives: 4971.0000 - val_true_negatives: 4864.0000 - val_false_positives: 291.0000 - val_false_negatives: 262.0000\n",
      "Epoch 23/80\n",
      "61/61 [==============================] - 0s 8ms/step - loss: 0.1853 - binary_accuracy: 0.9366 - auc: 0.9825 - true_positives: 14625.0000 - true_negatives: 14562.0000 - false_positives: 1029.0000 - false_negatives: 947.0000 - val_loss: 0.1640 - val_binary_accuracy: 0.9448 - val_auc: 0.9874 - val_true_positives: 5051.0000 - val_true_negatives: 4764.0000 - val_false_positives: 391.0000 - val_false_negatives: 182.0000\n",
      "Epoch 24/80\n",
      "61/61 [==============================] - 0s 8ms/step - loss: 0.1834 - binary_accuracy: 0.9363 - auc: 0.9831 - true_positives: 14646.0000 - true_negatives: 14531.0000 - false_positives: 1060.0000 - false_negatives: 926.0000 - val_loss: 0.1606 - val_binary_accuracy: 0.9438 - val_auc: 0.9877 - val_true_positives: 5002.0000 - val_true_negatives: 4802.0000 - val_false_positives: 353.0000 - val_false_negatives: 231.0000\n",
      "Epoch 25/80\n",
      "61/61 [==============================] - 0s 8ms/step - loss: 0.1840 - binary_accuracy: 0.9366 - auc: 0.9830 - true_positives: 14623.0000 - true_negatives: 14564.0000 - false_positives: 1027.0000 - false_negatives: 949.0000 - val_loss: 0.1607 - val_binary_accuracy: 0.9438 - val_auc: 0.9880 - val_true_positives: 5045.0000 - val_true_negatives: 4759.0000 - val_false_positives: 396.0000 - val_false_negatives: 188.0000\n",
      "Epoch 26/80\n",
      "61/61 [==============================] - 1s 8ms/step - loss: 0.1875 - binary_accuracy: 0.9358 - auc: 0.9821 - true_positives: 14609.0000 - true_negatives: 14553.0000 - false_positives: 1038.0000 - false_negatives: 963.0000 - val_loss: 0.1595 - val_binary_accuracy: 0.9450 - val_auc: 0.9879 - val_true_positives: 4986.0000 - val_true_negatives: 4831.0000 - val_false_positives: 324.0000 - val_false_negatives: 247.0000\n",
      "Epoch 27/80\n",
      "61/61 [==============================] - 0s 8ms/step - loss: 0.1856 - binary_accuracy: 0.9337 - auc: 0.9827 - true_positives: 14590.0000 - true_negatives: 14507.0000 - false_positives: 1084.0000 - false_negatives: 982.0000 - val_loss: 0.1571 - val_binary_accuracy: 0.9483 - val_auc: 0.9887 - val_true_positives: 4942.0000 - val_true_negatives: 4909.0000 - val_false_positives: 246.0000 - val_false_negatives: 291.0000\n",
      "Epoch 28/80\n",
      "61/61 [==============================] - 0s 8ms/step - loss: 0.1864 - binary_accuracy: 0.9353 - auc: 0.9825 - true_positives: 14578.0000 - true_negatives: 14569.0000 - false_positives: 1022.0000 - false_negatives: 994.0000 - val_loss: 0.1612 - val_binary_accuracy: 0.9441 - val_auc: 0.9877 - val_true_positives: 5012.0000 - val_true_negatives: 4795.0000 - val_false_positives: 360.0000 - val_false_negatives: 221.0000\n",
      "Epoch 29/80\n",
      "61/61 [==============================] - 0s 8ms/step - loss: 0.1852 - binary_accuracy: 0.9372 - auc: 0.9825 - true_positives: 14661.0000 - true_negatives: 14546.0000 - false_positives: 1045.0000 - false_negatives: 911.0000 - val_loss: 0.1645 - val_binary_accuracy: 0.9402 - val_auc: 0.9874 - val_true_positives: 4880.0000 - val_true_negatives: 4887.0000 - val_false_positives: 268.0000 - val_false_negatives: 353.0000\n",
      "Epoch 30/80\n",
      "61/61 [==============================] - 0s 8ms/step - loss: 0.1854 - binary_accuracy: 0.9358 - auc: 0.9827 - true_positives: 14611.0000 - true_negatives: 14551.0000 - false_positives: 1040.0000 - false_negatives: 961.0000 - val_loss: 0.1598 - val_binary_accuracy: 0.9460 - val_auc: 0.9879 - val_true_positives: 4920.0000 - val_true_negatives: 4907.0000 - val_false_positives: 248.0000 - val_false_negatives: 313.0000\n",
      "Epoch 31/80\n",
      "61/61 [==============================] - 0s 8ms/step - loss: 0.1843 - binary_accuracy: 0.9366 - auc: 0.9829 - true_positives: 14635.0000 - true_negatives: 14553.0000 - false_positives: 1038.0000 - false_negatives: 937.0000 - val_loss: 0.1590 - val_binary_accuracy: 0.9453 - val_auc: 0.9879 - val_true_positives: 4958.0000 - val_true_negatives: 4862.0000 - val_false_positives: 293.0000 - val_false_negatives: 275.0000\n",
      "Epoch 32/80\n",
      "61/61 [==============================] - 0s 8ms/step - loss: 0.1828 - binary_accuracy: 0.9363 - auc: 0.9832 - true_positives: 14625.0000 - true_negatives: 14554.0000 - false_positives: 1037.0000 - false_negatives: 947.0000 - val_loss: 0.1615 - val_binary_accuracy: 0.9456 - val_auc: 0.9875 - val_true_positives: 4998.0000 - val_true_negatives: 4825.0000 - val_false_positives: 330.0000 - val_false_negatives: 235.0000\n",
      "Epoch 33/80\n",
      "61/61 [==============================] - 0s 8ms/step - loss: 0.1858 - binary_accuracy: 0.9354 - auc: 0.9825 - true_positives: 14580.0000 - true_negatives: 14570.0000 - false_positives: 1021.0000 - false_negatives: 992.0000 - val_loss: 0.1695 - val_binary_accuracy: 0.9418 - val_auc: 0.9867 - val_true_positives: 5015.0000 - val_true_negatives: 4768.0000 - val_false_positives: 387.0000 - val_false_negatives: 218.0000\n",
      "Epoch 34/80\n",
      "61/61 [==============================] - 0s 8ms/step - loss: 0.1844 - binary_accuracy: 0.9365 - auc: 0.9828 - true_positives: 14623.0000 - true_negatives: 14562.0000 - false_positives: 1029.0000 - false_negatives: 949.0000 - val_loss: 0.1625 - val_binary_accuracy: 0.9433 - val_auc: 0.9876 - val_true_positives: 5016.0000 - val_true_negatives: 4783.0000 - val_false_positives: 372.0000 - val_false_negatives: 217.0000\n",
      "Epoch 35/80\n",
      "61/61 [==============================] - 1s 8ms/step - loss: 0.1855 - binary_accuracy: 0.9359 - auc: 0.9826 - true_positives: 14612.0000 - true_negatives: 14553.0000 - false_positives: 1038.0000 - false_negatives: 960.0000 - val_loss: 0.1646 - val_binary_accuracy: 0.9425 - val_auc: 0.9878 - val_true_positives: 5027.0000 - val_true_negatives: 4764.0000 - val_false_positives: 391.0000 - val_false_negatives: 206.0000\n"
     ]
    }
   ],
   "source": [
    "# Neural Network\n",
    "myCallbacks = [\n",
    "    callbacks.EarlyStopping(patience=20, min_delta=0.0005, restore_best_weights=True), \n",
    "    callbacks.ReduceLROnPlateau(patience=5, factor=0.2, min_lr=0.001)\n",
    "    ]\n",
    "\n",
    "history = nn.fit(X_train, y_train, validation_data=(X_val, y_val), epochs=80, batch_size=512, callbacks=myCallbacks, verbose=1)"
   ]
  },
  {
   "cell_type": "code",
   "execution_count": 21,
   "metadata": {},
   "outputs": [
    {
     "name": "stdout",
     "output_type": "stream",
     "text": [
      "WARNING:tensorflow:AutoGraph could not transform <function trace_model_call.<locals>._wrapped_model at 0x7f07b07ed940> and will run it as-is.\n",
      "Please report this to the TensorFlow team. When filing the bug, set the verbosity to 10 (on Linux, `export AUTOGRAPH_VERBOSITY=10`) and attach the full output.\n",
      "Cause: unsupported operand type(s) for -: 'NoneType' and 'int'\n",
      "To silence this warning, decorate the function with @tf.autograph.experimental.do_not_convert\n",
      "WARNING: AutoGraph could not transform <function trace_model_call.<locals>._wrapped_model at 0x7f07b07ed940> and will run it as-is.\n",
      "Please report this to the TensorFlow team. When filing the bug, set the verbosity to 10 (on Linux, `export AUTOGRAPH_VERBOSITY=10`) and attach the full output.\n",
      "Cause: unsupported operand type(s) for -: 'NoneType' and 'int'\n",
      "To silence this warning, decorate the function with @tf.autograph.experimental.do_not_convert\n",
      "WARNING:tensorflow:AutoGraph could not transform <function canonicalize_signatures.<locals>.signature_wrapper at 0x7f07b06e4160> and will run it as-is.\n",
      "Please report this to the TensorFlow team. When filing the bug, set the verbosity to 10 (on Linux, `export AUTOGRAPH_VERBOSITY=10`) and attach the full output.\n",
      "Cause: unsupported operand type(s) for -: 'NoneType' and 'int'\n",
      "To silence this warning, decorate the function with @tf.autograph.experimental.do_not_convert\n",
      "WARNING: AutoGraph could not transform <function canonicalize_signatures.<locals>.signature_wrapper at 0x7f07b06e4160> and will run it as-is.\n",
      "Please report this to the TensorFlow team. When filing the bug, set the verbosity to 10 (on Linux, `export AUTOGRAPH_VERBOSITY=10`) and attach the full output.\n",
      "Cause: unsupported operand type(s) for -: 'NoneType' and 'int'\n",
      "To silence this warning, decorate the function with @tf.autograph.experimental.do_not_convert\n",
      "INFO:tensorflow:Assets written to: models/NN_8.0.5/assets\n"
     ]
    }
   ],
   "source": [
    "nn.save('models/NN_8.0.5')"
   ]
  },
  {
   "cell_type": "code",
   "execution_count": 15,
   "metadata": {},
   "outputs": [
    {
     "data": {
      "text/plain": [
       "DecisionTreeClassifier(max_depth=6)"
      ]
     },
     "execution_count": 15,
     "metadata": {},
     "output_type": "execute_result"
    }
   ],
   "source": [
    "from sklearn.neighbors import KNeighborsClassifier\n",
    "from sklearn.ensemble import RandomForestClassifier\n",
    "from sklearn.tree import DecisionTreeClassifier\n",
    "import xgboost\n",
    "\n",
    "# Other models need to be re-trained from the start\n",
    "knn = KNeighborsClassifier(n_neighbors=15, leaf_size=30, weights='uniform', p=2)\n",
    "knn.fit(X_train, y_train)\n",
    "\n",
    "rfc = RandomForestClassifier(n_estimators=80, min_weight_fraction_leaf=0.0, max_depth=8, min_samples_split=2)\n",
    "rfc.fit(X_train, y_train)\n",
    "\n",
    "dtc = DecisionTreeClassifier(max_depth=6)\n",
    "dtc.fit(X_train, y_train)"
   ]
  },
  {
   "cell_type": "code",
   "execution_count": 18,
   "metadata": {},
   "outputs": [
    {
     "name": "stdout",
     "output_type": "stream",
     "text": [
      "[0]\tvalidation_0-auc:0.92548\n"
     ]
    },
    {
     "name": "stderr",
     "output_type": "stream",
     "text": [
      "/home/user211/envs/scientific/lib64/python3.9/site-packages/xgboost/data.py:262: FutureWarning: pandas.Int64Index is deprecated and will be removed from pandas in a future version. Use pandas.Index with the appropriate dtype instead.\n",
      "  elif isinstance(data.columns, (pd.Int64Index, pd.RangeIndex)):\n"
     ]
    },
    {
     "name": "stdout",
     "output_type": "stream",
     "text": [
      "[1]\tvalidation_0-auc:0.92880\n",
      "[2]\tvalidation_0-auc:0.93652\n",
      "[3]\tvalidation_0-auc:0.94356\n",
      "[4]\tvalidation_0-auc:0.94524\n",
      "[5]\tvalidation_0-auc:0.94876\n",
      "[6]\tvalidation_0-auc:0.95039\n",
      "[7]\tvalidation_0-auc:0.95117\n",
      "[8]\tvalidation_0-auc:0.95288\n",
      "[9]\tvalidation_0-auc:0.95332\n",
      "[10]\tvalidation_0-auc:0.95425\n",
      "[11]\tvalidation_0-auc:0.95495\n",
      "[12]\tvalidation_0-auc:0.95606\n",
      "[13]\tvalidation_0-auc:0.95633\n",
      "[14]\tvalidation_0-auc:0.95670\n",
      "[15]\tvalidation_0-auc:0.95767\n",
      "[16]\tvalidation_0-auc:0.95833\n",
      "[17]\tvalidation_0-auc:0.95895\n",
      "[18]\tvalidation_0-auc:0.95947\n",
      "[19]\tvalidation_0-auc:0.96015\n",
      "[20]\tvalidation_0-auc:0.96055\n",
      "[21]\tvalidation_0-auc:0.96105\n",
      "[22]\tvalidation_0-auc:0.96152\n",
      "[23]\tvalidation_0-auc:0.96190\n",
      "[24]\tvalidation_0-auc:0.96221\n",
      "[25]\tvalidation_0-auc:0.96265\n",
      "[26]\tvalidation_0-auc:0.96314\n",
      "[27]\tvalidation_0-auc:0.96372\n",
      "[28]\tvalidation_0-auc:0.96410\n",
      "[29]\tvalidation_0-auc:0.96451\n",
      "[30]\tvalidation_0-auc:0.96502\n",
      "[31]\tvalidation_0-auc:0.96550\n",
      "[32]\tvalidation_0-auc:0.96617\n",
      "[33]\tvalidation_0-auc:0.96647\n",
      "[34]\tvalidation_0-auc:0.96697\n",
      "[35]\tvalidation_0-auc:0.96737\n",
      "[36]\tvalidation_0-auc:0.96785\n",
      "[37]\tvalidation_0-auc:0.96819\n",
      "[38]\tvalidation_0-auc:0.96859\n",
      "[39]\tvalidation_0-auc:0.96890\n",
      "[40]\tvalidation_0-auc:0.96926\n",
      "[41]\tvalidation_0-auc:0.96975\n",
      "[42]\tvalidation_0-auc:0.97017\n",
      "[43]\tvalidation_0-auc:0.97047\n",
      "[44]\tvalidation_0-auc:0.97077\n",
      "[45]\tvalidation_0-auc:0.97107\n",
      "[46]\tvalidation_0-auc:0.97158\n",
      "[47]\tvalidation_0-auc:0.97183\n",
      "[48]\tvalidation_0-auc:0.97213\n",
      "[49]\tvalidation_0-auc:0.97235\n",
      "[50]\tvalidation_0-auc:0.97281\n",
      "[51]\tvalidation_0-auc:0.97303\n",
      "[52]\tvalidation_0-auc:0.97322\n",
      "[53]\tvalidation_0-auc:0.97344\n",
      "[54]\tvalidation_0-auc:0.97370\n",
      "[55]\tvalidation_0-auc:0.97424\n",
      "[56]\tvalidation_0-auc:0.97444\n",
      "[57]\tvalidation_0-auc:0.97475\n",
      "[58]\tvalidation_0-auc:0.97495\n",
      "[59]\tvalidation_0-auc:0.97521\n",
      "[60]\tvalidation_0-auc:0.97544\n",
      "[61]\tvalidation_0-auc:0.97556\n",
      "[62]\tvalidation_0-auc:0.97574\n",
      "[63]\tvalidation_0-auc:0.97595\n",
      "[64]\tvalidation_0-auc:0.97625\n",
      "[65]\tvalidation_0-auc:0.97639\n",
      "[66]\tvalidation_0-auc:0.97672\n",
      "[67]\tvalidation_0-auc:0.97683\n",
      "[68]\tvalidation_0-auc:0.97708\n",
      "[69]\tvalidation_0-auc:0.97719\n",
      "[70]\tvalidation_0-auc:0.97728\n",
      "[71]\tvalidation_0-auc:0.97749\n",
      "[72]\tvalidation_0-auc:0.97775\n",
      "[73]\tvalidation_0-auc:0.97785\n",
      "[74]\tvalidation_0-auc:0.97803\n",
      "[75]\tvalidation_0-auc:0.97810\n",
      "[76]\tvalidation_0-auc:0.97830\n",
      "[77]\tvalidation_0-auc:0.97838\n",
      "[78]\tvalidation_0-auc:0.97860\n",
      "[79]\tvalidation_0-auc:0.97866\n",
      "[80]\tvalidation_0-auc:0.97886\n",
      "[81]\tvalidation_0-auc:0.97891\n",
      "[82]\tvalidation_0-auc:0.97900\n",
      "[83]\tvalidation_0-auc:0.97908\n",
      "[84]\tvalidation_0-auc:0.97923\n",
      "[85]\tvalidation_0-auc:0.97928\n",
      "[86]\tvalidation_0-auc:0.97941\n",
      "[87]\tvalidation_0-auc:0.97947\n",
      "[88]\tvalidation_0-auc:0.97961\n",
      "[89]\tvalidation_0-auc:0.97972\n",
      "[90]\tvalidation_0-auc:0.97978\n",
      "[91]\tvalidation_0-auc:0.97982\n",
      "[92]\tvalidation_0-auc:0.97999\n",
      "[93]\tvalidation_0-auc:0.98008\n",
      "[94]\tvalidation_0-auc:0.98015\n",
      "[95]\tvalidation_0-auc:0.98040\n",
      "[96]\tvalidation_0-auc:0.98051\n",
      "[97]\tvalidation_0-auc:0.98054\n",
      "[98]\tvalidation_0-auc:0.98064\n",
      "[99]\tvalidation_0-auc:0.98074\n"
     ]
    },
    {
     "data": {
      "text/plain": [
       "XGBClassifier(base_score=0.5, booster='gbtree', colsample_bylevel=1,\n",
       "              colsample_bynode=1, colsample_bytree=1, enable_categorical=False,\n",
       "              eval_metric=['auc', 'logloss'], gamma=0, gpu_id=-1,\n",
       "              importance_type=None, interaction_constraints='',\n",
       "              learning_rate=0.05, max_delta_step=0, max_depth=5,\n",
       "              min_child_weight=1, missing=nan, monotone_constraints='()',\n",
       "              n_estimators=100, n_jobs=4, num_parallel_tree=1, predictor='auto',\n",
       "              random_state=0, reg_alpha=0, reg_lambda=1, scale_pos_weight=1,\n",
       "              subsample=1, tree_method='exact', use_label_encoder=False,\n",
       "              validate_parameters=1, verbosity=None)"
      ]
     },
     "execution_count": 18,
     "metadata": {},
     "output_type": "execute_result"
    }
   ],
   "source": [
    "# Finally re-train the XGB model\n",
    "params = xgb.get_params()\n",
    "xgb_clf = xgboost.XGBClassifier(**params)\n",
    "xgb_clf.fit(X_train, y_train, eval_set=[(X_val, y_val)], early_stopping_rounds=20, eval_metric='auc')"
   ]
  },
  {
   "cell_type": "code",
   "execution_count": 19,
   "metadata": {},
   "outputs": [
    {
     "data": {
      "text/plain": [
       "['models/XGB_8.0.5.joblib']"
      ]
     },
     "execution_count": 19,
     "metadata": {},
     "output_type": "execute_result"
    }
   ],
   "source": [
    "dump(knn, 'models/KNN_8.0.5.joblib')\n",
    "dump(rfc, 'models/RFC_8.0.5.joblib')\n",
    "dump(dtc, 'models/DTC_8.0.5.joblib')\n",
    "dump(xgb, 'models/XGB_8.0.5.joblib')"
   ]
  }
 ],
 "metadata": {
  "interpreter": {
   "hash": "cbd4dc6d56a1e42dbf8f7497fabd23f5df4d7139d9bd66320241cd36a8438585"
  },
  "kernelspec": {
   "display_name": "Python 3.9.6 ('scientific')",
   "language": "python",
   "name": "python3"
  },
  "language_info": {
   "codemirror_mode": {
    "name": "ipython",
    "version": 3
   },
   "file_extension": ".py",
   "mimetype": "text/x-python",
   "name": "python",
   "nbconvert_exporter": "python",
   "pygments_lexer": "ipython3",
   "version": "3.9.6"
  },
  "orig_nbformat": 4
 },
 "nbformat": 4,
 "nbformat_minor": 2
}
