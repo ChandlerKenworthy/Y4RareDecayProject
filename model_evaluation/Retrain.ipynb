{
 "cells": [
  {
   "cell_type": "markdown",
   "metadata": {},
   "source": [
    "# Retraining Models\n",
    "As per Nigel's instructions it is probably best now to take our tuned models and retrain them in the normalisation mode. Hopefully it will still yield good results considering that this mode has a similar topology. "
   ]
  },
  {
   "cell_type": "code",
   "execution_count": 1,
   "metadata": {},
   "outputs": [
    {
     "name": "stderr",
     "output_type": "stream",
     "text": [
      "2022-04-18 14:34:28.594635: W tensorflow/stream_executor/platform/default/dso_loader.cc:64] Could not load dynamic library 'libcudart.so.11.0'; dlerror: libcudart.so.11.0: cannot open shared object file: No such file or directory\n",
      "2022-04-18 14:34:28.594684: I tensorflow/stream_executor/cuda/cudart_stub.cc:29] Ignore above cudart dlerror if you do not have a GPU set up on your machine.\n"
     ]
    }
   ],
   "source": [
    "import pandas as pd\n",
    "import numpy as np\n",
    "import tensorflow as tf\n",
    "from tensorflow.keras import callbacks\n",
    "from joblib import load, dump"
   ]
  },
  {
   "cell_type": "markdown",
   "metadata": {},
   "source": [
    "## Load Prerequisites\n",
    "We need to load the original models or their arhcitectures if they do not support retraining from their last saved weight point. We also need to load in the correct data. In this case version 8.0.5 is the normalisation mode data with preselection applied, the ratio of signal to background events forced to 1 and the mass sideband restriction implemented. The $q^2$ veto has also been applied."
   ]
  },
  {
   "cell_type": "code",
   "execution_count": 2,
   "metadata": {},
   "outputs": [
    {
     "name": "stderr",
     "output_type": "stream",
     "text": [
      "2022-04-18 14:34:41.340837: W tensorflow/stream_executor/platform/default/dso_loader.cc:64] Could not load dynamic library 'libcuda.so.1'; dlerror: libcuda.so.1: cannot open shared object file: No such file or directory\n",
      "2022-04-18 14:34:41.340884: W tensorflow/stream_executor/cuda/cuda_driver.cc:269] failed call to cuInit: UNKNOWN ERROR (303)\n",
      "2022-04-18 14:34:41.340916: I tensorflow/stream_executor/cuda/cuda_diagnostics.cc:156] kernel driver does not appear to be running on this host (eprexb.ph.bham.ac.uk): /proc/driver/nvidia/version does not exist\n",
      "2022-04-18 14:34:41.341216: I tensorflow/core/platform/cpu_feature_guard.cc:142] This TensorFlow binary is optimized with oneAPI Deep Neural Network Library (oneDNN) to use the following CPU instructions in performance-critical operations:  AVX2 FMA\n",
      "To enable them in other operations, rebuild TensorFlow with the appropriate compiler flags.\n",
      "/home/user211/envs/scientific/lib64/python3.9/site-packages/sklearn/base.py:329: UserWarning: Trying to unpickle estimator KNeighborsClassifier from version 0.24.2 when using version 1.0.2. This might lead to breaking code or invalid results. Use at your own risk. For more info please refer to:\n",
      "https://scikit-learn.org/stable/modules/model_persistence.html#security-maintainability-limitations\n",
      "  warnings.warn(\n",
      "/home/user211/envs/scientific/lib64/python3.9/site-packages/sklearn/base.py:329: UserWarning: Trying to unpickle estimator DecisionTreeClassifier from version 0.24.2 when using version 1.0.2. This might lead to breaking code or invalid results. Use at your own risk. For more info please refer to:\n",
      "https://scikit-learn.org/stable/modules/model_persistence.html#security-maintainability-limitations\n",
      "  warnings.warn(\n",
      "/home/user211/envs/scientific/lib64/python3.9/site-packages/sklearn/base.py:329: UserWarning: Trying to unpickle estimator RandomForestClassifier from version 0.24.2 when using version 1.0.2. This might lead to breaking code or invalid results. Use at your own risk. For more info please refer to:\n",
      "https://scikit-learn.org/stable/modules/model_persistence.html#security-maintainability-limitations\n",
      "  warnings.warn(\n",
      "/home/user211/envs/scientific/lib64/python3.9/site-packages/xgboost/compat.py:36: FutureWarning: pandas.Int64Index is deprecated and will be removed from pandas in a future version. Use pandas.Index with the appropriate dtype instead.\n",
      "  from pandas import MultiIndex, Int64Index\n"
     ]
    }
   ],
   "source": [
    "# Load the data\n",
    "base_path = \"../data_files\"\n",
    "version = \"8.0.5\"\n",
    "\n",
    "train = pd.read_csv(f'{base_path}/{version}/train.csv', index_col=[0])\n",
    "X_train, y_train = train.drop(['category', 'Lb_M', 'IsSimulated', 'QSQR'], axis=1), train.category\n",
    "\n",
    "val = pd.read_csv(f'{base_path}/{version}/val.csv', index_col=[0])\n",
    "X_val, y_val = val.drop(['category', 'Lb_M', 'IsSimulated', 'QSQR'], axis=1), val.category\n",
    "\n",
    "# Load the models\n",
    "nn = tf.keras.models.load_model(f'../neural_network/models/v9.0.5')\n",
    "knn = load(f'../classification_methods/models/KNN_9.0.5_tune.joblib')\n",
    "rfc = load(f'../classification_methods/models/RFC_9.0.5_tune.joblib')\n",
    "dtc = load(f'../classification_methods/models/DTC_9.0.5_tune.joblib')\n",
    "xgb = load(f'../classification_methods/models/XGB_9.0.5.joblib')"
   ]
  },
  {
   "cell_type": "markdown",
   "metadata": {},
   "source": [
    "## Retrain Models"
   ]
  },
  {
   "cell_type": "code",
   "execution_count": 5,
   "metadata": {},
   "outputs": [
    {
     "name": "stderr",
     "output_type": "stream",
     "text": [
      "2022-04-18 14:35:26.881749: I tensorflow/compiler/mlir/mlir_graph_optimization_pass.cc:185] None of the MLIR Optimization Passes are enabled (registered 2)\n"
     ]
    },
    {
     "name": "stdout",
     "output_type": "stream",
     "text": [
      "Epoch 1/80\n",
      "61/61 [==============================] - 4s 20ms/step - loss: 0.2504 - binary_accuracy: 0.9074 - auc: 0.9675 - true_positives: 14109.0000 - true_negatives: 14169.0000 - false_positives: 1422.0000 - false_negatives: 1463.0000 - val_loss: 0.2075 - val_binary_accuracy: 0.9214 - val_auc: 0.9788 - val_true_positives: 4829.0000 - val_true_negatives: 4743.0000 - val_false_positives: 412.0000 - val_false_negatives: 404.0000\n",
      "Epoch 2/80\n",
      "61/61 [==============================] - 0s 8ms/step - loss: 0.2188 - binary_accuracy: 0.9195 - auc: 0.9755 - true_positives: 14354.0000 - true_negatives: 14301.0000 - false_positives: 1290.0000 - false_negatives: 1218.0000 - val_loss: 0.1967 - val_binary_accuracy: 0.9265 - val_auc: 0.9822 - val_true_positives: 4761.0000 - val_true_negatives: 4864.0000 - val_false_positives: 291.0000 - val_false_negatives: 472.0000\n",
      "Epoch 3/80\n",
      "61/61 [==============================] - 1s 8ms/step - loss: 0.2129 - binary_accuracy: 0.9219 - auc: 0.9769 - true_positives: 14379.0000 - true_negatives: 14351.0000 - false_positives: 1240.0000 - false_negatives: 1193.0000 - val_loss: 0.1894 - val_binary_accuracy: 0.9308 - val_auc: 0.9829 - val_true_positives: 4864.0000 - val_true_negatives: 4805.0000 - val_false_positives: 350.0000 - val_false_negatives: 369.0000\n",
      "Epoch 4/80\n",
      "61/61 [==============================] - 1s 8ms/step - loss: 0.2098 - binary_accuracy: 0.9231 - auc: 0.9776 - true_positives: 14440.0000 - true_negatives: 14328.0000 - false_positives: 1263.0000 - false_negatives: 1132.0000 - val_loss: 0.1871 - val_binary_accuracy: 0.9320 - val_auc: 0.9835 - val_true_positives: 4853.0000 - val_true_negatives: 4829.0000 - val_false_positives: 326.0000 - val_false_negatives: 380.0000\n",
      "Epoch 5/80\n",
      "61/61 [==============================] - 1s 8ms/step - loss: 0.2110 - binary_accuracy: 0.9225 - auc: 0.9773 - true_positives: 14403.0000 - true_negatives: 14346.0000 - false_positives: 1245.0000 - false_negatives: 1169.0000 - val_loss: 0.1905 - val_binary_accuracy: 0.9307 - val_auc: 0.9830 - val_true_positives: 4882.0000 - val_true_negatives: 4786.0000 - val_false_positives: 369.0000 - val_false_negatives: 351.0000\n",
      "Epoch 6/80\n",
      "61/61 [==============================] - 1s 8ms/step - loss: 0.2059 - binary_accuracy: 0.9256 - auc: 0.9784 - true_positives: 14474.0000 - true_negatives: 14371.0000 - false_positives: 1220.0000 - false_negatives: 1098.0000 - val_loss: 0.1961 - val_binary_accuracy: 0.9272 - val_auc: 0.9834 - val_true_positives: 4722.0000 - val_true_negatives: 4910.0000 - val_false_positives: 245.0000 - val_false_negatives: 511.0000\n",
      "Epoch 7/80\n",
      "61/61 [==============================] - 1s 8ms/step - loss: 0.2041 - binary_accuracy: 0.9247 - auc: 0.9789 - true_positives: 14438.0000 - true_negatives: 14378.0000 - false_positives: 1213.0000 - false_negatives: 1134.0000 - val_loss: 0.1792 - val_binary_accuracy: 0.9357 - val_auc: 0.9848 - val_true_positives: 4924.0000 - val_true_negatives: 4796.0000 - val_false_positives: 359.0000 - val_false_negatives: 309.0000\n",
      "Epoch 8/80\n",
      "61/61 [==============================] - 1s 8ms/step - loss: 0.2008 - binary_accuracy: 0.9290 - auc: 0.9796 - true_positives: 14501.0000 - true_negatives: 14449.0000 - false_positives: 1142.0000 - false_negatives: 1071.0000 - val_loss: 0.1794 - val_binary_accuracy: 0.9353 - val_auc: 0.9844 - val_true_positives: 4984.0000 - val_true_negatives: 4732.0000 - val_false_positives: 423.0000 - val_false_negatives: 249.0000\n",
      "Epoch 9/80\n",
      "61/61 [==============================] - 0s 8ms/step - loss: 0.1989 - binary_accuracy: 0.9287 - auc: 0.9799 - true_positives: 14525.0000 - true_negatives: 14415.0000 - false_positives: 1176.0000 - false_negatives: 1047.0000 - val_loss: 0.1771 - val_binary_accuracy: 0.9364 - val_auc: 0.9851 - val_true_positives: 4960.0000 - val_true_negatives: 4767.0000 - val_false_positives: 388.0000 - val_false_negatives: 273.0000\n",
      "Epoch 10/80\n",
      "61/61 [==============================] - 1s 8ms/step - loss: 0.1987 - binary_accuracy: 0.9291 - auc: 0.9800 - true_positives: 14491.0000 - true_negatives: 14461.0000 - false_positives: 1130.0000 - false_negatives: 1081.0000 - val_loss: 0.1752 - val_binary_accuracy: 0.9382 - val_auc: 0.9855 - val_true_positives: 4884.0000 - val_true_negatives: 4862.0000 - val_false_positives: 293.0000 - val_false_negatives: 349.0000\n",
      "Epoch 11/80\n",
      "61/61 [==============================] - 0s 8ms/step - loss: 0.1968 - binary_accuracy: 0.9302 - auc: 0.9805 - true_positives: 14523.0000 - true_negatives: 14465.0000 - false_positives: 1126.0000 - false_negatives: 1049.0000 - val_loss: 0.1699 - val_binary_accuracy: 0.9419 - val_auc: 0.9861 - val_true_positives: 4958.0000 - val_true_negatives: 4826.0000 - val_false_positives: 329.0000 - val_false_negatives: 275.0000\n",
      "Epoch 12/80\n",
      "61/61 [==============================] - 1s 8ms/step - loss: 0.1913 - binary_accuracy: 0.9319 - auc: 0.9814 - true_positives: 14558.0000 - true_negatives: 14482.0000 - false_positives: 1109.0000 - false_negatives: 1014.0000 - val_loss: 0.1725 - val_binary_accuracy: 0.9396 - val_auc: 0.9859 - val_true_positives: 5009.0000 - val_true_negatives: 4752.0000 - val_false_positives: 403.0000 - val_false_negatives: 224.0000\n",
      "Epoch 13/80\n",
      "61/61 [==============================] - 1s 8ms/step - loss: 0.1952 - binary_accuracy: 0.9321 - auc: 0.9807 - true_positives: 14530.0000 - true_negatives: 14516.0000 - false_positives: 1075.0000 - false_negatives: 1042.0000 - val_loss: 0.1756 - val_binary_accuracy: 0.9360 - val_auc: 0.9857 - val_true_positives: 5035.0000 - val_true_negatives: 4688.0000 - val_false_positives: 467.0000 - val_false_negatives: 198.0000\n",
      "Epoch 14/80\n",
      "61/61 [==============================] - 1s 8ms/step - loss: 0.1930 - binary_accuracy: 0.9324 - auc: 0.9813 - true_positives: 14544.0000 - true_negatives: 14511.0000 - false_positives: 1080.0000 - false_negatives: 1028.0000 - val_loss: 0.1680 - val_binary_accuracy: 0.9435 - val_auc: 0.9873 - val_true_positives: 4948.0000 - val_true_negatives: 4853.0000 - val_false_positives: 302.0000 - val_false_negatives: 285.0000\n",
      "Epoch 15/80\n",
      "61/61 [==============================] - 1s 8ms/step - loss: 0.1944 - binary_accuracy: 0.9316 - auc: 0.9809 - true_positives: 14536.0000 - true_negatives: 14496.0000 - false_positives: 1095.0000 - false_negatives: 1036.0000 - val_loss: 0.1680 - val_binary_accuracy: 0.9401 - val_auc: 0.9865 - val_true_positives: 4939.0000 - val_true_negatives: 4827.0000 - val_false_positives: 328.0000 - val_false_negatives: 294.0000\n",
      "Epoch 16/80\n",
      "61/61 [==============================] - 1s 8ms/step - loss: 0.1940 - binary_accuracy: 0.9315 - auc: 0.9810 - true_positives: 14542.0000 - true_negatives: 14487.0000 - false_positives: 1104.0000 - false_negatives: 1030.0000 - val_loss: 0.1653 - val_binary_accuracy: 0.9438 - val_auc: 0.9871 - val_true_positives: 4951.0000 - val_true_negatives: 4853.0000 - val_false_positives: 302.0000 - val_false_negatives: 282.0000\n",
      "Epoch 17/80\n",
      "61/61 [==============================] - 0s 8ms/step - loss: 0.1901 - binary_accuracy: 0.9333 - auc: 0.9817 - true_positives: 14543.0000 - true_negatives: 14541.0000 - false_positives: 1050.0000 - false_negatives: 1029.0000 - val_loss: 0.1682 - val_binary_accuracy: 0.9404 - val_auc: 0.9864 - val_true_positives: 4947.0000 - val_true_negatives: 4822.0000 - val_false_positives: 333.0000 - val_false_negatives: 286.0000\n",
      "Epoch 18/80\n",
      "61/61 [==============================] - 1s 8ms/step - loss: 0.1879 - binary_accuracy: 0.9357 - auc: 0.9820 - true_positives: 14602.0000 - true_negatives: 14556.0000 - false_positives: 1035.0000 - false_negatives: 970.0000 - val_loss: 0.1688 - val_binary_accuracy: 0.9426 - val_auc: 0.9866 - val_true_positives: 4988.0000 - val_true_negatives: 4804.0000 - val_false_positives: 351.0000 - val_false_negatives: 245.0000\n",
      "Epoch 19/80\n",
      "61/61 [==============================] - 0s 8ms/step - loss: 0.1893 - binary_accuracy: 0.9320 - auc: 0.9819 - true_positives: 14536.0000 - true_negatives: 14509.0000 - false_positives: 1082.0000 - false_negatives: 1036.0000 - val_loss: 0.1649 - val_binary_accuracy: 0.9418 - val_auc: 0.9870 - val_true_positives: 4970.0000 - val_true_negatives: 4813.0000 - val_false_positives: 342.0000 - val_false_negatives: 263.0000\n",
      "Epoch 20/80\n",
      "61/61 [==============================] - 0s 8ms/step - loss: 0.1900 - binary_accuracy: 0.9345 - auc: 0.9817 - true_positives: 14582.0000 - true_negatives: 14539.0000 - false_positives: 1052.0000 - false_negatives: 990.0000 - val_loss: 0.1645 - val_binary_accuracy: 0.9442 - val_auc: 0.9872 - val_true_positives: 5027.0000 - val_true_negatives: 4781.0000 - val_false_positives: 374.0000 - val_false_negatives: 206.0000\n",
      "Epoch 21/80\n",
      "61/61 [==============================] - 0s 8ms/step - loss: 0.1894 - binary_accuracy: 0.9330 - auc: 0.9819 - true_positives: 14597.0000 - true_negatives: 14477.0000 - false_positives: 1114.0000 - false_negatives: 975.0000 - val_loss: 0.1696 - val_binary_accuracy: 0.9405 - val_auc: 0.9872 - val_true_positives: 4846.0000 - val_true_negatives: 4924.0000 - val_false_positives: 231.0000 - val_false_negatives: 387.0000\n",
      "Epoch 22/80\n",
      "61/61 [==============================] - 0s 8ms/step - loss: 0.1887 - binary_accuracy: 0.9329 - auc: 0.9820 - true_positives: 14545.0000 - true_negatives: 14527.0000 - false_positives: 1064.0000 - false_negatives: 1027.0000 - val_loss: 0.1656 - val_binary_accuracy: 0.9403 - val_auc: 0.9870 - val_true_positives: 4934.0000 - val_true_negatives: 4834.0000 - val_false_positives: 321.0000 - val_false_negatives: 299.0000\n",
      "Epoch 23/80\n",
      "61/61 [==============================] - 0s 8ms/step - loss: 0.1891 - binary_accuracy: 0.9341 - auc: 0.9819 - true_positives: 14554.0000 - true_negatives: 14556.0000 - false_positives: 1035.0000 - false_negatives: 1018.0000 - val_loss: 0.1695 - val_binary_accuracy: 0.9420 - val_auc: 0.9861 - val_true_positives: 4986.0000 - val_true_negatives: 4799.0000 - val_false_positives: 356.0000 - val_false_negatives: 247.0000\n",
      "Epoch 24/80\n",
      "61/61 [==============================] - 0s 8ms/step - loss: 0.1883 - binary_accuracy: 0.9340 - auc: 0.9820 - true_positives: 14563.0000 - true_negatives: 14544.0000 - false_positives: 1047.0000 - false_negatives: 1009.0000 - val_loss: 0.1694 - val_binary_accuracy: 0.9410 - val_auc: 0.9862 - val_true_positives: 4968.0000 - val_true_negatives: 4807.0000 - val_false_positives: 348.0000 - val_false_negatives: 265.0000\n",
      "Epoch 25/80\n",
      "61/61 [==============================] - 0s 8ms/step - loss: 0.1873 - binary_accuracy: 0.9345 - auc: 0.9823 - true_positives: 14596.0000 - true_negatives: 14525.0000 - false_positives: 1066.0000 - false_negatives: 976.0000 - val_loss: 0.1731 - val_binary_accuracy: 0.9399 - val_auc: 0.9856 - val_true_positives: 4985.0000 - val_true_negatives: 4779.0000 - val_false_positives: 376.0000 - val_false_negatives: 248.0000\n",
      "Epoch 26/80\n",
      "61/61 [==============================] - 1s 8ms/step - loss: 0.1887 - binary_accuracy: 0.9346 - auc: 0.9820 - true_positives: 14580.0000 - true_negatives: 14546.0000 - false_positives: 1045.0000 - false_negatives: 992.0000 - val_loss: 0.1653 - val_binary_accuracy: 0.9431 - val_auc: 0.9870 - val_true_positives: 4988.0000 - val_true_negatives: 4809.0000 - val_false_positives: 346.0000 - val_false_negatives: 245.0000\n",
      "Epoch 27/80\n",
      "61/61 [==============================] - 1s 8ms/step - loss: 0.1862 - binary_accuracy: 0.9368 - auc: 0.9824 - true_positives: 14622.0000 - true_negatives: 14570.0000 - false_positives: 1021.0000 - false_negatives: 950.0000 - val_loss: 0.1676 - val_binary_accuracy: 0.9405 - val_auc: 0.9864 - val_true_positives: 4953.0000 - val_true_negatives: 4817.0000 - val_false_positives: 338.0000 - val_false_negatives: 280.0000\n",
      "Epoch 28/80\n",
      "61/61 [==============================] - 0s 8ms/step - loss: 0.1904 - binary_accuracy: 0.9339 - auc: 0.9817 - true_positives: 14573.0000 - true_negatives: 14530.0000 - false_positives: 1061.0000 - false_negatives: 999.0000 - val_loss: 0.1781 - val_binary_accuracy: 0.9376 - val_auc: 0.9850 - val_true_positives: 5020.0000 - val_true_negatives: 4720.0000 - val_false_positives: 435.0000 - val_false_negatives: 213.0000\n",
      "Epoch 29/80\n",
      "61/61 [==============================] - 1s 8ms/step - loss: 0.1873 - binary_accuracy: 0.9352 - auc: 0.9821 - true_positives: 14589.0000 - true_negatives: 14555.0000 - false_positives: 1036.0000 - false_negatives: 983.0000 - val_loss: 0.1669 - val_binary_accuracy: 0.9423 - val_auc: 0.9871 - val_true_positives: 5034.0000 - val_true_negatives: 4755.0000 - val_false_positives: 400.0000 - val_false_negatives: 199.0000\n",
      "Epoch 30/80\n",
      "61/61 [==============================] - 1s 8ms/step - loss: 0.1891 - binary_accuracy: 0.9342 - auc: 0.9819 - true_positives: 14593.0000 - true_negatives: 14518.0000 - false_positives: 1073.0000 - false_negatives: 979.0000 - val_loss: 0.1688 - val_binary_accuracy: 0.9404 - val_auc: 0.9864 - val_true_positives: 4992.0000 - val_true_negatives: 4777.0000 - val_false_positives: 378.0000 - val_false_negatives: 241.0000\n",
      "Epoch 31/80\n",
      "61/61 [==============================] - 1s 8ms/step - loss: 0.1873 - binary_accuracy: 0.9358 - auc: 0.9823 - true_positives: 14603.0000 - true_negatives: 14558.0000 - false_positives: 1033.0000 - false_negatives: 969.0000 - val_loss: 0.1574 - val_binary_accuracy: 0.9472 - val_auc: 0.9882 - val_true_positives: 5035.0000 - val_true_negatives: 4804.0000 - val_false_positives: 351.0000 - val_false_negatives: 198.0000\n",
      "Epoch 32/80\n",
      "61/61 [==============================] - 1s 8ms/step - loss: 0.1870 - binary_accuracy: 0.9351 - auc: 0.9823 - true_positives: 14603.0000 - true_negatives: 14537.0000 - false_positives: 1054.0000 - false_negatives: 969.0000 - val_loss: 0.1627 - val_binary_accuracy: 0.9422 - val_auc: 0.9876 - val_true_positives: 4896.0000 - val_true_negatives: 4892.0000 - val_false_positives: 263.0000 - val_false_negatives: 337.0000\n",
      "Epoch 33/80\n",
      "61/61 [==============================] - 1s 8ms/step - loss: 0.1865 - binary_accuracy: 0.9344 - auc: 0.9824 - true_positives: 14576.0000 - true_negatives: 14543.0000 - false_positives: 1048.0000 - false_negatives: 996.0000 - val_loss: 0.1675 - val_binary_accuracy: 0.9402 - val_auc: 0.9867 - val_true_positives: 4998.0000 - val_true_negatives: 4769.0000 - val_false_positives: 386.0000 - val_false_negatives: 235.0000\n",
      "Epoch 34/80\n",
      "61/61 [==============================] - 1s 8ms/step - loss: 0.1866 - binary_accuracy: 0.9368 - auc: 0.9823 - true_positives: 14599.0000 - true_negatives: 14593.0000 - false_positives: 998.0000 - false_negatives: 973.0000 - val_loss: 0.1670 - val_binary_accuracy: 0.9425 - val_auc: 0.9868 - val_true_positives: 5026.0000 - val_true_negatives: 4765.0000 - val_false_positives: 390.0000 - val_false_negatives: 207.0000\n",
      "Epoch 35/80\n",
      "61/61 [==============================] - 1s 8ms/step - loss: 0.1848 - binary_accuracy: 0.9352 - auc: 0.9829 - true_positives: 14592.0000 - true_negatives: 14552.0000 - false_positives: 1039.0000 - false_negatives: 980.0000 - val_loss: 0.1770 - val_binary_accuracy: 0.9350 - val_auc: 0.9849 - val_true_positives: 4895.0000 - val_true_negatives: 4818.0000 - val_false_positives: 337.0000 - val_false_negatives: 338.0000\n",
      "Epoch 36/80\n",
      "61/61 [==============================] - 1s 8ms/step - loss: 0.1858 - binary_accuracy: 0.9342 - auc: 0.9827 - true_positives: 14574.0000 - true_negatives: 14538.0000 - false_positives: 1053.0000 - false_negatives: 998.0000 - val_loss: 0.1643 - val_binary_accuracy: 0.9423 - val_auc: 0.9874 - val_true_positives: 5018.0000 - val_true_negatives: 4771.0000 - val_false_positives: 384.0000 - val_false_negatives: 215.0000\n",
      "Epoch 37/80\n",
      "61/61 [==============================] - 0s 8ms/step - loss: 0.1854 - binary_accuracy: 0.9358 - auc: 0.9826 - true_positives: 14609.0000 - true_negatives: 14553.0000 - false_positives: 1038.0000 - false_negatives: 963.0000 - val_loss: 0.1628 - val_binary_accuracy: 0.9427 - val_auc: 0.9877 - val_true_positives: 4952.0000 - val_true_negatives: 4841.0000 - val_false_positives: 314.0000 - val_false_negatives: 281.0000\n",
      "Epoch 38/80\n",
      "61/61 [==============================] - 1s 8ms/step - loss: 0.1868 - binary_accuracy: 0.9360 - auc: 0.9822 - true_positives: 14615.0000 - true_negatives: 14553.0000 - false_positives: 1038.0000 - false_negatives: 957.0000 - val_loss: 0.1670 - val_binary_accuracy: 0.9420 - val_auc: 0.9867 - val_true_positives: 4995.0000 - val_true_negatives: 4790.0000 - val_false_positives: 365.0000 - val_false_negatives: 238.0000\n",
      "Epoch 39/80\n",
      "61/61 [==============================] - 1s 8ms/step - loss: 0.1862 - binary_accuracy: 0.9361 - auc: 0.9825 - true_positives: 14630.0000 - true_negatives: 14542.0000 - false_positives: 1049.0000 - false_negatives: 942.0000 - val_loss: 0.1682 - val_binary_accuracy: 0.9391 - val_auc: 0.9864 - val_true_positives: 4994.0000 - val_true_negatives: 4761.0000 - val_false_positives: 394.0000 - val_false_negatives: 239.0000\n",
      "Epoch 40/80\n",
      "61/61 [==============================] - 1s 8ms/step - loss: 0.1854 - binary_accuracy: 0.9359 - auc: 0.9825 - true_positives: 14609.0000 - true_negatives: 14558.0000 - false_positives: 1033.0000 - false_negatives: 963.0000 - val_loss: 0.1642 - val_binary_accuracy: 0.9432 - val_auc: 0.9875 - val_true_positives: 4998.0000 - val_true_negatives: 4800.0000 - val_false_positives: 355.0000 - val_false_negatives: 235.0000\n",
      "Epoch 41/80\n",
      "61/61 [==============================] - 0s 8ms/step - loss: 0.1853 - binary_accuracy: 0.9359 - auc: 0.9825 - true_positives: 14587.0000 - true_negatives: 14579.0000 - false_positives: 1012.0000 - false_negatives: 985.0000 - val_loss: 0.1681 - val_binary_accuracy: 0.9418 - val_auc: 0.9873 - val_true_positives: 5071.0000 - val_true_negatives: 4712.0000 - val_false_positives: 443.0000 - val_false_negatives: 162.0000\n",
      "Epoch 42/80\n",
      "61/61 [==============================] - 1s 8ms/step - loss: 0.1882 - binary_accuracy: 0.9348 - auc: 0.9822 - true_positives: 14622.0000 - true_negatives: 14510.0000 - false_positives: 1081.0000 - false_negatives: 950.0000 - val_loss: 0.1693 - val_binary_accuracy: 0.9393 - val_auc: 0.9861 - val_true_positives: 4963.0000 - val_true_negatives: 4794.0000 - val_false_positives: 361.0000 - val_false_negatives: 270.0000\n",
      "Epoch 43/80\n",
      "61/61 [==============================] - 1s 8ms/step - loss: 0.1861 - binary_accuracy: 0.9344 - auc: 0.9826 - true_positives: 14592.0000 - true_negatives: 14526.0000 - false_positives: 1065.0000 - false_negatives: 980.0000 - val_loss: 0.1639 - val_binary_accuracy: 0.9422 - val_auc: 0.9872 - val_true_positives: 4997.0000 - val_true_negatives: 4791.0000 - val_false_positives: 364.0000 - val_false_negatives: 236.0000\n",
      "Epoch 44/80\n",
      "61/61 [==============================] - 1s 8ms/step - loss: 0.1876 - binary_accuracy: 0.9345 - auc: 0.9822 - true_positives: 14589.0000 - true_negatives: 14534.0000 - false_positives: 1057.0000 - false_negatives: 983.0000 - val_loss: 0.1658 - val_binary_accuracy: 0.9434 - val_auc: 0.9867 - val_true_positives: 5004.0000 - val_true_negatives: 4796.0000 - val_false_positives: 359.0000 - val_false_negatives: 229.0000\n",
      "Epoch 45/80\n",
      "61/61 [==============================] - 0s 8ms/step - loss: 0.1864 - binary_accuracy: 0.9345 - auc: 0.9825 - true_positives: 14569.0000 - true_negatives: 14553.0000 - false_positives: 1038.0000 - false_negatives: 1003.0000 - val_loss: 0.1678 - val_binary_accuracy: 0.9431 - val_auc: 0.9874 - val_true_positives: 5065.0000 - val_true_negatives: 4732.0000 - val_false_positives: 423.0000 - val_false_negatives: 168.0000\n",
      "Epoch 46/80\n",
      "61/61 [==============================] - 1s 8ms/step - loss: 0.1872 - binary_accuracy: 0.9343 - auc: 0.9824 - true_positives: 14571.0000 - true_negatives: 14546.0000 - false_positives: 1045.0000 - false_negatives: 1001.0000 - val_loss: 0.1736 - val_binary_accuracy: 0.9395 - val_auc: 0.9858 - val_true_positives: 5015.0000 - val_true_negatives: 4745.0000 - val_false_positives: 410.0000 - val_false_negatives: 218.0000\n",
      "Epoch 47/80\n",
      "61/61 [==============================] - 0s 8ms/step - loss: 0.1842 - binary_accuracy: 0.9363 - auc: 0.9829 - true_positives: 14622.0000 - true_negatives: 14557.0000 - false_positives: 1034.0000 - false_negatives: 950.0000 - val_loss: 0.1633 - val_binary_accuracy: 0.9438 - val_auc: 0.9874 - val_true_positives: 5017.0000 - val_true_negatives: 4787.0000 - val_false_positives: 368.0000 - val_false_negatives: 216.0000\n",
      "Epoch 48/80\n",
      "61/61 [==============================] - 0s 8ms/step - loss: 0.1856 - binary_accuracy: 0.9359 - auc: 0.9825 - true_positives: 14594.0000 - true_negatives: 14572.0000 - false_positives: 1019.0000 - false_negatives: 978.0000 - val_loss: 0.1721 - val_binary_accuracy: 0.9382 - val_auc: 0.9872 - val_true_positives: 5075.0000 - val_true_negatives: 4671.0000 - val_false_positives: 484.0000 - val_false_negatives: 158.0000\n",
      "Epoch 49/80\n",
      "61/61 [==============================] - 0s 8ms/step - loss: 0.1872 - binary_accuracy: 0.9352 - auc: 0.9822 - true_positives: 14597.0000 - true_negatives: 14548.0000 - false_positives: 1043.0000 - false_negatives: 975.0000 - val_loss: 0.1656 - val_binary_accuracy: 0.9420 - val_auc: 0.9874 - val_true_positives: 5026.0000 - val_true_negatives: 4760.0000 - val_false_positives: 395.0000 - val_false_negatives: 207.0000\n",
      "Epoch 50/80\n",
      "61/61 [==============================] - 1s 9ms/step - loss: 0.1844 - binary_accuracy: 0.9344 - auc: 0.9830 - true_positives: 14580.0000 - true_negatives: 14540.0000 - false_positives: 1051.0000 - false_negatives: 992.0000 - val_loss: 0.1663 - val_binary_accuracy: 0.9417 - val_auc: 0.9867 - val_true_positives: 4964.0000 - val_true_negatives: 4818.0000 - val_false_positives: 337.0000 - val_false_negatives: 269.0000\n",
      "Epoch 51/80\n",
      "61/61 [==============================] - 1s 8ms/step - loss: 0.1841 - binary_accuracy: 0.9361 - auc: 0.9828 - true_positives: 14588.0000 - true_negatives: 14585.0000 - false_positives: 1006.0000 - false_negatives: 984.0000 - val_loss: 0.1663 - val_binary_accuracy: 0.9419 - val_auc: 0.9867 - val_true_positives: 5008.0000 - val_true_negatives: 4776.0000 - val_false_positives: 379.0000 - val_false_negatives: 225.0000\n"
     ]
    }
   ],
   "source": [
    "# Neural Network\n",
    "myCallbacks = [\n",
    "    callbacks.EarlyStopping(patience=20, min_delta=0.0005, restore_best_weights=True), \n",
    "    callbacks.ReduceLROnPlateau(patience=5, factor=0.2, min_lr=0.001)\n",
    "    ]\n",
    "\n",
    "history = nn.fit(X_train, y_train, validation_data=(X_val, y_val), epochs=80, batch_size=512, callbacks=myCallbacks, verbose=1)"
   ]
  },
  {
   "cell_type": "code",
   "execution_count": 6,
   "metadata": {},
   "outputs": [
    {
     "name": "stdout",
     "output_type": "stream",
     "text": [
      "WARNING:tensorflow:AutoGraph could not transform <function trace_model_call.<locals>._wrapped_model at 0x7ff0342bee50> and will run it as-is.\n",
      "Please report this to the TensorFlow team. When filing the bug, set the verbosity to 10 (on Linux, `export AUTOGRAPH_VERBOSITY=10`) and attach the full output.\n",
      "Cause: unsupported operand type(s) for -: 'NoneType' and 'int'\n",
      "To silence this warning, decorate the function with @tf.autograph.experimental.do_not_convert\n",
      "WARNING: AutoGraph could not transform <function trace_model_call.<locals>._wrapped_model at 0x7ff0342bee50> and will run it as-is.\n",
      "Please report this to the TensorFlow team. When filing the bug, set the verbosity to 10 (on Linux, `export AUTOGRAPH_VERBOSITY=10`) and attach the full output.\n",
      "Cause: unsupported operand type(s) for -: 'NoneType' and 'int'\n",
      "To silence this warning, decorate the function with @tf.autograph.experimental.do_not_convert\n",
      "WARNING:tensorflow:AutoGraph could not transform <function canonicalize_signatures.<locals>.signature_wrapper at 0x7fefd8709700> and will run it as-is.\n",
      "Please report this to the TensorFlow team. When filing the bug, set the verbosity to 10 (on Linux, `export AUTOGRAPH_VERBOSITY=10`) and attach the full output.\n",
      "Cause: unsupported operand type(s) for -: 'NoneType' and 'int'\n",
      "To silence this warning, decorate the function with @tf.autograph.experimental.do_not_convert\n",
      "WARNING: AutoGraph could not transform <function canonicalize_signatures.<locals>.signature_wrapper at 0x7fefd8709700> and will run it as-is.\n",
      "Please report this to the TensorFlow team. When filing the bug, set the verbosity to 10 (on Linux, `export AUTOGRAPH_VERBOSITY=10`) and attach the full output.\n",
      "Cause: unsupported operand type(s) for -: 'NoneType' and 'int'\n",
      "To silence this warning, decorate the function with @tf.autograph.experimental.do_not_convert\n"
     ]
    },
    {
     "name": "stderr",
     "output_type": "stream",
     "text": [
      "2022-04-18 14:36:13.419012: W tensorflow/python/util/util.cc:348] Sets are not currently considered sequences, but this may change in the future, so consider avoiding using them.\n"
     ]
    },
    {
     "name": "stdout",
     "output_type": "stream",
     "text": [
      "INFO:tensorflow:Assets written to: models/NN_8.0.5/assets\n"
     ]
    }
   ],
   "source": [
    "nn.save('models/NN_8.0.5')"
   ]
  },
  {
   "cell_type": "code",
   "execution_count": 7,
   "metadata": {},
   "outputs": [
    {
     "data": {
      "text/plain": [
       "DecisionTreeClassifier(max_depth=6)"
      ]
     },
     "execution_count": 7,
     "metadata": {},
     "output_type": "execute_result"
    }
   ],
   "source": [
    "from sklearn.neighbors import KNeighborsClassifier\n",
    "from sklearn.ensemble import RandomForestClassifier\n",
    "from sklearn.tree import DecisionTreeClassifier\n",
    "import xgboost\n",
    "\n",
    "# Other models need to be re-trained from the start\n",
    "knn = KNeighborsClassifier(n_neighbors=15, leaf_size=30, weights='uniform', p=2)\n",
    "knn.fit(X_train, y_train)\n",
    "\n",
    "rfc = RandomForestClassifier(n_estimators=80, min_weight_fraction_leaf=0.0, max_depth=8, min_samples_split=2)\n",
    "rfc.fit(X_train, y_train)\n",
    "\n",
    "dtc = DecisionTreeClassifier(max_depth=6)\n",
    "dtc.fit(X_train, y_train)"
   ]
  },
  {
   "cell_type": "code",
   "execution_count": 8,
   "metadata": {},
   "outputs": [
    {
     "name": "stdout",
     "output_type": "stream",
     "text": [
      "[0]\tvalidation_0-auc:0.92548\n",
      "[1]\tvalidation_0-auc:0.92880\n"
     ]
    },
    {
     "name": "stderr",
     "output_type": "stream",
     "text": [
      "/home/user211/envs/scientific/lib64/python3.9/site-packages/xgboost/data.py:262: FutureWarning: pandas.Int64Index is deprecated and will be removed from pandas in a future version. Use pandas.Index with the appropriate dtype instead.\n",
      "  elif isinstance(data.columns, (pd.Int64Index, pd.RangeIndex)):\n"
     ]
    },
    {
     "name": "stdout",
     "output_type": "stream",
     "text": [
      "[2]\tvalidation_0-auc:0.93652\n",
      "[3]\tvalidation_0-auc:0.94356\n",
      "[4]\tvalidation_0-auc:0.94524\n",
      "[5]\tvalidation_0-auc:0.94876\n",
      "[6]\tvalidation_0-auc:0.95039\n",
      "[7]\tvalidation_0-auc:0.95117\n",
      "[8]\tvalidation_0-auc:0.95288\n",
      "[9]\tvalidation_0-auc:0.95332\n",
      "[10]\tvalidation_0-auc:0.95425\n",
      "[11]\tvalidation_0-auc:0.95495\n",
      "[12]\tvalidation_0-auc:0.95606\n",
      "[13]\tvalidation_0-auc:0.95633\n",
      "[14]\tvalidation_0-auc:0.95670\n",
      "[15]\tvalidation_0-auc:0.95767\n",
      "[16]\tvalidation_0-auc:0.95833\n",
      "[17]\tvalidation_0-auc:0.95895\n",
      "[18]\tvalidation_0-auc:0.95947\n",
      "[19]\tvalidation_0-auc:0.96015\n",
      "[20]\tvalidation_0-auc:0.96055\n",
      "[21]\tvalidation_0-auc:0.96105\n",
      "[22]\tvalidation_0-auc:0.96152\n",
      "[23]\tvalidation_0-auc:0.96190\n",
      "[24]\tvalidation_0-auc:0.96221\n",
      "[25]\tvalidation_0-auc:0.96265\n",
      "[26]\tvalidation_0-auc:0.96314\n",
      "[27]\tvalidation_0-auc:0.96372\n",
      "[28]\tvalidation_0-auc:0.96410\n",
      "[29]\tvalidation_0-auc:0.96451\n",
      "[30]\tvalidation_0-auc:0.96502\n",
      "[31]\tvalidation_0-auc:0.96550\n",
      "[32]\tvalidation_0-auc:0.96617\n",
      "[33]\tvalidation_0-auc:0.96647\n",
      "[34]\tvalidation_0-auc:0.96697\n",
      "[35]\tvalidation_0-auc:0.96737\n",
      "[36]\tvalidation_0-auc:0.96785\n",
      "[37]\tvalidation_0-auc:0.96819\n",
      "[38]\tvalidation_0-auc:0.96859\n",
      "[39]\tvalidation_0-auc:0.96890\n",
      "[40]\tvalidation_0-auc:0.96926\n",
      "[41]\tvalidation_0-auc:0.96975\n",
      "[42]\tvalidation_0-auc:0.97017\n",
      "[43]\tvalidation_0-auc:0.97047\n",
      "[44]\tvalidation_0-auc:0.97077\n",
      "[45]\tvalidation_0-auc:0.97107\n",
      "[46]\tvalidation_0-auc:0.97158\n",
      "[47]\tvalidation_0-auc:0.97183\n",
      "[48]\tvalidation_0-auc:0.97213\n",
      "[49]\tvalidation_0-auc:0.97235\n",
      "[50]\tvalidation_0-auc:0.97281\n",
      "[51]\tvalidation_0-auc:0.97303\n",
      "[52]\tvalidation_0-auc:0.97322\n",
      "[53]\tvalidation_0-auc:0.97344\n",
      "[54]\tvalidation_0-auc:0.97370\n",
      "[55]\tvalidation_0-auc:0.97424\n",
      "[56]\tvalidation_0-auc:0.97444\n",
      "[57]\tvalidation_0-auc:0.97475\n",
      "[58]\tvalidation_0-auc:0.97495\n",
      "[59]\tvalidation_0-auc:0.97521\n",
      "[60]\tvalidation_0-auc:0.97544\n",
      "[61]\tvalidation_0-auc:0.97556\n",
      "[62]\tvalidation_0-auc:0.97574\n",
      "[63]\tvalidation_0-auc:0.97595\n",
      "[64]\tvalidation_0-auc:0.97625\n",
      "[65]\tvalidation_0-auc:0.97639\n",
      "[66]\tvalidation_0-auc:0.97672\n",
      "[67]\tvalidation_0-auc:0.97683\n",
      "[68]\tvalidation_0-auc:0.97708\n",
      "[69]\tvalidation_0-auc:0.97719\n",
      "[70]\tvalidation_0-auc:0.97728\n",
      "[71]\tvalidation_0-auc:0.97749\n",
      "[72]\tvalidation_0-auc:0.97775\n",
      "[73]\tvalidation_0-auc:0.97785\n",
      "[74]\tvalidation_0-auc:0.97803\n",
      "[75]\tvalidation_0-auc:0.97810\n",
      "[76]\tvalidation_0-auc:0.97830\n",
      "[77]\tvalidation_0-auc:0.97838\n",
      "[78]\tvalidation_0-auc:0.97860\n",
      "[79]\tvalidation_0-auc:0.97866\n",
      "[80]\tvalidation_0-auc:0.97886\n",
      "[81]\tvalidation_0-auc:0.97891\n",
      "[82]\tvalidation_0-auc:0.97900\n",
      "[83]\tvalidation_0-auc:0.97908\n",
      "[84]\tvalidation_0-auc:0.97923\n",
      "[85]\tvalidation_0-auc:0.97928\n",
      "[86]\tvalidation_0-auc:0.97941\n",
      "[87]\tvalidation_0-auc:0.97947\n",
      "[88]\tvalidation_0-auc:0.97961\n",
      "[89]\tvalidation_0-auc:0.97972\n",
      "[90]\tvalidation_0-auc:0.97978\n",
      "[91]\tvalidation_0-auc:0.97982\n",
      "[92]\tvalidation_0-auc:0.97999\n",
      "[93]\tvalidation_0-auc:0.98008\n",
      "[94]\tvalidation_0-auc:0.98015\n",
      "[95]\tvalidation_0-auc:0.98040\n",
      "[96]\tvalidation_0-auc:0.98051\n",
      "[97]\tvalidation_0-auc:0.98054\n",
      "[98]\tvalidation_0-auc:0.98064\n",
      "[99]\tvalidation_0-auc:0.98074\n"
     ]
    },
    {
     "data": {
      "text/plain": [
       "XGBClassifier(base_score=0.5, booster='gbtree', colsample_bylevel=1,\n",
       "              colsample_bynode=1, colsample_bytree=1, enable_categorical=False,\n",
       "              eval_metric=['auc', 'logloss'], gamma=0, gpu_id=-1,\n",
       "              importance_type=None, interaction_constraints='',\n",
       "              learning_rate=0.05, max_delta_step=0, max_depth=5,\n",
       "              min_child_weight=1, missing=nan, monotone_constraints='()',\n",
       "              n_estimators=100, n_jobs=4, num_parallel_tree=1, predictor='auto',\n",
       "              random_state=0, reg_alpha=0, reg_lambda=1, scale_pos_weight=1,\n",
       "              subsample=1, tree_method='exact', use_label_encoder=False,\n",
       "              validate_parameters=1, verbosity=None)"
      ]
     },
     "execution_count": 8,
     "metadata": {},
     "output_type": "execute_result"
    }
   ],
   "source": [
    "# Finally re-train the XGB model\n",
    "params = xgb.get_params()\n",
    "xgb_clf = xgboost.XGBClassifier(**params)\n",
    "xgb_clf.fit(X_train, y_train, eval_set=[(X_val, y_val)], early_stopping_rounds=20, eval_metric='auc')"
   ]
  },
  {
   "cell_type": "code",
   "execution_count": 9,
   "metadata": {},
   "outputs": [
    {
     "data": {
      "text/plain": [
       "['models/XGB_8.0.5.joblib']"
      ]
     },
     "execution_count": 9,
     "metadata": {},
     "output_type": "execute_result"
    }
   ],
   "source": [
    "dump(knn, 'models/KNN_8.0.5.joblib')\n",
    "dump(rfc, 'models/RFC_8.0.5.joblib')\n",
    "dump(dtc, 'models/DTC_8.0.5.joblib')\n",
    "dump(xgb, 'models/XGB_8.0.5.joblib')"
   ]
  }
 ],
 "metadata": {
  "interpreter": {
   "hash": "cbd4dc6d56a1e42dbf8f7497fabd23f5df4d7139d9bd66320241cd36a8438585"
  },
  "kernelspec": {
   "display_name": "Python 3.9.6 ('scientific')",
   "language": "python",
   "name": "python3"
  },
  "language_info": {
   "codemirror_mode": {
    "name": "ipython",
    "version": 3
   },
   "file_extension": ".py",
   "mimetype": "text/x-python",
   "name": "python",
   "nbconvert_exporter": "python",
   "pygments_lexer": "ipython3",
   "version": "3.9.6"
  },
  "orig_nbformat": 4
 },
 "nbformat": 4,
 "nbformat_minor": 2
}
