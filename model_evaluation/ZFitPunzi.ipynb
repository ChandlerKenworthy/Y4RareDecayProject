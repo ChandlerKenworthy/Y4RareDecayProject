{
 "cells": [
  {
   "cell_type": "markdown",
   "metadata": {},
   "source": [
    "# Punzi FoM Scans\n",
    "Now we will test each of our machine learning models to find the optimal probability cut value, more formally the signal probability threshold $p_{thr}$.\n",
    "\n",
    "## Imports and Constants"
   ]
  },
  {
   "cell_type": "code",
   "execution_count": 1,
   "metadata": {},
   "outputs": [
    {
     "name": "stderr",
     "output_type": "stream",
     "text": [
      "2022-04-06 15:59:38.525952: W tensorflow/stream_executor/platform/default/dso_loader.cc:64] Could not load dynamic library 'libcudart.so.11.0'; dlerror: libcudart.so.11.0: cannot open shared object file: No such file or directory\n",
      "2022-04-06 15:59:38.525983: I tensorflow/stream_executor/cuda/cudart_stub.cc:29] Ignore above cudart dlerror if you do not have a GPU set up on your machine.\n",
      "/home/user211/envs/scientific/lib64/python3.9/site-packages/zfit/__init__.py:37: UserWarning: TensorFlow warnings are by default suppressed by zfit. In order to show them, set the environment variable ZFIT_DISABLE_TF_WARNINGS=0. In order to suppress the TensorFlow warnings AND this warning, set ZFIT_DISABLE_TF_WARNINGS=1.\n",
      "  warnings.warn(\"TensorFlow warnings are by default suppressed by zfit.\"\n"
     ]
    }
   ],
   "source": [
    "import tensorflow as tf\n",
    "import zfit\n",
    "from zfit import z\n",
    "import matplotlib.pyplot as plt\n",
    "import mplhep as hep\n",
    "import numpy as np\n",
    "import pandas as pd\n",
    "from joblib import load\n",
    "plt.style.use([hep.style.ROOT, hep.style.firamath])"
   ]
  },
  {
   "cell_type": "markdown",
   "metadata": {},
   "source": [
    "## Loading Data"
   ]
  },
  {
   "cell_type": "code",
   "execution_count": 2,
   "metadata": {},
   "outputs": [],
   "source": [
    "df = pd.read_csv('../data_files/9.0.1/test.csv', index_col=[0])\n",
    "X_test = df.drop(['category', 'Lb_M', 'IsSimulated', 'QSQR'], axis=1)\n",
    "y_test = df.category"
   ]
  },
  {
   "cell_type": "markdown",
   "metadata": {},
   "source": [
    "## Load Models and Generate Predictions"
   ]
  },
  {
   "cell_type": "code",
   "execution_count": 3,
   "metadata": {},
   "outputs": [
    {
     "name": "stderr",
     "output_type": "stream",
     "text": [
      "2022-04-06 15:59:46.341963: W tensorflow/stream_executor/platform/default/dso_loader.cc:64] Could not load dynamic library 'libcuda.so.1'; dlerror: libcuda.so.1: cannot open shared object file: No such file or directory\n",
      "2022-04-06 15:59:46.342020: W tensorflow/stream_executor/cuda/cuda_driver.cc:269] failed call to cuInit: UNKNOWN ERROR (303)\n",
      "2022-04-06 15:59:46.342058: I tensorflow/stream_executor/cuda/cuda_diagnostics.cc:156] kernel driver does not appear to be running on this host (eprexb.ph.bham.ac.uk): /proc/driver/nvidia/version does not exist\n",
      "2022-04-06 15:59:46.342527: I tensorflow/core/platform/cpu_feature_guard.cc:142] This TensorFlow binary is optimized with oneAPI Deep Neural Network Library (oneDNN) to use the following CPU instructions in performance-critical operations:  AVX2 FMA\n",
      "To enable them in other operations, rebuild TensorFlow with the appropriate compiler flags.\n",
      "/home/user211/envs/scientific/lib64/python3.9/site-packages/sklearn/base.py:329: UserWarning: Trying to unpickle estimator KNeighborsClassifier from version 0.24.2 when using version 1.0.2. This might lead to breaking code or invalid results. Use at your own risk. For more info please refer to:\n",
      "https://scikit-learn.org/stable/modules/model_persistence.html#security-maintainability-limitations\n",
      "  warnings.warn(\n",
      "/home/user211/envs/scientific/lib64/python3.9/site-packages/sklearn/base.py:329: UserWarning: Trying to unpickle estimator DecisionTreeClassifier from version 0.24.2 when using version 1.0.2. This might lead to breaking code or invalid results. Use at your own risk. For more info please refer to:\n",
      "https://scikit-learn.org/stable/modules/model_persistence.html#security-maintainability-limitations\n",
      "  warnings.warn(\n",
      "/home/user211/envs/scientific/lib64/python3.9/site-packages/sklearn/base.py:329: UserWarning: Trying to unpickle estimator RandomForestClassifier from version 0.24.2 when using version 1.0.2. This might lead to breaking code or invalid results. Use at your own risk. For more info please refer to:\n",
      "https://scikit-learn.org/stable/modules/model_persistence.html#security-maintainability-limitations\n",
      "  warnings.warn(\n",
      "/home/user211/envs/scientific/lib64/python3.9/site-packages/xgboost/compat.py:36: FutureWarning: pandas.Int64Index is deprecated and will be removed from pandas in a future version. Use pandas.Index with the appropriate dtype instead.\n",
      "  from pandas import MultiIndex, Int64Index\n"
     ]
    }
   ],
   "source": [
    "nn = tf.keras.models.load_model(f'../neural_network/models/v9.0.5')\n",
    "knn = load(f'../classification_methods/models/KNN_9.0.5_tune.joblib')\n",
    "rfc = load(f'../classification_methods/models/RFC_9.0.5_tune.joblib')\n",
    "dtc = load(f'../classification_methods/models/DTC_9.0.5_tune.joblib')\n",
    "xgb = load(f'../classification_methods/models/XGB_9.0.5.joblib')\n",
    "\n",
    "models = {'NN': nn, 'KNN': knn, 'RFC': rfc, 'DTC': dtc, 'XGB': xgb}"
   ]
  },
  {
   "cell_type": "code",
   "execution_count": 4,
   "metadata": {},
   "outputs": [
    {
     "name": "stderr",
     "output_type": "stream",
     "text": [
      "2022-04-06 15:59:48.130013: I tensorflow/compiler/mlir/mlir_graph_optimization_pass.cc:185] None of the MLIR Optimization Passes are enabled (registered 2)\n",
      "/home/user211/envs/scientific/lib64/python3.9/site-packages/sklearn/base.py:443: UserWarning: X has feature names, but KNeighborsClassifier was fitted without feature names\n",
      "  warnings.warn(\n",
      "/home/user211/envs/scientific/lib64/python3.9/site-packages/sklearn/base.py:443: UserWarning: X has feature names, but RandomForestClassifier was fitted without feature names\n",
      "  warnings.warn(\n",
      "/home/user211/envs/scientific/lib64/python3.9/site-packages/sklearn/base.py:443: UserWarning: X has feature names, but DecisionTreeClassifier was fitted without feature names\n",
      "  warnings.warn(\n",
      "/home/user211/envs/scientific/lib64/python3.9/site-packages/xgboost/data.py:262: FutureWarning: pandas.Int64Index is deprecated and will be removed from pandas in a future version. Use pandas.Index with the appropriate dtype instead.\n",
      "  elif isinstance(data.columns, (pd.Int64Index, pd.RangeIndex)):\n"
     ]
    }
   ],
   "source": [
    "predictions = {}\n",
    "predictions['NN'] = np.squeeze(nn.predict(X_test))\n",
    "predictions['KNN'] = knn.predict_proba(X_test)[:,1]\n",
    "predictions['RFC'] = rfc.predict_proba(X_test)[:,1]\n",
    "predictions['DTC'] = dtc.predict_proba(X_test)[:,1]\n",
    "predictions['XGB'] = xgb.predict_proba(X_test)[:,1]"
   ]
  },
  {
   "cell_type": "markdown",
   "metadata": {},
   "source": [
    "## Calculate Punzi FoM"
   ]
  },
  {
   "cell_type": "code",
   "execution_count": 5,
   "metadata": {},
   "outputs": [],
   "source": [
    "class MyCubic(zfit.pdf.ZPDF):\n",
    "    _PARAMS = ['p0', 'p1', 'p2', 'p3', 'shift']\n",
    "\n",
    "    def _unnormalized_pdf(self, x):\n",
    "       x = z.unstack_x(x)\n",
    "       p0 = self.params['p0']\n",
    "       p1 = self.params['p1']\n",
    "       p2 = self.params['p2']\n",
    "       p3 = self.params['p3']\n",
    "       shift = self.params['shift']\n",
    "       return p3*(x-shift)**3 + p2*(x-shift)**2 + p1*(x-shift) + p0\n",
    "\n",
    "def CubicIntegral(limits, params, model):\n",
    "   (lower,), (upper,) = limits.limits\n",
    "   p1 = params['p1']\n",
    "   p2 = params['p2']\n",
    "   p3 = params['p3']\n",
    "   shift = params['shift']\n",
    "   return (3*p3*(upper-shift)**2 + 2*p2*upper) - (3*p3*(lower-shift)**2 + 2*p2*lower)\n",
    "\n",
    "# Register the integrals\n",
    "limits = zfit.Space.from_axes(axes=0, limits=(zfit.Space.ANY_LOWER, zfit.Space.ANY_UPPER))\n",
    "MyCubic.register_analytic_integral(func=CubicIntegral, limits=limits)\n",
    "\n",
    "def fitCub(np_data, label, param_ranges, mass_ranges=[4600, 5200, 5800, 6400]):\n",
    "    lowerSB = zfit.Space(\"Lb_M\",(mass_ranges[0],mass_ranges[1]))\n",
    "    upperSB = zfit.Space(\"Lb_M\",(mass_ranges[2],mass_ranges[3]))\n",
    "    massSbSpace = lowerSB + upperSB\n",
    "    \n",
    "    LbM = zfit.Data.from_numpy(obs=massSbSpace, array=np_data)\n",
    "    \n",
    "    p3 = zfit.Parameter('p3_%s'%label, -1.1515201462719907e-09, 0, 0.1)\n",
    "    p2 = zfit.Parameter('p2_%s'%label, 1.407709468111769e-05, 0, 0.1)\n",
    "    p1 = zfit.Parameter('p1_%s'%label, -0.2944208228095719, -0.4, 0)\n",
    "    p0 = zfit.Parameter('p0_%s'%label, 292.63288141511055, 280, 300)\n",
    "    shift = zfit.Parameter('shift_%s'%label, 5763.025336526583, 5700, 5800)\n",
    "    \n",
    "    cubic = MyCubic(obs=massSbSpace, p0=p0, p1=p1, p2=p2, p3=p3, shift=shift)\n",
    "    \n",
    "    cubic_yield = zfit.Parameter('yield_%s'%label, *param_ranges, step_size=1)\n",
    "    cubic_ext = cubic.create_extended(cubic_yield)\n",
    "    nll_ext_dcb = zfit.loss.ExtendedUnbinnedNLL(cubic_ext, LbM)\n",
    "    minimizerDCB = zfit.minimize.Minuit(use_minuit_grad=True)\n",
    "    fitResult = minimizerDCB.minimize(nll_ext_dcb, params=[cubic_yield])\n",
    "    # Only allow floating of the yield\n",
    "    \n",
    "    return cubic_ext, fitResult, LbM\n",
    "\n",
    "def fitDoubleCB(np_data, label, mass_ranges=[4600, 6400], param_ranges=[17000, 0, 100000]):\n",
    "    massObsMC = zfit.Space(\"Lb_M\", limits=(mass_ranges[0], mass_ranges[1]))\n",
    "    MC_LbM = zfit.Data.from_numpy(obs=massObsMC, array=np_data)\n",
    "    \n",
    "    mu_CB = zfit.Parameter('mu_CB_%s'%label, 5612, 5590, 5640)\n",
    "    sigma_CB = zfit.Parameter('sigma_CB_%s'%label, 21.99, 20, 23)\n",
    "    alpha_l = zfit.Parameter('alpha_l_%s'%label, 0.4656, 0, 0.7)\n",
    "    n_l = zfit.Parameter('n_l_%s'%label, 2.869, 2, 3.2)\n",
    "    alpha_r = zfit.Parameter('alpha_r_%s'%label, 1.219, 1, 2)\n",
    "    n_r = zfit.Parameter('n_r_%s'%label, 1.896, 1, 2)\n",
    "    \n",
    "    dcb = zfit.pdf.DoubleCB(obs=massObsMC, mu=mu_CB, sigma=sigma_CB, alphal=alpha_l, nl=n_l, alphar=alpha_r, nr=n_r)\n",
    "    \n",
    "    dcb_yield = zfit.Parameter('yield_%s'%label, *param_ranges, step_size=1)\n",
    "    dcb_ext = dcb.create_extended(dcb_yield)\n",
    "    nll_ext_dcb = zfit.loss.ExtendedUnbinnedNLL(dcb_ext, MC_LbM)\n",
    "    minimizerDCB = zfit.minimize.Minuit(use_minuit_grad=True)\n",
    "    fitResult = minimizerDCB.minimize(nll_ext_dcb, params=[mu_CB, sigma_CB, dcb_yield])\n",
    "    \n",
    "    return dcb_ext, fitResult, MC_LbM"
   ]
  },
  {
   "cell_type": "code",
   "execution_count": 9,
   "metadata": {},
   "outputs": [],
   "source": [
    "def get_punzi(df, pthrs, label, a=5, cut_dir='gt'):\n",
    "    \"\"\"\n",
    "    \n",
    "    DataFrame has columns of:\n",
    "        correct labels | Lb_M | probability\n",
    "        \n",
    "    \"\"\"\n",
    "    \n",
    "    punzis = []\n",
    "    n_signal_before = np.count_nonzero(df['category'].to_numpy())\n",
    "    \n",
    "    for i, pthr in enumerate(pthrs):\n",
    "        # Iterate through each threshold probability\n",
    "        pred_class = np.where(df['Probability'].to_numpy() > pthr, 1, 0).flatten()\n",
    "        df[\"PredClass\"] = pred_class\n",
    "        \n",
    "        effs = np.count_nonzero(np.logical_and(pred_class==1, df['category'].to_numpy()==1)) / n_signal_before\n",
    "        \n",
    "        DCBMod, DCBResult, DCBTensor = fitDoubleCB(df['Lb_M'][np.logical_and(df[\"PredClass\"]==1, df[\"category\"]==1)].to_numpy(), f\"DCB_{label}_{i}\")\n",
    "        expMod, expResult, expTensor = fitCub(df['Lb_M'][np.logical_and(df[\"PredClass\"]==1, df[\"category\"]==0)].to_numpy(), f\"BG_{label}_{i}\", [10000, 1, 19000])\n",
    "        \n",
    "        BGInterpRange = np.ones(2)*DCBResult.params[f\"mu_CB_DCB_{label}_{i}\"]['value']+np.array([-1*a, a])*DCBResult.params[f\"sigma_CB_DCB_{label}_{i}\"]['value']\n",
    "        BGInterpVal=expMod.integrate(limits=BGInterpRange, norm_range=expMod.norm_range)*expResult.params[f\"yield_BG_{label}_{i}\"][\"value\"]\n",
    "        \n",
    "        punzi = effs / (a/2 + np.sqrt(BGInterpVal[0]))\n",
    "        punzis.append(punzi)\n",
    "    \n",
    "    return np.array(punzis)"
   ]
  },
  {
   "cell_type": "code",
   "execution_count": 7,
   "metadata": {},
   "outputs": [],
   "source": [
    "MODEL = 'NN'\n",
    "subdf = df[['category', 'Lb_M']].copy()\n",
    "probs = np.linspace(0.2, 0.95, 50)"
   ]
  },
  {
   "cell_type": "code",
   "execution_count": 10,
   "metadata": {},
   "outputs": [
    {
     "name": "stderr",
     "output_type": "stream",
     "text": [
      "/home/user211/envs/scientific/lib64/python3.9/site-packages/zfit/core/integration.py:499: UserWarning: Multispace limits compare never equal to Space.\n",
      "  if integ.limits >= limits\n"
     ]
    }
   ],
   "source": [
    "subdf['Probability'] = predictions[MODEL]\n",
    "\n",
    "punzi_nn = get_punzi(subdf, probs, 'NN')"
   ]
  },
  {
   "cell_type": "code",
   "execution_count": 13,
   "metadata": {},
   "outputs": [
    {
     "data": {
      "image/png": "[encoded data removed]",
      "text/plain": [
       "<Figure size 720x720 with 1 Axes>"
      ]
     },
     "metadata": {
      "needs_background": "light"
     },
     "output_type": "display_data"
    }
   ],
   "source": [
    "plt.scatter(probs, punzi_nn)\n",
    "plt.xlabel(r'$p_{thr}$')\n",
    "plt.ylabel('FoM Value')\n",
    "plt.tight_layout()\n",
    "plt.show()"
   ]
  }
 ],
 "metadata": {
  "interpreter": {
   "hash": "cbd4dc6d56a1e42dbf8f7497fabd23f5df4d7139d9bd66320241cd36a8438585"
  },
  "kernelspec": {
   "display_name": "Python 3.9.6 ('scientific')",
   "language": "python",
   "name": "python3"
  },
  "language_info": {
   "codemirror_mode": {
    "name": "ipython",
    "version": 3
   },
   "file_extension": ".py",
   "mimetype": "text/x-python",
   "name": "python",
   "nbconvert_exporter": "python",
   "pygments_lexer": "ipython3",
   "version": "3.9.6"
  },
  "orig_nbformat": 4
 },
 "nbformat": 4,
 "nbformat_minor": 2
}
